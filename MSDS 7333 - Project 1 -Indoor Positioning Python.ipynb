{
 "cells": [
  {
   "cell_type": "markdown",
   "metadata": {
    "colab_type": "text",
    "id": "-yNWpXMe4Jfa"
   },
   "source": [
    "## MSDS 7333 Project 1 -- Predicting Location via Indoor Positioning Systems\n",
    "\n",
    "#### Stephen Hayden, Joe Schueder, Nicole Witten, Kevin Mendonsa\n",
    "\n"
   ]
  },
  {
   "cell_type": "markdown",
   "metadata": {
    "colab_type": "text",
    "id": "RZMu95a14g15"
   },
   "source": [
    "### Introduction\n",
    "\n"
   ]
  },
  {
   "cell_type": "code",
   "execution_count": 43,
   "metadata": {
    "colab": {
     "base_uri": "https://localhost:8080/",
     "height": 1000
    },
    "colab_type": "code",
    "id": "v9WmuBys4fB5",
    "outputId": "c64365b7-e821-4493-f44a-48c4f931d5aa"
   },
   "outputs": [],
   "source": [
    "import pandas as pd\n",
    "\n",
    "url_dataset = 'https://raw.githubusercontent.com/jjschueder/7331DataMiningNotebooks/master/Live%20Assignments/df1hotmerge2.csv'\n",
    "url_dataset1 = 'https://raw.githubusercontent.com/jjschueder/7333QTW/master/trainexport.csv'\n",
    "url_dataset2 = 'https://raw.githubusercontent.com/jjschueder/7333QTW/master/onlineSummary.csv'\n",
    "    \n",
    "onlineSummary = pd.read_csv(url_dataset2)\n",
    "offlineSummary = pd.read_csv(url_dataset1) \n"
   ]
  },
  {
   "cell_type": "code",
   "execution_count": 44,
   "metadata": {},
   "outputs": [
    {
     "name": "stdout",
     "output_type": "stream",
     "text": [
      "<class 'pandas.core.frame.DataFrame'>\n",
      "RangeIndex: 1162 entries, 0 to 1161\n",
      "Data columns (total 11 columns):\n",
      "Unnamed: 0           1162 non-null object\n",
      "posXY                1162 non-null object\n",
      "posX                 1162 non-null int64\n",
      "posY                 1162 non-null int64\n",
      "00:0f:a3:39:e1:c0    1162 non-null float64\n",
      "00:14:bf:3b:c7:c6    1162 non-null float64\n",
      "00:14:bf:b1:97:81    1162 non-null float64\n",
      "00:14:bf:b1:97:8a    1162 non-null float64\n",
      "00:14:bf:b1:97:8d    1162 non-null float64\n",
      "00:14:bf:b1:97:90    1162 non-null float64\n",
      "angle                1162 non-null int64\n",
      "dtypes: float64(6), int64(3), object(2)\n",
      "memory usage: 100.0+ KB\n"
     ]
    }
   ],
   "source": [
    "offlineSummary.info()"
   ]
  },
  {
   "cell_type": "code",
   "execution_count": 42,
   "metadata": {},
   "outputs": [
    {
     "name": "stdout",
     "output_type": "stream",
     "text": [
      "<class 'pandas.core.frame.DataFrame'>\n",
      "RangeIndex: 60 entries, 0 to 59\n",
      "Data columns (total 12 columns):\n",
      "Unnamed: 0           60 non-null object\n",
      "posXY                60 non-null object\n",
      "posX                 60 non-null float64\n",
      "posY                 60 non-null float64\n",
      "orientation          60 non-null float64\n",
      "angle                60 non-null int64\n",
      "00:0f:a3:39:e1:c0    60 non-null float64\n",
      "00:14:bf:3b:c7:c6    60 non-null float64\n",
      "00:14:bf:b1:97:81    60 non-null float64\n",
      "00:14:bf:b1:97:8a    60 non-null float64\n",
      "00:14:bf:b1:97:8d    60 non-null float64\n",
      "00:14:bf:b1:97:90    60 non-null float64\n",
      "dtypes: float64(9), int64(1), object(2)\n",
      "memory usage: 5.8+ KB\n"
     ]
    }
   ],
   "source": [
    "onlineSummary.info()"
   ]
  },
  {
   "cell_type": "code",
   "execution_count": 45,
   "metadata": {
    "colab": {
     "base_uri": "https://localhost:8080/",
     "height": 243
    },
    "colab_type": "code",
    "id": "ZSxAGB4B6nLq",
    "outputId": "cab7e950-36dd-441b-c589-35b5244750e1"
   },
   "outputs": [],
   "source": [
    "# Import all necessary libraries we will be using in our dataset\n",
    "\n",
    "import pandas as pd\n",
    "import numpy as np\n",
    "import matplotlib\n",
    "import matplotlib.pyplot as plt\n",
    "import seaborn as sns\n",
    "import math\n",
    "import re\n",
    "import sklearn\n",
    "import statistics\n",
    "import random\n",
    "\n",
    "from sklearn.feature_selection import SelectKBest, chi2, SelectPercentile, RFE, SelectFromModel\n",
    "\n",
    "from sklearn.preprocessing import StandardScaler, Binarizer\n",
    "\n",
    "from sklearn.linear_model import LogisticRegression, SGDClassifier\n",
    "from sklearn.svm import SVC, LinearSVC\n",
    "\n",
    "from sklearn.metrics import accuracy_score, confusion_matrix, roc_auc_score, auc, roc_curve\n",
    "from IPython.display import display, HTML\n",
    "\n",
    "from sklearn.pipeline import make_pipeline, Pipeline\n",
    "from sklearn.model_selection import train_test_split, GridSearchCV, KFold, TimeSeriesSplit, StratifiedShuffleSplit\n",
    "\n",
    "from sklearn.naive_bayes import MultinomialNB\n",
    "\n",
    "from sklearn.ensemble import GradientBoostingClassifier,GradientBoostingRegressor,AdaBoostClassifier,RandomForestClassifier, BaggingClassifier\n",
    "from sklearn.tree import DecisionTreeClassifier\n",
    "from sklearn.linear_model import LogisticRegression\n",
    "from sklearn.neighbors import KNeighborsClassifier\n",
    "\n",
    "%matplotlib inline\n",
    "\n",
    "matplotlib.style.use('ggplot')\n",
    "\n",
    "import warnings\n",
    "warnings.filterwarnings('ignore')\n",
    "\n"
   ]
  },
  {
   "cell_type": "code",
   "execution_count": 8,
   "metadata": {},
   "outputs": [
    {
     "name": "stdout",
     "output_type": "stream",
     "text": [
      "(7968, 16)\n"
     ]
    },
    {
     "data": {
      "text/html": [
       "<div>\n",
       "<style scoped>\n",
       "    .dataframe tbody tr th:only-of-type {\n",
       "        vertical-align: middle;\n",
       "    }\n",
       "\n",
       "    .dataframe tbody tr th {\n",
       "        vertical-align: top;\n",
       "    }\n",
       "\n",
       "    .dataframe thead th {\n",
       "        text-align: right;\n",
       "    }\n",
       "</style>\n",
       "<table border=\"1\" class=\"dataframe\">\n",
       "  <thead>\n",
       "    <tr style=\"text-align: right;\">\n",
       "      <th></th>\n",
       "      <th>Unnamed: 0</th>\n",
       "      <th>time</th>\n",
       "      <th>posX</th>\n",
       "      <th>posY</th>\n",
       "      <th>orientation</th>\n",
       "      <th>mac</th>\n",
       "      <th>signal</th>\n",
       "      <th>rawTime</th>\n",
       "      <th>angle</th>\n",
       "      <th>posXY</th>\n",
       "      <th>medSignal</th>\n",
       "      <th>avgSignal</th>\n",
       "      <th>num</th>\n",
       "      <th>sdSignal</th>\n",
       "      <th>iqrSignal</th>\n",
       "      <th>dist</th>\n",
       "    </tr>\n",
       "  </thead>\n",
       "  <tbody>\n",
       "    <tr>\n",
       "      <td>0</td>\n",
       "      <td>3</td>\n",
       "      <td>2006-02-11 01:31:58</td>\n",
       "      <td>0</td>\n",
       "      <td>0</td>\n",
       "      <td>0.0</td>\n",
       "      <td>00:0f:a3:39:e1:c0</td>\n",
       "      <td>-53</td>\n",
       "      <td>1139643118358</td>\n",
       "      <td>0</td>\n",
       "      <td>0-0</td>\n",
       "      <td>-51.0</td>\n",
       "      <td>-51.154545</td>\n",
       "      <td>110</td>\n",
       "      <td>1.408925</td>\n",
       "      <td>2.00</td>\n",
       "      <td>9.794897</td>\n",
       "    </tr>\n",
       "    <tr>\n",
       "      <td>1</td>\n",
       "      <td>24507</td>\n",
       "      <td>2006-02-11 02:03:44</td>\n",
       "      <td>0</td>\n",
       "      <td>1</td>\n",
       "      <td>0.7</td>\n",
       "      <td>00:0f:a3:39:e1:c0</td>\n",
       "      <td>-49</td>\n",
       "      <td>1139645024306</td>\n",
       "      <td>0</td>\n",
       "      <td>0-1</td>\n",
       "      <td>-51.0</td>\n",
       "      <td>-50.572727</td>\n",
       "      <td>110</td>\n",
       "      <td>2.198661</td>\n",
       "      <td>3.00</td>\n",
       "      <td>9.183681</td>\n",
       "    </tr>\n",
       "    <tr>\n",
       "      <td>2</td>\n",
       "      <td>221774</td>\n",
       "      <td>2006-02-11 05:46:02</td>\n",
       "      <td>0</td>\n",
       "      <td>10</td>\n",
       "      <td>0.9</td>\n",
       "      <td>00:0f:a3:39:e1:c0</td>\n",
       "      <td>-53</td>\n",
       "      <td>1139658362231</td>\n",
       "      <td>0</td>\n",
       "      <td>0-10</td>\n",
       "      <td>-56.0</td>\n",
       "      <td>-56.200000</td>\n",
       "      <td>110</td>\n",
       "      <td>1.123559</td>\n",
       "      <td>1.00</td>\n",
       "      <td>8.363014</td>\n",
       "    </tr>\n",
       "    <tr>\n",
       "      <td>3</td>\n",
       "      <td>229185</td>\n",
       "      <td>2006-02-11 05:54:05</td>\n",
       "      <td>0</td>\n",
       "      <td>11</td>\n",
       "      <td>0.4</td>\n",
       "      <td>00:0f:a3:39:e1:c0</td>\n",
       "      <td>-53</td>\n",
       "      <td>1139658845177</td>\n",
       "      <td>0</td>\n",
       "      <td>0-11</td>\n",
       "      <td>-53.0</td>\n",
       "      <td>-54.681818</td>\n",
       "      <td>110</td>\n",
       "      <td>3.421282</td>\n",
       "      <td>7.00</td>\n",
       "      <td>8.850989</td>\n",
       "    </tr>\n",
       "    <tr>\n",
       "      <td>4</td>\n",
       "      <td>236489</td>\n",
       "      <td>2006-02-11 06:02:32</td>\n",
       "      <td>0</td>\n",
       "      <td>12</td>\n",
       "      <td>0.2</td>\n",
       "      <td>00:0f:a3:39:e1:c0</td>\n",
       "      <td>-54</td>\n",
       "      <td>1139659352613</td>\n",
       "      <td>0</td>\n",
       "      <td>0-12</td>\n",
       "      <td>-55.0</td>\n",
       "      <td>-56.600000</td>\n",
       "      <td>110</td>\n",
       "      <td>3.561259</td>\n",
       "      <td>7.75</td>\n",
       "      <td>9.420191</td>\n",
       "    </tr>\n",
       "  </tbody>\n",
       "</table>\n",
       "</div>"
      ],
      "text/plain": [
       "   Unnamed: 0                 time  posX  posY  orientation  \\\n",
       "0           3  2006-02-11 01:31:58     0     0          0.0   \n",
       "1       24507  2006-02-11 02:03:44     0     1          0.7   \n",
       "2      221774  2006-02-11 05:46:02     0    10          0.9   \n",
       "3      229185  2006-02-11 05:54:05     0    11          0.4   \n",
       "4      236489  2006-02-11 06:02:32     0    12          0.2   \n",
       "\n",
       "                 mac  signal        rawTime  angle posXY  medSignal  \\\n",
       "0  00:0f:a3:39:e1:c0     -53  1139643118358      0   0-0      -51.0   \n",
       "1  00:0f:a3:39:e1:c0     -49  1139645024306      0   0-1      -51.0   \n",
       "2  00:0f:a3:39:e1:c0     -53  1139658362231      0  0-10      -56.0   \n",
       "3  00:0f:a3:39:e1:c0     -53  1139658845177      0  0-11      -53.0   \n",
       "4  00:0f:a3:39:e1:c0     -54  1139659352613      0  0-12      -55.0   \n",
       "\n",
       "   avgSignal  num  sdSignal  iqrSignal      dist  \n",
       "0 -51.154545  110  1.408925       2.00  9.794897  \n",
       "1 -50.572727  110  2.198661       3.00  9.183681  \n",
       "2 -56.200000  110  1.123559       1.00  8.363014  \n",
       "3 -54.681818  110  3.421282       7.00  8.850989  \n",
       "4 -56.600000  110  3.561259       7.75  9.420191  "
      ]
     },
     "execution_count": 8,
     "metadata": {},
     "output_type": "execute_result"
    }
   ],
   "source": [
    "print(onlineSummary.shape)\n",
    "onlineSummary.head()"
   ]
  },
  {
   "cell_type": "markdown",
   "metadata": {
    "colab_type": "text",
    "id": "vlmmpWgzQfQC"
   },
   "source": [
    "## Modeling and Evaluation 1\n",
    "\n",
    "Within this notebook, we have built models to evaluate classification problems.  This is a multi-classification problem in which our goal is to correctly classify  A detailed description of the metrics we will use to evaluate the models are noted below.\n",
    "\n",
    "An ROC curve, also known as a Reciever Operation Characteristic Curve is a plot that calculates and can be used to compare the classifiers we will use in our modeling along with the true positive rate (TPR) and false positive rate (FPR) they convey. From a topline level, you can use the Area Under the Curve (AUC) to help detirmine which can better pair an observation with the correct liquor cateogry. An AUC score of 1.0 denotes a perfect classifier and an area of 0.5 represents a model is no better than a random guess.\n",
    "\n",
    "In addition to the ROC-AUC value we will use to evaluate classifiers, we will be using other evaluators as well. \n",
    "\n",
    "**Accuracy** - Accuracy is the total number of correct predictions over the total number of predictions made. Accuracy will be plotted in our AUC curve and, while not perfect, is a good singlular measure to evaluate a model. Just be careful that we aren't overclassifying unbalalnced variables. \n",
    "\n",
    "Accuracy = (TP + TN)/(TP + FP + FN + TN)\n",
    "\n",
    "**Precision** - Precision is the Proportions of true positives over the total number of positive outcomes whether accurately predicted or inaccurately predicted. Precision is useful to us because it will help us better understand which model is accurately picking correct classes and not resting on selecting incorrect classes. \n",
    "\n",
    "Precision = (TP) / (TP + FP)\n",
    "\n",
    "**Recall** - Also known as sensitivity, recall is the proportion of positive outcomes that were correctly classified by our model. Essentially it tells us how many values we incorrectly predicted while the precision can tell us more about what we correctly classified. Recall is good as a pair with precision, as it will help us tell if our model is overfit or selecting a single class and not training itself. \n",
    "\n",
    "Recall/Sensitivity = (TP) / (TP + FN)\n",
    "\n",
    "**F1 Score** - Another measure of accuracy that accounts for the true negatives and false positives. \n",
    "\n",
    "F1 score = 2(True Positive Rate * True Negatives)/(True Positives + True Negatives)\n",
    "\n",
    "The aim of our modeling is to focus on maximizing our precision, recall, and accuracy scores in our models\n",
    "\n"
   ]
  },
  {
   "cell_type": "code",
   "execution_count": 46,
   "metadata": {
    "colab": {},
    "colab_type": "code",
    "id": "mdb5L4AI6X0Q"
   },
   "outputs": [],
   "source": [
    "#Source: https://github.com/jakemdrew/EducationDataNC/blob/master/2017/Models/2017ComparingSegregatedMiddleSchoolCampuses.ipynb\n",
    "from sklearn.model_selection import cross_validate\n",
    "from sklearn.model_selection import StratifiedKFold\n",
    "cv = StratifiedKFold(n_splits=10)\n",
    "\n",
    "\n",
    "def EvaluateClassifierEstimator(classifierEstimator, X, Y2, cv):\n",
    "\n",
    "\n",
    "\n",
    "#Perform cross validation \n",
    "    scores = cross_validate(classifierEstimator, X, Y2,\n",
    "                            scoring=['accuracy', 'precision','recall'], \n",
    "                            cv=cv, return_train_score=True, \n",
    "                            )\n",
    "\n",
    "    Accavg = scores['test_accuracy'].mean()\n",
    "    Preavg = scores['test_precision'].mean()\n",
    "    Rreavg = scores['test_recall'].mean()\n",
    "\n",
    "    print_str = \"The average accuracy for all cv folds is: \\t\\t\\t {Accavg:.5}\"\n",
    "    print_str2 = \"The average precision for all cv folds is: \\t\\t\\t {Preavg:.5}\"\n",
    "    print_str3 = \"The average Recall for all cv folds is: \\t\\t\\t {Rreavg:.5}\"\n",
    "\n",
    "    print(print_str.format(Accavg=Accavg))\n",
    "    print(print_str2.format(Preavg=Preavg))\n",
    "    print(print_str3.format(Rreavg=Rreavg))\n",
    "    print('*********************************************************')\n",
    "\n",
    "    print('Cross Validation Fold Mean Error Scores')\n",
    "    scoresResults = pd.DataFrame()\n",
    "    scoresResults['Accuracy'] = scores['test_accuracy']\n",
    "    scoresResults['Precision'] = scores['test_precision']\n",
    "    scoresResults['Recall'] = scores['test_recall']\n",
    "    print(scoresResults)\n",
    "    return scoresResults\n",
    "\n",
    "def EvaluateClassifierEstimator2(classifierEstimator, X, Y2, cv):\n",
    "    \n",
    "  #Perform cross validation \n",
    "  from sklearn.model_selection import cross_val_predict\n",
    "  predictions = cross_val_predict(classifierEstimator, \n",
    "                                  X, Y2, cv=cv)\n",
    "    \n",
    "#model evaluation \n",
    "  from sklearn.metrics import classification_report, confusion_matrix, accuracy_score\n",
    "\n",
    "#pass true test set values and predictions to classification_report\n",
    "  classReport = classification_report(Y2,predictions)\n",
    "  confMat = confusion_matrix(Y2,predictions)\n",
    "  acc = accuracy_score(Y2,predictions)\n",
    "    \n",
    "  print(classReport)\n",
    "  print(confMat)\n",
    "  print(acc)\n",
    "#from imblearn.over_sampling import SMOTE    \n",
    "def EvaluateClassifierEstimator3(classifierEstimator, X, Y2, cv):\n",
    "  from sklearn import metrics as mt\n",
    "  for fold, (train_index, test_index) in enumerate(cv.split(X,Y2)):\n",
    "     X_train = X[train_index]    \n",
    "     y_train = Y2[train_index]  # Based on your code, you might need a ravel call here, but I would look into how you're generating your y\n",
    "     X_test = X[test_index]\n",
    "     y_test = Y2[test_index]  # See comment on ravel and  y_train\n",
    "     sm = SMOTE(random_state=101)\n",
    "     X_train_oversampled, y_train_oversampled = sm.fit_sample(X_train, y_train)\n",
    "     classifierEstimator.fit(X_train, y_train) \n",
    "     y_pred = classifierEstimator.predict(X_test)\n",
    "     acc = mt.accuracy_score(y_test,y_pred)\n",
    "     conf = mt.confusion_matrix(y_test,y_pred)\n",
    "     print(\"====Iteration\",fold,\" ====\")\n",
    "     print(\"accuracy\", acc )\n",
    "     print(\"confusion matrix\\n\",conf)\n"
   ]
  },
  {
   "cell_type": "markdown",
   "metadata": {
    "colab_type": "text",
    "id": "3TWp5arOWqMM"
   },
   "source": [
    "## Modeling and Evaluation 2\n",
    "Choose the method you will use for dividing your data into training and testing splits (i.e., are you using Stratified 10-fold cross validation? Why?). Explain why your chosen method is appropriate or use more than one method as appropriate. For example, if you are using time series data then you should be using continuous training and testing sets across time."
   ]
  },
  {
   "cell_type": "code",
   "execution_count": 47,
   "metadata": {
    "colab": {
     "base_uri": "https://localhost:8080/",
     "height": 212
    },
    "colab_type": "code",
    "id": "BlP7r4nNQPhY",
    "outputId": "84194b32-87cf-4e1d-9dc6-ef847cd22c8e"
   },
   "outputs": [
    {
     "data": {
      "text/plain": [
       "posXY       posX   posY \n",
       "0-0.05      0.00   0.05     1.666667\n",
       "0.15-9.42   0.15   9.42     1.666667\n",
       "0.31-11.09  0.31   11.09    1.666667\n",
       "0.47-8.2    0.47   8.20     1.666667\n",
       "0.78-10.94  0.78   10.94    1.666667\n",
       "0.93-11.69  0.93   11.69    1.666667\n",
       "1.08-12.19  1.08   12.19    1.666667\n",
       "1.24-3.93   1.24   3.93     1.666667\n",
       "1.39-6.61   1.39   6.61     1.666667\n",
       "1.52-9.32   1.52   9.32     1.666667\n",
       "1.55-0.96   1.55   0.96     1.666667\n",
       "1.58-5.26   1.58   5.26     1.666667\n",
       "1.71-1.81   1.71   1.81     1.666667\n",
       "1.86-8.08   1.86   8.08     1.666667\n",
       "10.23-6.88  10.23  6.88     1.666667\n",
       "10.46-5.8   10.46  5.80     1.666667\n",
       "10.62-3.87  10.62  3.87     1.666667\n",
       "10.99-7.19  10.99  7.19     1.666667\n",
       "11.39-5     11.39  5.00     1.666667\n",
       "11.76-7.76  11.76  7.76     1.666667\n",
       "12.16-5.25  12.16  5.25     1.666667\n",
       "12.18-3.4   12.18  3.40     1.666667\n",
       "12.26-6.72  12.26  6.72     1.666667\n",
       "12.55-7.38  12.55  7.38     1.666667\n",
       "12.95-5.25  12.95  5.25     1.666667\n",
       "14.98-7.55  14.98  7.55     1.666667\n",
       "16.44-7.45  16.44  7.45     1.666667\n",
       "2.02-7.45   2.02   7.45     1.666667\n",
       "2.49-7.6    2.49   7.60     1.666667\n",
       "21.23-5.47  21.23  5.47     1.666667\n",
       "21.3-3.8    21.30  3.80     1.666667\n",
       "21.45-6.62  21.45  6.62     1.666667\n",
       "21.6-7.63   21.60  7.63     1.666667\n",
       "21.98-7.46  21.98  7.46     1.666667\n",
       "22.3-6.36   22.30  6.36     1.666667\n",
       "22.38-3.94  22.38  3.94     1.666667\n",
       "22.76-5.06  22.76  5.06     1.666667\n",
       "23.24-7.5   23.24  7.50     1.666667\n",
       "23.36-3.4   23.36  3.40     1.666667\n",
       "23.53-4.22  23.53  4.22     1.666667\n",
       "23.9-7      23.90  7.00     1.666667\n",
       "24.31-3.89  24.31  3.89     1.666667\n",
       "24.7-7.7    24.70  7.70     1.666667\n",
       "25.23-7.78  25.23  7.78     1.666667\n",
       "25.76-7.34  25.76  7.34     1.666667\n",
       "26.71-7.5   26.71  7.50     1.666667\n",
       "28.12-7.57  28.12  7.57     1.666667\n",
       "29.58-7.93  29.58  7.93     1.666667\n",
       "3.44-7.43   3.44   7.43     1.666667\n",
       "31.06-7.19  31.06  7.19     1.666667\n",
       "31.78-7.62  31.78  7.62     1.666667\n",
       "32.16-7.08  32.16  7.08     1.666667\n",
       "32.54-7.08  32.54  7.08     1.666667\n",
       "4.51-7.63   4.51   7.63     1.666667\n",
       "6-7.88      6.00   7.88     1.666667\n",
       "7.48-7.36   7.48   7.36     1.666667\n",
       "8.56-7.64   8.56   7.64     1.666667\n",
       "9.08-7.24   9.08   7.24     1.666667\n",
       "9.46-7.77   9.46   7.77     1.666667\n",
       "9.86-3.88   9.86   3.88     1.666667\n",
       "Name: posXY, dtype: float64"
      ]
     },
     "execution_count": 47,
     "metadata": {},
     "output_type": "execute_result"
    }
   ],
   "source": [
    "#class percentage split\n",
    "dfgrp = onlineSummary.groupby(['posXY', 'posX', 'posY'])\n",
    "onlineSummary['posXY'].value_counts()\n",
    "dfgrp['posXY'].count() / len(onlineSummary) *100"
   ]
  },
  {
   "cell_type": "code",
   "execution_count": 48,
   "metadata": {
    "colab": {
     "base_uri": "https://localhost:8080/",
     "height": 212
    },
    "colab_type": "code",
    "id": "yU3ttrh3QrDV",
    "outputId": "a3b18f34-19dc-4973-f7d1-2259b0dd770e"
   },
   "outputs": [
    {
     "data": {
      "text/plain": [
       "1.08-12.19    1\n",
       "28.12-7.57    1\n",
       "0.15-9.42     1\n",
       "10.23-6.88    1\n",
       "12.26-6.72    1\n",
       "21.23-5.47    1\n",
       "12.95-5.25    1\n",
       "21.6-7.63     1\n",
       "12.55-7.38    1\n",
       "7.48-7.36     1\n",
       "1.86-8.08     1\n",
       "0.93-11.69    1\n",
       "10.62-3.87    1\n",
       "1.24-3.93     1\n",
       "9.86-3.88     1\n",
       "11.76-7.76    1\n",
       "8.56-7.64     1\n",
       "22.76-5.06    1\n",
       "32.54-7.08    1\n",
       "3.44-7.43     1\n",
       "21.98-7.46    1\n",
       "23.36-3.4     1\n",
       "22.38-3.94    1\n",
       "10.46-5.8     1\n",
       "0.47-8.2      1\n",
       "16.44-7.45    1\n",
       "1.39-6.61     1\n",
       "22.3-6.36     1\n",
       "1.71-1.81     1\n",
       "14.98-7.55    1\n",
       "21.45-6.62    1\n",
       "23.24-7.5     1\n",
       "2.49-7.6      1\n",
       "32.16-7.08    1\n",
       "0.31-11.09    1\n",
       "29.58-7.93    1\n",
       "23.53-4.22    1\n",
       "25.76-7.34    1\n",
       "21.3-3.8      1\n",
       "23.9-7        1\n",
       "24.31-3.89    1\n",
       "6-7.88        1\n",
       "26.71-7.5     1\n",
       "25.23-7.78    1\n",
       "4.51-7.63     1\n",
       "0.78-10.94    1\n",
       "9.46-7.77     1\n",
       "24.7-7.7      1\n",
       "1.52-9.32     1\n",
       "12.16-5.25    1\n",
       "0-0.05        1\n",
       "2.02-7.45     1\n",
       "31.06-7.19    1\n",
       "9.08-7.24     1\n",
       "11.39-5       1\n",
       "1.58-5.26     1\n",
       "12.18-3.4     1\n",
       "31.78-7.62    1\n",
       "1.55-0.96     1\n",
       "10.99-7.19    1\n",
       "Name: posXY, dtype: int64"
      ]
     },
     "execution_count": 48,
     "metadata": {},
     "output_type": "execute_result"
    }
   ],
   "source": [
    "onlineSummary['posXY'].value_counts()"
   ]
  },
  {
   "cell_type": "code",
   "execution_count": 49,
   "metadata": {},
   "outputs": [
    {
     "data": {
      "text/plain": [
       "8-3     7\n",
       "2-9     7\n",
       "0-1     7\n",
       "2-12    7\n",
       "15-3    7\n",
       "       ..\n",
       "11-3    7\n",
       "1-12    7\n",
       "12-6    7\n",
       "7-3     7\n",
       "21-5    7\n",
       "Name: posXY, Length: 166, dtype: int64"
      ]
     },
     "execution_count": 49,
     "metadata": {},
     "output_type": "execute_result"
    }
   ],
   "source": [
    "offlineSummary['posXY'].value_counts()"
   ]
  },
  {
   "cell_type": "code",
   "execution_count": 50,
   "metadata": {},
   "outputs": [
    {
     "data": {
      "text/plain": [
       "Index(['Unnamed: 0', 'posXY', 'posX', 'posY', 'orientation', 'angle',\n",
       "       '00:0f:a3:39:e1:c0', '00:14:bf:3b:c7:c6', '00:14:bf:b1:97:81',\n",
       "       '00:14:bf:b1:97:8a', '00:14:bf:b1:97:8d', '00:14:bf:b1:97:90'],\n",
       "      dtype='object')"
      ]
     },
     "execution_count": 50,
     "metadata": {},
     "output_type": "execute_result"
    }
   ],
   "source": [
    "onlineSummary.columns"
   ]
  },
  {
   "cell_type": "code",
   "execution_count": 51,
   "metadata": {},
   "outputs": [
    {
     "data": {
      "text/plain": [
       "Index(['Unnamed: 0', 'posXY', 'posX', 'posY', '00:0f:a3:39:e1:c0',\n",
       "       '00:14:bf:3b:c7:c6', '00:14:bf:b1:97:81', '00:14:bf:b1:97:8a',\n",
       "       '00:14:bf:b1:97:8d', '00:14:bf:b1:97:90', 'angle'],\n",
       "      dtype='object')"
      ]
     },
     "execution_count": 51,
     "metadata": {},
     "output_type": "execute_result"
    }
   ],
   "source": [
    "offlineSummary.columns"
   ]
  },
  {
   "cell_type": "code",
   "execution_count": 52,
   "metadata": {},
   "outputs": [
    {
     "data": {
      "text/html": [
       "<div>\n",
       "<style scoped>\n",
       "    .dataframe tbody tr th:only-of-type {\n",
       "        vertical-align: middle;\n",
       "    }\n",
       "\n",
       "    .dataframe tbody tr th {\n",
       "        vertical-align: top;\n",
       "    }\n",
       "\n",
       "    .dataframe thead th {\n",
       "        text-align: right;\n",
       "    }\n",
       "</style>\n",
       "<table border=\"1\" class=\"dataframe\">\n",
       "  <thead>\n",
       "    <tr style=\"text-align: right;\">\n",
       "      <th></th>\n",
       "      <th>Unnamed: 0</th>\n",
       "      <th>posXY</th>\n",
       "      <th>posX</th>\n",
       "      <th>posY</th>\n",
       "      <th>orientation</th>\n",
       "      <th>angle</th>\n",
       "      <th>00:0f:a3:39:e1:c0</th>\n",
       "      <th>00:14:bf:3b:c7:c6</th>\n",
       "      <th>00:14:bf:b1:97:81</th>\n",
       "      <th>00:14:bf:b1:97:8a</th>\n",
       "      <th>00:14:bf:b1:97:8d</th>\n",
       "      <th>00:14:bf:b1:97:90</th>\n",
       "    </tr>\n",
       "  </thead>\n",
       "  <tbody>\n",
       "    <tr>\n",
       "      <td>0</td>\n",
       "      <td>0-0.05</td>\n",
       "      <td>0-0.05</td>\n",
       "      <td>0.00</td>\n",
       "      <td>0.05</td>\n",
       "      <td>130.5</td>\n",
       "      <td>135</td>\n",
       "      <td>-52.227273</td>\n",
       "      <td>-62.948980</td>\n",
       "      <td>-61.813953</td>\n",
       "      <td>-40.068966</td>\n",
       "      <td>-63.043011</td>\n",
       "      <td>-55.233333</td>\n",
       "    </tr>\n",
       "    <tr>\n",
       "      <td>1</td>\n",
       "      <td>0.15-9.42</td>\n",
       "      <td>0.15-9.42</td>\n",
       "      <td>0.15</td>\n",
       "      <td>9.42</td>\n",
       "      <td>112.3</td>\n",
       "      <td>90</td>\n",
       "      <td>-55.275229</td>\n",
       "      <td>-73.961905</td>\n",
       "      <td>-72.701031</td>\n",
       "      <td>-47.813084</td>\n",
       "      <td>-69.454545</td>\n",
       "      <td>-46.880000</td>\n",
       "    </tr>\n",
       "    <tr>\n",
       "      <td>2</td>\n",
       "      <td>0.31-11.09</td>\n",
       "      <td>0.31-11.09</td>\n",
       "      <td>0.31</td>\n",
       "      <td>11.09</td>\n",
       "      <td>230.1</td>\n",
       "      <td>225</td>\n",
       "      <td>-51.709091</td>\n",
       "      <td>-70.082474</td>\n",
       "      <td>-70.098901</td>\n",
       "      <td>-54.088235</td>\n",
       "      <td>-69.131579</td>\n",
       "      <td>-53.886598</td>\n",
       "    </tr>\n",
       "    <tr>\n",
       "      <td>3</td>\n",
       "      <td>0.47-8.2</td>\n",
       "      <td>0.47-8.2</td>\n",
       "      <td>0.47</td>\n",
       "      <td>8.20</td>\n",
       "      <td>5.8</td>\n",
       "      <td>0</td>\n",
       "      <td>-49.500000</td>\n",
       "      <td>-64.258065</td>\n",
       "      <td>-72.597701</td>\n",
       "      <td>-45.652893</td>\n",
       "      <td>-60.797468</td>\n",
       "      <td>-49.580000</td>\n",
       "    </tr>\n",
       "    <tr>\n",
       "      <td>4</td>\n",
       "      <td>0.78-10.94</td>\n",
       "      <td>0.78-10.94</td>\n",
       "      <td>0.78</td>\n",
       "      <td>10.94</td>\n",
       "      <td>348.3</td>\n",
       "      <td>0</td>\n",
       "      <td>-53.263636</td>\n",
       "      <td>-66.960000</td>\n",
       "      <td>-66.809524</td>\n",
       "      <td>-48.413793</td>\n",
       "      <td>-65.000000</td>\n",
       "      <td>-54.846939</td>\n",
       "    </tr>\n",
       "  </tbody>\n",
       "</table>\n",
       "</div>"
      ],
      "text/plain": [
       "   Unnamed: 0       posXY  posX   posY  orientation  angle  00:0f:a3:39:e1:c0  \\\n",
       "0      0-0.05      0-0.05  0.00   0.05        130.5    135         -52.227273   \n",
       "1   0.15-9.42   0.15-9.42  0.15   9.42        112.3     90         -55.275229   \n",
       "2  0.31-11.09  0.31-11.09  0.31  11.09        230.1    225         -51.709091   \n",
       "3    0.47-8.2    0.47-8.2  0.47   8.20          5.8      0         -49.500000   \n",
       "4  0.78-10.94  0.78-10.94  0.78  10.94        348.3      0         -53.263636   \n",
       "\n",
       "   00:14:bf:3b:c7:c6  00:14:bf:b1:97:81  00:14:bf:b1:97:8a  00:14:bf:b1:97:8d  \\\n",
       "0         -62.948980         -61.813953         -40.068966         -63.043011   \n",
       "1         -73.961905         -72.701031         -47.813084         -69.454545   \n",
       "2         -70.082474         -70.098901         -54.088235         -69.131579   \n",
       "3         -64.258065         -72.597701         -45.652893         -60.797468   \n",
       "4         -66.960000         -66.809524         -48.413793         -65.000000   \n",
       "\n",
       "   00:14:bf:b1:97:90  \n",
       "0         -55.233333  \n",
       "1         -46.880000  \n",
       "2         -53.886598  \n",
       "3         -49.580000  \n",
       "4         -54.846939  "
      ]
     },
     "execution_count": 52,
     "metadata": {},
     "output_type": "execute_result"
    }
   ],
   "source": [
    "onlineSummary.head()"
   ]
  },
  {
   "cell_type": "code",
   "execution_count": 53,
   "metadata": {
    "colab": {
     "base_uri": "https://localhost:8080/",
     "height": 50
    },
    "colab_type": "code",
    "id": "cZHxHg1g4rnZ",
    "outputId": "ae6690b0-9e80-44f2-d91a-9aa9ac5376f0"
   },
   "outputs": [
    {
     "name": "stdout",
     "output_type": "stream",
     "text": [
      "CPU times: user 7.45 ms, sys: 0 ns, total: 7.45 ms\n",
      "Wall time: 9.65 ms\n"
     ]
    }
   ],
   "source": [
    "%%time\n",
    "from sklearn.neighbors import KNeighborsClassifier\n",
    "from sklearn.model_selection import StratifiedKFold\n",
    "from sklearn.preprocessing import StandardScaler\n",
    "import numpy as np\n",
    "from sklearn import metrics as mt\n",
    "\n",
    "cv = StratifiedKFold(n_splits=10)\n",
    "\n",
    "features = ['angle',\n",
    "       '00:0f:a3:39:e1:c0', '00:14:bf:3b:c7:c6', '00:14:bf:b1:97:81',\n",
    "       '00:14:bf:b1:97:8a', '00:14:bf:b1:97:8d', '00:14:bf:b1:97:90']\n",
    "\n",
    "X2 = offlineSummary[features].copy()\n",
    "X3 = onlineSummary[features].copy()\n",
    "scaler = StandardScaler()\n",
    "scaler.fit(X2)\n",
    "\n",
    "#This makes our model's coefficients take on the same scale for accurate feature importance analysis\n",
    "#Notice we scaled the data before the cross validation\n",
    "X = scaler.transform(X2)\n",
    "X = offlineSummary[features].copy()\n",
    "Y= offlineSummary[['posXY']].copy()\n",
    "Y3= onlineSummary[['posXY']].copy()\n",
    "Y2 = Y.values\n",
    "\n",
    "#Divide data into test and training splits\n",
    "from sklearn.model_selection import ShuffleSplit\n",
    "cv = ShuffleSplit(n_splits=2, test_size=0.20, random_state=0)"
   ]
  },
  {
   "cell_type": "code",
   "execution_count": 54,
   "metadata": {
    "colab": {},
    "colab_type": "code",
    "id": "SQZ4SBbsf_N9"
   },
   "outputs": [],
   "source": [
    "from sklearn import metrics as mt\n",
    "\n",
    "# train and test split before resampling\n",
    "X1_train, X1_test, y1_train, y1_test = train_test_split(X, Y, test_size = 0.01, random_state = 101) \n"
   ]
  },
  {
   "cell_type": "markdown",
   "metadata": {
    "colab_type": "text",
    "id": "Jriu2c-MZ7SP"
   },
   "source": [
    "## Classification \n"
   ]
  },
  {
   "cell_type": "markdown",
   "metadata": {
    "colab_type": "text",
    "id": "y713JBi1Mage"
   },
   "source": [
    "### Task 1 - Modeling and Evaluation 3\n",
    "Create different classification models for each task e.g., random forest, KNN. \n",
    "\n",
    "The algorithms used are as follows:  \n",
    "\n",
    "*   K-Nearest Neighbor\n",
    "*   Random Forest Classification\n"
   ]
  },
  {
   "cell_type": "markdown",
   "metadata": {
    "colab_type": "text",
    "id": "it9ofY8j4Xi0"
   },
   "source": [
    "#### Model 1: KNN Classification"
   ]
  },
  {
   "cell_type": "code",
   "execution_count": 236,
   "metadata": {
    "colab": {
     "base_uri": "https://localhost:8080/",
     "height": 98
    },
    "colab_type": "code",
    "id": "H-xo_Rm-fe2j",
    "outputId": "87d67084-636c-431a-d549-be122dbf736c"
   },
   "outputs": [
    {
     "name": "stdout",
     "output_type": "stream",
     "text": [
      "Fitting 2 folds for each of 90 candidates, totalling 180 fits\n"
     ]
    },
    {
     "name": "stderr",
     "output_type": "stream",
     "text": [
      "[Parallel(n_jobs=-1)]: Using backend LokyBackend with 12 concurrent workers.\n",
      "[Parallel(n_jobs=-1)]: Done  26 tasks      | elapsed:    1.4s\n",
      "[Parallel(n_jobs=-1)]: Done 180 out of 180 | elapsed:    1.8s finished\n"
     ]
    }
   ],
   "source": [
    "\n",
    "param_grid = [\n",
    "    {\n",
    "         'weights': ['uniform','distance'],\n",
    "         'leaf_size': [5,10, 20],\n",
    "         'metric': ['minkowski','euclidean', 'manhattan'],\n",
    "         'n_neighbors':[2,3,5, 6,7],\n",
    "         \n",
    "    }\n",
    "]\n",
    "\n",
    "clf_KNN = KNeighborsClassifier()\n",
    "grid_search_KNN = GridSearchCV(clf_KNN, param_grid=param_grid,cv=cv,n_jobs=-1, verbose=1, scoring='accuracy' )\n",
    "\n",
    "KNearest_model1 = grid_search_KNN.fit(X, Y)\n",
    "\n",
    "y_KNN_score1 = KNearest_model1.predict(X1_test)\n",
    "\n"
   ]
  },
  {
   "cell_type": "markdown",
   "metadata": {
    "colab_type": "text",
    "id": "VYb6pozHl-Ia"
   },
   "source": [
    "Our first modeling procedure we ran was a KNN classification. Detail on the concept behind it can be found below, but on this particular version, we are using our smote engineered features to fit the model and running a grid search procedure to select the best hyperparameter. "
   ]
  },
  {
   "cell_type": "code",
   "execution_count": 237,
   "metadata": {
    "colab": {
     "base_uri": "https://localhost:8080/",
     "height": 66
    },
    "colab_type": "code",
    "id": "xXbdtmoF4itK",
    "outputId": "a91783f5-1c40-44af-9ebd-ee6ffff7a285"
   },
   "outputs": [
    {
     "data": {
      "text/plain": [
       "KNeighborsClassifier(algorithm='auto', leaf_size=5, metric='minkowski',\n",
       "                     metric_params=None, n_jobs=None, n_neighbors=2, p=2,\n",
       "                     weights='uniform')"
      ]
     },
     "execution_count": 237,
     "metadata": {},
     "output_type": "execute_result"
    }
   ],
   "source": [
    "classifierEstimaterKNN1 = KNearest_model1.best_estimator_\n",
    "classifierEstimaterKNN1\n"
   ]
  },
  {
   "cell_type": "markdown",
   "metadata": {
    "colab_type": "text",
    "id": "7fZ5JmCWmdpK"
   },
   "source": [
    "According to our grid search, the best estimator is to include 5 neighbors, a leaf size of 10 and a minkowski metric to learn from. "
   ]
  },
  {
   "cell_type": "code",
   "execution_count": 57,
   "metadata": {
    "colab": {},
    "colab_type": "code",
    "id": "apv--OjhpvAv"
   },
   "outputs": [],
   "source": [
    "#import pickle\n",
    "#filename = r'C:/Users/jjsch/Documents/GitHub/7331lab1/7331DataMiningNotebooks/lab2/classifierEstimaterKNN1.pickle'\n",
    "#infile = open(filename,'rb')\n",
    "#classifierEstimaterKNN1 = pickle.loads(infile)\n",
    "#infile.close()\n",
    "#outfile = open(filename,'wb')\n",
    "#pickle.dumps(classifierEstimaterKNN1, filename)\n",
    "#from joblib import dump, load\n",
    "#dump(classifierEstimaterKNN1, filename)"
   ]
  },
  {
   "cell_type": "code",
   "execution_count": 238,
   "metadata": {},
   "outputs": [
    {
     "data": {
      "text/plain": [
       "array(['1-2', '1-12', '1-10', '1-0', '0-9', '2-11', '1-10', '0-3', '1-6',\n",
       "       '2-10', '0-4', '1-4', '1-1', '1-8', '7-7', '10-6', '11-3', '12-5',\n",
       "       '11-4', '7-8', '13-5', '13-3', '12-7', '10-6', '12-4', '17-8',\n",
       "       '17-7', '0-7', '2-1', '23-4', '20-3', '21-8', '22-5', '23-7',\n",
       "       '22-6', '23-7', '24-4', '16-3', '22-3', '24-3', '16-3', '21-3',\n",
       "       '21-6', '27-8', '26-7', '27-8', '25-8', '31-7', '5-7', '30-7',\n",
       "       '29-7', '31-7', '27-7', '3-3', '6-8', '6-8', '10-4', '9-7', '10-7',\n",
       "       '11-3'], dtype=object)"
      ]
     },
     "execution_count": 238,
     "metadata": {},
     "output_type": "execute_result"
    }
   ],
   "source": [
    "y_KNN_score1 = classifierEstimaterKNN1.predict(X3)\n",
    "y_KNN_score1"
   ]
  },
  {
   "cell_type": "code",
   "execution_count": 239,
   "metadata": {
    "colab": {
     "base_uri": "https://localhost:8080/",
     "height": 66
    },
    "colab_type": "code",
    "id": "FSI_M3-yIQ27",
    "outputId": "5d8a8431-edce-4381-d0d6-92ffe9ca2000"
   },
   "outputs": [
    {
     "name": "stdout",
     "output_type": "stream",
     "text": [
      "Precision Score is: 0.0\n",
      "Recall Score is: 0.0\n",
      "F1 Score is: 0.0\n"
     ]
    }
   ],
   "source": [
    "from sklearn.metrics import f1_score\n",
    "from sklearn.metrics import precision_score\n",
    "from sklearn.metrics import recall_score\n",
    "print(\"Precision Score is: {}\" .format(precision_score(Y3, y_KNN_score1, average='weighted')))\n",
    "print(\"Recall Score is: {}\" .format(recall_score(Y3, y_KNN_score1, average='weighted')))\n",
    "print(\"F1 Score is: {}\" .format(f1_score(Y3, y_KNN_score1, average='weighted')))"
   ]
  },
  {
   "cell_type": "code",
   "execution_count": 240,
   "metadata": {},
   "outputs": [
    {
     "data": {
      "text/html": [
       "<div>\n",
       "<style scoped>\n",
       "    .dataframe tbody tr th:only-of-type {\n",
       "        vertical-align: middle;\n",
       "    }\n",
       "\n",
       "    .dataframe tbody tr th {\n",
       "        vertical-align: top;\n",
       "    }\n",
       "\n",
       "    .dataframe thead th {\n",
       "        text-align: right;\n",
       "    }\n",
       "</style>\n",
       "<table border=\"1\" class=\"dataframe\">\n",
       "  <thead>\n",
       "    <tr style=\"text-align: right;\">\n",
       "      <th></th>\n",
       "      <th>posXY</th>\n",
       "    </tr>\n",
       "  </thead>\n",
       "  <tbody>\n",
       "    <tr>\n",
       "      <td>0</td>\n",
       "      <td>0-0.05</td>\n",
       "    </tr>\n",
       "    <tr>\n",
       "      <td>1</td>\n",
       "      <td>0.15-9.42</td>\n",
       "    </tr>\n",
       "    <tr>\n",
       "      <td>2</td>\n",
       "      <td>0.31-11.09</td>\n",
       "    </tr>\n",
       "    <tr>\n",
       "      <td>3</td>\n",
       "      <td>0.47-8.2</td>\n",
       "    </tr>\n",
       "    <tr>\n",
       "      <td>4</td>\n",
       "      <td>0.78-10.94</td>\n",
       "    </tr>\n",
       "  </tbody>\n",
       "</table>\n",
       "</div>"
      ],
      "text/plain": [
       "        posXY\n",
       "0      0-0.05\n",
       "1   0.15-9.42\n",
       "2  0.31-11.09\n",
       "3    0.47-8.2\n",
       "4  0.78-10.94"
      ]
     },
     "execution_count": 240,
     "metadata": {},
     "output_type": "execute_result"
    }
   ],
   "source": [
    "Y3.head()"
   ]
  },
  {
   "cell_type": "code",
   "execution_count": 241,
   "metadata": {},
   "outputs": [],
   "source": [
    "y1_test = Y3['posXY'].str.split(\"-\", n = 1, expand = True)"
   ]
  },
  {
   "cell_type": "code",
   "execution_count": 242,
   "metadata": {},
   "outputs": [],
   "source": [
    "yscore = pd.DataFrame(y_KNN_score1)"
   ]
  },
  {
   "cell_type": "code",
   "execution_count": 243,
   "metadata": {},
   "outputs": [],
   "source": [
    "yscore=yscore[0].str.split(\"-\", n = 1, expand = True)"
   ]
  },
  {
   "cell_type": "code",
   "execution_count": 245,
   "metadata": {},
   "outputs": [
    {
     "data": {
      "text/html": [
       "<div>\n",
       "<style scoped>\n",
       "    .dataframe tbody tr th:only-of-type {\n",
       "        vertical-align: middle;\n",
       "    }\n",
       "\n",
       "    .dataframe tbody tr th {\n",
       "        vertical-align: top;\n",
       "    }\n",
       "\n",
       "    .dataframe thead th {\n",
       "        text-align: right;\n",
       "    }\n",
       "</style>\n",
       "<table border=\"1\" class=\"dataframe\">\n",
       "  <thead>\n",
       "    <tr style=\"text-align: right;\">\n",
       "      <th></th>\n",
       "      <th>0</th>\n",
       "      <th>1</th>\n",
       "    </tr>\n",
       "  </thead>\n",
       "  <tbody>\n",
       "    <tr>\n",
       "      <td>0</td>\n",
       "      <td>1</td>\n",
       "      <td>2</td>\n",
       "    </tr>\n",
       "    <tr>\n",
       "      <td>1</td>\n",
       "      <td>1</td>\n",
       "      <td>12</td>\n",
       "    </tr>\n",
       "    <tr>\n",
       "      <td>2</td>\n",
       "      <td>1</td>\n",
       "      <td>10</td>\n",
       "    </tr>\n",
       "    <tr>\n",
       "      <td>3</td>\n",
       "      <td>1</td>\n",
       "      <td>0</td>\n",
       "    </tr>\n",
       "    <tr>\n",
       "      <td>4</td>\n",
       "      <td>0</td>\n",
       "      <td>9</td>\n",
       "    </tr>\n",
       "  </tbody>\n",
       "</table>\n",
       "</div>"
      ],
      "text/plain": [
       "   0   1\n",
       "0  1   2\n",
       "1  1  12\n",
       "2  1  10\n",
       "3  1   0\n",
       "4  0   9"
      ]
     },
     "execution_count": 245,
     "metadata": {},
     "output_type": "execute_result"
    }
   ],
   "source": [
    "yscore.head()"
   ]
  },
  {
   "cell_type": "code",
   "execution_count": 246,
   "metadata": {},
   "outputs": [
    {
     "data": {
      "text/html": [
       "<div>\n",
       "<style scoped>\n",
       "    .dataframe tbody tr th:only-of-type {\n",
       "        vertical-align: middle;\n",
       "    }\n",
       "\n",
       "    .dataframe tbody tr th {\n",
       "        vertical-align: top;\n",
       "    }\n",
       "\n",
       "    .dataframe thead th {\n",
       "        text-align: right;\n",
       "    }\n",
       "</style>\n",
       "<table border=\"1\" class=\"dataframe\">\n",
       "  <thead>\n",
       "    <tr style=\"text-align: right;\">\n",
       "      <th></th>\n",
       "      <th>0</th>\n",
       "      <th>1</th>\n",
       "    </tr>\n",
       "  </thead>\n",
       "  <tbody>\n",
       "    <tr>\n",
       "      <td>0</td>\n",
       "      <td>0.0</td>\n",
       "      <td>0.0</td>\n",
       "    </tr>\n",
       "    <tr>\n",
       "      <td>1</td>\n",
       "      <td>0.0</td>\n",
       "      <td>9.0</td>\n",
       "    </tr>\n",
       "    <tr>\n",
       "      <td>2</td>\n",
       "      <td>0.0</td>\n",
       "      <td>11.0</td>\n",
       "    </tr>\n",
       "    <tr>\n",
       "      <td>3</td>\n",
       "      <td>0.0</td>\n",
       "      <td>8.0</td>\n",
       "    </tr>\n",
       "    <tr>\n",
       "      <td>4</td>\n",
       "      <td>1.0</td>\n",
       "      <td>11.0</td>\n",
       "    </tr>\n",
       "  </tbody>\n",
       "</table>\n",
       "</div>"
      ],
      "text/plain": [
       "     0     1\n",
       "0  0.0   0.0\n",
       "1  0.0   9.0\n",
       "2  0.0  11.0\n",
       "3  0.0   8.0\n",
       "4  1.0  11.0"
      ]
     },
     "execution_count": 246,
     "metadata": {},
     "output_type": "execute_result"
    }
   ],
   "source": [
    "y1_test[0] = y1_test[0].astype(float) \n",
    "y1_test[0] = y1_test[0].round()\n",
    "y1_test[1] = y1_test[1].astype(float) \n",
    "y1_test[1] = y1_test[1].round()\n",
    "y1_test.head()"
   ]
  },
  {
   "cell_type": "code",
   "execution_count": 247,
   "metadata": {},
   "outputs": [
    {
     "data": {
      "text/plain": [
       "RangeIndex(start=0, stop=60, step=1)"
      ]
     },
     "execution_count": 247,
     "metadata": {},
     "output_type": "execute_result"
    }
   ],
   "source": [
    "y1_test = y1_test.reset_index()\n",
    "y1_test.index"
   ]
  },
  {
   "cell_type": "code",
   "execution_count": 248,
   "metadata": {},
   "outputs": [
    {
     "data": {
      "text/html": [
       "<div>\n",
       "<style scoped>\n",
       "    .dataframe tbody tr th:only-of-type {\n",
       "        vertical-align: middle;\n",
       "    }\n",
       "\n",
       "    .dataframe tbody tr th {\n",
       "        vertical-align: top;\n",
       "    }\n",
       "\n",
       "    .dataframe thead th {\n",
       "        text-align: right;\n",
       "    }\n",
       "</style>\n",
       "<table border=\"1\" class=\"dataframe\">\n",
       "  <thead>\n",
       "    <tr style=\"text-align: right;\">\n",
       "      <th></th>\n",
       "      <th>0</th>\n",
       "      <th>1</th>\n",
       "    </tr>\n",
       "  </thead>\n",
       "  <tbody>\n",
       "    <tr>\n",
       "      <td>0</td>\n",
       "      <td>1</td>\n",
       "      <td>2</td>\n",
       "    </tr>\n",
       "    <tr>\n",
       "      <td>1</td>\n",
       "      <td>1</td>\n",
       "      <td>12</td>\n",
       "    </tr>\n",
       "    <tr>\n",
       "      <td>2</td>\n",
       "      <td>1</td>\n",
       "      <td>10</td>\n",
       "    </tr>\n",
       "    <tr>\n",
       "      <td>3</td>\n",
       "      <td>1</td>\n",
       "      <td>0</td>\n",
       "    </tr>\n",
       "    <tr>\n",
       "      <td>4</td>\n",
       "      <td>0</td>\n",
       "      <td>9</td>\n",
       "    </tr>\n",
       "  </tbody>\n",
       "</table>\n",
       "</div>"
      ],
      "text/plain": [
       "   0   1\n",
       "0  1   2\n",
       "1  1  12\n",
       "2  1  10\n",
       "3  1   0\n",
       "4  0   9"
      ]
     },
     "execution_count": 248,
     "metadata": {},
     "output_type": "execute_result"
    }
   ],
   "source": [
    "yscore.head()"
   ]
  },
  {
   "cell_type": "code",
   "execution_count": 249,
   "metadata": {},
   "outputs": [
    {
     "data": {
      "text/html": [
       "<div>\n",
       "<style scoped>\n",
       "    .dataframe tbody tr th:only-of-type {\n",
       "        vertical-align: middle;\n",
       "    }\n",
       "\n",
       "    .dataframe tbody tr th {\n",
       "        vertical-align: top;\n",
       "    }\n",
       "\n",
       "    .dataframe thead th {\n",
       "        text-align: right;\n",
       "    }\n",
       "</style>\n",
       "<table border=\"1\" class=\"dataframe\">\n",
       "  <thead>\n",
       "    <tr style=\"text-align: right;\">\n",
       "      <th></th>\n",
       "      <th>level_0</th>\n",
       "      <th>index</th>\n",
       "      <th>0_x</th>\n",
       "      <th>1_x</th>\n",
       "      <th>0_y</th>\n",
       "      <th>1_y</th>\n",
       "    </tr>\n",
       "  </thead>\n",
       "  <tbody>\n",
       "    <tr>\n",
       "      <td>0</td>\n",
       "      <td>0</td>\n",
       "      <td>0</td>\n",
       "      <td>0.0</td>\n",
       "      <td>0.0</td>\n",
       "      <td>1</td>\n",
       "      <td>2</td>\n",
       "    </tr>\n",
       "    <tr>\n",
       "      <td>1</td>\n",
       "      <td>1</td>\n",
       "      <td>1</td>\n",
       "      <td>0.0</td>\n",
       "      <td>9.0</td>\n",
       "      <td>1</td>\n",
       "      <td>12</td>\n",
       "    </tr>\n",
       "    <tr>\n",
       "      <td>2</td>\n",
       "      <td>2</td>\n",
       "      <td>2</td>\n",
       "      <td>0.0</td>\n",
       "      <td>11.0</td>\n",
       "      <td>1</td>\n",
       "      <td>10</td>\n",
       "    </tr>\n",
       "    <tr>\n",
       "      <td>3</td>\n",
       "      <td>3</td>\n",
       "      <td>3</td>\n",
       "      <td>0.0</td>\n",
       "      <td>8.0</td>\n",
       "      <td>1</td>\n",
       "      <td>0</td>\n",
       "    </tr>\n",
       "    <tr>\n",
       "      <td>4</td>\n",
       "      <td>4</td>\n",
       "      <td>4</td>\n",
       "      <td>1.0</td>\n",
       "      <td>11.0</td>\n",
       "      <td>0</td>\n",
       "      <td>9</td>\n",
       "    </tr>\n",
       "  </tbody>\n",
       "</table>\n",
       "</div>"
      ],
      "text/plain": [
       "   level_0  index  0_x   1_x 0_y 1_y\n",
       "0        0      0  0.0   0.0   1   2\n",
       "1        1      1  0.0   9.0   1  12\n",
       "2        2      2  0.0  11.0   1  10\n",
       "3        3      3  0.0   8.0   1   0\n",
       "4        4      4  1.0  11.0   0   9"
      ]
     },
     "execution_count": 249,
     "metadata": {},
     "output_type": "execute_result"
    }
   ],
   "source": [
    "ygroup2 = y1_test.reset_index()\n",
    "ygroup2 = pd.merge(ygroup2, yscore, left_index=True, right_index=True)\n",
    "ygroup2.head()\n"
   ]
  },
  {
   "cell_type": "code",
   "execution_count": 250,
   "metadata": {},
   "outputs": [],
   "source": [
    "\n",
    "ygroup2['0_x'] = ygroup2['0_x'].astype(float) \n",
    "ygroup2['1_x'] = ygroup2['1_x'].astype(float) \n",
    "ygroup2['0_y'] = ygroup2['0_y'].astype(float) \n",
    "ygroup2['1_y'] = ygroup2['1_y'].astype(float) \n",
    "ygroup2['xdist'] = ygroup2['0_x'] - ygroup2['0_y']\n",
    "ygroup2['ydist'] = ygroup2['1_x'] - ygroup2['1_y']\n",
    "ygroup2['obatuple'] = ygroup2[['0_x', '1_x']].apply(tuple, axis=1)\n",
    "ygroup2['obttuple'] = ygroup2[['0_y', '1_y']].apply(tuple, axis=1) "
   ]
  },
  {
   "cell_type": "code",
   "execution_count": 251,
   "metadata": {},
   "outputs": [],
   "source": [
    "ygroup2['xsqr'] = (ygroup2['0_x'] - ygroup2['0_y'])**2\n",
    "ygroup2['ysqr'] = (ygroup2['1_x'] - ygroup2['1_y'])**2"
   ]
  },
  {
   "cell_type": "code",
   "execution_count": 252,
   "metadata": {},
   "outputs": [],
   "source": [
    "ygroup2['distance'] = ygroup2['xsqr'] + ygroup2['ysqr']"
   ]
  },
  {
   "cell_type": "code",
   "execution_count": 253,
   "metadata": {},
   "outputs": [],
   "source": [
    "ygroup2['distancefinalerror'] = np.sqrt(ygroup2['distance'])"
   ]
  },
  {
   "cell_type": "code",
   "execution_count": 254,
   "metadata": {},
   "outputs": [
    {
     "data": {
      "text/html": [
       "<div>\n",
       "<style scoped>\n",
       "    .dataframe tbody tr th:only-of-type {\n",
       "        vertical-align: middle;\n",
       "    }\n",
       "\n",
       "    .dataframe tbody tr th {\n",
       "        vertical-align: top;\n",
       "    }\n",
       "\n",
       "    .dataframe thead th {\n",
       "        text-align: right;\n",
       "    }\n",
       "</style>\n",
       "<table border=\"1\" class=\"dataframe\">\n",
       "  <thead>\n",
       "    <tr style=\"text-align: right;\">\n",
       "      <th></th>\n",
       "      <th>level_0</th>\n",
       "      <th>index</th>\n",
       "      <th>0_x</th>\n",
       "      <th>1_x</th>\n",
       "      <th>0_y</th>\n",
       "      <th>1_y</th>\n",
       "      <th>xdist</th>\n",
       "      <th>ydist</th>\n",
       "      <th>obatuple</th>\n",
       "      <th>obttuple</th>\n",
       "      <th>xsqr</th>\n",
       "      <th>ysqr</th>\n",
       "      <th>distance</th>\n",
       "      <th>distancefinalerror</th>\n",
       "    </tr>\n",
       "  </thead>\n",
       "  <tbody>\n",
       "    <tr>\n",
       "      <td>0</td>\n",
       "      <td>0</td>\n",
       "      <td>0</td>\n",
       "      <td>0.0</td>\n",
       "      <td>0.0</td>\n",
       "      <td>1.0</td>\n",
       "      <td>2.0</td>\n",
       "      <td>-1.0</td>\n",
       "      <td>-2.0</td>\n",
       "      <td>(0.0, 0.0)</td>\n",
       "      <td>(1.0, 2.0)</td>\n",
       "      <td>1.0</td>\n",
       "      <td>4.0</td>\n",
       "      <td>5.0</td>\n",
       "      <td>2.236068</td>\n",
       "    </tr>\n",
       "    <tr>\n",
       "      <td>1</td>\n",
       "      <td>1</td>\n",
       "      <td>1</td>\n",
       "      <td>0.0</td>\n",
       "      <td>9.0</td>\n",
       "      <td>1.0</td>\n",
       "      <td>12.0</td>\n",
       "      <td>-1.0</td>\n",
       "      <td>-3.0</td>\n",
       "      <td>(0.0, 9.0)</td>\n",
       "      <td>(1.0, 12.0)</td>\n",
       "      <td>1.0</td>\n",
       "      <td>9.0</td>\n",
       "      <td>10.0</td>\n",
       "      <td>3.162278</td>\n",
       "    </tr>\n",
       "    <tr>\n",
       "      <td>2</td>\n",
       "      <td>2</td>\n",
       "      <td>2</td>\n",
       "      <td>0.0</td>\n",
       "      <td>11.0</td>\n",
       "      <td>1.0</td>\n",
       "      <td>10.0</td>\n",
       "      <td>-1.0</td>\n",
       "      <td>1.0</td>\n",
       "      <td>(0.0, 11.0)</td>\n",
       "      <td>(1.0, 10.0)</td>\n",
       "      <td>1.0</td>\n",
       "      <td>1.0</td>\n",
       "      <td>2.0</td>\n",
       "      <td>1.414214</td>\n",
       "    </tr>\n",
       "    <tr>\n",
       "      <td>3</td>\n",
       "      <td>3</td>\n",
       "      <td>3</td>\n",
       "      <td>0.0</td>\n",
       "      <td>8.0</td>\n",
       "      <td>1.0</td>\n",
       "      <td>0.0</td>\n",
       "      <td>-1.0</td>\n",
       "      <td>8.0</td>\n",
       "      <td>(0.0, 8.0)</td>\n",
       "      <td>(1.0, 0.0)</td>\n",
       "      <td>1.0</td>\n",
       "      <td>64.0</td>\n",
       "      <td>65.0</td>\n",
       "      <td>8.062258</td>\n",
       "    </tr>\n",
       "    <tr>\n",
       "      <td>4</td>\n",
       "      <td>4</td>\n",
       "      <td>4</td>\n",
       "      <td>1.0</td>\n",
       "      <td>11.0</td>\n",
       "      <td>0.0</td>\n",
       "      <td>9.0</td>\n",
       "      <td>1.0</td>\n",
       "      <td>2.0</td>\n",
       "      <td>(1.0, 11.0)</td>\n",
       "      <td>(0.0, 9.0)</td>\n",
       "      <td>1.0</td>\n",
       "      <td>4.0</td>\n",
       "      <td>5.0</td>\n",
       "      <td>2.236068</td>\n",
       "    </tr>\n",
       "  </tbody>\n",
       "</table>\n",
       "</div>"
      ],
      "text/plain": [
       "   level_0  index  0_x   1_x  0_y   1_y  xdist  ydist     obatuple  \\\n",
       "0        0      0  0.0   0.0  1.0   2.0   -1.0   -2.0   (0.0, 0.0)   \n",
       "1        1      1  0.0   9.0  1.0  12.0   -1.0   -3.0   (0.0, 9.0)   \n",
       "2        2      2  0.0  11.0  1.0  10.0   -1.0    1.0  (0.0, 11.0)   \n",
       "3        3      3  0.0   8.0  1.0   0.0   -1.0    8.0   (0.0, 8.0)   \n",
       "4        4      4  1.0  11.0  0.0   9.0    1.0    2.0  (1.0, 11.0)   \n",
       "\n",
       "      obttuple  xsqr  ysqr  distance  distancefinalerror  \n",
       "0   (1.0, 2.0)   1.0   4.0       5.0            2.236068  \n",
       "1  (1.0, 12.0)   1.0   9.0      10.0            3.162278  \n",
       "2  (1.0, 10.0)   1.0   1.0       2.0            1.414214  \n",
       "3   (1.0, 0.0)   1.0  64.0      65.0            8.062258  \n",
       "4   (0.0, 9.0)   1.0   4.0       5.0            2.236068  "
      ]
     },
     "execution_count": 254,
     "metadata": {},
     "output_type": "execute_result"
    }
   ],
   "source": [
    "ygroup2.head()"
   ]
  },
  {
   "cell_type": "code",
   "execution_count": 255,
   "metadata": {},
   "outputs": [
    {
     "data": {
      "text/plain": [
       "2.2653505924645714"
      ]
     },
     "execution_count": 255,
     "metadata": {},
     "output_type": "execute_result"
    }
   ],
   "source": [
    "ygroup2['distancefinalerror'].mean()"
   ]
  },
  {
   "cell_type": "code",
   "execution_count": 256,
   "metadata": {},
   "outputs": [
    {
     "data": {
      "text/plain": [
       "135.92103554787428"
      ]
     },
     "execution_count": 256,
     "metadata": {},
     "output_type": "execute_result"
    }
   ],
   "source": [
    "ygroup2['distancefinalerror'].sum()"
   ]
  },
  {
   "cell_type": "code",
   "execution_count": 257,
   "metadata": {},
   "outputs": [],
   "source": [
    "x1, x2, y1, y2 = None,None,None,None"
   ]
  },
  {
   "cell_type": "code",
   "execution_count": 258,
   "metadata": {},
   "outputs": [
    {
     "data": {
      "text/html": [
       "<div>\n",
       "<style scoped>\n",
       "    .dataframe tbody tr th:only-of-type {\n",
       "        vertical-align: middle;\n",
       "    }\n",
       "\n",
       "    .dataframe tbody tr th {\n",
       "        vertical-align: top;\n",
       "    }\n",
       "\n",
       "    .dataframe thead th {\n",
       "        text-align: right;\n",
       "    }\n",
       "</style>\n",
       "<table border=\"1\" class=\"dataframe\">\n",
       "  <thead>\n",
       "    <tr style=\"text-align: right;\">\n",
       "      <th></th>\n",
       "      <th>level_0</th>\n",
       "      <th>index</th>\n",
       "      <th>0_x</th>\n",
       "      <th>1_x</th>\n",
       "      <th>0_y</th>\n",
       "      <th>1_y</th>\n",
       "      <th>xdist</th>\n",
       "      <th>ydist</th>\n",
       "      <th>obatuple</th>\n",
       "      <th>obttuple</th>\n",
       "      <th>xsqr</th>\n",
       "      <th>ysqr</th>\n",
       "      <th>distance</th>\n",
       "      <th>distancefinalerror</th>\n",
       "    </tr>\n",
       "  </thead>\n",
       "  <tbody>\n",
       "    <tr>\n",
       "      <td>55</td>\n",
       "      <td>55</td>\n",
       "      <td>55</td>\n",
       "      <td>7.0</td>\n",
       "      <td>7.0</td>\n",
       "      <td>6.0</td>\n",
       "      <td>8.0</td>\n",
       "      <td>1.0</td>\n",
       "      <td>-1.0</td>\n",
       "      <td>(7.0, 7.0)</td>\n",
       "      <td>(6.0, 8.0)</td>\n",
       "      <td>1.0</td>\n",
       "      <td>1.0</td>\n",
       "      <td>2.0</td>\n",
       "      <td>1.414214</td>\n",
       "    </tr>\n",
       "    <tr>\n",
       "      <td>56</td>\n",
       "      <td>56</td>\n",
       "      <td>56</td>\n",
       "      <td>9.0</td>\n",
       "      <td>8.0</td>\n",
       "      <td>10.0</td>\n",
       "      <td>4.0</td>\n",
       "      <td>-1.0</td>\n",
       "      <td>4.0</td>\n",
       "      <td>(9.0, 8.0)</td>\n",
       "      <td>(10.0, 4.0)</td>\n",
       "      <td>1.0</td>\n",
       "      <td>16.0</td>\n",
       "      <td>17.0</td>\n",
       "      <td>4.123106</td>\n",
       "    </tr>\n",
       "    <tr>\n",
       "      <td>57</td>\n",
       "      <td>57</td>\n",
       "      <td>57</td>\n",
       "      <td>9.0</td>\n",
       "      <td>7.0</td>\n",
       "      <td>9.0</td>\n",
       "      <td>7.0</td>\n",
       "      <td>0.0</td>\n",
       "      <td>0.0</td>\n",
       "      <td>(9.0, 7.0)</td>\n",
       "      <td>(9.0, 7.0)</td>\n",
       "      <td>0.0</td>\n",
       "      <td>0.0</td>\n",
       "      <td>0.0</td>\n",
       "      <td>0.000000</td>\n",
       "    </tr>\n",
       "    <tr>\n",
       "      <td>58</td>\n",
       "      <td>58</td>\n",
       "      <td>58</td>\n",
       "      <td>9.0</td>\n",
       "      <td>8.0</td>\n",
       "      <td>10.0</td>\n",
       "      <td>7.0</td>\n",
       "      <td>-1.0</td>\n",
       "      <td>1.0</td>\n",
       "      <td>(9.0, 8.0)</td>\n",
       "      <td>(10.0, 7.0)</td>\n",
       "      <td>1.0</td>\n",
       "      <td>1.0</td>\n",
       "      <td>2.0</td>\n",
       "      <td>1.414214</td>\n",
       "    </tr>\n",
       "    <tr>\n",
       "      <td>59</td>\n",
       "      <td>59</td>\n",
       "      <td>59</td>\n",
       "      <td>10.0</td>\n",
       "      <td>4.0</td>\n",
       "      <td>11.0</td>\n",
       "      <td>3.0</td>\n",
       "      <td>-1.0</td>\n",
       "      <td>1.0</td>\n",
       "      <td>(10.0, 4.0)</td>\n",
       "      <td>(11.0, 3.0)</td>\n",
       "      <td>1.0</td>\n",
       "      <td>1.0</td>\n",
       "      <td>2.0</td>\n",
       "      <td>1.414214</td>\n",
       "    </tr>\n",
       "  </tbody>\n",
       "</table>\n",
       "</div>"
      ],
      "text/plain": [
       "    level_0  index   0_x  1_x   0_y  1_y  xdist  ydist     obatuple  \\\n",
       "55       55     55   7.0  7.0   6.0  8.0    1.0   -1.0   (7.0, 7.0)   \n",
       "56       56     56   9.0  8.0  10.0  4.0   -1.0    4.0   (9.0, 8.0)   \n",
       "57       57     57   9.0  7.0   9.0  7.0    0.0    0.0   (9.0, 7.0)   \n",
       "58       58     58   9.0  8.0  10.0  7.0   -1.0    1.0   (9.0, 8.0)   \n",
       "59       59     59  10.0  4.0  11.0  3.0   -1.0    1.0  (10.0, 4.0)   \n",
       "\n",
       "       obttuple  xsqr  ysqr  distance  distancefinalerror  \n",
       "55   (6.0, 8.0)   1.0   1.0       2.0            1.414214  \n",
       "56  (10.0, 4.0)   1.0  16.0      17.0            4.123106  \n",
       "57   (9.0, 7.0)   0.0   0.0       0.0            0.000000  \n",
       "58  (10.0, 7.0)   1.0   1.0       2.0            1.414214  \n",
       "59  (11.0, 3.0)   1.0   1.0       2.0            1.414214  "
      ]
     },
     "execution_count": 258,
     "metadata": {},
     "output_type": "execute_result"
    }
   ],
   "source": [
    "ygroup2.tail()"
   ]
  },
  {
   "cell_type": "code",
   "execution_count": 282,
   "metadata": {},
   "outputs": [
    {
     "data": {
      "text/plain": [
       "<matplotlib.legend.Legend at 0x7f63531b71d0>"
      ]
     },
     "execution_count": 282,
     "metadata": {},
     "output_type": "execute_result"
    },
    {
     "data": {
      "image/png": "[encoded data removed]",
      "text/plain": [
       "<Figure size 1440x720 with 1 Axes>"
      ]
     },
     "metadata": {
      "needs_background": "light"
     },
     "output_type": "display_data"
    }
   ],
   "source": [
    "plt.figure(figsize=(20,10))\n",
    "plt.title('Predicted vs Actual locations KNN')\n",
    "for i, row in ygroup2.iterrows():\n",
    "    x1, x2 = ygroup2.loc[i,'0_x'], ygroup2.loc[i,'0_y']\n",
    "    y1, y2 = ygroup2.loc[i,'1_x'], ygroup2.loc[i,'1_y']\n",
    "    plt.plot([x1,x2], [y1,y2],'k-')\n",
    "#plt.scatter(ygroup2['0_x'], ygroup2['1_x'], c = 'blue', label = 'Actual')\n",
    "#plt.scatter(ygroup2['0_y'], ygroup2['1_y'], c = 'red', label = 'Predicted')\n",
    "p1 = plt.scatter(ygroup2['0_x'], ygroup2['1_x'], c = 'blue', label = 'Actual')\n",
    "p2 = plt.scatter(ygroup2['0_y'], ygroup2['1_y'], c = 'red', label = 'Predicted')\n",
    "plt.legend((p1, p2), ('Actual', 'Predicted'))\n",
    "\n"
   ]
  },
  {
   "cell_type": "markdown",
   "metadata": {
    "colab_type": "text",
    "id": "fi35yamMtVOm"
   },
   "source": [
    "#### Model 2: Random Forest Classification"
   ]
  },
  {
   "cell_type": "code",
   "execution_count": 262,
   "metadata": {
    "colab": {
     "base_uri": "https://localhost:8080/",
     "height": 82
    },
    "colab_type": "code",
    "id": "n9vHxo7itYVh",
    "outputId": "cae198ac-c8bd-4759-a9b0-c0ff9613ae3d"
   },
   "outputs": [
    {
     "name": "stdout",
     "output_type": "stream",
     "text": [
      "Fitting 2 folds for each of 6 candidates, totalling 12 fits\n"
     ]
    },
    {
     "name": "stderr",
     "output_type": "stream",
     "text": [
      "[Parallel(n_jobs=-1)]: Using backend LokyBackend with 12 concurrent workers.\n",
      "[Parallel(n_jobs=-1)]: Done   2 out of  12 | elapsed:    1.9s remaining:    9.6s\n",
      "[Parallel(n_jobs=-1)]: Done  12 out of  12 | elapsed:    3.8s finished\n"
     ]
    }
   ],
   "source": [
    "param_grid = [\n",
    "    {\n",
    "         'n_estimators': [200, 500], \n",
    "         'max_depth': [20,30,35],\n",
    "         'random_state':[101]\n",
    "     }\n",
    "]\n",
    "\n",
    "clf_RF = RandomForestClassifier()\n",
    "grid_search_RF = GridSearchCV(clf_RF, param_grid=param_grid, cv=cv,n_jobs=-1, verbose=1, scoring='accuracy' )\n",
    "\n",
    "RandomForest_model1 = grid_search_RF.fit(X, Y)\n",
    "\n",
    "y_RF_score1 = RandomForest_model1.predict(X3)\n"
   ]
  },
  {
   "cell_type": "code",
   "execution_count": 263,
   "metadata": {},
   "outputs": [],
   "source": [
    "yrfscore = pd.DataFrame(y_RF_score1)\n",
    "yrfscore=yrfscore[0].str.split(\"-\", n = 1, expand = True)"
   ]
  },
  {
   "cell_type": "markdown",
   "metadata": {
    "colab_type": "text",
    "id": "0HtPQHbEqz1P"
   },
   "source": [
    "In model 2, we ran a Random Forest Classification procedure to classify liquor types. You can learn more in the documentation below. \n",
    "\n",
    "https://stackabuse.com/random-forest-algorithm-with-python-and-scikit-learn/\n",
    "\n",
    "Like the KNN model before, we decided to run a grid search procedure as well to help us find the optimal hyperparameters to tune to. "
   ]
  },
  {
   "cell_type": "code",
   "execution_count": 264,
   "metadata": {
    "colab": {
     "base_uri": "https://localhost:8080/",
     "height": 147
    },
    "colab_type": "code",
    "id": "Uc_OTys6trdf",
    "outputId": "1345806c-1c8e-484e-b5ad-62c7ad2be656"
   },
   "outputs": [
    {
     "data": {
      "text/plain": [
       "RandomForestClassifier(bootstrap=True, class_weight=None, criterion='gini',\n",
       "                       max_depth=30, max_features='auto', max_leaf_nodes=None,\n",
       "                       min_impurity_decrease=0.0, min_impurity_split=None,\n",
       "                       min_samples_leaf=1, min_samples_split=2,\n",
       "                       min_weight_fraction_leaf=0.0, n_estimators=500,\n",
       "                       n_jobs=None, oob_score=False, random_state=101,\n",
       "                       verbose=0, warm_start=False)"
      ]
     },
     "execution_count": 264,
     "metadata": {},
     "output_type": "execute_result"
    }
   ],
   "source": [
    "classifierEstimaterRF1 = RandomForest_model1.best_estimator_\n",
    "classifierEstimaterRF1"
   ]
  },
  {
   "cell_type": "markdown",
   "metadata": {
    "colab_type": "text",
    "id": "x5xlEV0NrPmg"
   },
   "source": [
    "After running our Random Forest procedure, we can see the grid search selected, a max depth of 20, a number of estimators split of 500 and no warm start with our model. "
   ]
  },
  {
   "cell_type": "code",
   "execution_count": 265,
   "metadata": {},
   "outputs": [
    {
     "data": {
      "text/html": [
       "<div>\n",
       "<style scoped>\n",
       "    .dataframe tbody tr th:only-of-type {\n",
       "        vertical-align: middle;\n",
       "    }\n",
       "\n",
       "    .dataframe tbody tr th {\n",
       "        vertical-align: top;\n",
       "    }\n",
       "\n",
       "    .dataframe thead th {\n",
       "        text-align: right;\n",
       "    }\n",
       "</style>\n",
       "<table border=\"1\" class=\"dataframe\">\n",
       "  <thead>\n",
       "    <tr style=\"text-align: right;\">\n",
       "      <th></th>\n",
       "      <th>level_0</th>\n",
       "      <th>index</th>\n",
       "      <th>0_x</th>\n",
       "      <th>1_x</th>\n",
       "      <th>0_y</th>\n",
       "      <th>1_y</th>\n",
       "      <th>obatuple</th>\n",
       "      <th>obttuple</th>\n",
       "      <th>xdist</th>\n",
       "      <th>ydist</th>\n",
       "      <th>xsqr</th>\n",
       "      <th>ysqr</th>\n",
       "      <th>distance</th>\n",
       "      <th>distancefinalerror</th>\n",
       "    </tr>\n",
       "  </thead>\n",
       "  <tbody>\n",
       "    <tr>\n",
       "      <td>0</td>\n",
       "      <td>0</td>\n",
       "      <td>0</td>\n",
       "      <td>0.0</td>\n",
       "      <td>0.0</td>\n",
       "      <td>0.0</td>\n",
       "      <td>4.0</td>\n",
       "      <td>(0.0, 0.0)</td>\n",
       "      <td>(0.0, 4.0)</td>\n",
       "      <td>0.0</td>\n",
       "      <td>-4.0</td>\n",
       "      <td>0.0</td>\n",
       "      <td>16.0</td>\n",
       "      <td>16.0</td>\n",
       "      <td>4.000000</td>\n",
       "    </tr>\n",
       "    <tr>\n",
       "      <td>1</td>\n",
       "      <td>1</td>\n",
       "      <td>1</td>\n",
       "      <td>0.0</td>\n",
       "      <td>9.0</td>\n",
       "      <td>0.0</td>\n",
       "      <td>13.0</td>\n",
       "      <td>(0.0, 9.0)</td>\n",
       "      <td>(0.0, 13.0)</td>\n",
       "      <td>0.0</td>\n",
       "      <td>-4.0</td>\n",
       "      <td>0.0</td>\n",
       "      <td>16.0</td>\n",
       "      <td>16.0</td>\n",
       "      <td>4.000000</td>\n",
       "    </tr>\n",
       "    <tr>\n",
       "      <td>2</td>\n",
       "      <td>2</td>\n",
       "      <td>2</td>\n",
       "      <td>0.0</td>\n",
       "      <td>11.0</td>\n",
       "      <td>1.0</td>\n",
       "      <td>12.0</td>\n",
       "      <td>(0.0, 11.0)</td>\n",
       "      <td>(1.0, 12.0)</td>\n",
       "      <td>-1.0</td>\n",
       "      <td>-1.0</td>\n",
       "      <td>1.0</td>\n",
       "      <td>1.0</td>\n",
       "      <td>2.0</td>\n",
       "      <td>1.414214</td>\n",
       "    </tr>\n",
       "    <tr>\n",
       "      <td>3</td>\n",
       "      <td>3</td>\n",
       "      <td>3</td>\n",
       "      <td>0.0</td>\n",
       "      <td>8.0</td>\n",
       "      <td>1.0</td>\n",
       "      <td>10.0</td>\n",
       "      <td>(0.0, 8.0)</td>\n",
       "      <td>(1.0, 10.0)</td>\n",
       "      <td>-1.0</td>\n",
       "      <td>-2.0</td>\n",
       "      <td>1.0</td>\n",
       "      <td>4.0</td>\n",
       "      <td>5.0</td>\n",
       "      <td>2.236068</td>\n",
       "    </tr>\n",
       "    <tr>\n",
       "      <td>4</td>\n",
       "      <td>4</td>\n",
       "      <td>4</td>\n",
       "      <td>1.0</td>\n",
       "      <td>11.0</td>\n",
       "      <td>0.0</td>\n",
       "      <td>9.0</td>\n",
       "      <td>(1.0, 11.0)</td>\n",
       "      <td>(0.0, 9.0)</td>\n",
       "      <td>1.0</td>\n",
       "      <td>2.0</td>\n",
       "      <td>1.0</td>\n",
       "      <td>4.0</td>\n",
       "      <td>5.0</td>\n",
       "      <td>2.236068</td>\n",
       "    </tr>\n",
       "  </tbody>\n",
       "</table>\n",
       "</div>"
      ],
      "text/plain": [
       "   level_0  index  0_x   1_x  0_y   1_y     obatuple     obttuple  xdist  \\\n",
       "0        0      0  0.0   0.0  0.0   4.0   (0.0, 0.0)   (0.0, 4.0)    0.0   \n",
       "1        1      1  0.0   9.0  0.0  13.0   (0.0, 9.0)  (0.0, 13.0)    0.0   \n",
       "2        2      2  0.0  11.0  1.0  12.0  (0.0, 11.0)  (1.0, 12.0)   -1.0   \n",
       "3        3      3  0.0   8.0  1.0  10.0   (0.0, 8.0)  (1.0, 10.0)   -1.0   \n",
       "4        4      4  1.0  11.0  0.0   9.0  (1.0, 11.0)   (0.0, 9.0)    1.0   \n",
       "\n",
       "   ydist  xsqr  ysqr  distance  distancefinalerror  \n",
       "0   -4.0   0.0  16.0      16.0            4.000000  \n",
       "1   -4.0   0.0  16.0      16.0            4.000000  \n",
       "2   -1.0   1.0   1.0       2.0            1.414214  \n",
       "3   -2.0   1.0   4.0       5.0            2.236068  \n",
       "4    2.0   1.0   4.0       5.0            2.236068  "
      ]
     },
     "execution_count": 265,
     "metadata": {},
     "output_type": "execute_result"
    }
   ],
   "source": [
    "ygroup3 = y1_test.reset_index()\n",
    "ygroup3 = pd.merge(ygroup3, yrfscore, left_index=True, right_index=True)\n",
    "ygroup3['obatuple'] = ygroup3[['0_x', '0_y']].apply(tuple, axis=1)\n",
    "ygroup3['obttuple'] = ygroup3[['1_x', '1_y']].apply(tuple, axis=1)\n",
    "ygroup3['0_x'] = ygroup3['0_x'].astype(float) \n",
    "ygroup3['1_x'] = ygroup3['1_x'].astype(float) \n",
    "ygroup3['0_y'] = ygroup3['0_y'].astype(float) \n",
    "ygroup3['1_y'] = ygroup3['1_y'].astype(float) \n",
    "ygroup3['xdist'] = ygroup3['0_x'] - ygroup3['0_y']\n",
    "ygroup3['ydist'] = ygroup3['1_x'] - ygroup3['1_y']\n",
    "ygroup3['xsqr'] = (ygroup3['0_x'] - ygroup3['0_y'])**2\n",
    "ygroup3['ysqr'] = (ygroup3['1_x'] - ygroup3['1_y'])**2\n",
    "ygroup3['distance'] = ygroup3['xsqr'] + ygroup3['ysqr']\n",
    "ygroup3['distancefinalerror'] = np.sqrt(ygroup3['distance'])\n",
    "\n",
    "ygroup3['obatuple'] = ygroup3[['0_x', '1_x']].apply(tuple, axis=1)\n",
    "ygroup3['obttuple'] = ygroup3[['0_y', '1_y']].apply(tuple, axis=1) \n",
    "ygroup3.head()"
   ]
  },
  {
   "cell_type": "code",
   "execution_count": 266,
   "metadata": {},
   "outputs": [
    {
     "data": {
      "text/plain": [
       "2.442435707253881"
      ]
     },
     "execution_count": 266,
     "metadata": {},
     "output_type": "execute_result"
    }
   ],
   "source": [
    "ygroup3['distancefinalerror'].mean()"
   ]
  },
  {
   "cell_type": "code",
   "execution_count": 267,
   "metadata": {},
   "outputs": [
    {
     "data": {
      "text/plain": [
       "146.54614243523287"
      ]
     },
     "execution_count": 267,
     "metadata": {},
     "output_type": "execute_result"
    }
   ],
   "source": [
    "ygroup3['distancefinalerror'].sum()"
   ]
  },
  {
   "cell_type": "code",
   "execution_count": 268,
   "metadata": {},
   "outputs": [
    {
     "data": {
      "text/plain": [
       "Text(0.5, 1.0, 'Actual and predicted values')"
      ]
     },
     "execution_count": 268,
     "metadata": {},
     "output_type": "execute_result"
    },
    {
     "data": {
      "image/png": "[encoded data removed]",
      "text/plain": [
       "<Figure size 432x288 with 1 Axes>"
      ]
     },
     "metadata": {
      "needs_background": "light"
     },
     "output_type": "display_data"
    }
   ],
   "source": [
    "plt.figure(figsize=(20,10))\n",
    "from matplotlib import pyplot as plt\n",
    "import numpy as np\n",
    "%matplotlib inline\n",
    "plt.scatter(ygroup3['0_x'], ygroup3['1_x'], c = 'blue', label = 'Actual')\n",
    "plt.scatter(ygroup3['0_y'], ygroup3['1_y'], c = 'red', label = 'Predicted')\n",
    "\n",
    "\n",
    "plt.title('Actual and predicted values')\n"
   ]
  },
  {
   "cell_type": "code",
   "execution_count": 280,
   "metadata": {},
   "outputs": [
    {
     "data": {
      "text/plain": [
       "<matplotlib.legend.Legend at 0x7f63532f7d10>"
      ]
     },
     "execution_count": 280,
     "metadata": {},
     "output_type": "execute_result"
    },
    {
     "data": {
      "image/png": "[encoded data removed]",
      "text/plain": [
       "<Figure size 1440x720 with 1 Axes>"
      ]
     },
     "metadata": {
      "needs_background": "light"
     },
     "output_type": "display_data"
    }
   ],
   "source": [
    "plt.figure(figsize=(20,10))\n",
    "plt.title('Predicted vs Actual locations Random Forest')\n",
    "for i, row in ygroup3.iterrows():\n",
    "    x1, x2 = ygroup3.loc[i,'0_x'], ygroup3.loc[i,'0_y']\n",
    "    y1, y2 = ygroup3.loc[i,'1_x'], ygroup3.loc[i,'1_y']\n",
    "    plt.plot([x1,x2], [y1,y2],'k-')\n",
    "p1 = plt.scatter(ygroup3['0_x'], ygroup3['1_x'], c = 'blue', label = 'Actual')\n",
    "p2 = plt.scatter(ygroup3['0_y'], ygroup3['1_y'], c = 'red', label = 'Predicted')\n",
    "plt.legend((p1, p2), ('Actual', 'Predicted'))"
   ]
  },
  {
   "cell_type": "code",
   "execution_count": null,
   "metadata": {},
   "outputs": [],
   "source": []
  }
 ],
 "metadata": {
  "colab": {
   "collapsed_sections": [],
   "name": "Copy of Lab2_DC.ipynb",
   "provenance": [],
   "toc_visible": true
  },
  "kernelspec": {
   "display_name": "Python 3",
   "language": "python",
   "name": "python3"
  },
  "language_info": {
   "codemirror_mode": {
    "name": "ipython",
    "version": 3
   },
   "file_extension": ".py",
   "mimetype": "text/x-python",
   "name": "python",
   "nbconvert_exporter": "python",
   "pygments_lexer": "ipython3",
   "version": "3.7.4"
  }
 },
 "nbformat": 4,
 "nbformat_minor": 1
}
