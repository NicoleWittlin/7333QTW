{
 "cells": [
  {
   "cell_type": "markdown",
   "metadata": {
    "colab_type": "text",
    "id": "-yNWpXMe4Jfa"
   },
   "source": [
    "## MSDS 7333 Project 1 -- Predicting Location via Indoor Positioning Systems\n",
    "\n",
    "#### Stephen Hayden, Joe Schueder, Nicole Witten, Kevin Mendonsa\n",
    "\n"
   ]
  },
  {
   "cell_type": "markdown",
   "metadata": {
    "colab_type": "text",
    "id": "RZMu95a14g15"
   },
   "source": [
    "### Introduction\n",
    "\n"
   ]
  },
  {
   "cell_type": "code",
   "execution_count": 17,
   "metadata": {
    "colab": {
     "base_uri": "https://localhost:8080/",
     "height": 1000
    },
    "colab_type": "code",
    "id": "v9WmuBys4fB5",
    "outputId": "c64365b7-e821-4493-f44a-48c4f931d5aa"
   },
   "outputs": [],
   "source": [
    "import pandas as pd\n",
    "\n",
    "url_dataset = 'https://raw.githubusercontent.com/jjschueder/7331DataMiningNotebooks/master/Live%20Assignments/df1hotmerge2.csv'\n",
    "onlineSummary = pd.read_csv(\"C:/Users/jjschued/Documents/SMU/7333 QTW/onlineSummary.csv\")\n",
    "offlineSummary = pd.read_csv(\"C:/Users/jjschued/Documents/SMU/7333 QTW/trainexport.csv\")\n"
   ]
  },
  {
   "cell_type": "code",
   "execution_count": 18,
   "metadata": {},
   "outputs": [
    {
     "name": "stdout",
     "output_type": "stream",
     "text": [
      "<class 'pandas.core.frame.DataFrame'>\n",
      "RangeIndex: 1162 entries, 0 to 1161\n",
      "Data columns (total 11 columns):\n",
      "Unnamed: 0           1162 non-null object\n",
      "posXY                1162 non-null object\n",
      "posX                 1162 non-null int64\n",
      "posY                 1162 non-null int64\n",
      "00:0f:a3:39:e1:c0    1162 non-null float64\n",
      "00:14:bf:3b:c7:c6    1162 non-null float64\n",
      "00:14:bf:b1:97:81    1162 non-null float64\n",
      "00:14:bf:b1:97:8a    1162 non-null float64\n",
      "00:14:bf:b1:97:8d    1162 non-null float64\n",
      "00:14:bf:b1:97:90    1162 non-null float64\n",
      "angle                1162 non-null int64\n",
      "dtypes: float64(6), int64(3), object(2)\n",
      "memory usage: 100.0+ KB\n"
     ]
    }
   ],
   "source": [
    "offlineSummary.info()"
   ]
  },
  {
   "cell_type": "code",
   "execution_count": 19,
   "metadata": {},
   "outputs": [
    {
     "name": "stdout",
     "output_type": "stream",
     "text": [
      "<class 'pandas.core.frame.DataFrame'>\n",
      "RangeIndex: 60 entries, 0 to 59\n",
      "Data columns (total 12 columns):\n",
      "Unnamed: 0           60 non-null object\n",
      "posXY                60 non-null object\n",
      "posX                 60 non-null float64\n",
      "posY                 60 non-null float64\n",
      "orientation          60 non-null float64\n",
      "angle                60 non-null int64\n",
      "00:0f:a3:39:e1:c0    60 non-null float64\n",
      "00:14:bf:3b:c7:c6    60 non-null float64\n",
      "00:14:bf:b1:97:81    60 non-null float64\n",
      "00:14:bf:b1:97:8a    60 non-null float64\n",
      "00:14:bf:b1:97:8d    60 non-null float64\n",
      "00:14:bf:b1:97:90    60 non-null float64\n",
      "dtypes: float64(9), int64(1), object(2)\n",
      "memory usage: 5.8+ KB\n"
     ]
    }
   ],
   "source": [
    "onlineSummary.info()"
   ]
  },
  {
   "cell_type": "markdown",
   "metadata": {
    "colab_type": "text",
    "id": "u55a530V-H5n"
   },
   "source": [
    "Here you can see that we have 40,000 non null objects one-hot encoded to include month, year, store name and alcohol type. For our previous classification analysis, we dropped the liquor category and all the liquor types and just used the binary classification for Whiskey and Non-Whiskey. With 1 representing whether the liquor type was whiskey and 0 representing a non whiskey. "
   ]
  },
  {
   "cell_type": "code",
   "execution_count": 20,
   "metadata": {
    "colab": {
     "base_uri": "https://localhost:8080/",
     "height": 243
    },
    "colab_type": "code",
    "id": "ZSxAGB4B6nLq",
    "outputId": "cab7e950-36dd-441b-c589-35b5244750e1"
   },
   "outputs": [
    {
     "name": "stdout",
     "output_type": "stream",
     "text": [
      "(60, 12)\n"
     ]
    },
    {
     "data": {
      "text/html": [
       "<div>\n",
       "<style scoped>\n",
       "    .dataframe tbody tr th:only-of-type {\n",
       "        vertical-align: middle;\n",
       "    }\n",
       "\n",
       "    .dataframe tbody tr th {\n",
       "        vertical-align: top;\n",
       "    }\n",
       "\n",
       "    .dataframe thead th {\n",
       "        text-align: right;\n",
       "    }\n",
       "</style>\n",
       "<table border=\"1\" class=\"dataframe\">\n",
       "  <thead>\n",
       "    <tr style=\"text-align: right;\">\n",
       "      <th></th>\n",
       "      <th>Unnamed: 0</th>\n",
       "      <th>posXY</th>\n",
       "      <th>posX</th>\n",
       "      <th>posY</th>\n",
       "      <th>orientation</th>\n",
       "      <th>angle</th>\n",
       "      <th>00:0f:a3:39:e1:c0</th>\n",
       "      <th>00:14:bf:3b:c7:c6</th>\n",
       "      <th>00:14:bf:b1:97:81</th>\n",
       "      <th>00:14:bf:b1:97:8a</th>\n",
       "      <th>00:14:bf:b1:97:8d</th>\n",
       "      <th>00:14:bf:b1:97:90</th>\n",
       "    </tr>\n",
       "  </thead>\n",
       "  <tbody>\n",
       "    <tr>\n",
       "      <td>0</td>\n",
       "      <td>0-0.05</td>\n",
       "      <td>0-0.05</td>\n",
       "      <td>0.00</td>\n",
       "      <td>0.05</td>\n",
       "      <td>130.5</td>\n",
       "      <td>135</td>\n",
       "      <td>-52.227273</td>\n",
       "      <td>-62.948980</td>\n",
       "      <td>-61.813953</td>\n",
       "      <td>-40.068966</td>\n",
       "      <td>-63.043011</td>\n",
       "      <td>-55.233333</td>\n",
       "    </tr>\n",
       "    <tr>\n",
       "      <td>1</td>\n",
       "      <td>0.15-9.42</td>\n",
       "      <td>0.15-9.42</td>\n",
       "      <td>0.15</td>\n",
       "      <td>9.42</td>\n",
       "      <td>112.3</td>\n",
       "      <td>90</td>\n",
       "      <td>-55.275229</td>\n",
       "      <td>-73.961905</td>\n",
       "      <td>-72.701031</td>\n",
       "      <td>-47.813084</td>\n",
       "      <td>-69.454545</td>\n",
       "      <td>-46.880000</td>\n",
       "    </tr>\n",
       "    <tr>\n",
       "      <td>2</td>\n",
       "      <td>0.31-11.09</td>\n",
       "      <td>0.31-11.09</td>\n",
       "      <td>0.31</td>\n",
       "      <td>11.09</td>\n",
       "      <td>230.1</td>\n",
       "      <td>225</td>\n",
       "      <td>-51.709091</td>\n",
       "      <td>-70.082474</td>\n",
       "      <td>-70.098901</td>\n",
       "      <td>-54.088235</td>\n",
       "      <td>-69.131579</td>\n",
       "      <td>-53.886598</td>\n",
       "    </tr>\n",
       "    <tr>\n",
       "      <td>3</td>\n",
       "      <td>0.47-8.2</td>\n",
       "      <td>0.47-8.2</td>\n",
       "      <td>0.47</td>\n",
       "      <td>8.20</td>\n",
       "      <td>5.8</td>\n",
       "      <td>0</td>\n",
       "      <td>-49.500000</td>\n",
       "      <td>-64.258065</td>\n",
       "      <td>-72.597701</td>\n",
       "      <td>-45.652893</td>\n",
       "      <td>-60.797468</td>\n",
       "      <td>-49.580000</td>\n",
       "    </tr>\n",
       "    <tr>\n",
       "      <td>4</td>\n",
       "      <td>0.78-10.94</td>\n",
       "      <td>0.78-10.94</td>\n",
       "      <td>0.78</td>\n",
       "      <td>10.94</td>\n",
       "      <td>348.3</td>\n",
       "      <td>0</td>\n",
       "      <td>-53.263636</td>\n",
       "      <td>-66.960000</td>\n",
       "      <td>-66.809524</td>\n",
       "      <td>-48.413793</td>\n",
       "      <td>-65.000000</td>\n",
       "      <td>-54.846939</td>\n",
       "    </tr>\n",
       "  </tbody>\n",
       "</table>\n",
       "</div>"
      ],
      "text/plain": [
       "   Unnamed: 0       posXY  posX   posY  orientation  angle  00:0f:a3:39:e1:c0  \\\n",
       "0      0-0.05      0-0.05  0.00   0.05        130.5    135         -52.227273   \n",
       "1   0.15-9.42   0.15-9.42  0.15   9.42        112.3     90         -55.275229   \n",
       "2  0.31-11.09  0.31-11.09  0.31  11.09        230.1    225         -51.709091   \n",
       "3    0.47-8.2    0.47-8.2  0.47   8.20          5.8      0         -49.500000   \n",
       "4  0.78-10.94  0.78-10.94  0.78  10.94        348.3      0         -53.263636   \n",
       "\n",
       "   00:14:bf:3b:c7:c6  00:14:bf:b1:97:81  00:14:bf:b1:97:8a  00:14:bf:b1:97:8d  \\\n",
       "0         -62.948980         -61.813953         -40.068966         -63.043011   \n",
       "1         -73.961905         -72.701031         -47.813084         -69.454545   \n",
       "2         -70.082474         -70.098901         -54.088235         -69.131579   \n",
       "3         -64.258065         -72.597701         -45.652893         -60.797468   \n",
       "4         -66.960000         -66.809524         -48.413793         -65.000000   \n",
       "\n",
       "   00:14:bf:b1:97:90  \n",
       "0         -55.233333  \n",
       "1         -46.880000  \n",
       "2         -53.886598  \n",
       "3         -49.580000  \n",
       "4         -54.846939  "
      ]
     },
     "execution_count": 20,
     "metadata": {},
     "output_type": "execute_result"
    }
   ],
   "source": [
    "# Import all necessary libraries we will be using in our dataset\n",
    "\n",
    "import pandas as pd\n",
    "import numpy as np\n",
    "import matplotlib\n",
    "import matplotlib.pyplot as plt\n",
    "import seaborn as sns\n",
    "import math\n",
    "import re\n",
    "import sklearn\n",
    "import statistics\n",
    "import random\n",
    "\n",
    "from sklearn.feature_selection import SelectKBest, chi2, SelectPercentile, RFE, SelectFromModel\n",
    "\n",
    "from sklearn.preprocessing import StandardScaler, Binarizer\n",
    "\n",
    "from sklearn.linear_model import LogisticRegression, SGDClassifier\n",
    "from sklearn.svm import SVC, LinearSVC\n",
    "\n",
    "from sklearn.metrics import accuracy_score, confusion_matrix, roc_auc_score, auc, roc_curve\n",
    "from IPython.display import display, HTML\n",
    "\n",
    "from sklearn.pipeline import make_pipeline, Pipeline\n",
    "from sklearn.model_selection import train_test_split, GridSearchCV, KFold, TimeSeriesSplit, StratifiedShuffleSplit\n",
    "\n",
    "from sklearn.naive_bayes import MultinomialNB\n",
    "\n",
    "from sklearn.ensemble import GradientBoostingClassifier,GradientBoostingRegressor,AdaBoostClassifier,RandomForestClassifier, BaggingClassifier\n",
    "from sklearn.tree import DecisionTreeClassifier\n",
    "from sklearn.linear_model import LogisticRegression\n",
    "from sklearn.neighbors import KNeighborsClassifier\n",
    "\n",
    "%matplotlib inline\n",
    "\n",
    "matplotlib.style.use('ggplot')\n",
    "\n",
    "import warnings\n",
    "warnings.filterwarnings('ignore')\n",
    "print(onlineSummary.shape)\n",
    "onlineSummary.head()\n"
   ]
  },
  {
   "cell_type": "markdown",
   "metadata": {
    "colab_type": "text",
    "id": "vlmmpWgzQfQC"
   },
   "source": [
    "## Modeling and Evaluation 1\n",
    "\n",
    "Within this notebook, we have built models to evaluate classification problems.  This is a multi-classification problem in which our goal is to correctly classify  A detailed description of the metrics we will use to evaluate the models are noted below.\n",
    "\n",
    "An ROC curve, also known as a Reciever Operation Characteristic Curve is a plot that calculates and can be used to compare the classifiers we will use in our modeling along with the true positive rate (TPR) and false positive rate (FPR) they convey. From a topline level, you can use the Area Under the Curve (AUC) to help detirmine which can better pair an observation with the correct liquor cateogry. An AUC score of 1.0 denotes a perfect classifier and an area of 0.5 represents a model is no better than a random guess.\n",
    "\n",
    "In addition to the ROC-AUC value we will use to evaluate classifiers, we will be using other evaluators as well. \n",
    "\n",
    "**Accuracy** - Accuracy is the total number of correct predictions over the total number of predictions made. Accuracy will be plotted in our AUC curve and, while not perfect, is a good singlular measure to evaluate a model. Just be careful that we aren't overclassifying unbalalnced variables. \n",
    "\n",
    "Accuracy = (TP + TN)/(TP + FP + FN + TN)\n",
    "\n",
    "**Precision** - Precision is the Proportions of true positives over the total number of positive outcomes whether accurately predicted or inaccurately predicted. Precision is useful to us because it will help us better understand which model is accurately picking correct classes and not resting on selecting incorrect classes. \n",
    "\n",
    "Precision = (TP) / (TP + FP)\n",
    "\n",
    "**Recall** - Also known as sensitivity, recall is the proportion of positive outcomes that were correctly classified by our model. Essentially it tells us how many values we incorrectly predicted while the precision can tell us more about what we correctly classified. Recall is good as a pair with precision, as it will help us tell if our model is overfit or selecting a single class and not training itself. \n",
    "\n",
    "Recall/Sensitivity = (TP) / (TP + FN)\n",
    "\n",
    "**F1 Score** - Another measure of accuracy that accounts for the true negatives and false positives. \n",
    "\n",
    "F1 score = 2(True Positive Rate * True Negatives)/(True Positives + True Negatives)\n",
    "\n",
    "The aim of our modeling is to focus on maximizing our precision, recall, and accuracy scores in our models\n",
    "\n"
   ]
  },
  {
   "cell_type": "code",
   "execution_count": 42,
   "metadata": {
    "colab": {},
    "colab_type": "code",
    "id": "mdb5L4AI6X0Q"
   },
   "outputs": [],
   "source": [
    "#Source: https://github.com/jakemdrew/EducationDataNC/blob/master/2017/Models/2017ComparingSegregatedMiddleSchoolCampuses.ipynb\n",
    "from sklearn.model_selection import cross_validate\n",
    "from sklearn.model_selection import StratifiedKFold\n",
    "cv = StratifiedKFold(n_splits=10)\n",
    "\n",
    "\n",
    "def EvaluateClassifierEstimator(classifierEstimator, X, Y2, cv):\n",
    "\n",
    "\n",
    "\n",
    "#Perform cross validation \n",
    "    scores = cross_validate(classifierEstimator, X, Y2,\n",
    "                            scoring=['accuracy', 'precision','recall'], \n",
    "                            cv=cv, return_train_score=True, \n",
    "                            )\n",
    "\n",
    "    Accavg = scores['test_accuracy'].mean()\n",
    "    Preavg = scores['test_precision'].mean()\n",
    "    Rreavg = scores['test_recall'].mean()\n",
    "\n",
    "    print_str = \"The average accuracy for all cv folds is: \\t\\t\\t {Accavg:.5}\"\n",
    "    print_str2 = \"The average precision for all cv folds is: \\t\\t\\t {Preavg:.5}\"\n",
    "    print_str3 = \"The average Recall for all cv folds is: \\t\\t\\t {Rreavg:.5}\"\n",
    "\n",
    "    print(print_str.format(Accavg=Accavg))\n",
    "    print(print_str2.format(Preavg=Preavg))\n",
    "    print(print_str3.format(Rreavg=Rreavg))\n",
    "    print('*********************************************************')\n",
    "\n",
    "    print('Cross Validation Fold Mean Error Scores')\n",
    "    scoresResults = pd.DataFrame()\n",
    "    scoresResults['Accuracy'] = scores['test_accuracy']\n",
    "    scoresResults['Precision'] = scores['test_precision']\n",
    "    scoresResults['Recall'] = scores['test_recall']\n",
    "    print(scoresResults)\n",
    "    return scoresResults\n",
    "\n",
    "def EvaluateClassifierEstimator2(classifierEstimator, X, Y2, cv):\n",
    "    \n",
    "  #Perform cross validation \n",
    "  from sklearn.model_selection import cross_val_predict\n",
    "  predictions = cross_val_predict(classifierEstimator, \n",
    "                                  X, Y2, cv=cv)\n",
    "    \n",
    "#model evaluation \n",
    "  from sklearn.metrics import classification_report, confusion_matrix, accuracy_score\n",
    "\n",
    "#pass true test set values and predictions to classification_report\n",
    "  classReport = classification_report(Y2,predictions)\n",
    "  confMat = confusion_matrix(Y2,predictions)\n",
    "  acc = accuracy_score(Y2,predictions)\n",
    "    \n",
    "  print(classReport)\n",
    "  print(confMat)\n",
    "  print(acc)\n",
    "from imblearn.over_sampling import SMOTE    \n",
    "def EvaluateClassifierEstimator3(classifierEstimator, X, Y2, cv):\n",
    "  from sklearn import metrics as mt\n",
    "  for fold, (train_index, test_index) in enumerate(cv.split(X,Y2)):\n",
    "     X_train = X[train_index]    \n",
    "     y_train = Y2[train_index]  # Based on your code, you might need a ravel call here, but I would look into how you're generating your y\n",
    "     X_test = X[test_index]\n",
    "     y_test = Y2[test_index]  # See comment on ravel and  y_train\n",
    "     sm = SMOTE(random_state=101)\n",
    "     X_train_oversampled, y_train_oversampled = sm.fit_sample(X_train, y_train)\n",
    "     classifierEstimator.fit(X_train, y_train) \n",
    "     y_pred = classifierEstimator.predict(X_test)\n",
    "     acc = mt.accuracy_score(y_test,y_pred)\n",
    "     conf = mt.confusion_matrix(y_test,y_pred)\n",
    "     print(\"====Iteration\",fold,\" ====\")\n",
    "     print(\"accuracy\", acc )\n",
    "     print(\"confusion matrix\\n\",conf)\n"
   ]
  },
  {
   "cell_type": "markdown",
   "metadata": {
    "colab_type": "text",
    "id": "3TWp5arOWqMM"
   },
   "source": [
    "## Modeling and Evaluation 2\n",
    "Choose the method you will use for dividing your data into training and testing splits (i.e., are you using Stratified 10-fold cross validation? Why?). Explain why your chosen method is appropriate or use more than one method as appropriate. For example, if you are using time series data then you should be using continuous training and testing sets across time.\n",
    "\n",
    "For our first classification problem, we identified an unbalanced distribution of alcohol categories within our dataset.  For example, Vodka is 38% of sales while Rum and Whiskey is 24% and 10% respectively.  To address this concern, we used a synthetic minority oversampling technique (SMOTE).  The SMOTE technique accounts for the minority classes withn the data by creating new synthetic instances similar to these minorities.  In other words, once SMOTE is used on the data we should have a balanced distribution between the different alcohol categories. \n",
    "\n",
    "Futhermore, to split our test & training data, we used a stratified k-fold cross validation method.  The number of splits used was 10, and our ratio of train vs test size was 80% to 20%.\n",
    "\n",
    "The analysis and work performed regarding the SMOTE and CV method for Classification 1 is noted below. \n",
    "\n",
    "NOTE:  Details regarding the training and test splits for the second classification problem can be found within the Classification 2 (Store Data) section.\n",
    "\n",
    "So we can begin to set a baseline for our accuracy score, let's do a quick look at the value counts and it's percent distribution of our liquor categories, the ones we are looking to classify. "
   ]
  },
  {
   "cell_type": "code",
   "execution_count": 11,
   "metadata": {
    "colab": {
     "base_uri": "https://localhost:8080/",
     "height": 212
    },
    "colab_type": "code",
    "id": "BlP7r4nNQPhY",
    "outputId": "84194b32-87cf-4e1d-9dc6-ef847cd22c8e"
   },
   "outputs": [
    {
     "data": {
      "text/plain": [
       "posXY       posX   posY \n",
       "0-0.05      0.00   0.05     1.666667\n",
       "0.15-9.42   0.15   9.42     1.666667\n",
       "0.31-11.09  0.31   11.09    1.666667\n",
       "0.47-8.2    0.47   8.20     1.666667\n",
       "0.78-10.94  0.78   10.94    1.666667\n",
       "0.93-11.69  0.93   11.69    1.666667\n",
       "1.08-12.19  1.08   12.19    1.666667\n",
       "1.24-3.93   1.24   3.93     1.666667\n",
       "1.39-6.61   1.39   6.61     1.666667\n",
       "1.52-9.32   1.52   9.32     1.666667\n",
       "1.55-0.96   1.55   0.96     1.666667\n",
       "1.58-5.26   1.58   5.26     1.666667\n",
       "1.71-1.81   1.71   1.81     1.666667\n",
       "1.86-8.08   1.86   8.08     1.666667\n",
       "10.23-6.88  10.23  6.88     1.666667\n",
       "10.46-5.8   10.46  5.80     1.666667\n",
       "10.62-3.87  10.62  3.87     1.666667\n",
       "10.99-7.19  10.99  7.19     1.666667\n",
       "11.39-5     11.39  5.00     1.666667\n",
       "11.76-7.76  11.76  7.76     1.666667\n",
       "12.16-5.25  12.16  5.25     1.666667\n",
       "12.18-3.4   12.18  3.40     1.666667\n",
       "12.26-6.72  12.26  6.72     1.666667\n",
       "12.55-7.38  12.55  7.38     1.666667\n",
       "12.95-5.25  12.95  5.25     1.666667\n",
       "14.98-7.55  14.98  7.55     1.666667\n",
       "16.44-7.45  16.44  7.45     1.666667\n",
       "2.02-7.45   2.02   7.45     1.666667\n",
       "2.49-7.6    2.49   7.60     1.666667\n",
       "21.23-5.47  21.23  5.47     1.666667\n",
       "21.3-3.8    21.30  3.80     1.666667\n",
       "21.45-6.62  21.45  6.62     1.666667\n",
       "21.6-7.63   21.60  7.63     1.666667\n",
       "21.98-7.46  21.98  7.46     1.666667\n",
       "22.3-6.36   22.30  6.36     1.666667\n",
       "22.38-3.94  22.38  3.94     1.666667\n",
       "22.76-5.06  22.76  5.06     1.666667\n",
       "23.24-7.5   23.24  7.50     1.666667\n",
       "23.36-3.4   23.36  3.40     1.666667\n",
       "23.53-4.22  23.53  4.22     1.666667\n",
       "23.9-7      23.90  7.00     1.666667\n",
       "24.31-3.89  24.31  3.89     1.666667\n",
       "24.7-7.7    24.70  7.70     1.666667\n",
       "25.23-7.78  25.23  7.78     1.666667\n",
       "25.76-7.34  25.76  7.34     1.666667\n",
       "26.71-7.5   26.71  7.50     1.666667\n",
       "28.12-7.57  28.12  7.57     1.666667\n",
       "29.58-7.93  29.58  7.93     1.666667\n",
       "3.44-7.43   3.44   7.43     1.666667\n",
       "31.06-7.19  31.06  7.19     1.666667\n",
       "31.78-7.62  31.78  7.62     1.666667\n",
       "32.16-7.08  32.16  7.08     1.666667\n",
       "32.54-7.08  32.54  7.08     1.666667\n",
       "4.51-7.63   4.51   7.63     1.666667\n",
       "6-7.88      6.00   7.88     1.666667\n",
       "7.48-7.36   7.48   7.36     1.666667\n",
       "8.56-7.64   8.56   7.64     1.666667\n",
       "9.08-7.24   9.08   7.24     1.666667\n",
       "9.46-7.77   9.46   7.77     1.666667\n",
       "9.86-3.88   9.86   3.88     1.666667\n",
       "Name: posXY, dtype: float64"
      ]
     },
     "execution_count": 11,
     "metadata": {},
     "output_type": "execute_result"
    }
   ],
   "source": [
    "#class percentage split\n",
    "dfgrp = onlineSummary.groupby(['posXY', 'posX', 'posY'])\n",
    "onlineSummary['posXY'].value_counts()\n",
    "dfgrp['posXY'].count() / len(onlineSummary) *100"
   ]
  },
  {
   "cell_type": "code",
   "execution_count": 12,
   "metadata": {
    "colab": {
     "base_uri": "https://localhost:8080/",
     "height": 212
    },
    "colab_type": "code",
    "id": "yU3ttrh3QrDV",
    "outputId": "a3b18f34-19dc-4973-f7d1-2259b0dd770e"
   },
   "outputs": [
    {
     "data": {
      "text/plain": [
       "1.24-3.93     1\n",
       "23.9-7        1\n",
       "9.86-3.88     1\n",
       "12.55-7.38    1\n",
       "0.47-8.2      1\n",
       "3.44-7.43     1\n",
       "21.3-3.8      1\n",
       "11.76-7.76    1\n",
       "2.02-7.45     1\n",
       "25.23-7.78    1\n",
       "16.44-7.45    1\n",
       "9.46-7.77     1\n",
       "1.55-0.96     1\n",
       "28.12-7.57    1\n",
       "11.39-5       1\n",
       "26.71-7.5     1\n",
       "10.62-3.87    1\n",
       "1.08-12.19    1\n",
       "4.51-7.63     1\n",
       "0-0.05        1\n",
       "1.71-1.81     1\n",
       "10.46-5.8     1\n",
       "1.58-5.26     1\n",
       "10.99-7.19    1\n",
       "31.06-7.19    1\n",
       "23.24-7.5     1\n",
       "22.3-6.36     1\n",
       "24.31-3.89    1\n",
       "21.6-7.63     1\n",
       "7.48-7.36     1\n",
       "0.78-10.94    1\n",
       "1.52-9.32     1\n",
       "10.23-6.88    1\n",
       "14.98-7.55    1\n",
       "22.38-3.94    1\n",
       "31.78-7.62    1\n",
       "1.39-6.61     1\n",
       "2.49-7.6      1\n",
       "8.56-7.64     1\n",
       "12.16-5.25    1\n",
       "0.31-11.09    1\n",
       "21.45-6.62    1\n",
       "23.53-4.22    1\n",
       "32.16-7.08    1\n",
       "0.93-11.69    1\n",
       "22.76-5.06    1\n",
       "25.76-7.34    1\n",
       "23.36-3.4     1\n",
       "1.86-8.08     1\n",
       "12.18-3.4     1\n",
       "12.26-6.72    1\n",
       "24.7-7.7      1\n",
       "21.98-7.46    1\n",
       "12.95-5.25    1\n",
       "32.54-7.08    1\n",
       "0.15-9.42     1\n",
       "21.23-5.47    1\n",
       "29.58-7.93    1\n",
       "9.08-7.24     1\n",
       "6-7.88        1\n",
       "Name: posXY, dtype: int64"
      ]
     },
     "execution_count": 12,
     "metadata": {},
     "output_type": "execute_result"
    }
   ],
   "source": [
    "onlineSummary['posXY'].value_counts()"
   ]
  },
  {
   "cell_type": "code",
   "execution_count": 44,
   "metadata": {},
   "outputs": [
    {
     "data": {
      "text/plain": [
       "2-3     7\n",
       "23-8    7\n",
       "26-8    7\n",
       "29-7    7\n",
       "22-7    7\n",
       "       ..\n",
       "15-8    7\n",
       "23-3    7\n",
       "4-7     7\n",
       "2-0     7\n",
       "30-8    7\n",
       "Name: posXY, Length: 166, dtype: int64"
      ]
     },
     "execution_count": 44,
     "metadata": {},
     "output_type": "execute_result"
    }
   ],
   "source": [
    "offlineSummary['posXY'].value_counts()"
   ]
  },
  {
   "cell_type": "markdown",
   "metadata": {
    "colab_type": "text",
    "id": "qp6JLDveRRFK"
   },
   "source": [
    "So that our model is able to run correctly without having to create a large amount of additional variables, we decided to drop the Amaretto, Schnapps and Brandy values since collectively, those represent 17 observations. "
   ]
  },
  {
   "cell_type": "markdown",
   "metadata": {
    "colab_type": "text",
    "id": "_Sr3tFa7XAAE"
   },
   "source": [
    "Looking at the distribution of liquors in our data_final dataset, we can see that vodka takes up 32% of the liquor sales in our set, followed by Rum at 13%, Liquer at 13%, Whisky at 22% and so on. When we run our classifier, we will need to be careful to account for the unbalanced nature of our classifiers to help ensure we aren't overclassifying the majority labels. \n",
    "\n",
    "For our data training, we will need to employ synthetic minority oversampling technique (SMOTE), which is designed to subset our data from the minority classes as an example with new synthetic instances similar to these minorities are created and added to a new data set which we will use as a train to our classification models. "
   ]
  },
  {
   "cell_type": "markdown",
   "metadata": {
    "colab_type": "text",
    "id": "Pn6A1a_mgB3H"
   },
   "source": [
    "But first, we will assign our X and Y variables and a stratified Kfold to evaluate our meotrics. The reason we want to do a stratified k-fold is because it will test our model multiple times using different splits of the data and different testing groups. The average at the end will help us get an accurate score of how strong our model is and accounts for any skewness in the data that was not captured in the transform. \n",
    "\n",
    "We think this is most appropriate since we've transformed our data, so we should get minimal outlier skew, and we will have an aggredate score of accuracy, precision and recall based on different groupings of the data."
   ]
  },
  {
   "cell_type": "code",
   "execution_count": 13,
   "metadata": {},
   "outputs": [
    {
     "data": {
      "text/plain": [
       "Index(['Unnamed: 0', 'posXY', 'posX', 'posY', 'orientation', 'angle',\n",
       "       '00:0f:a3:39:e1:c0', '00:14:bf:3b:c7:c6', '00:14:bf:b1:97:81',\n",
       "       '00:14:bf:b1:97:8a', '00:14:bf:b1:97:8d', '00:14:bf:b1:97:90'],\n",
       "      dtype='object')"
      ]
     },
     "execution_count": 13,
     "metadata": {},
     "output_type": "execute_result"
    }
   ],
   "source": [
    "onlineSummary.columns"
   ]
  },
  {
   "cell_type": "code",
   "execution_count": 21,
   "metadata": {},
   "outputs": [
    {
     "data": {
      "text/plain": [
       "Index(['Unnamed: 0', 'posXY', 'posX', 'posY', '00:0f:a3:39:e1:c0',\n",
       "       '00:14:bf:3b:c7:c6', '00:14:bf:b1:97:81', '00:14:bf:b1:97:8a',\n",
       "       '00:14:bf:b1:97:8d', '00:14:bf:b1:97:90', 'angle'],\n",
       "      dtype='object')"
      ]
     },
     "execution_count": 21,
     "metadata": {},
     "output_type": "execute_result"
    }
   ],
   "source": [
    "offlineSummary.columns"
   ]
  },
  {
   "cell_type": "code",
   "execution_count": 16,
   "metadata": {},
   "outputs": [
    {
     "data": {
      "text/html": [
       "<div>\n",
       "<style scoped>\n",
       "    .dataframe tbody tr th:only-of-type {\n",
       "        vertical-align: middle;\n",
       "    }\n",
       "\n",
       "    .dataframe tbody tr th {\n",
       "        vertical-align: top;\n",
       "    }\n",
       "\n",
       "    .dataframe thead th {\n",
       "        text-align: right;\n",
       "    }\n",
       "</style>\n",
       "<table border=\"1\" class=\"dataframe\">\n",
       "  <thead>\n",
       "    <tr style=\"text-align: right;\">\n",
       "      <th></th>\n",
       "      <th>Unnamed: 0</th>\n",
       "      <th>posXY</th>\n",
       "      <th>posX</th>\n",
       "      <th>posY</th>\n",
       "      <th>orientation</th>\n",
       "      <th>angle</th>\n",
       "      <th>00:0f:a3:39:e1:c0</th>\n",
       "      <th>00:14:bf:3b:c7:c6</th>\n",
       "      <th>00:14:bf:b1:97:81</th>\n",
       "      <th>00:14:bf:b1:97:8a</th>\n",
       "      <th>00:14:bf:b1:97:8d</th>\n",
       "      <th>00:14:bf:b1:97:90</th>\n",
       "    </tr>\n",
       "  </thead>\n",
       "  <tbody>\n",
       "    <tr>\n",
       "      <td>0</td>\n",
       "      <td>0-0.05</td>\n",
       "      <td>0-0.05</td>\n",
       "      <td>0.00</td>\n",
       "      <td>0.05</td>\n",
       "      <td>130.5</td>\n",
       "      <td>135</td>\n",
       "      <td>-52.227273</td>\n",
       "      <td>-62.948980</td>\n",
       "      <td>-61.813953</td>\n",
       "      <td>-40.068966</td>\n",
       "      <td>-63.043011</td>\n",
       "      <td>-55.233333</td>\n",
       "    </tr>\n",
       "    <tr>\n",
       "      <td>1</td>\n",
       "      <td>0.15-9.42</td>\n",
       "      <td>0.15-9.42</td>\n",
       "      <td>0.15</td>\n",
       "      <td>9.42</td>\n",
       "      <td>112.3</td>\n",
       "      <td>90</td>\n",
       "      <td>-55.275229</td>\n",
       "      <td>-73.961905</td>\n",
       "      <td>-72.701031</td>\n",
       "      <td>-47.813084</td>\n",
       "      <td>-69.454545</td>\n",
       "      <td>-46.880000</td>\n",
       "    </tr>\n",
       "    <tr>\n",
       "      <td>2</td>\n",
       "      <td>0.31-11.09</td>\n",
       "      <td>0.31-11.09</td>\n",
       "      <td>0.31</td>\n",
       "      <td>11.09</td>\n",
       "      <td>230.1</td>\n",
       "      <td>225</td>\n",
       "      <td>-51.709091</td>\n",
       "      <td>-70.082474</td>\n",
       "      <td>-70.098901</td>\n",
       "      <td>-54.088235</td>\n",
       "      <td>-69.131579</td>\n",
       "      <td>-53.886598</td>\n",
       "    </tr>\n",
       "    <tr>\n",
       "      <td>3</td>\n",
       "      <td>0.47-8.2</td>\n",
       "      <td>0.47-8.2</td>\n",
       "      <td>0.47</td>\n",
       "      <td>8.20</td>\n",
       "      <td>5.8</td>\n",
       "      <td>0</td>\n",
       "      <td>-49.500000</td>\n",
       "      <td>-64.258065</td>\n",
       "      <td>-72.597701</td>\n",
       "      <td>-45.652893</td>\n",
       "      <td>-60.797468</td>\n",
       "      <td>-49.580000</td>\n",
       "    </tr>\n",
       "    <tr>\n",
       "      <td>4</td>\n",
       "      <td>0.78-10.94</td>\n",
       "      <td>0.78-10.94</td>\n",
       "      <td>0.78</td>\n",
       "      <td>10.94</td>\n",
       "      <td>348.3</td>\n",
       "      <td>0</td>\n",
       "      <td>-53.263636</td>\n",
       "      <td>-66.960000</td>\n",
       "      <td>-66.809524</td>\n",
       "      <td>-48.413793</td>\n",
       "      <td>-65.000000</td>\n",
       "      <td>-54.846939</td>\n",
       "    </tr>\n",
       "  </tbody>\n",
       "</table>\n",
       "</div>"
      ],
      "text/plain": [
       "   Unnamed: 0       posXY  posX   posY  orientation  angle  00:0f:a3:39:e1:c0  \\\n",
       "0      0-0.05      0-0.05  0.00   0.05        130.5    135         -52.227273   \n",
       "1   0.15-9.42   0.15-9.42  0.15   9.42        112.3     90         -55.275229   \n",
       "2  0.31-11.09  0.31-11.09  0.31  11.09        230.1    225         -51.709091   \n",
       "3    0.47-8.2    0.47-8.2  0.47   8.20          5.8      0         -49.500000   \n",
       "4  0.78-10.94  0.78-10.94  0.78  10.94        348.3      0         -53.263636   \n",
       "\n",
       "   00:14:bf:3b:c7:c6  00:14:bf:b1:97:81  00:14:bf:b1:97:8a  00:14:bf:b1:97:8d  \\\n",
       "0         -62.948980         -61.813953         -40.068966         -63.043011   \n",
       "1         -73.961905         -72.701031         -47.813084         -69.454545   \n",
       "2         -70.082474         -70.098901         -54.088235         -69.131579   \n",
       "3         -64.258065         -72.597701         -45.652893         -60.797468   \n",
       "4         -66.960000         -66.809524         -48.413793         -65.000000   \n",
       "\n",
       "   00:14:bf:b1:97:90  \n",
       "0         -55.233333  \n",
       "1         -46.880000  \n",
       "2         -53.886598  \n",
       "3         -49.580000  \n",
       "4         -54.846939  "
      ]
     },
     "execution_count": 16,
     "metadata": {},
     "output_type": "execute_result"
    }
   ],
   "source": [
    "onlineSummary.head()"
   ]
  },
  {
   "cell_type": "raw",
   "metadata": {},
   "source": [
    "offlineSumma"
   ]
  },
  {
   "cell_type": "code",
   "execution_count": 58,
   "metadata": {
    "colab": {
     "base_uri": "https://localhost:8080/",
     "height": 50
    },
    "colab_type": "code",
    "id": "cZHxHg1g4rnZ",
    "outputId": "ae6690b0-9e80-44f2-d91a-9aa9ac5376f0"
   },
   "outputs": [
    {
     "name": "stdout",
     "output_type": "stream",
     "text": [
      "Wall time: 8.37 ms\n"
     ]
    }
   ],
   "source": [
    "%%time\n",
    "from sklearn.neighbors import KNeighborsClassifier\n",
    "from sklearn.model_selection import StratifiedKFold\n",
    "from sklearn.preprocessing import StandardScaler\n",
    "import numpy as np\n",
    "from sklearn import metrics as mt\n",
    "\n",
    "cv = StratifiedKFold(n_splits=10)\n",
    "\n",
    "features = ['angle',\n",
    "       '00:0f:a3:39:e1:c0', '00:14:bf:3b:c7:c6', '00:14:bf:b1:97:81',\n",
    "       '00:14:bf:b1:97:8a', '00:14:bf:b1:97:8d', '00:14:bf:b1:97:90']\n",
    "\n",
    "X2 = offlineSummary[features].copy()\n",
    "\n",
    "scaler = StandardScaler()\n",
    "scaler.fit(X2)\n",
    "\n",
    "#This makes our model's coefficients take on the same scale for accurate feature importance analysis\n",
    "#Notice we scaled the data before the cross validation\n",
    "X = scaler.transform(X2)\n",
    "X = offlineSummary[features].copy()\n",
    "Y= offlineSummary[['posXY']].copy()\n",
    "Y2 = Y.values\n",
    "\n",
    "#Divide data into test and training splits\n",
    "from sklearn.model_selection import ShuffleSplit\n",
    "cv = ShuffleSplit(n_splits=2, test_size=0.20, random_state=0)"
   ]
  },
  {
   "cell_type": "markdown",
   "metadata": {
    "colab_type": "text",
    "id": "OEunehv3f98d"
   },
   "source": [
    "#### Feature Engineering: SMOTE"
   ]
  },
  {
   "cell_type": "markdown",
   "metadata": {
    "colab_type": "text",
    "id": "W0bwTiwyhQcJ"
   },
   "source": [
    "Now that we built our cross validation and assigned Xs and Ys, we will now work to create our training set and test set using SMOTE to balance our classifiers. Training size was 80% of our data and the test size was 20%. "
   ]
  },
  {
   "cell_type": "code",
   "execution_count": 59,
   "metadata": {
    "colab": {},
    "colab_type": "code",
    "id": "SQZ4SBbsf_N9"
   },
   "outputs": [],
   "source": [
    "from sklearn import metrics as mt\n",
    "\n",
    "# train and test split before resampling\n",
    "X1_train, X1_test, y1_train, y1_test = train_test_split(X, Y, test_size = 0.2, random_state = 101) \n"
   ]
  },
  {
   "cell_type": "markdown",
   "metadata": {
    "colab_type": "text",
    "id": "Jriu2c-MZ7SP"
   },
   "source": [
    "## Classification Task 1 (Liquor Type)\n",
    "\n",
    "\n",
    "\n"
   ]
  },
  {
   "cell_type": "markdown",
   "metadata": {
    "colab_type": "text",
    "id": "y713JBi1Mage"
   },
   "source": [
    "### Task 1 - Modeling and Evaluation 3\n",
    "Create three different classification/regression models for each task (e.g., random forest, KNN, and SVM for task one and the same or different algorithms for task two). Two modeling techniques must be new (but the third could be SVM or logistic regression). Adjust parameters as appropriate to increase generalization performance using your chosen metric. You must investigate different parameters of the algorithms!  \n",
    "\n",
    "As previously mentioned within a section above, our goal of this classification problem is to correctly classify the alcohol category based on sales data.  We tried 3 different algorithms within our models and compared them using our evaluation metrics.  The algorithms used are as follows:  \n",
    "\n",
    "*   K-Nearest Neighbor\n",
    "*   Random Forest Classification\n",
    "*   Logistic Regression\n",
    "\n",
    "A ROC/AUC plot will be created for each model and summarized our findings based on the combined results for these different models."
   ]
  },
  {
   "cell_type": "markdown",
   "metadata": {
    "colab_type": "text",
    "id": "it9ofY8j4Xi0"
   },
   "source": [
    "#### Model 1: KNN Classification"
   ]
  },
  {
   "cell_type": "markdown",
   "metadata": {
    "colab_type": "text",
    "id": "khHn73vcSQyN"
   },
   "source": [
    "Details regarding this model are noted in the code below, but to quickly summarize, this model has an average accuracy score of 0.58 and a Precision, Recall, & F1 Score of 0.91, 0.91, & 0.91 respectively.  After evaluation this is not our best fitting model.\n",
    "\n",
    "Initially, it looks like this but after our cross validation, but details on our model are outlined below in the code. "
   ]
  },
  {
   "cell_type": "code",
   "execution_count": 70,
   "metadata": {
    "colab": {
     "base_uri": "https://localhost:8080/",
     "height": 98
    },
    "colab_type": "code",
    "id": "H-xo_Rm-fe2j",
    "outputId": "87d67084-636c-431a-d549-be122dbf736c"
   },
   "outputs": [
    {
     "name": "stdout",
     "output_type": "stream",
     "text": [
      "Fitting 2 folds for each of 60 candidates, totalling 120 fits\n"
     ]
    },
    {
     "name": "stderr",
     "output_type": "stream",
     "text": [
      "[Parallel(n_jobs=-1)]: Using backend LokyBackend with 8 concurrent workers.\n",
      "[Parallel(n_jobs=-1)]: Done 120 out of 120 | elapsed:    0.6s finished\n"
     ]
    }
   ],
   "source": [
    "\n",
    "param_grid = [\n",
    "    {\n",
    "         'weights': ['uniform','distance'],\n",
    "         'leaf_size': [5,10],\n",
    "         'metric': ['minkowski','euclidean', 'manhattan'],\n",
    "         'n_neighbors':[2,3,5, 6,7],\n",
    "         \n",
    "    }\n",
    "]\n",
    "\n",
    "clf_KNN = KNeighborsClassifier()\n",
    "grid_search_KNN = GridSearchCV(clf_KNN, param_grid=param_grid,cv=cv,n_jobs=-1, verbose=1, scoring='accuracy' )\n",
    "\n",
    "KNearest_model1 = grid_search_KNN.fit(X1_train, y1_train)\n",
    "\n",
    "y_KNN_score1 = KNearest_model1.predict(X1_test)\n",
    "\n"
   ]
  },
  {
   "cell_type": "markdown",
   "metadata": {
    "colab_type": "text",
    "id": "VYb6pozHl-Ia"
   },
   "source": [
    "Our first modeling procedure we ran was a KNN classification. Detail on the concept behind it can be found below, but on this particular version, we are using our smote engineered features to fit the model and running a grid search procedure to select the best hyperparameter. "
   ]
  },
  {
   "cell_type": "code",
   "execution_count": 71,
   "metadata": {
    "colab": {
     "base_uri": "https://localhost:8080/",
     "height": 66
    },
    "colab_type": "code",
    "id": "xXbdtmoF4itK",
    "outputId": "a91783f5-1c40-44af-9ebd-ee6ffff7a285"
   },
   "outputs": [
    {
     "data": {
      "text/plain": [
       "KNeighborsClassifier(algorithm='auto', leaf_size=5, metric='minkowski',\n",
       "                     metric_params=None, n_jobs=None, n_neighbors=2, p=2,\n",
       "                     weights='uniform')"
      ]
     },
     "execution_count": 71,
     "metadata": {},
     "output_type": "execute_result"
    }
   ],
   "source": [
    "classifierEstimaterKNN1 = KNearest_model1.best_estimator_\n",
    "classifierEstimaterKNN1\n"
   ]
  },
  {
   "cell_type": "markdown",
   "metadata": {
    "colab_type": "text",
    "id": "7fZ5JmCWmdpK"
   },
   "source": [
    "According to our grid search, the best estimator is to include 5 neighbors, a leaf size of 10 and a minkowski metric to learn from. "
   ]
  },
  {
   "cell_type": "code",
   "execution_count": 0,
   "metadata": {
    "colab": {},
    "colab_type": "code",
    "id": "apv--OjhpvAv"
   },
   "outputs": [],
   "source": [
    "#import pickle\n",
    "#filename = r'C:/Users/jjsch/Documents/GitHub/7331lab1/7331DataMiningNotebooks/lab2/classifierEstimaterKNN1.pickle'\n",
    "#infile = open(filename,'rb')\n",
    "#classifierEstimaterKNN1 = pickle.loads(infile)\n",
    "#infile.close()\n",
    "#outfile = open(filename,'wb')\n",
    "#pickle.dumps(classifierEstimaterKNN1, filename)\n",
    "#from joblib import dump, load\n",
    "#dump(classifierEstimaterKNN1, filename)"
   ]
  },
  {
   "cell_type": "code",
   "execution_count": 72,
   "metadata": {},
   "outputs": [
    {
     "data": {
      "text/plain": [
       "array(['1-12', '5-7', '22-7', '10-4', '2-7', '31-7', '21-4', '21-8',\n",
       "       '12-4', '12-3', '11-7', '26-7', '10-4', '10-6', '22-7', '28-7',\n",
       "       '0-13', '1-4', '19-7', '18-8', '0-3', '21-3', '13-4', '2-12',\n",
       "       '1-10', '17-8', '28-7', '6-3', '15-7', '32-3', '1-0', '0-0', '1-8',\n",
       "       '24-8', '24-4', '24-4', '24-4', '0-3', '1-4', '29-7', '9-3',\n",
       "       '0-10', '22-7', '2-1', '6-3', '0-1', '1-10', '30-3', '6-3', '26-8',\n",
       "       '5-7', '13-7', '11-8', '24-4', '0-10', '5-8', '1-6', '25-8',\n",
       "       '31-3', '31-7', '11-3', '21-4', '15-8', '18-7', '18-7', '7-8',\n",
       "       '12-8', '16-7', '6-8', '21-4', '2-10', '1-10', '23-3', '30-8',\n",
       "       '27-3', '12-8', '0-9', '0-9', '31-7', '21-4', '10-8', '15-7',\n",
       "       '21-5', '22-4', '10-4', '5-3', '0-9', '11-7', '30-7', '4-3',\n",
       "       '11-3', '7-7', '28-8', '12-4', '31-7', '15-3', '0-8', '24-6',\n",
       "       '19-8', '10-4', '23-6', '22-5', '21-6', '5-8', '1-12', '7-8',\n",
       "       '0-12', '6-3', '10-7', '1-11', '15-3', '0-9', '12-5', '10-7',\n",
       "       '22-6', '0-0', '23-8', '0-4', '21-7', '11-6', '13-7', '1-1', '0-3',\n",
       "       '21-3', '0-9', '1-10', '10-6', '30-7', '4-7', '21-5', '20-3',\n",
       "       '20-3', '21-4', '1-0', '22-3', '28-3', '21-6', '5-8', '1-11',\n",
       "       '28-3', '22-4', '5-3', '0-10', '17-8', '23-4', '26-8', '23-3',\n",
       "       '22-6', '18-7', '13-7', '21-4', '10-7', '1-1', '15-3', '1-8',\n",
       "       '28-7', '20-7', '2-8', '21-6', '10-3', '24-8', '2-5', '24-7',\n",
       "       '32-3', '0-3', '12-8', '1-8', '0-9', '1-11', '19-7', '4-3', '2-12',\n",
       "       '15-8', '17-3', '15-8', '18-8', '11-8', '32-4', '0-9', '11-6',\n",
       "       '8-7', '12-6', '27-7', '0-2', '23-4', '23-8', '24-7', '2-3', '1-8',\n",
       "       '11-7', '2-7', '30-3', '12-4', '32-4', '2-1', '10-6', '17-8',\n",
       "       '21-8', '23-4', '1-12', '0-3', '28-7', '12-8', '1-7', '31-7',\n",
       "       '25-7', '5-3', '30-3', '28-8', '27-8', '22-4', '0-12', '2-7',\n",
       "       '0-10', '1-11', '21-7', '0-8', '19-7', '22-8', '1-9', '16-7',\n",
       "       '12-5', '0-2', '29-7', '16-3', '5-7', '6-8', '21-4', '27-8',\n",
       "       '31-7', '10-4', '0-0', '0-3'], dtype=object)"
      ]
     },
     "execution_count": 72,
     "metadata": {},
     "output_type": "execute_result"
    }
   ],
   "source": [
    "y_KNN_score1 = classifierEstimaterKNN1.predict(X1_test)\n",
    "y_KNN_score1"
   ]
  },
  {
   "cell_type": "code",
   "execution_count": 73,
   "metadata": {
    "colab": {
     "base_uri": "https://localhost:8080/",
     "height": 66
    },
    "colab_type": "code",
    "id": "FSI_M3-yIQ27",
    "outputId": "5d8a8431-edce-4381-d0d6-92ffe9ca2000"
   },
   "outputs": [
    {
     "name": "stdout",
     "output_type": "stream",
     "text": [
      "Precision Score is: 0.0\n",
      "Recall Score is: 0.0\n",
      "F1 Score is: 0.0\n"
     ]
    }
   ],
   "source": [
    "from sklearn.metrics import f1_score\n",
    "from sklearn.metrics import precision_score\n",
    "from sklearn.metrics import recall_score\n",
    "print(\"Precision Score is: {}\" .format(precision_score(y1_test, y_KNN_score1, average='weighted')))\n",
    "print(\"Recall Score is: {}\" .format(recall_score(y1_test, y_KNN_score1, average='weighted')))\n",
    "print(\"F1 Score is: {}\" .format(f1_score(y1_test, y_KNN_score1, average='weighted')))"
   ]
  },
  {
   "cell_type": "code",
   "execution_count": 94,
   "metadata": {},
   "outputs": [
    {
     "data": {
      "text/html": [
       "<div>\n",
       "<style scoped>\n",
       "    .dataframe tbody tr th:only-of-type {\n",
       "        vertical-align: middle;\n",
       "    }\n",
       "\n",
       "    .dataframe tbody tr th {\n",
       "        vertical-align: top;\n",
       "    }\n",
       "\n",
       "    .dataframe thead th {\n",
       "        text-align: right;\n",
       "    }\n",
       "</style>\n",
       "<table border=\"1\" class=\"dataframe\">\n",
       "  <thead>\n",
       "    <tr style=\"text-align: right;\">\n",
       "      <th></th>\n",
       "      <th>0</th>\n",
       "      <th>1</th>\n",
       "    </tr>\n",
       "  </thead>\n",
       "  <tbody>\n",
       "    <tr>\n",
       "      <td>1067</td>\n",
       "      <td>2</td>\n",
       "      <td>11</td>\n",
       "    </tr>\n",
       "    <tr>\n",
       "      <td>652</td>\n",
       "      <td>6</td>\n",
       "      <td>7</td>\n",
       "    </tr>\n",
       "    <tr>\n",
       "      <td>931</td>\n",
       "      <td>23</td>\n",
       "      <td>7</td>\n",
       "    </tr>\n",
       "    <tr>\n",
       "      <td>210</td>\n",
       "      <td>13</td>\n",
       "      <td>3</td>\n",
       "    </tr>\n",
       "    <tr>\n",
       "      <td>295</td>\n",
       "      <td>3</td>\n",
       "      <td>7</td>\n",
       "    </tr>\n",
       "    <tr>\n",
       "      <td>...</td>\n",
       "      <td>...</td>\n",
       "      <td>...</td>\n",
       "    </tr>\n",
       "    <tr>\n",
       "      <td>787</td>\n",
       "      <td>28</td>\n",
       "      <td>7</td>\n",
       "    </tr>\n",
       "    <tr>\n",
       "      <td>806</td>\n",
       "      <td>32</td>\n",
       "      <td>8</td>\n",
       "    </tr>\n",
       "    <tr>\n",
       "      <td>524</td>\n",
       "      <td>10</td>\n",
       "      <td>3</td>\n",
       "    </tr>\n",
       "    <tr>\n",
       "      <td>333</td>\n",
       "      <td>0</td>\n",
       "      <td>1</td>\n",
       "    </tr>\n",
       "    <tr>\n",
       "      <td>1070</td>\n",
       "      <td>2</td>\n",
       "      <td>2</td>\n",
       "    </tr>\n",
       "  </tbody>\n",
       "</table>\n",
       "<p>233 rows × 2 columns</p>\n",
       "</div>"
      ],
      "text/plain": [
       "       0   1\n",
       "1067   2  11\n",
       "652    6   7\n",
       "931   23   7\n",
       "210   13   3\n",
       "295    3   7\n",
       "...   ..  ..\n",
       "787   28   7\n",
       "806   32   8\n",
       "524   10   3\n",
       "333    0   1\n",
       "1070   2   2\n",
       "\n",
       "[233 rows x 2 columns]"
      ]
     },
     "execution_count": 94,
     "metadata": {},
     "output_type": "execute_result"
    }
   ],
   "source": [
    "y1_test"
   ]
  },
  {
   "cell_type": "code",
   "execution_count": 93,
   "metadata": {},
   "outputs": [],
   "source": [
    "y1_test = y1_test['posXY'].str.split(\"-\", n = 1, expand = True)"
   ]
  },
  {
   "cell_type": "code",
   "execution_count": 95,
   "metadata": {},
   "outputs": [],
   "source": [
    "yscore = pd.DataFrame(y_KNN_score1)"
   ]
  },
  {
   "cell_type": "code",
   "execution_count": 96,
   "metadata": {},
   "outputs": [],
   "source": [
    "yscore=yscore[0].str.split(\"-\", n = 1, expand = True)"
   ]
  },
  {
   "cell_type": "code",
   "execution_count": 138,
   "metadata": {},
   "outputs": [
    {
     "data": {
      "text/html": [
       "<div>\n",
       "<style scoped>\n",
       "    .dataframe tbody tr th:only-of-type {\n",
       "        vertical-align: middle;\n",
       "    }\n",
       "\n",
       "    .dataframe tbody tr th {\n",
       "        vertical-align: top;\n",
       "    }\n",
       "\n",
       "    .dataframe thead th {\n",
       "        text-align: right;\n",
       "    }\n",
       "</style>\n",
       "<table border=\"1\" class=\"dataframe\">\n",
       "  <thead>\n",
       "    <tr style=\"text-align: right;\">\n",
       "      <th></th>\n",
       "      <th>0</th>\n",
       "      <th>1</th>\n",
       "    </tr>\n",
       "  </thead>\n",
       "  <tbody>\n",
       "    <tr>\n",
       "      <td>1067</td>\n",
       "      <td>2</td>\n",
       "      <td>11</td>\n",
       "    </tr>\n",
       "    <tr>\n",
       "      <td>652</td>\n",
       "      <td>6</td>\n",
       "      <td>7</td>\n",
       "    </tr>\n",
       "    <tr>\n",
       "      <td>931</td>\n",
       "      <td>23</td>\n",
       "      <td>7</td>\n",
       "    </tr>\n",
       "    <tr>\n",
       "      <td>210</td>\n",
       "      <td>13</td>\n",
       "      <td>3</td>\n",
       "    </tr>\n",
       "    <tr>\n",
       "      <td>295</td>\n",
       "      <td>3</td>\n",
       "      <td>7</td>\n",
       "    </tr>\n",
       "    <tr>\n",
       "      <td>...</td>\n",
       "      <td>...</td>\n",
       "      <td>...</td>\n",
       "    </tr>\n",
       "    <tr>\n",
       "      <td>787</td>\n",
       "      <td>28</td>\n",
       "      <td>7</td>\n",
       "    </tr>\n",
       "    <tr>\n",
       "      <td>806</td>\n",
       "      <td>32</td>\n",
       "      <td>8</td>\n",
       "    </tr>\n",
       "    <tr>\n",
       "      <td>524</td>\n",
       "      <td>10</td>\n",
       "      <td>3</td>\n",
       "    </tr>\n",
       "    <tr>\n",
       "      <td>333</td>\n",
       "      <td>0</td>\n",
       "      <td>1</td>\n",
       "    </tr>\n",
       "    <tr>\n",
       "      <td>1070</td>\n",
       "      <td>2</td>\n",
       "      <td>2</td>\n",
       "    </tr>\n",
       "  </tbody>\n",
       "</table>\n",
       "<p>233 rows × 2 columns</p>\n",
       "</div>"
      ],
      "text/plain": [
       "       0   1\n",
       "1067   2  11\n",
       "652    6   7\n",
       "931   23   7\n",
       "210   13   3\n",
       "295    3   7\n",
       "...   ..  ..\n",
       "787   28   7\n",
       "806   32   8\n",
       "524   10   3\n",
       "333    0   1\n",
       "1070   2   2\n",
       "\n",
       "[233 rows x 2 columns]"
      ]
     },
     "execution_count": 138,
     "metadata": {},
     "output_type": "execute_result"
    }
   ],
   "source": [
    "y1_test"
   ]
  },
  {
   "cell_type": "code",
   "execution_count": 139,
   "metadata": {},
   "outputs": [
    {
     "data": {
      "text/plain": [
       "RangeIndex(start=0, stop=233, step=1)"
      ]
     },
     "execution_count": 139,
     "metadata": {},
     "output_type": "execute_result"
    }
   ],
   "source": [
    "y1_test = y1_test.reset_index()\n",
    "y1_test.index"
   ]
  },
  {
   "cell_type": "code",
   "execution_count": 189,
   "metadata": {},
   "outputs": [
    {
     "data": {
      "text/plain": [
       "Text(0.5,1,'Actual and predicted values')"
      ]
     },
     "execution_count": 189,
     "metadata": {},
     "output_type": "execute_result"
    },
    {
     "data": {
      "image/png": "[encoded data removed]",
      "text/plain": [
       "<Figure size 432x288 with 1 Axes>"
      ]
     },
     "metadata": {
      "needs_background": "light"
     },
     "output_type": "display_data"
    }
   ],
   "source": [
    "from matplotlib import pyplot as plt\n",
    "import numpy as np\n",
    "%matplotlib inline\n",
    "plt.scatter(y1_test[0], y1_test[1], c = 'blue', label = 'Actual')\n",
    "plt.scatter(yscore[0], yscore[1], c = 'red', label = 'Predicted')\n",
    "\n",
    "\n",
    "plt.title('Actual and predicted values')\n",
    "plt.title('Actual and predicted values')"
   ]
  },
  {
   "cell_type": "code",
   "execution_count": 267,
   "metadata": {},
   "outputs": [
    {
     "data": {
      "text/html": [
       "<div>\n",
       "<style scoped>\n",
       "    .dataframe tbody tr th:only-of-type {\n",
       "        vertical-align: middle;\n",
       "    }\n",
       "\n",
       "    .dataframe tbody tr th {\n",
       "        vertical-align: top;\n",
       "    }\n",
       "\n",
       "    .dataframe thead th {\n",
       "        text-align: right;\n",
       "    }\n",
       "</style>\n",
       "<table border=\"1\" class=\"dataframe\">\n",
       "  <thead>\n",
       "    <tr style=\"text-align: right;\">\n",
       "      <th></th>\n",
       "      <th>level_0</th>\n",
       "      <th>index</th>\n",
       "      <th>0_x</th>\n",
       "      <th>1_x</th>\n",
       "      <th>0_y</th>\n",
       "      <th>1_y</th>\n",
       "    </tr>\n",
       "  </thead>\n",
       "  <tbody>\n",
       "    <tr>\n",
       "      <td>0</td>\n",
       "      <td>0</td>\n",
       "      <td>1067</td>\n",
       "      <td>2</td>\n",
       "      <td>11</td>\n",
       "      <td>1</td>\n",
       "      <td>12</td>\n",
       "    </tr>\n",
       "    <tr>\n",
       "      <td>1</td>\n",
       "      <td>1</td>\n",
       "      <td>652</td>\n",
       "      <td>6</td>\n",
       "      <td>7</td>\n",
       "      <td>5</td>\n",
       "      <td>7</td>\n",
       "    </tr>\n",
       "    <tr>\n",
       "      <td>2</td>\n",
       "      <td>2</td>\n",
       "      <td>931</td>\n",
       "      <td>23</td>\n",
       "      <td>7</td>\n",
       "      <td>22</td>\n",
       "      <td>7</td>\n",
       "    </tr>\n",
       "    <tr>\n",
       "      <td>3</td>\n",
       "      <td>3</td>\n",
       "      <td>210</td>\n",
       "      <td>13</td>\n",
       "      <td>3</td>\n",
       "      <td>10</td>\n",
       "      <td>4</td>\n",
       "    </tr>\n",
       "    <tr>\n",
       "      <td>4</td>\n",
       "      <td>4</td>\n",
       "      <td>295</td>\n",
       "      <td>3</td>\n",
       "      <td>7</td>\n",
       "      <td>2</td>\n",
       "      <td>7</td>\n",
       "    </tr>\n",
       "    <tr>\n",
       "      <td>...</td>\n",
       "      <td>...</td>\n",
       "      <td>...</td>\n",
       "      <td>...</td>\n",
       "      <td>...</td>\n",
       "      <td>...</td>\n",
       "      <td>...</td>\n",
       "    </tr>\n",
       "    <tr>\n",
       "      <td>228</td>\n",
       "      <td>228</td>\n",
       "      <td>787</td>\n",
       "      <td>28</td>\n",
       "      <td>7</td>\n",
       "      <td>27</td>\n",
       "      <td>8</td>\n",
       "    </tr>\n",
       "    <tr>\n",
       "      <td>229</td>\n",
       "      <td>229</td>\n",
       "      <td>806</td>\n",
       "      <td>32</td>\n",
       "      <td>8</td>\n",
       "      <td>31</td>\n",
       "      <td>7</td>\n",
       "    </tr>\n",
       "    <tr>\n",
       "      <td>230</td>\n",
       "      <td>230</td>\n",
       "      <td>524</td>\n",
       "      <td>10</td>\n",
       "      <td>3</td>\n",
       "      <td>10</td>\n",
       "      <td>4</td>\n",
       "    </tr>\n",
       "    <tr>\n",
       "      <td>231</td>\n",
       "      <td>231</td>\n",
       "      <td>333</td>\n",
       "      <td>0</td>\n",
       "      <td>1</td>\n",
       "      <td>0</td>\n",
       "      <td>0</td>\n",
       "    </tr>\n",
       "    <tr>\n",
       "      <td>232</td>\n",
       "      <td>232</td>\n",
       "      <td>1070</td>\n",
       "      <td>2</td>\n",
       "      <td>2</td>\n",
       "      <td>0</td>\n",
       "      <td>3</td>\n",
       "    </tr>\n",
       "  </tbody>\n",
       "</table>\n",
       "<p>233 rows × 6 columns</p>\n",
       "</div>"
      ],
      "text/plain": [
       "     level_0  index 0_x 1_x 0_y 1_y\n",
       "0          0   1067   2  11   1  12\n",
       "1          1    652   6   7   5   7\n",
       "2          2    931  23   7  22   7\n",
       "3          3    210  13   3  10   4\n",
       "4          4    295   3   7   2   7\n",
       "..       ...    ...  ..  ..  ..  ..\n",
       "228      228    787  28   7  27   8\n",
       "229      229    806  32   8  31   7\n",
       "230      230    524  10   3  10   4\n",
       "231      231    333   0   1   0   0\n",
       "232      232   1070   2   2   0   3\n",
       "\n",
       "[233 rows x 6 columns]"
      ]
     },
     "execution_count": 267,
     "metadata": {},
     "output_type": "execute_result"
    }
   ],
   "source": [
    "ygroup2 = y1_test.reset_index()\n",
    "ygroup2 = pd.merge(ygroup2, yscore, left_index=True, right_index=True)\n",
    "ygroup2\n"
   ]
  },
  {
   "cell_type": "code",
   "execution_count": 268,
   "metadata": {},
   "outputs": [],
   "source": [
    "\n",
    "ygroup2['0_x'] = ygroup2['0_x'].astype(float) \n",
    "ygroup2['1_x'] = ygroup2['1_x'].astype(float) \n",
    "ygroup2['0_y'] = ygroup2['0_y'].astype(float) \n",
    "ygroup2['1_y'] = ygroup2['1_y'].astype(float) \n",
    "ygroup2['xdist'] = ygroup2['0_x'] - ygroup2['0_y']\n",
    "ygroup2['ydist'] = ygroup2['1_x'] - ygroup2['1_y']\n",
    "ygroup2['obatuple'] = ygroup2[['0_x', '1_x']].apply(tuple, axis=1)\n",
    "ygroup2['obttuple'] = ygroup2[['0_y', '1_y']].apply(tuple, axis=1) "
   ]
  },
  {
   "cell_type": "code",
   "execution_count": 269,
   "metadata": {},
   "outputs": [],
   "source": [
    "ygroup2['xsqr'] = (ygroup2['0_x'] - ygroup2['0_y'])**2\n",
    "ygroup2['ysqr'] = (ygroup2['1_y'] - ygroup2['1_y'])**2"
   ]
  },
  {
   "cell_type": "code",
   "execution_count": 270,
   "metadata": {},
   "outputs": [],
   "source": [
    "ygroup2['distance'] = ygroup2['xsqr'] + ygroup2['ysqr']"
   ]
  },
  {
   "cell_type": "code",
   "execution_count": 271,
   "metadata": {},
   "outputs": [],
   "source": [
    "ygroup2['distancefinalerror'] = np.sqrt(ygroup2['distance'])"
   ]
  },
  {
   "cell_type": "code",
   "execution_count": 272,
   "metadata": {},
   "outputs": [
    {
     "data": {
      "text/html": [
       "<div>\n",
       "<style scoped>\n",
       "    .dataframe tbody tr th:only-of-type {\n",
       "        vertical-align: middle;\n",
       "    }\n",
       "\n",
       "    .dataframe tbody tr th {\n",
       "        vertical-align: top;\n",
       "    }\n",
       "\n",
       "    .dataframe thead th {\n",
       "        text-align: right;\n",
       "    }\n",
       "</style>\n",
       "<table border=\"1\" class=\"dataframe\">\n",
       "  <thead>\n",
       "    <tr style=\"text-align: right;\">\n",
       "      <th></th>\n",
       "      <th>level_0</th>\n",
       "      <th>index</th>\n",
       "      <th>0_x</th>\n",
       "      <th>1_x</th>\n",
       "      <th>0_y</th>\n",
       "      <th>1_y</th>\n",
       "      <th>xdist</th>\n",
       "      <th>ydist</th>\n",
       "      <th>obatuple</th>\n",
       "      <th>obttuple</th>\n",
       "      <th>xsqr</th>\n",
       "      <th>ysqr</th>\n",
       "      <th>distance</th>\n",
       "      <th>distancefinalerror</th>\n",
       "    </tr>\n",
       "  </thead>\n",
       "  <tbody>\n",
       "    <tr>\n",
       "      <td>0</td>\n",
       "      <td>0</td>\n",
       "      <td>1067</td>\n",
       "      <td>2.0</td>\n",
       "      <td>11.0</td>\n",
       "      <td>1.0</td>\n",
       "      <td>12.0</td>\n",
       "      <td>1.0</td>\n",
       "      <td>-1.0</td>\n",
       "      <td>(2.0, 11.0)</td>\n",
       "      <td>(1.0, 12.0)</td>\n",
       "      <td>1.0</td>\n",
       "      <td>0.0</td>\n",
       "      <td>1.0</td>\n",
       "      <td>1.0</td>\n",
       "    </tr>\n",
       "    <tr>\n",
       "      <td>1</td>\n",
       "      <td>1</td>\n",
       "      <td>652</td>\n",
       "      <td>6.0</td>\n",
       "      <td>7.0</td>\n",
       "      <td>5.0</td>\n",
       "      <td>7.0</td>\n",
       "      <td>1.0</td>\n",
       "      <td>0.0</td>\n",
       "      <td>(6.0, 7.0)</td>\n",
       "      <td>(5.0, 7.0)</td>\n",
       "      <td>1.0</td>\n",
       "      <td>0.0</td>\n",
       "      <td>1.0</td>\n",
       "      <td>1.0</td>\n",
       "    </tr>\n",
       "    <tr>\n",
       "      <td>2</td>\n",
       "      <td>2</td>\n",
       "      <td>931</td>\n",
       "      <td>23.0</td>\n",
       "      <td>7.0</td>\n",
       "      <td>22.0</td>\n",
       "      <td>7.0</td>\n",
       "      <td>1.0</td>\n",
       "      <td>0.0</td>\n",
       "      <td>(23.0, 7.0)</td>\n",
       "      <td>(22.0, 7.0)</td>\n",
       "      <td>1.0</td>\n",
       "      <td>0.0</td>\n",
       "      <td>1.0</td>\n",
       "      <td>1.0</td>\n",
       "    </tr>\n",
       "    <tr>\n",
       "      <td>3</td>\n",
       "      <td>3</td>\n",
       "      <td>210</td>\n",
       "      <td>13.0</td>\n",
       "      <td>3.0</td>\n",
       "      <td>10.0</td>\n",
       "      <td>4.0</td>\n",
       "      <td>3.0</td>\n",
       "      <td>-1.0</td>\n",
       "      <td>(13.0, 3.0)</td>\n",
       "      <td>(10.0, 4.0)</td>\n",
       "      <td>9.0</td>\n",
       "      <td>0.0</td>\n",
       "      <td>9.0</td>\n",
       "      <td>3.0</td>\n",
       "    </tr>\n",
       "    <tr>\n",
       "      <td>4</td>\n",
       "      <td>4</td>\n",
       "      <td>295</td>\n",
       "      <td>3.0</td>\n",
       "      <td>7.0</td>\n",
       "      <td>2.0</td>\n",
       "      <td>7.0</td>\n",
       "      <td>1.0</td>\n",
       "      <td>0.0</td>\n",
       "      <td>(3.0, 7.0)</td>\n",
       "      <td>(2.0, 7.0)</td>\n",
       "      <td>1.0</td>\n",
       "      <td>0.0</td>\n",
       "      <td>1.0</td>\n",
       "      <td>1.0</td>\n",
       "    </tr>\n",
       "    <tr>\n",
       "      <td>...</td>\n",
       "      <td>...</td>\n",
       "      <td>...</td>\n",
       "      <td>...</td>\n",
       "      <td>...</td>\n",
       "      <td>...</td>\n",
       "      <td>...</td>\n",
       "      <td>...</td>\n",
       "      <td>...</td>\n",
       "      <td>...</td>\n",
       "      <td>...</td>\n",
       "      <td>...</td>\n",
       "      <td>...</td>\n",
       "      <td>...</td>\n",
       "      <td>...</td>\n",
       "    </tr>\n",
       "    <tr>\n",
       "      <td>228</td>\n",
       "      <td>228</td>\n",
       "      <td>787</td>\n",
       "      <td>28.0</td>\n",
       "      <td>7.0</td>\n",
       "      <td>27.0</td>\n",
       "      <td>8.0</td>\n",
       "      <td>1.0</td>\n",
       "      <td>-1.0</td>\n",
       "      <td>(28.0, 7.0)</td>\n",
       "      <td>(27.0, 8.0)</td>\n",
       "      <td>1.0</td>\n",
       "      <td>0.0</td>\n",
       "      <td>1.0</td>\n",
       "      <td>1.0</td>\n",
       "    </tr>\n",
       "    <tr>\n",
       "      <td>229</td>\n",
       "      <td>229</td>\n",
       "      <td>806</td>\n",
       "      <td>32.0</td>\n",
       "      <td>8.0</td>\n",
       "      <td>31.0</td>\n",
       "      <td>7.0</td>\n",
       "      <td>1.0</td>\n",
       "      <td>1.0</td>\n",
       "      <td>(32.0, 8.0)</td>\n",
       "      <td>(31.0, 7.0)</td>\n",
       "      <td>1.0</td>\n",
       "      <td>0.0</td>\n",
       "      <td>1.0</td>\n",
       "      <td>1.0</td>\n",
       "    </tr>\n",
       "    <tr>\n",
       "      <td>230</td>\n",
       "      <td>230</td>\n",
       "      <td>524</td>\n",
       "      <td>10.0</td>\n",
       "      <td>3.0</td>\n",
       "      <td>10.0</td>\n",
       "      <td>4.0</td>\n",
       "      <td>0.0</td>\n",
       "      <td>-1.0</td>\n",
       "      <td>(10.0, 3.0)</td>\n",
       "      <td>(10.0, 4.0)</td>\n",
       "      <td>0.0</td>\n",
       "      <td>0.0</td>\n",
       "      <td>0.0</td>\n",
       "      <td>0.0</td>\n",
       "    </tr>\n",
       "    <tr>\n",
       "      <td>231</td>\n",
       "      <td>231</td>\n",
       "      <td>333</td>\n",
       "      <td>0.0</td>\n",
       "      <td>1.0</td>\n",
       "      <td>0.0</td>\n",
       "      <td>0.0</td>\n",
       "      <td>0.0</td>\n",
       "      <td>1.0</td>\n",
       "      <td>(0.0, 1.0)</td>\n",
       "      <td>(0.0, 0.0)</td>\n",
       "      <td>0.0</td>\n",
       "      <td>0.0</td>\n",
       "      <td>0.0</td>\n",
       "      <td>0.0</td>\n",
       "    </tr>\n",
       "    <tr>\n",
       "      <td>232</td>\n",
       "      <td>232</td>\n",
       "      <td>1070</td>\n",
       "      <td>2.0</td>\n",
       "      <td>2.0</td>\n",
       "      <td>0.0</td>\n",
       "      <td>3.0</td>\n",
       "      <td>2.0</td>\n",
       "      <td>-1.0</td>\n",
       "      <td>(2.0, 2.0)</td>\n",
       "      <td>(0.0, 3.0)</td>\n",
       "      <td>4.0</td>\n",
       "      <td>0.0</td>\n",
       "      <td>4.0</td>\n",
       "      <td>2.0</td>\n",
       "    </tr>\n",
       "  </tbody>\n",
       "</table>\n",
       "<p>233 rows × 14 columns</p>\n",
       "</div>"
      ],
      "text/plain": [
       "     level_0  index   0_x   1_x   0_y   1_y  xdist  ydist     obatuple  \\\n",
       "0          0   1067   2.0  11.0   1.0  12.0    1.0   -1.0  (2.0, 11.0)   \n",
       "1          1    652   6.0   7.0   5.0   7.0    1.0    0.0   (6.0, 7.0)   \n",
       "2          2    931  23.0   7.0  22.0   7.0    1.0    0.0  (23.0, 7.0)   \n",
       "3          3    210  13.0   3.0  10.0   4.0    3.0   -1.0  (13.0, 3.0)   \n",
       "4          4    295   3.0   7.0   2.0   7.0    1.0    0.0   (3.0, 7.0)   \n",
       "..       ...    ...   ...   ...   ...   ...    ...    ...          ...   \n",
       "228      228    787  28.0   7.0  27.0   8.0    1.0   -1.0  (28.0, 7.0)   \n",
       "229      229    806  32.0   8.0  31.0   7.0    1.0    1.0  (32.0, 8.0)   \n",
       "230      230    524  10.0   3.0  10.0   4.0    0.0   -1.0  (10.0, 3.0)   \n",
       "231      231    333   0.0   1.0   0.0   0.0    0.0    1.0   (0.0, 1.0)   \n",
       "232      232   1070   2.0   2.0   0.0   3.0    2.0   -1.0   (2.0, 2.0)   \n",
       "\n",
       "        obttuple  xsqr  ysqr  distance  distancefinalerror  \n",
       "0    (1.0, 12.0)   1.0   0.0       1.0                 1.0  \n",
       "1     (5.0, 7.0)   1.0   0.0       1.0                 1.0  \n",
       "2    (22.0, 7.0)   1.0   0.0       1.0                 1.0  \n",
       "3    (10.0, 4.0)   9.0   0.0       9.0                 3.0  \n",
       "4     (2.0, 7.0)   1.0   0.0       1.0                 1.0  \n",
       "..           ...   ...   ...       ...                 ...  \n",
       "228  (27.0, 8.0)   1.0   0.0       1.0                 1.0  \n",
       "229  (31.0, 7.0)   1.0   0.0       1.0                 1.0  \n",
       "230  (10.0, 4.0)   0.0   0.0       0.0                 0.0  \n",
       "231   (0.0, 0.0)   0.0   0.0       0.0                 0.0  \n",
       "232   (0.0, 3.0)   4.0   0.0       4.0                 2.0  \n",
       "\n",
       "[233 rows x 14 columns]"
      ]
     },
     "execution_count": 272,
     "metadata": {},
     "output_type": "execute_result"
    }
   ],
   "source": [
    "ygroup2"
   ]
  },
  {
   "cell_type": "code",
   "execution_count": 273,
   "metadata": {},
   "outputs": [
    {
     "data": {
      "text/plain": [
       "1.5665236051502145"
      ]
     },
     "execution_count": 273,
     "metadata": {},
     "output_type": "execute_result"
    }
   ],
   "source": [
    "ygroup2['distancefinalerror'].mean()"
   ]
  },
  {
   "cell_type": "code",
   "execution_count": 283,
   "metadata": {},
   "outputs": [
    {
     "data": {
      "text/plain": [
       "0      (2.0, 11.0)\n",
       "1       (6.0, 7.0)\n",
       "2      (23.0, 7.0)\n",
       "3      (13.0, 3.0)\n",
       "4       (3.0, 7.0)\n",
       "          ...     \n",
       "228    (28.0, 7.0)\n",
       "229    (32.0, 8.0)\n",
       "230    (10.0, 3.0)\n",
       "231     (0.0, 1.0)\n",
       "232     (2.0, 2.0)\n",
       "Name: obatuple, Length: 233, dtype: object"
      ]
     },
     "execution_count": 283,
     "metadata": {},
     "output_type": "execute_result"
    }
   ],
   "source": [
    "ygroup2['obatuple']"
   ]
  },
  {
   "cell_type": "code",
   "execution_count": null,
   "metadata": {},
   "outputs": [],
   "source": [
    "wholelist = []\n",
    "for i, row in ygroup2.iterrows():\n",
    "    print(i)\n",
    "    row['obatuple']\n",
    "    rowlist = []\n",
    "    rowlist.append(row['obatuple'])\n",
    "    rowlist.append(row['obatuple'])\n",
    "    wholelist.append(rowlist)\n",
    "    print(rowlist)\n",
    "print(wholelist)    "
   ]
  },
  {
   "cell_type": "code",
   "execution_count": 291,
   "metadata": {},
   "outputs": [
    {
     "data": {
      "text/plain": [
       "[[(2.0, 11.0), (2.0, 11.0)]]"
      ]
     },
     "execution_count": 291,
     "metadata": {},
     "output_type": "execute_result"
    }
   ],
   "source": [
    "listr = [wholelist[0]]\n",
    "type(listr)\n",
    "#listr[1]\n",
    "#type(listr[1])\n",
    "\n",
    "wholelist[0]\n",
    "listr\n"
   ]
  },
  {
   "cell_type": "code",
   "execution_count": 315,
   "metadata": {},
   "outputs": [],
   "source": [
    "x1, x2, y1, y2 = None,None,None,None"
   ]
  },
  {
   "cell_type": "code",
   "execution_count": 316,
   "metadata": {},
   "outputs": [
    {
     "data": {
      "image/png": "[encoded data removed]",
      "text/plain": [
       "<Figure size 432x288 with 1 Axes>"
      ]
     },
     "metadata": {
      "needs_background": "light"
     },
     "output_type": "display_data"
    }
   ],
   "source": [
    "for i, row in ygroup2.iterrows():\n",
    "    x1, x2 = ygroup2.loc[i,'0_x'], ygroup2.loc[i,'0_y']\n",
    "    y1, y2 = ygroup2.loc[i,'1_x'], ygroup2.loc[i,'1_y']\n",
    "    plt.plot([x1,x2],[y1,y2],'k-', color='red')\n"
   ]
  },
  {
   "cell_type": "markdown",
   "metadata": {
    "colab_type": "text",
    "id": "_GJHQafimwnN"
   },
   "source": [
    "After Running our procedure, we were able get garner a very strong precision, recall and F1 score. which was very high. These scores are strong supporters in accuracy in that it helps test whether a model is truly trying to predict a value rather than selecting a single value. "
   ]
  },
  {
   "cell_type": "code",
   "execution_count": 45,
   "metadata": {
    "colab": {
     "base_uri": "https://localhost:8080/",
     "height": 66
    },
    "colab_type": "code",
    "id": "iS33r9IdE34T",
    "outputId": "9bd1521d-0f45-448e-ca04-e4a44a9a506a"
   },
   "outputs": [
    {
     "data": {
      "text/plain": [
       "KNeighborsClassifier(algorithm='auto', leaf_size=5, metric='minkowski',\n",
       "                     metric_params=None, n_jobs=None, n_neighbors=2, p=2,\n",
       "                     weights='distance')"
      ]
     },
     "execution_count": 45,
     "metadata": {},
     "output_type": "execute_result"
    }
   ],
   "source": [
    "classifierEstimaterKNN1.fit(X1_train,y1_train)\n",
    "\n"
   ]
  },
  {
   "cell_type": "markdown",
   "metadata": {
    "colab_type": "text",
    "id": "fi35yamMtVOm"
   },
   "source": [
    "#### Model 2: Random Forest Classification"
   ]
  },
  {
   "cell_type": "markdown",
   "metadata": {
    "colab_type": "text",
    "id": "qktauMZFSQyz"
   },
   "source": [
    "Details regarding this model are noted in the code below, but to quickly summarize, this model has an average accuracy score of 0.67 and a Precision, Recall, & F1 Score of 0.93, 0.93, & 0.93 respectively.  After cross evaluation there was more factors to be detirmined from the output of our code below. "
   ]
  },
  {
   "cell_type": "code",
   "execution_count": 251,
   "metadata": {
    "colab": {
     "base_uri": "https://localhost:8080/",
     "height": 82
    },
    "colab_type": "code",
    "id": "n9vHxo7itYVh",
    "outputId": "cae198ac-c8bd-4759-a9b0-c0ff9613ae3d"
   },
   "outputs": [
    {
     "name": "stdout",
     "output_type": "stream",
     "text": [
      "Fitting 2 folds for each of 6 candidates, totalling 12 fits\n"
     ]
    },
    {
     "name": "stderr",
     "output_type": "stream",
     "text": [
      "[Parallel(n_jobs=-1)]: Using backend LokyBackend with 8 concurrent workers.\n",
      "[Parallel(n_jobs=-1)]: Done  10 out of  12 | elapsed:   14.5s remaining:    2.8s\n",
      "[Parallel(n_jobs=-1)]: Done  12 out of  12 | elapsed:   16.0s finished\n"
     ]
    }
   ],
   "source": [
    "param_grid = [\n",
    "    {\n",
    "         'n_estimators': [200, 500], \n",
    "         'max_depth': [20,30,35],\n",
    "         'random_state':[101]\n",
    "     }\n",
    "]\n",
    "\n",
    "clf_RF = RandomForestClassifier()\n",
    "grid_search_RF = GridSearchCV(clf_RF, param_grid=param_grid, cv=cv,n_jobs=-1, verbose=1, scoring='accuracy' )\n",
    "\n",
    "RandomForest_model1 = grid_search_RF.fit(X1_train, y1_train)\n",
    "\n",
    "y_RF_score1 = grid_search_RF.predict(X1_test)\n"
   ]
  },
  {
   "cell_type": "code",
   "execution_count": 255,
   "metadata": {},
   "outputs": [],
   "source": [
    "yrfscore = pd.DataFrame(y_RF_score1)\n",
    "yrfscore=yrfscore[0].str.split(\"-\", n = 1, expand = True)"
   ]
  },
  {
   "cell_type": "markdown",
   "metadata": {
    "colab_type": "text",
    "id": "0HtPQHbEqz1P"
   },
   "source": [
    "In model 2, we ran a Random Forest Classification procedure to classify liquor types. You can learn more in the documentation below. \n",
    "\n",
    "https://stackabuse.com/random-forest-algorithm-with-python-and-scikit-learn/\n",
    "\n",
    "Like the KNN model before, we decided to run a grid search procedure as well to help us find the optimal hyperparameters to tune to. "
   ]
  },
  {
   "cell_type": "code",
   "execution_count": 0,
   "metadata": {
    "colab": {
     "base_uri": "https://localhost:8080/",
     "height": 147
    },
    "colab_type": "code",
    "id": "Uc_OTys6trdf",
    "outputId": "1345806c-1c8e-484e-b5ad-62c7ad2be656"
   },
   "outputs": [
    {
     "data": {
      "text/plain": [
       "RandomForestClassifier(bootstrap=True, ccp_alpha=0.0, class_weight=None,\n",
       "                       criterion='gini', max_depth=20, max_features='auto',\n",
       "                       max_leaf_nodes=None, max_samples=None,\n",
       "                       min_impurity_decrease=0.0, min_impurity_split=None,\n",
       "                       min_samples_leaf=1, min_samples_split=2,\n",
       "                       min_weight_fraction_leaf=0.0, n_estimators=500,\n",
       "                       n_jobs=None, oob_score=False, random_state=101,\n",
       "                       verbose=0, warm_start=False)"
      ]
     },
     "execution_count": 156,
     "metadata": {
      "tags": []
     },
     "output_type": "execute_result"
    }
   ],
   "source": [
    "classifierEstimaterRF1 = RandomForest_model1.best_estimator_\n",
    "classifierEstimaterRF1"
   ]
  },
  {
   "cell_type": "markdown",
   "metadata": {
    "colab_type": "text",
    "id": "x5xlEV0NrPmg"
   },
   "source": [
    "After running our Random Forest procedure, we can see the grid search selected, a max depth of 20, a number of estimators split of 500 and no warm start with our model. "
   ]
  },
  {
   "cell_type": "code",
   "execution_count": 274,
   "metadata": {},
   "outputs": [
    {
     "data": {
      "text/html": [
       "<div>\n",
       "<style scoped>\n",
       "    .dataframe tbody tr th:only-of-type {\n",
       "        vertical-align: middle;\n",
       "    }\n",
       "\n",
       "    .dataframe tbody tr th {\n",
       "        vertical-align: top;\n",
       "    }\n",
       "\n",
       "    .dataframe thead th {\n",
       "        text-align: right;\n",
       "    }\n",
       "</style>\n",
       "<table border=\"1\" class=\"dataframe\">\n",
       "  <thead>\n",
       "    <tr style=\"text-align: right;\">\n",
       "      <th></th>\n",
       "      <th>level_0</th>\n",
       "      <th>index</th>\n",
       "      <th>0_x</th>\n",
       "      <th>1_x</th>\n",
       "      <th>0_y</th>\n",
       "      <th>1_y</th>\n",
       "      <th>obatuple</th>\n",
       "      <th>obttuple</th>\n",
       "      <th>xdist</th>\n",
       "      <th>ydist</th>\n",
       "      <th>xsqr</th>\n",
       "      <th>ysqr</th>\n",
       "      <th>distance</th>\n",
       "      <th>distancefinalerror</th>\n",
       "    </tr>\n",
       "  </thead>\n",
       "  <tbody>\n",
       "    <tr>\n",
       "      <td>0</td>\n",
       "      <td>0</td>\n",
       "      <td>1067</td>\n",
       "      <td>2.0</td>\n",
       "      <td>11.0</td>\n",
       "      <td>2.0</td>\n",
       "      <td>11.0</td>\n",
       "      <td>(2.0, 11.0)</td>\n",
       "      <td>(2.0, 11.0)</td>\n",
       "      <td>0.0</td>\n",
       "      <td>0.0</td>\n",
       "      <td>0.0</td>\n",
       "      <td>0.0</td>\n",
       "      <td>0.0</td>\n",
       "      <td>0.0</td>\n",
       "    </tr>\n",
       "    <tr>\n",
       "      <td>1</td>\n",
       "      <td>1</td>\n",
       "      <td>652</td>\n",
       "      <td>6.0</td>\n",
       "      <td>7.0</td>\n",
       "      <td>7.0</td>\n",
       "      <td>7.0</td>\n",
       "      <td>(6.0, 7.0)</td>\n",
       "      <td>(7.0, 7.0)</td>\n",
       "      <td>-1.0</td>\n",
       "      <td>0.0</td>\n",
       "      <td>1.0</td>\n",
       "      <td>0.0</td>\n",
       "      <td>1.0</td>\n",
       "      <td>1.0</td>\n",
       "    </tr>\n",
       "    <tr>\n",
       "      <td>2</td>\n",
       "      <td>2</td>\n",
       "      <td>931</td>\n",
       "      <td>23.0</td>\n",
       "      <td>7.0</td>\n",
       "      <td>23.0</td>\n",
       "      <td>8.0</td>\n",
       "      <td>(23.0, 7.0)</td>\n",
       "      <td>(23.0, 8.0)</td>\n",
       "      <td>0.0</td>\n",
       "      <td>-1.0</td>\n",
       "      <td>0.0</td>\n",
       "      <td>0.0</td>\n",
       "      <td>0.0</td>\n",
       "      <td>0.0</td>\n",
       "    </tr>\n",
       "    <tr>\n",
       "      <td>3</td>\n",
       "      <td>3</td>\n",
       "      <td>210</td>\n",
       "      <td>13.0</td>\n",
       "      <td>3.0</td>\n",
       "      <td>13.0</td>\n",
       "      <td>3.0</td>\n",
       "      <td>(13.0, 3.0)</td>\n",
       "      <td>(13.0, 3.0)</td>\n",
       "      <td>0.0</td>\n",
       "      <td>0.0</td>\n",
       "      <td>0.0</td>\n",
       "      <td>0.0</td>\n",
       "      <td>0.0</td>\n",
       "      <td>0.0</td>\n",
       "    </tr>\n",
       "    <tr>\n",
       "      <td>4</td>\n",
       "      <td>4</td>\n",
       "      <td>295</td>\n",
       "      <td>3.0</td>\n",
       "      <td>7.0</td>\n",
       "      <td>3.0</td>\n",
       "      <td>7.0</td>\n",
       "      <td>(3.0, 7.0)</td>\n",
       "      <td>(3.0, 7.0)</td>\n",
       "      <td>0.0</td>\n",
       "      <td>0.0</td>\n",
       "      <td>0.0</td>\n",
       "      <td>0.0</td>\n",
       "      <td>0.0</td>\n",
       "      <td>0.0</td>\n",
       "    </tr>\n",
       "    <tr>\n",
       "      <td>...</td>\n",
       "      <td>...</td>\n",
       "      <td>...</td>\n",
       "      <td>...</td>\n",
       "      <td>...</td>\n",
       "      <td>...</td>\n",
       "      <td>...</td>\n",
       "      <td>...</td>\n",
       "      <td>...</td>\n",
       "      <td>...</td>\n",
       "      <td>...</td>\n",
       "      <td>...</td>\n",
       "      <td>...</td>\n",
       "      <td>...</td>\n",
       "      <td>...</td>\n",
       "    </tr>\n",
       "    <tr>\n",
       "      <td>228</td>\n",
       "      <td>228</td>\n",
       "      <td>787</td>\n",
       "      <td>28.0</td>\n",
       "      <td>7.0</td>\n",
       "      <td>28.0</td>\n",
       "      <td>8.0</td>\n",
       "      <td>(28.0, 7.0)</td>\n",
       "      <td>(28.0, 8.0)</td>\n",
       "      <td>0.0</td>\n",
       "      <td>-1.0</td>\n",
       "      <td>0.0</td>\n",
       "      <td>0.0</td>\n",
       "      <td>0.0</td>\n",
       "      <td>0.0</td>\n",
       "    </tr>\n",
       "    <tr>\n",
       "      <td>229</td>\n",
       "      <td>229</td>\n",
       "      <td>806</td>\n",
       "      <td>32.0</td>\n",
       "      <td>8.0</td>\n",
       "      <td>33.0</td>\n",
       "      <td>8.0</td>\n",
       "      <td>(32.0, 8.0)</td>\n",
       "      <td>(33.0, 8.0)</td>\n",
       "      <td>-1.0</td>\n",
       "      <td>0.0</td>\n",
       "      <td>1.0</td>\n",
       "      <td>0.0</td>\n",
       "      <td>1.0</td>\n",
       "      <td>1.0</td>\n",
       "    </tr>\n",
       "    <tr>\n",
       "      <td>230</td>\n",
       "      <td>230</td>\n",
       "      <td>524</td>\n",
       "      <td>10.0</td>\n",
       "      <td>3.0</td>\n",
       "      <td>10.0</td>\n",
       "      <td>3.0</td>\n",
       "      <td>(10.0, 3.0)</td>\n",
       "      <td>(10.0, 3.0)</td>\n",
       "      <td>0.0</td>\n",
       "      <td>0.0</td>\n",
       "      <td>0.0</td>\n",
       "      <td>0.0</td>\n",
       "      <td>0.0</td>\n",
       "      <td>0.0</td>\n",
       "    </tr>\n",
       "    <tr>\n",
       "      <td>231</td>\n",
       "      <td>231</td>\n",
       "      <td>333</td>\n",
       "      <td>0.0</td>\n",
       "      <td>1.0</td>\n",
       "      <td>1.0</td>\n",
       "      <td>5.0</td>\n",
       "      <td>(0.0, 1.0)</td>\n",
       "      <td>(1.0, 5.0)</td>\n",
       "      <td>-1.0</td>\n",
       "      <td>-4.0</td>\n",
       "      <td>1.0</td>\n",
       "      <td>0.0</td>\n",
       "      <td>1.0</td>\n",
       "      <td>1.0</td>\n",
       "    </tr>\n",
       "    <tr>\n",
       "      <td>232</td>\n",
       "      <td>232</td>\n",
       "      <td>1070</td>\n",
       "      <td>2.0</td>\n",
       "      <td>2.0</td>\n",
       "      <td>0.0</td>\n",
       "      <td>0.0</td>\n",
       "      <td>(2.0, 2.0)</td>\n",
       "      <td>(0.0, 0.0)</td>\n",
       "      <td>2.0</td>\n",
       "      <td>2.0</td>\n",
       "      <td>4.0</td>\n",
       "      <td>0.0</td>\n",
       "      <td>4.0</td>\n",
       "      <td>2.0</td>\n",
       "    </tr>\n",
       "  </tbody>\n",
       "</table>\n",
       "<p>233 rows × 14 columns</p>\n",
       "</div>"
      ],
      "text/plain": [
       "     level_0  index   0_x   1_x   0_y   1_y     obatuple     obttuple  xdist  \\\n",
       "0          0   1067   2.0  11.0   2.0  11.0  (2.0, 11.0)  (2.0, 11.0)    0.0   \n",
       "1          1    652   6.0   7.0   7.0   7.0   (6.0, 7.0)   (7.0, 7.0)   -1.0   \n",
       "2          2    931  23.0   7.0  23.0   8.0  (23.0, 7.0)  (23.0, 8.0)    0.0   \n",
       "3          3    210  13.0   3.0  13.0   3.0  (13.0, 3.0)  (13.0, 3.0)    0.0   \n",
       "4          4    295   3.0   7.0   3.0   7.0   (3.0, 7.0)   (3.0, 7.0)    0.0   \n",
       "..       ...    ...   ...   ...   ...   ...          ...          ...    ...   \n",
       "228      228    787  28.0   7.0  28.0   8.0  (28.0, 7.0)  (28.0, 8.0)    0.0   \n",
       "229      229    806  32.0   8.0  33.0   8.0  (32.0, 8.0)  (33.0, 8.0)   -1.0   \n",
       "230      230    524  10.0   3.0  10.0   3.0  (10.0, 3.0)  (10.0, 3.0)    0.0   \n",
       "231      231    333   0.0   1.0   1.0   5.0   (0.0, 1.0)   (1.0, 5.0)   -1.0   \n",
       "232      232   1070   2.0   2.0   0.0   0.0   (2.0, 2.0)   (0.0, 0.0)    2.0   \n",
       "\n",
       "     ydist  xsqr  ysqr  distance  distancefinalerror  \n",
       "0      0.0   0.0   0.0       0.0                 0.0  \n",
       "1      0.0   1.0   0.0       1.0                 1.0  \n",
       "2     -1.0   0.0   0.0       0.0                 0.0  \n",
       "3      0.0   0.0   0.0       0.0                 0.0  \n",
       "4      0.0   0.0   0.0       0.0                 0.0  \n",
       "..     ...   ...   ...       ...                 ...  \n",
       "228   -1.0   0.0   0.0       0.0                 0.0  \n",
       "229    0.0   1.0   0.0       1.0                 1.0  \n",
       "230    0.0   0.0   0.0       0.0                 0.0  \n",
       "231   -4.0   1.0   0.0       1.0                 1.0  \n",
       "232    2.0   4.0   0.0       4.0                 2.0  \n",
       "\n",
       "[233 rows x 14 columns]"
      ]
     },
     "execution_count": 274,
     "metadata": {},
     "output_type": "execute_result"
    }
   ],
   "source": [
    "ygroup3 = y1_test.reset_index()\n",
    "ygroup3 = pd.merge(ygroup3, yrfscore, left_index=True, right_index=True)\n",
    "ygroup3['obatuple'] = ygroup3[['0_x', '0_y']].apply(tuple, axis=1)\n",
    "ygroup3['obttuple'] = ygroup3[['1_x', '1_y']].apply(tuple, axis=1)\n",
    "ygroup3['0_x'] = ygroup3['0_x'].astype(float) \n",
    "ygroup3['1_x'] = ygroup3['1_x'].astype(float) \n",
    "ygroup3['0_y'] = ygroup3['0_y'].astype(float) \n",
    "ygroup3['1_y'] = ygroup3['1_y'].astype(float) \n",
    "ygroup3['xdist'] = ygroup3['0_x'] - ygroup3['0_y']\n",
    "ygroup3['ydist'] = ygroup3['1_x'] - ygroup3['1_y']\n",
    "ygroup3['xsqr'] = (ygroup3['0_x'] - ygroup3['0_y'])**2\n",
    "ygroup3['ysqr'] = (ygroup3['1_y'] - ygroup3['1_y'])**2\n",
    "ygroup3['distance'] = ygroup3['xsqr'] + ygroup3['ysqr']\n",
    "ygroup3['distancefinalerror'] = np.sqrt(ygroup3['distance'])\n",
    "\n",
    "ygroup3['obatuple'] = ygroup3[['0_x', '1_x']].apply(tuple, axis=1)\n",
    "ygroup3['obttuple'] = ygroup3[['0_y', '1_y']].apply(tuple, axis=1) \n",
    "ygroup3"
   ]
  },
  {
   "cell_type": "code",
   "execution_count": 275,
   "metadata": {},
   "outputs": [
    {
     "data": {
      "text/plain": [
       "0.9484978540772532"
      ]
     },
     "execution_count": 275,
     "metadata": {},
     "output_type": "execute_result"
    }
   ],
   "source": [
    "ygroup3['distancefinalerror'].mean()"
   ]
  },
  {
   "cell_type": "code",
   "execution_count": 276,
   "metadata": {},
   "outputs": [
    {
     "data": {
      "text/plain": [
       "221.0"
      ]
     },
     "execution_count": 276,
     "metadata": {},
     "output_type": "execute_result"
    }
   ],
   "source": [
    "ygroup3['distancefinalerror'].sum()"
   ]
  },
  {
   "cell_type": "code",
   "execution_count": 277,
   "metadata": {},
   "outputs": [
    {
     "data": {
      "text/plain": [
       "Text(0.5,1,'Actual and predicted values')"
      ]
     },
     "execution_count": 277,
     "metadata": {},
     "output_type": "execute_result"
    },
    {
     "data": {
      "image/png": "[encoded data removed]",
      "text/plain": [
       "<Figure size 432x288 with 1 Axes>"
      ]
     },
     "metadata": {
      "needs_background": "light"
     },
     "output_type": "display_data"
    }
   ],
   "source": [
    "from matplotlib import pyplot as plt\n",
    "import numpy as np\n",
    "%matplotlib inline\n",
    "plt.scatter(y1_test[0], y1_test[1], c = 'blue', label = 'Actual')\n",
    "plt.scatter(yrfscore[0], yrfscore[1], c = 'red', label = 'Predicted')\n",
    "\n",
    "\n",
    "plt.title('Actual and predicted values')\n",
    "plt.title('Actual and predicted values')"
   ]
  },
  {
   "cell_type": "code",
   "execution_count": 324,
   "metadata": {},
   "outputs": [
    {
     "data": {
      "image/png": "[encoded data removed]",
      "text/plain": [
       "<Figure size 432x288 with 1 Axes>"
      ]
     },
     "metadata": {
      "needs_background": "light"
     },
     "output_type": "display_data"
    }
   ],
   "source": [
    "for i, row in ygroup3.iterrows():\n",
    "    x1, x2 = ygroup3.loc[i,'0_x'], ygroup3.loc[i,'0_y']\n",
    "    y1, y2 = ygroup3.loc[i,'1_x'], ygroup3.loc[i,'1_y']\n",
    "    plt.plot([x1,x2], [y1,y2],'k-')"
   ]
  },
  {
   "cell_type": "code",
   "execution_count": null,
   "metadata": {},
   "outputs": [],
   "source": []
  }
 ],
 "metadata": {
  "colab": {
   "collapsed_sections": [],
   "name": "Copy of Lab2_DC.ipynb",
   "provenance": [],
   "toc_visible": true
  },
  "kernelspec": {
   "display_name": "Python 3.7.1 64-bit ('ML7331': conda)",
   "language": "python",
   "name": "python37164bitml7331condaf5c5c353a7fa46f5b783ad99991c2b10"
  },
  "language_info": {
   "codemirror_mode": {
    "name": "ipython",
    "version": 3
   },
   "file_extension": ".py",
   "mimetype": "text/x-python",
   "name": "python",
   "nbconvert_exporter": "python",
   "pygments_lexer": "ipython3",
   "version": "3.7.1"
  }
 },
 "nbformat": 4,
 "nbformat_minor": 1
}
