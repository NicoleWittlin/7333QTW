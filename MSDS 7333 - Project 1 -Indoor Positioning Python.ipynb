{
 "cells": [
  {
   "cell_type": "markdown",
   "metadata": {
    "colab_type": "text",
    "id": "-yNWpXMe4Jfa"
   },
   "source": [
    "## MSDS 7333 Project 1 -- Predicting Location via Indoor Positioning Systems\n",
    "\n",
    "#### Stephen Hayden, Joe Schueder, Nicole Witten, Kevin Mendonsa\n",
    "\n"
   ]
  },
  {
   "cell_type": "markdown",
   "metadata": {
    "colab_type": "text",
    "id": "RZMu95a14g15"
   },
   "source": [
    "### Introduction\n",
    "\n",
    "The Iowa Liquor  Sales dataset is an API from Google’s Bigquery which contains the wholesale purchases by retail stores in the Iowa area. The dataset includes the spirit purchase details by product, date of purchase, and location the item was purchased from an Iowa Class “E” liquor license holder (retail stores). The time frame of this data starts from January 1, 2012 through December 31, 2019. As part of the study commissioned by the Iowa Department of Commerce, all alcoholic sales within the state were logged into the Department system, and in turn, published as open data by the State of Iowa. The dataset contains detail on the name, product, quantity and location of the individual container or package sale between the wholesaler (vendor) and the retailer."
   ]
  },
  {
   "cell_type": "code",
   "execution_count": 0,
   "metadata": {
    "colab": {
     "base_uri": "https://localhost:8080/",
     "height": 1000
    },
    "colab_type": "code",
    "id": "v9WmuBys4fB5",
    "outputId": "c64365b7-e821-4493-f44a-48c4f931d5aa"
   },
   "outputs": [
    {
     "name": "stdout",
     "output_type": "stream",
     "text": [
      "<class 'pandas.core.frame.DataFrame'>\n",
      "RangeIndex: 40000 entries, 0 to 39999\n",
      "Data columns (total 68 columns):\n",
      "Unnamed: 0                  40000 non-null int64\n",
      "pack                        40000 non-null int64\n",
      "bottle_volume_ml            40000 non-null int64\n",
      "state_bottle_cost           40000 non-null float64\n",
      "state_bottle_retail         40000 non-null float64\n",
      "bottles_sold                40000 non-null int64\n",
      "sale_dollars                40000 non-null float64\n",
      "volume_sold_liters          40000 non-null float64\n",
      "volume_sold_gallons         40000 non-null float64\n",
      "counter                     40000 non-null int64\n",
      "liquor_category             40000 non-null object\n",
      "store_parent                40000 non-null object\n",
      "month                       40000 non-null object\n",
      "year                        40000 non-null int64\n",
      "monthyear                   40000 non-null object\n",
      "liquor_category_AMARETTO    40000 non-null int64\n",
      "liquor_category_BRANDY      40000 non-null int64\n",
      "liquor_category_GIN         40000 non-null int64\n",
      "liquor_category_LIQUEUR     40000 non-null int64\n",
      "liquor_category_Other       40000 non-null int64\n",
      "liquor_category_RUM         40000 non-null int64\n",
      "liquor_category_SCHNAPPS    40000 non-null int64\n",
      "liquor_category_TEQUILA     40000 non-null int64\n",
      "liquor_category_VODKA       40000 non-null int64\n",
      "liquor_category_WHISKY      40000 non-null int64\n",
      "store_parent_CVS            40000 non-null int64\n",
      "store_parent_Caseys         40000 non-null int64\n",
      "store_parent_Hy-Vee         40000 non-null int64\n",
      "store_parent_Kum&Go         40000 non-null int64\n",
      "store_parent_Other          40000 non-null int64\n",
      "store_parent_QuikTrip       40000 non-null int64\n",
      "store_parent_SamsClub       40000 non-null int64\n",
      "store_parent_SmokingJoes    40000 non-null int64\n",
      "store_parent_Target         40000 non-null int64\n",
      "store_parent_Wal-Mart       40000 non-null int64\n",
      "store_parent_Walgreens      40000 non-null int64\n",
      "month_Apr                   40000 non-null int64\n",
      "month_Aug                   40000 non-null int64\n",
      "month_Dec                   40000 non-null int64\n",
      "month_Feb                   40000 non-null int64\n",
      "month_Jan                   40000 non-null int64\n",
      "month_Jul                   40000 non-null int64\n",
      "month_Jun                   40000 non-null int64\n",
      "month_Mar                   40000 non-null int64\n",
      "month_May                   40000 non-null int64\n",
      "month_Nov                   40000 non-null int64\n",
      "month_Oct                   40000 non-null int64\n",
      "month_Sep                   40000 non-null int64\n",
      "year_2019                   40000 non-null int64\n",
      "monthyear_Apr-2019          40000 non-null int64\n",
      "monthyear_Aug-2019          40000 non-null int64\n",
      "monthyear_Dec-2019          40000 non-null int64\n",
      "monthyear_Feb-2019          40000 non-null int64\n",
      "monthyear_Jan-2019          40000 non-null int64\n",
      "monthyear_Jul-2019          40000 non-null int64\n",
      "monthyear_Jun-2019          40000 non-null int64\n",
      "monthyear_Mar-2019          40000 non-null int64\n",
      "monthyear_May-2019          40000 non-null int64\n",
      "monthyear_Nov-2019          40000 non-null int64\n",
      "monthyear_Oct-2019          40000 non-null int64\n",
      "monthyear_Sep-2019          40000 non-null int64\n",
      "sale_dollars_trans          40000 non-null float64\n",
      "cost_per_liter              40000 non-null float64\n",
      "cost_per_liter_trans        40000 non-null float64\n",
      "state_bottle_cost_trans     40000 non-null float64\n",
      "bottles_sold_trans          40000 non-null float64\n",
      "volume_sold_liters_trans    40000 non-null float64\n",
      "grossmargin                 40000 non-null float64\n",
      "dtypes: float64(12), int64(52), object(4)\n",
      "memory usage: 20.8+ MB\n"
     ]
    }
   ],
   "source": [
    "import pandas as pd\n",
    "\n",
    "url_dataset = 'https://raw.githubusercontent.com/jjschueder/7331DataMiningNotebooks/master/Live%20Assignments/df1hotmerge2.csv'\n",
    "data = pd.read_csv(url_dataset, nrows = 40000)\n",
    "data.info()"
   ]
  },
  {
   "cell_type": "markdown",
   "metadata": {
    "colab_type": "text",
    "id": "u55a530V-H5n"
   },
   "source": [
    "Here you can see that we have 40,000 non null objects one-hot encoded to include month, year, store name and alcohol type. For our previous classification analysis, we dropped the liquor category and all the liquor types and just used the binary classification for Whiskey and Non-Whiskey. With 1 representing whether the liquor type was whiskey and 0 representing a non whiskey. "
   ]
  },
  {
   "cell_type": "code",
   "execution_count": 0,
   "metadata": {
    "colab": {
     "base_uri": "https://localhost:8080/",
     "height": 243
    },
    "colab_type": "code",
    "id": "ZSxAGB4B6nLq",
    "outputId": "cab7e950-36dd-441b-c589-35b5244750e1"
   },
   "outputs": [
    {
     "name": "stdout",
     "output_type": "stream",
     "text": [
      "(40000, 68)\n"
     ]
    },
    {
     "data": {
      "text/html": [
       "<div>\n",
       "<style scoped>\n",
       "    .dataframe tbody tr th:only-of-type {\n",
       "        vertical-align: middle;\n",
       "    }\n",
       "\n",
       "    .dataframe tbody tr th {\n",
       "        vertical-align: top;\n",
       "    }\n",
       "\n",
       "    .dataframe thead th {\n",
       "        text-align: right;\n",
       "    }\n",
       "</style>\n",
       "<table border=\"1\" class=\"dataframe\">\n",
       "  <thead>\n",
       "    <tr style=\"text-align: right;\">\n",
       "      <th></th>\n",
       "      <th>Unnamed: 0</th>\n",
       "      <th>pack</th>\n",
       "      <th>bottle_volume_ml</th>\n",
       "      <th>state_bottle_cost</th>\n",
       "      <th>state_bottle_retail</th>\n",
       "      <th>bottles_sold</th>\n",
       "      <th>sale_dollars</th>\n",
       "      <th>volume_sold_liters</th>\n",
       "      <th>volume_sold_gallons</th>\n",
       "      <th>counter</th>\n",
       "      <th>liquor_category</th>\n",
       "      <th>store_parent</th>\n",
       "      <th>month</th>\n",
       "      <th>year</th>\n",
       "      <th>monthyear</th>\n",
       "      <th>liquor_category_AMARETTO</th>\n",
       "      <th>liquor_category_BRANDY</th>\n",
       "      <th>liquor_category_GIN</th>\n",
       "      <th>liquor_category_LIQUEUR</th>\n",
       "      <th>liquor_category_Other</th>\n",
       "      <th>liquor_category_RUM</th>\n",
       "      <th>liquor_category_SCHNAPPS</th>\n",
       "      <th>liquor_category_TEQUILA</th>\n",
       "      <th>liquor_category_VODKA</th>\n",
       "      <th>liquor_category_WHISKY</th>\n",
       "      <th>store_parent_CVS</th>\n",
       "      <th>store_parent_Caseys</th>\n",
       "      <th>store_parent_Hy-Vee</th>\n",
       "      <th>store_parent_Kum&amp;Go</th>\n",
       "      <th>store_parent_Other</th>\n",
       "      <th>store_parent_QuikTrip</th>\n",
       "      <th>store_parent_SamsClub</th>\n",
       "      <th>store_parent_SmokingJoes</th>\n",
       "      <th>store_parent_Target</th>\n",
       "      <th>store_parent_Wal-Mart</th>\n",
       "      <th>store_parent_Walgreens</th>\n",
       "      <th>month_Apr</th>\n",
       "      <th>month_Aug</th>\n",
       "      <th>month_Dec</th>\n",
       "      <th>month_Feb</th>\n",
       "      <th>month_Jan</th>\n",
       "      <th>month_Jul</th>\n",
       "      <th>month_Jun</th>\n",
       "      <th>month_Mar</th>\n",
       "      <th>month_May</th>\n",
       "      <th>month_Nov</th>\n",
       "      <th>month_Oct</th>\n",
       "      <th>month_Sep</th>\n",
       "      <th>year_2019</th>\n",
       "      <th>monthyear_Apr-2019</th>\n",
       "      <th>monthyear_Aug-2019</th>\n",
       "      <th>monthyear_Dec-2019</th>\n",
       "      <th>monthyear_Feb-2019</th>\n",
       "      <th>monthyear_Jan-2019</th>\n",
       "      <th>monthyear_Jul-2019</th>\n",
       "      <th>monthyear_Jun-2019</th>\n",
       "      <th>monthyear_Mar-2019</th>\n",
       "      <th>monthyear_May-2019</th>\n",
       "      <th>monthyear_Nov-2019</th>\n",
       "      <th>monthyear_Oct-2019</th>\n",
       "      <th>monthyear_Sep-2019</th>\n",
       "      <th>sale_dollars_trans</th>\n",
       "      <th>cost_per_liter</th>\n",
       "      <th>cost_per_liter_trans</th>\n",
       "      <th>state_bottle_cost_trans</th>\n",
       "      <th>bottles_sold_trans</th>\n",
       "      <th>volume_sold_liters_trans</th>\n",
       "      <th>grossmargin</th>\n",
       "    </tr>\n",
       "  </thead>\n",
       "  <tbody>\n",
       "    <tr>\n",
       "      <th>0</th>\n",
       "      <td>0</td>\n",
       "      <td>20</td>\n",
       "      <td>375</td>\n",
       "      <td>3.85</td>\n",
       "      <td>5.78</td>\n",
       "      <td>20</td>\n",
       "      <td>115.60</td>\n",
       "      <td>7.50</td>\n",
       "      <td>1.98</td>\n",
       "      <td>1</td>\n",
       "      <td>Other</td>\n",
       "      <td>Other</td>\n",
       "      <td>Nov</td>\n",
       "      <td>2019</td>\n",
       "      <td>Nov-19</td>\n",
       "      <td>0</td>\n",
       "      <td>0</td>\n",
       "      <td>0</td>\n",
       "      <td>0</td>\n",
       "      <td>1</td>\n",
       "      <td>0</td>\n",
       "      <td>0</td>\n",
       "      <td>0</td>\n",
       "      <td>0</td>\n",
       "      <td>0</td>\n",
       "      <td>0</td>\n",
       "      <td>0</td>\n",
       "      <td>0</td>\n",
       "      <td>0</td>\n",
       "      <td>1</td>\n",
       "      <td>0</td>\n",
       "      <td>0</td>\n",
       "      <td>0</td>\n",
       "      <td>0</td>\n",
       "      <td>0</td>\n",
       "      <td>0</td>\n",
       "      <td>0</td>\n",
       "      <td>0</td>\n",
       "      <td>0</td>\n",
       "      <td>0</td>\n",
       "      <td>0</td>\n",
       "      <td>0</td>\n",
       "      <td>0</td>\n",
       "      <td>0</td>\n",
       "      <td>0</td>\n",
       "      <td>1</td>\n",
       "      <td>0</td>\n",
       "      <td>0</td>\n",
       "      <td>1</td>\n",
       "      <td>0</td>\n",
       "      <td>0</td>\n",
       "      <td>0</td>\n",
       "      <td>0</td>\n",
       "      <td>0</td>\n",
       "      <td>0</td>\n",
       "      <td>0</td>\n",
       "      <td>0</td>\n",
       "      <td>0</td>\n",
       "      <td>1</td>\n",
       "      <td>0</td>\n",
       "      <td>0</td>\n",
       "      <td>4.750136</td>\n",
       "      <td>15.413333</td>\n",
       "      <td>2.735233</td>\n",
       "      <td>1.348073</td>\n",
       "      <td>2.995732</td>\n",
       "      <td>2.014903</td>\n",
       "      <td>0.333910</td>\n",
       "    </tr>\n",
       "    <tr>\n",
       "      <th>1</th>\n",
       "      <td>1</td>\n",
       "      <td>8</td>\n",
       "      <td>50</td>\n",
       "      <td>8.75</td>\n",
       "      <td>13.13</td>\n",
       "      <td>1</td>\n",
       "      <td>13.13</td>\n",
       "      <td>0.05</td>\n",
       "      <td>0.01</td>\n",
       "      <td>1</td>\n",
       "      <td>Other</td>\n",
       "      <td>Other</td>\n",
       "      <td>Nov</td>\n",
       "      <td>2019</td>\n",
       "      <td>Nov-19</td>\n",
       "      <td>0</td>\n",
       "      <td>0</td>\n",
       "      <td>0</td>\n",
       "      <td>0</td>\n",
       "      <td>1</td>\n",
       "      <td>0</td>\n",
       "      <td>0</td>\n",
       "      <td>0</td>\n",
       "      <td>0</td>\n",
       "      <td>0</td>\n",
       "      <td>0</td>\n",
       "      <td>0</td>\n",
       "      <td>0</td>\n",
       "      <td>0</td>\n",
       "      <td>1</td>\n",
       "      <td>0</td>\n",
       "      <td>0</td>\n",
       "      <td>0</td>\n",
       "      <td>0</td>\n",
       "      <td>0</td>\n",
       "      <td>0</td>\n",
       "      <td>0</td>\n",
       "      <td>0</td>\n",
       "      <td>0</td>\n",
       "      <td>0</td>\n",
       "      <td>0</td>\n",
       "      <td>0</td>\n",
       "      <td>0</td>\n",
       "      <td>0</td>\n",
       "      <td>0</td>\n",
       "      <td>1</td>\n",
       "      <td>0</td>\n",
       "      <td>0</td>\n",
       "      <td>1</td>\n",
       "      <td>0</td>\n",
       "      <td>0</td>\n",
       "      <td>0</td>\n",
       "      <td>0</td>\n",
       "      <td>0</td>\n",
       "      <td>0</td>\n",
       "      <td>0</td>\n",
       "      <td>0</td>\n",
       "      <td>0</td>\n",
       "      <td>1</td>\n",
       "      <td>0</td>\n",
       "      <td>0</td>\n",
       "      <td>2.574900</td>\n",
       "      <td>262.600000</td>\n",
       "      <td>5.570632</td>\n",
       "      <td>2.169054</td>\n",
       "      <td>0.000000</td>\n",
       "      <td>-2.995732</td>\n",
       "      <td>0.333587</td>\n",
       "    </tr>\n",
       "    <tr>\n",
       "      <th>2</th>\n",
       "      <td>2</td>\n",
       "      <td>12</td>\n",
       "      <td>1000</td>\n",
       "      <td>16.50</td>\n",
       "      <td>24.75</td>\n",
       "      <td>6</td>\n",
       "      <td>148.50</td>\n",
       "      <td>6.00</td>\n",
       "      <td>1.58</td>\n",
       "      <td>1</td>\n",
       "      <td>GIN</td>\n",
       "      <td>Hy-Vee</td>\n",
       "      <td>May</td>\n",
       "      <td>2019</td>\n",
       "      <td>May-19</td>\n",
       "      <td>0</td>\n",
       "      <td>0</td>\n",
       "      <td>1</td>\n",
       "      <td>0</td>\n",
       "      <td>0</td>\n",
       "      <td>0</td>\n",
       "      <td>0</td>\n",
       "      <td>0</td>\n",
       "      <td>0</td>\n",
       "      <td>0</td>\n",
       "      <td>0</td>\n",
       "      <td>0</td>\n",
       "      <td>1</td>\n",
       "      <td>0</td>\n",
       "      <td>0</td>\n",
       "      <td>0</td>\n",
       "      <td>0</td>\n",
       "      <td>0</td>\n",
       "      <td>0</td>\n",
       "      <td>0</td>\n",
       "      <td>0</td>\n",
       "      <td>0</td>\n",
       "      <td>0</td>\n",
       "      <td>0</td>\n",
       "      <td>0</td>\n",
       "      <td>0</td>\n",
       "      <td>0</td>\n",
       "      <td>0</td>\n",
       "      <td>0</td>\n",
       "      <td>1</td>\n",
       "      <td>0</td>\n",
       "      <td>0</td>\n",
       "      <td>0</td>\n",
       "      <td>1</td>\n",
       "      <td>0</td>\n",
       "      <td>0</td>\n",
       "      <td>0</td>\n",
       "      <td>0</td>\n",
       "      <td>0</td>\n",
       "      <td>0</td>\n",
       "      <td>0</td>\n",
       "      <td>0</td>\n",
       "      <td>1</td>\n",
       "      <td>0</td>\n",
       "      <td>0</td>\n",
       "      <td>0</td>\n",
       "      <td>5.000585</td>\n",
       "      <td>24.750000</td>\n",
       "      <td>3.208825</td>\n",
       "      <td>2.803360</td>\n",
       "      <td>1.791759</td>\n",
       "      <td>1.791759</td>\n",
       "      <td>0.333333</td>\n",
       "    </tr>\n",
       "    <tr>\n",
       "      <th>3</th>\n",
       "      <td>3</td>\n",
       "      <td>6</td>\n",
       "      <td>750</td>\n",
       "      <td>21.17</td>\n",
       "      <td>31.76</td>\n",
       "      <td>24</td>\n",
       "      <td>762.24</td>\n",
       "      <td>18.00</td>\n",
       "      <td>4.75</td>\n",
       "      <td>1</td>\n",
       "      <td>WHISKY</td>\n",
       "      <td>Hy-Vee</td>\n",
       "      <td>Nov</td>\n",
       "      <td>2019</td>\n",
       "      <td>Nov-19</td>\n",
       "      <td>0</td>\n",
       "      <td>0</td>\n",
       "      <td>0</td>\n",
       "      <td>0</td>\n",
       "      <td>0</td>\n",
       "      <td>0</td>\n",
       "      <td>0</td>\n",
       "      <td>0</td>\n",
       "      <td>0</td>\n",
       "      <td>1</td>\n",
       "      <td>0</td>\n",
       "      <td>0</td>\n",
       "      <td>1</td>\n",
       "      <td>0</td>\n",
       "      <td>0</td>\n",
       "      <td>0</td>\n",
       "      <td>0</td>\n",
       "      <td>0</td>\n",
       "      <td>0</td>\n",
       "      <td>0</td>\n",
       "      <td>0</td>\n",
       "      <td>0</td>\n",
       "      <td>0</td>\n",
       "      <td>0</td>\n",
       "      <td>0</td>\n",
       "      <td>0</td>\n",
       "      <td>0</td>\n",
       "      <td>0</td>\n",
       "      <td>0</td>\n",
       "      <td>0</td>\n",
       "      <td>1</td>\n",
       "      <td>0</td>\n",
       "      <td>0</td>\n",
       "      <td>1</td>\n",
       "      <td>0</td>\n",
       "      <td>0</td>\n",
       "      <td>0</td>\n",
       "      <td>0</td>\n",
       "      <td>0</td>\n",
       "      <td>0</td>\n",
       "      <td>0</td>\n",
       "      <td>0</td>\n",
       "      <td>0</td>\n",
       "      <td>1</td>\n",
       "      <td>0</td>\n",
       "      <td>0</td>\n",
       "      <td>6.636261</td>\n",
       "      <td>42.346667</td>\n",
       "      <td>3.745890</td>\n",
       "      <td>3.052585</td>\n",
       "      <td>3.178054</td>\n",
       "      <td>2.890372</td>\n",
       "      <td>0.333438</td>\n",
       "    </tr>\n",
       "    <tr>\n",
       "      <th>4</th>\n",
       "      <td>4</td>\n",
       "      <td>6</td>\n",
       "      <td>1750</td>\n",
       "      <td>9.31</td>\n",
       "      <td>13.97</td>\n",
       "      <td>12</td>\n",
       "      <td>167.64</td>\n",
       "      <td>21.00</td>\n",
       "      <td>5.54</td>\n",
       "      <td>1</td>\n",
       "      <td>Other</td>\n",
       "      <td>Hy-Vee</td>\n",
       "      <td>Nov</td>\n",
       "      <td>2019</td>\n",
       "      <td>Nov-19</td>\n",
       "      <td>0</td>\n",
       "      <td>0</td>\n",
       "      <td>0</td>\n",
       "      <td>0</td>\n",
       "      <td>1</td>\n",
       "      <td>0</td>\n",
       "      <td>0</td>\n",
       "      <td>0</td>\n",
       "      <td>0</td>\n",
       "      <td>0</td>\n",
       "      <td>0</td>\n",
       "      <td>0</td>\n",
       "      <td>1</td>\n",
       "      <td>0</td>\n",
       "      <td>0</td>\n",
       "      <td>0</td>\n",
       "      <td>0</td>\n",
       "      <td>0</td>\n",
       "      <td>0</td>\n",
       "      <td>0</td>\n",
       "      <td>0</td>\n",
       "      <td>0</td>\n",
       "      <td>0</td>\n",
       "      <td>0</td>\n",
       "      <td>0</td>\n",
       "      <td>0</td>\n",
       "      <td>0</td>\n",
       "      <td>0</td>\n",
       "      <td>0</td>\n",
       "      <td>0</td>\n",
       "      <td>1</td>\n",
       "      <td>0</td>\n",
       "      <td>0</td>\n",
       "      <td>1</td>\n",
       "      <td>0</td>\n",
       "      <td>0</td>\n",
       "      <td>0</td>\n",
       "      <td>0</td>\n",
       "      <td>0</td>\n",
       "      <td>0</td>\n",
       "      <td>0</td>\n",
       "      <td>0</td>\n",
       "      <td>0</td>\n",
       "      <td>1</td>\n",
       "      <td>0</td>\n",
       "      <td>0</td>\n",
       "      <td>5.121819</td>\n",
       "      <td>7.982857</td>\n",
       "      <td>2.077296</td>\n",
       "      <td>2.231089</td>\n",
       "      <td>2.484907</td>\n",
       "      <td>3.044522</td>\n",
       "      <td>0.333572</td>\n",
       "    </tr>\n",
       "  </tbody>\n",
       "</table>\n",
       "</div>"
      ],
      "text/plain": [
       "   Unnamed: 0  pack  ...  volume_sold_liters_trans  grossmargin\n",
       "0           0    20  ...                  2.014903     0.333910\n",
       "1           1     8  ...                 -2.995732     0.333587\n",
       "2           2    12  ...                  1.791759     0.333333\n",
       "3           3     6  ...                  2.890372     0.333438\n",
       "4           4     6  ...                  3.044522     0.333572\n",
       "\n",
       "[5 rows x 68 columns]"
      ]
     },
     "execution_count": 123,
     "metadata": {
      "tags": []
     },
     "output_type": "execute_result"
    }
   ],
   "source": [
    "# Import all necessary libraries we will be using in our dataset\n",
    "\n",
    "import pandas as pd\n",
    "import numpy as np\n",
    "import matplotlib\n",
    "import matplotlib.pyplot as plt\n",
    "import seaborn as sns\n",
    "import math\n",
    "import re\n",
    "import sklearn\n",
    "import statistics\n",
    "import random\n",
    "\n",
    "from sklearn.feature_selection import SelectKBest, chi2, SelectPercentile, RFE, SelectFromModel\n",
    "\n",
    "from sklearn.preprocessing import StandardScaler, Binarizer\n",
    "\n",
    "from sklearn.linear_model import LogisticRegression, SGDClassifier\n",
    "from sklearn.svm import SVC, LinearSVC\n",
    "\n",
    "from sklearn.metrics import accuracy_score, confusion_matrix, roc_auc_score, auc, roc_curve\n",
    "from IPython.display import display, HTML\n",
    "\n",
    "from sklearn.pipeline import make_pipeline, Pipeline\n",
    "from sklearn.model_selection import train_test_split, GridSearchCV, KFold, TimeSeriesSplit, StratifiedShuffleSplit\n",
    "\n",
    "from sklearn.naive_bayes import MultinomialNB\n",
    "\n",
    "from sklearn.ensemble import GradientBoostingClassifier,GradientBoostingRegressor,AdaBoostClassifier,RandomForestClassifier, BaggingClassifier\n",
    "from sklearn.tree import DecisionTreeClassifier\n",
    "from sklearn.linear_model import LogisticRegression\n",
    "from sklearn.neighbors import KNeighborsClassifier\n",
    "\n",
    "%matplotlib inline\n",
    "\n",
    "matplotlib.style.use('ggplot')\n",
    "\n",
    "import warnings\n",
    "warnings.filterwarnings('ignore')\n",
    "print(data.shape)\n",
    "data.head()\n"
   ]
  },
  {
   "cell_type": "markdown",
   "metadata": {
    "colab_type": "text",
    "id": "DUW_wNlNCTll"
   },
   "source": [
    "**Our data Preparation includes the folloiwng layout**\n",
    "\n",
    "*   Since we are predicting our liquor category type (opening to the entire list of categories and not just one), we can assign them a numerical value.\n",
    "* Create new variables using aggredate data on profit, total cost and revenue\n",
    "*   Since we transformed a number of continuous variables, we can drop them so that we are working directly on our normalized data\n",
    "\n",
    "\n"
   ]
  },
  {
   "cell_type": "markdown",
   "metadata": {
    "colab_type": "text",
    "id": "vlmmpWgzQfQC"
   },
   "source": [
    "## Modeling and Evaluation 1\n",
    "\n",
    "Within this notebook, we have built multiple models to evaluate two classification problems.  The first, is a multi-classification problem in which our goal is to correctly classify the alcohol category based on sales data.  The second, is a binary classification to determine whether the alcohol sold is from a Hy-vee store vs a Non-Hy-vee store.  A detailed description of the metrics we will use to evaluate the models are noted below.\n",
    "\n",
    "An ROC curve, also known as a Reciever Operation Characteristic Curve is a plot that calculates and can be used to compare the classifiers we will use in our modeling along with the true positive rate (TPR) and false positive rate (FPR) they convey. From a topline level, you can use the Area Under the Curve (AUC) to help detirmine which can better pair an observation with the correct liquor cateogry. An AUC score of 1.0 denotes a perfect classifier and an area of 0.5 represents a model is no better than a random guess.\n",
    "\n",
    "In addition to the ROC-AUC value we will use to evaluate classifiers, we will be using other evaluators as well. \n",
    "\n",
    "**Accuracy** - Accuracy is the total number of correct predictions over the total number of predictions made. Accuracy will be plotted in our AUC curve and, while not perfect, is a good singlular measure to evaluate a model. Just be careful that we aren't overclassifying unbalalnced variables. \n",
    "\n",
    "Accuracy = (TP + TN)/(TP + FP + FN + TN)\n",
    "\n",
    "**Precision** - Precision is the Proportions of true positives over the total number of positive outcomes whether accurately predicted or inaccurately predicted. Precision is useful to us because it will help us better understand which model is accurately picking correct classes and not resting on selecting incorrect classes. \n",
    "\n",
    "Precision = (TP) / (TP + FP)\n",
    "\n",
    "**Recall** - Also known as sensitivity, recall is the proportion of positive outcomes that were correctly classified by our model. Essentially it tells us how many values we incorrectly predicted while the precision can tell us more about what we correctly classified. Recall is good as a pair with precision, as it will help us tell if our model is overfit or selecting a single class and not training itself. \n",
    "\n",
    "Recall/Sensitivity = (TP) / (TP + FN)\n",
    "\n",
    "**F1 Score** - Another measure of accuracy that accounts for the true negatives and false positives. \n",
    "\n",
    "F1 score = 2(True Positive Rate * True Negatives)/(True Positives + True Negatives)\n",
    "\n",
    "The aim of our modeling is to focus on maximizing our precision, recall, and accuracy scores in our models\n",
    "\n"
   ]
  },
  {
   "cell_type": "code",
   "execution_count": 0,
   "metadata": {
    "colab": {},
    "colab_type": "code",
    "id": "mdb5L4AI6X0Q"
   },
   "outputs": [],
   "source": [
    "#Source: https://github.com/jakemdrew/EducationDataNC/blob/master/2017/Models/2017ComparingSegregatedMiddleSchoolCampuses.ipynb\n",
    "from sklearn.model_selection import cross_validate\n",
    "from sklearn.model_selection import StratifiedKFold\n",
    "cv = StratifiedKFold(n_splits=10)\n",
    "\n",
    "\n",
    "def EvaluateClassifierEstimator(classifierEstimator, X, Y2, cv):\n",
    "\n",
    "\n",
    "\n",
    "#Perform cross validation \n",
    "    scores = cross_validate(classifierEstimator, X, Y2,\n",
    "                            scoring=['accuracy', 'precision','recall'], \n",
    "                            cv=cv, return_train_score=True, \n",
    "                            )\n",
    "\n",
    "    Accavg = scores['test_accuracy'].mean()\n",
    "    Preavg = scores['test_precision'].mean()\n",
    "    Rreavg = scores['test_recall'].mean()\n",
    "\n",
    "    print_str = \"The average accuracy for all cv folds is: \\t\\t\\t {Accavg:.5}\"\n",
    "    print_str2 = \"The average precision for all cv folds is: \\t\\t\\t {Preavg:.5}\"\n",
    "    print_str3 = \"The average Recall for all cv folds is: \\t\\t\\t {Rreavg:.5}\"\n",
    "\n",
    "    print(print_str.format(Accavg=Accavg))\n",
    "    print(print_str2.format(Preavg=Preavg))\n",
    "    print(print_str3.format(Rreavg=Rreavg))\n",
    "    print('*********************************************************')\n",
    "\n",
    "    print('Cross Validation Fold Mean Error Scores')\n",
    "    scoresResults = pd.DataFrame()\n",
    "    scoresResults['Accuracy'] = scores['test_accuracy']\n",
    "    scoresResults['Precision'] = scores['test_precision']\n",
    "    scoresResults['Recall'] = scores['test_recall']\n",
    "    print(scoresResults)\n",
    "    return scoresResults\n",
    "\n",
    "def EvaluateClassifierEstimator2(classifierEstimator, X, Y2, cv):\n",
    "    \n",
    "  #Perform cross validation \n",
    "  from sklearn.model_selection import cross_val_predict\n",
    "  predictions = cross_val_predict(classifierEstimator, \n",
    "                                  X, Y2, cv=cv)\n",
    "    \n",
    "#model evaluation \n",
    "  from sklearn.metrics import classification_report, confusion_matrix, accuracy_score\n",
    "\n",
    "#pass true test set values and predictions to classification_report\n",
    "  classReport = classification_report(Y2,predictions)\n",
    "  confMat = confusion_matrix(Y2,predictions)\n",
    "  acc = accuracy_score(Y2,predictions)\n",
    "    \n",
    "  print(classReport)\n",
    "  print(confMat)\n",
    "  print(acc)\n",
    "    \n",
    "def EvaluateClassifierEstimator3(classifierEstimator, X, Y2, cv):\n",
    "  from sklearn import metrics as mt\n",
    "  for fold, (train_index, test_index) in enumerate(cv.split(X,Y2)):\n",
    "     X_train = X[train_index]    \n",
    "     y_train = Y2[train_index]  # Based on your code, you might need a ravel call here, but I would look into how you're generating your y\n",
    "     X_test = X[test_index]\n",
    "     y_test = Y2[test_index]  # See comment on ravel and  y_train\n",
    "     sm = SMOTE(random_state=101)\n",
    "     X_train_oversampled, y_train_oversampled = sm.fit_sample(X_train, y_train)\n",
    "     classifierEstimator.fit(X_train, y_train) \n",
    "     y_pred = classifierEstimator.predict(X_test)\n",
    "     acc = mt.accuracy_score(y_test,y_pred)\n",
    "     conf = mt.confusion_matrix(y_test,y_pred)\n",
    "     print(\"====Iteration\",fold,\" ====\")\n",
    "     print(\"accuracy\", acc )\n",
    "     print(\"confusion matrix\\n\",conf)\n"
   ]
  },
  {
   "cell_type": "markdown",
   "metadata": {
    "colab_type": "text",
    "id": "3TWp5arOWqMM"
   },
   "source": [
    "## Modeling and Evaluation 2\n",
    "Choose the method you will use for dividing your data into training and testing splits (i.e., are you using Stratified 10-fold cross validation? Why?). Explain why your chosen method is appropriate or use more than one method as appropriate. For example, if you are using time series data then you should be using continuous training and testing sets across time.\n",
    "\n",
    "For our first classification problem, we identified an unbalanced distribution of alcohol categories within our dataset.  For example, Vodka is 38% of sales while Rum and Whiskey is 24% and 10% respectively.  To address this concern, we used a synthetic minority oversampling technique (SMOTE).  The SMOTE technique accounts for the minority classes withn the data by creating new synthetic instances similar to these minorities.  In other words, once SMOTE is used on the data we should have a balanced distribution between the different alcohol categories. \n",
    "\n",
    "Futhermore, to split our test & training data, we used a stratified k-fold cross validation method.  The number of splits used was 10, and our ratio of train vs test size was 80% to 20%.\n",
    "\n",
    "The analysis and work performed regarding the SMOTE and CV method for Classification 1 is noted below. \n",
    "\n",
    "NOTE:  Details regarding the training and test splits for the second classification problem can be found within the Classification 2 (Store Data) section.\n",
    "\n",
    "So we can begin to set a baseline for our accuracy score, let's do a quick look at the value counts and it's percent distribution of our liquor categories, the ones we are looking to classify. "
   ]
  },
  {
   "cell_type": "code",
   "execution_count": 0,
   "metadata": {
    "colab": {
     "base_uri": "https://localhost:8080/",
     "height": 212
    },
    "colab_type": "code",
    "id": "BlP7r4nNQPhY",
    "outputId": "84194b32-87cf-4e1d-9dc6-ef847cd22c8e"
   },
   "outputs": [
    {
     "data": {
      "text/plain": [
       "id_label  liquor_category\n",
       "1         Other               5.9650\n",
       "10        BRANDY              0.0075\n",
       "2         GIN                 4.2900\n",
       "3         WHISKY             22.6125\n",
       "4         TEQUILA             7.1325\n",
       "5         LIQUEUR            13.4000\n",
       "6         VODKA              32.7700\n",
       "7         RUM                13.7875\n",
       "8         SCHNAPPS            0.0050\n",
       "9         AMARETTO            0.0300\n",
       "Name: counter, dtype: float64"
      ]
     },
     "execution_count": 132,
     "metadata": {
      "tags": []
     },
     "output_type": "execute_result"
    }
   ],
   "source": [
    "#class percentage split\n",
    "dfgrp = data.groupby(['id_label','liquor_category'])\n",
    "data_final['id_label'].value_counts()\n",
    "dfgrp['counter'].count() / len(data_final) *100"
   ]
  },
  {
   "cell_type": "code",
   "execution_count": 0,
   "metadata": {
    "colab": {
     "base_uri": "https://localhost:8080/",
     "height": 212
    },
    "colab_type": "code",
    "id": "yU3ttrh3QrDV",
    "outputId": "a3b18f34-19dc-4973-f7d1-2259b0dd770e"
   },
   "outputs": [
    {
     "data": {
      "text/plain": [
       "id_label  liquor_category\n",
       "1         Other               2386\n",
       "10        BRANDY                 3\n",
       "2         GIN                 1716\n",
       "3         WHISKY              9045\n",
       "4         TEQUILA             2853\n",
       "5         LIQUEUR             5360\n",
       "6         VODKA              13108\n",
       "7         RUM                 5515\n",
       "8         SCHNAPPS               2\n",
       "9         AMARETTO              12\n",
       "Name: counter, dtype: int64"
      ]
     },
     "execution_count": 133,
     "metadata": {
      "tags": []
     },
     "output_type": "execute_result"
    }
   ],
   "source": [
    "data_final['id_label'].value_counts()\n",
    "dfgrp['counter'].count()"
   ]
  },
  {
   "cell_type": "code",
   "execution_count": 0,
   "metadata": {
    "colab": {
     "base_uri": "https://localhost:8080/",
     "height": 147
    },
    "colab_type": "code",
    "id": "6hYMIlsdU12R",
    "outputId": "a69b33b2-5a76-4f7f-e8e9-feee1642d680"
   },
   "outputs": [
    {
     "data": {
      "text/plain": [
       "6    13108\n",
       "3     9045\n",
       "7     5515\n",
       "5     5360\n",
       "4     2853\n",
       "1     2386\n",
       "2     1716\n",
       "Name: id_label, dtype: int64"
      ]
     },
     "execution_count": 134,
     "metadata": {
      "tags": []
     },
     "output_type": "execute_result"
    }
   ],
   "source": [
    "data_final = data_final[data_final['id_label'] < \"8\"]\n",
    "data_final = data_final[data_final['id_label'] != \"10\"]\n",
    "data_final['id_label'].value_counts()"
   ]
  },
  {
   "cell_type": "markdown",
   "metadata": {
    "colab_type": "text",
    "id": "qp6JLDveRRFK"
   },
   "source": [
    "So that our model is able to run correctly without having to create a large amount of additional variables, we decided to drop the Amaretto, Schnapps and Brandy values since collectively, those represent 17 observations. "
   ]
  },
  {
   "cell_type": "code",
   "execution_count": 0,
   "metadata": {
    "colab": {
     "base_uri": "https://localhost:8080/",
     "height": 33
    },
    "colab_type": "code",
    "id": "diJ1PTKiR_m7",
    "outputId": "a28b3693-48a7-4813-a940-2de43548a0d7"
   },
   "outputs": [
    {
     "data": {
      "text/plain": [
       "(39983, 12)"
      ]
     },
     "execution_count": 135,
     "metadata": {
      "tags": []
     },
     "output_type": "execute_result"
    }
   ],
   "source": [
    "data_final.shape"
   ]
  },
  {
   "cell_type": "markdown",
   "metadata": {
    "colab_type": "text",
    "id": "_Sr3tFa7XAAE"
   },
   "source": [
    "Looking at the distribution of liquors in our data_final dataset, we can see that vodka takes up 32% of the liquor sales in our set, followed by Rum at 13%, Liquer at 13%, Whisky at 22% and so on. When we run our classifier, we will need to be careful to account for the unbalanced nature of our classifiers to help ensure we aren't overclassifying the majority labels. \n",
    "\n",
    "For our data training, we will need to employ synthetic minority oversampling technique (SMOTE), which is designed to subset our data from the minority classes as an example with new synthetic instances similar to these minorities are created and added to a new data set which we will use as a train to our classification models. "
   ]
  },
  {
   "cell_type": "markdown",
   "metadata": {
    "colab_type": "text",
    "id": "Pn6A1a_mgB3H"
   },
   "source": [
    "But first, we will assign our X and Y variables and a stratified Kfold to evaluate our meotrics. The reason we want to do a stratified k-fold is because it will test our model multiple times using different splits of the data and different testing groups. The average at the end will help us get an accurate score of how strong our model is and accounts for any skewness in the data that was not captured in the transform. \n",
    "\n",
    "We think this is most appropriate since we've transformed our data, so we should get minimal outlier skew, and we will have an aggredate score of accuracy, precision and recall based on different groupings of the data."
   ]
  },
  {
   "cell_type": "code",
   "execution_count": 0,
   "metadata": {
    "colab": {
     "base_uri": "https://localhost:8080/",
     "height": 50
    },
    "colab_type": "code",
    "id": "cZHxHg1g4rnZ",
    "outputId": "ae6690b0-9e80-44f2-d91a-9aa9ac5376f0"
   },
   "outputs": [
    {
     "name": "stdout",
     "output_type": "stream",
     "text": [
      "CPU times: user 15.9 ms, sys: 1.02 ms, total: 16.9 ms\n",
      "Wall time: 16.9 ms\n"
     ]
    }
   ],
   "source": [
    "%%time\n",
    "from sklearn.neighbors import KNeighborsClassifier\n",
    "from sklearn.model_selection import StratifiedKFold\n",
    "from sklearn.preprocessing import StandardScaler\n",
    "import numpy as np\n",
    "from sklearn import metrics as mt\n",
    "\n",
    "cv = StratifiedKFold(n_splits=10)\n",
    "\n",
    "features = ['sale_dollars_trans', 'cost_per_liter_trans', \n",
    "       'state_bottle_cost_trans', 'bottles_sold_trans',\n",
    "       'volume_sold_liters_trans', 'pack_trans', 'bottle_volume_ml_trans',\n",
    "       'profit_trans', 'totalcost_trans', 'revenue_trans']\n",
    "\n",
    "X2 = data_final[features].copy()\n",
    "\n",
    "scaler = StandardScaler()\n",
    "scaler.fit(X2)\n",
    "\n",
    "#This makes our model's coefficients take on the same scale for accurate feature importance analysis\n",
    "#Notice we scaled the data before the cross validation\n",
    "X = scaler.transform(X2)\n",
    "\n",
    "Y= data_final[['id_label']].copy()\n",
    "Y2 = Y.values\n",
    "\n",
    "#Divide data into test and training splits\n",
    "from sklearn.model_selection import ShuffleSplit\n",
    "#cv = ShuffleSplit(n_splits=10, test_size=0.20, random_state=0)"
   ]
  },
  {
   "cell_type": "markdown",
   "metadata": {
    "colab_type": "text",
    "id": "OEunehv3f98d"
   },
   "source": [
    "#### Feature Engineering: SMOTE"
   ]
  },
  {
   "cell_type": "markdown",
   "metadata": {
    "colab_type": "text",
    "id": "W0bwTiwyhQcJ"
   },
   "source": [
    "Now that we built our cross validation and assigned Xs and Ys, we will now work to create our training set and test set using SMOTE to balance our classifiers. Training size was 80% of our data and the test size was 20%. "
   ]
  },
  {
   "cell_type": "code",
   "execution_count": 0,
   "metadata": {
    "colab": {},
    "colab_type": "code",
    "id": "SQZ4SBbsf_N9"
   },
   "outputs": [],
   "source": [
    "from sklearn import metrics as mt\n",
    "\n",
    "# train and test split before resampling\n",
    "X1_train, X1_test, y1_train, y1_test = train_test_split(X, Y, test_size = 0.2, random_state = 101) \n"
   ]
  },
  {
   "cell_type": "code",
   "execution_count": 0,
   "metadata": {
    "colab": {
     "base_uri": "https://localhost:8080/",
     "height": 375
    },
    "colab_type": "code",
    "id": "3DuCEHlqhC6a",
    "outputId": "673e609f-dd3b-45cf-b6ca-7a74a99deb68"
   },
   "outputs": [
    {
     "name": "stdout",
     "output_type": "stream",
     "text": [
      "Before OverSampling, counts of label 'Other': 1902\n",
      "Before OverSampling, counts of label 'GIN': 1374 \n",
      "\n",
      "Before OverSampling, counts of label 'WHISKY': 7242 \n",
      "\n",
      "Before OverSampling, counts of label 'TEQUILA': 2289\n",
      "Before OverSampling, counts of label 'LIQUEUR': 4275 \n",
      "\n",
      "Before OverSampling, counts of label 'VODKA': 10504 \n",
      "\n",
      "Before OverSampling, counts of label 'RUM': 4400 \n",
      "\n",
      "After OverSampling, the shape of train_X: (73528, 10)\n",
      "After OverSampling, the shape of train_y: (73528,) \n",
      "\n",
      "After OverSampling, counts of label 'Other': 10504\n",
      "After OverSampling, counts of label 'GIN': 10504\n",
      "After OverSampling, counts of label 'WHISKY': 10504\n",
      "After OverSampling, counts of label 'TEQUILA': 10504\n",
      "After OverSampling, counts of label 'LIQUEUR': 10504\n",
      "After OverSampling, counts of label 'VODKA': 10504\n",
      "After OverSampling, counts of label 'RUM': 10504\n"
     ]
    }
   ],
   "source": [
    "\n",
    "print(\"Before OverSampling, counts of label 'Other': {}\".format(sum(y1_train['id_label'] == \"1\")))\n",
    "print(\"Before OverSampling, counts of label 'GIN': {} \\n\".format(sum(y1_train['id_label'] == \"2\"))) \n",
    "print(\"Before OverSampling, counts of label 'WHISKY': {} \\n\".format(sum(y1_train['id_label'] == \"3\"))) \n",
    "print(\"Before OverSampling, counts of label 'TEQUILA': {}\".format(sum(y1_train['id_label'] == \"4\")))\n",
    "print(\"Before OverSampling, counts of label 'LIQUEUR': {} \\n\".format(sum(y1_train['id_label'] == \"5\"))) \n",
    "print(\"Before OverSampling, counts of label 'VODKA': {} \\n\".format(sum(y1_train['id_label'] == \"6\"))) \n",
    "print(\"Before OverSampling, counts of label 'RUM': {} \\n\".format(sum(y1_train['id_label'] == \"7\"))) \n",
    "\n",
    "\n",
    "# import SMOTE module from imblearn library \n",
    "# pip install imblearn (if you don't have imblearn in your system) \n",
    "from imblearn.over_sampling import SMOTE \n",
    "sm = SMOTE(random_state = 2) \n",
    "X1_train_res, y1_train_res = sm.fit_sample(X1_train, y1_train.values.ravel()) \n",
    "  \n",
    "print('After OverSampling, the shape of train_X: {}'.format(X1_train_res.shape)) \n",
    "print('After OverSampling, the shape of train_y: {} \\n'.format(y1_train_res.shape)) \n",
    "  \n",
    "print(\"After OverSampling, counts of label 'Other': {}\".format(sum(y1_train_res == \"1\"))) \n",
    "print(\"After OverSampling, counts of label 'GIN': {}\".format(sum(y1_train_res == \"2\"))) \n",
    "print(\"After OverSampling, counts of label 'WHISKY': {}\".format(sum(y1_train_res == \"3\"))) \n",
    "print(\"After OverSampling, counts of label 'TEQUILA': {}\".format(sum(y1_train_res == \"4\"))) \n",
    "print(\"After OverSampling, counts of label 'LIQUEUR': {}\".format(sum(y1_train_res == \"5\"))) \n",
    "print(\"After OverSampling, counts of label 'VODKA': {}\".format(sum(y1_train_res == \"6\"))) \n",
    "print(\"After OverSampling, counts of label 'RUM': {}\".format(sum(y1_train_res == \"7\"))) \n",
    " \n"
   ]
  },
  {
   "cell_type": "markdown",
   "metadata": {
    "colab_type": "text",
    "id": "Jriu2c-MZ7SP"
   },
   "source": [
    "## Classification Task 1 (Liquor Type)\n",
    "\n",
    "\n",
    "\n"
   ]
  },
  {
   "cell_type": "markdown",
   "metadata": {
    "colab_type": "text",
    "id": "y713JBi1Mage"
   },
   "source": [
    "### Task 1 - Modeling and Evaluation 3\n",
    "Create three different classification/regression models for each task (e.g., random forest, KNN, and SVM for task one and the same or different algorithms for task two). Two modeling techniques must be new (but the third could be SVM or logistic regression). Adjust parameters as appropriate to increase generalization performance using your chosen metric. You must investigate different parameters of the algorithms!  \n",
    "\n",
    "As previously mentioned within a section above, our goal of this classification problem is to correctly classify the alcohol category based on sales data.  We tried 3 different algorithms within our models and compared them using our evaluation metrics.  The algorithms used are as follows:  \n",
    "\n",
    "*   K-Nearest Neighbor\n",
    "*   Random Forest Classification\n",
    "*   Logistic Regression\n",
    "\n",
    "A ROC/AUC plot will be created for each model and summarized our findings based on the combined results for these different models."
   ]
  },
  {
   "cell_type": "markdown",
   "metadata": {
    "colab_type": "text",
    "id": "it9ofY8j4Xi0"
   },
   "source": [
    "#### Model 1: KNN Classification"
   ]
  },
  {
   "cell_type": "markdown",
   "metadata": {
    "colab_type": "text",
    "id": "khHn73vcSQyN"
   },
   "source": [
    "Details regarding this model are noted in the code below, but to quickly summarize, this model has an average accuracy score of 0.58 and a Precision, Recall, & F1 Score of 0.91, 0.91, & 0.91 respectively.  After evaluation this is not our best fitting model.\n",
    "\n",
    "Initially, it looks like this but after our cross validation, but details on our model are outlined below in the code. "
   ]
  },
  {
   "cell_type": "code",
   "execution_count": 0,
   "metadata": {
    "colab": {
     "base_uri": "https://localhost:8080/",
     "height": 98
    },
    "colab_type": "code",
    "id": "H-xo_Rm-fe2j",
    "outputId": "87d67084-636c-431a-d549-be122dbf736c"
   },
   "outputs": [
    {
     "name": "stdout",
     "output_type": "stream",
     "text": [
      "Fitting 10 folds for each of 24 candidates, totalling 240 fits\n"
     ]
    },
    {
     "name": "stderr",
     "output_type": "stream",
     "text": [
      "[Parallel(n_jobs=-1)]: Using backend LokyBackend with 2 concurrent workers.\n",
      "[Parallel(n_jobs=-1)]: Done  46 tasks      | elapsed:   33.6s\n",
      "[Parallel(n_jobs=-1)]: Done 196 tasks      | elapsed:  2.2min\n",
      "[Parallel(n_jobs=-1)]: Done 240 out of 240 | elapsed:  2.7min finished\n"
     ]
    }
   ],
   "source": [
    "\n",
    "param_grid = [\n",
    "    {\n",
    "         'weights': ['uniform','distance'],\n",
    "         'leaf_size': [5,10],\n",
    "         'metric': ['minkowski','euclidean'],\n",
    "         'n_neighbors':[2,3,5],\n",
    "         \n",
    "    }\n",
    "]\n",
    "\n",
    "clf_KNN = KNeighborsClassifier()\n",
    "grid_search_KNN = GridSearchCV(clf_KNN, param_grid=param_grid,cv=cv,n_jobs=-1, verbose=1, scoring='accuracy' )\n",
    "\n",
    "KNearest_model1 = grid_search_KNN.fit(X1_train_res, y1_train_res)\n",
    "\n",
    "y_KNN_score1 = grid_search_KNN.predict(X1_test)\n",
    "\n"
   ]
  },
  {
   "cell_type": "markdown",
   "metadata": {
    "colab_type": "text",
    "id": "VYb6pozHl-Ia"
   },
   "source": [
    "Our first modeling procedure we ran was a KNN classification. Detail on the concept behind it can be found below, but on this particular version, we are using our smote engineered features to fit the model and running a grid search procedure to select the best hyperparameter. "
   ]
  },
  {
   "cell_type": "code",
   "execution_count": 0,
   "metadata": {
    "colab": {
     "base_uri": "https://localhost:8080/",
     "height": 66
    },
    "colab_type": "code",
    "id": "xXbdtmoF4itK",
    "outputId": "a91783f5-1c40-44af-9ebd-ee6ffff7a285"
   },
   "outputs": [
    {
     "data": {
      "text/plain": [
       "KNeighborsClassifier(algorithm='auto', leaf_size=10, metric='minkowski',\n",
       "                     metric_params=None, n_jobs=None, n_neighbors=5, p=2,\n",
       "                     weights='distance')"
      ]
     },
     "execution_count": 142,
     "metadata": {
      "tags": []
     },
     "output_type": "execute_result"
    }
   ],
   "source": [
    "classifierEstimaterKNN1 = KNearest_model1.best_estimator_\n",
    "classifierEstimaterKNN1\n"
   ]
  },
  {
   "cell_type": "markdown",
   "metadata": {
    "colab_type": "text",
    "id": "7fZ5JmCWmdpK"
   },
   "source": [
    "According to our grid search, the best estimator is to include 5 neighbors, a leaf size of 10 and a minkowski metric to learn from. "
   ]
  },
  {
   "cell_type": "code",
   "execution_count": 0,
   "metadata": {
    "colab": {},
    "colab_type": "code",
    "id": "apv--OjhpvAv"
   },
   "outputs": [],
   "source": [
    "#import pickle\n",
    "#filename = r'C:/Users/jjsch/Documents/GitHub/7331lab1/7331DataMiningNotebooks/lab2/classifierEstimaterKNN1.pickle'\n",
    "#infile = open(filename,'rb')\n",
    "#classifierEstimaterKNN1 = pickle.loads(infile)\n",
    "#infile.close()\n",
    "#outfile = open(filename,'wb')\n",
    "#pickle.dumps(classifierEstimaterKNN1, filename)\n",
    "#from joblib import dump, load\n",
    "#dump(classifierEstimaterKNN1, filename)"
   ]
  },
  {
   "cell_type": "code",
   "execution_count": 0,
   "metadata": {
    "colab": {
     "base_uri": "https://localhost:8080/",
     "height": 66
    },
    "colab_type": "code",
    "id": "FSI_M3-yIQ27",
    "outputId": "5d8a8431-edce-4381-d0d6-92ffe9ca2000"
   },
   "outputs": [
    {
     "name": "stdout",
     "output_type": "stream",
     "text": [
      "Precision Score is: 0.917227717693073\n",
      "Recall Score is: 0.9139677379017132\n",
      "F1 Score is: 0.9149401290492261\n"
     ]
    }
   ],
   "source": [
    "from sklearn.metrics import f1_score\n",
    "from sklearn.metrics import precision_score\n",
    "from sklearn.metrics import recall_score\n",
    "print(\"Precision Score is: {}\" .format(precision_score(y1_test, y_KNN_score1, average='weighted')))\n",
    "print(\"Recall Score is: {}\" .format(recall_score(y1_test, y_KNN_score1, average='weighted')))\n",
    "print(\"F1 Score is: {}\" .format(f1_score(y1_test, y_KNN_score1, average='weighted')))"
   ]
  },
  {
   "cell_type": "markdown",
   "metadata": {
    "colab_type": "text",
    "id": "_GJHQafimwnN"
   },
   "source": [
    "After Running our procedure, we were able get garner a very strong precision, recall and F1 score. which was very high. These scores are strong supporters in accuracy in that it helps test whether a model is truly trying to predict a value rather than selecting a single value. "
   ]
  },
  {
   "cell_type": "code",
   "execution_count": 0,
   "metadata": {
    "colab": {
     "base_uri": "https://localhost:8080/",
     "height": 66
    },
    "colab_type": "code",
    "id": "iS33r9IdE34T",
    "outputId": "9bd1521d-0f45-448e-ca04-e4a44a9a506a"
   },
   "outputs": [
    {
     "data": {
      "text/plain": [
       "KNeighborsClassifier(algorithm='auto', leaf_size=10, metric='minkowski',\n",
       "                     metric_params=None, n_jobs=None, n_neighbors=5, p=2,\n",
       "                     weights='distance')"
      ]
     },
     "execution_count": 145,
     "metadata": {
      "tags": []
     },
     "output_type": "execute_result"
    }
   ],
   "source": [
    "classifierEstimaterKNN1.fit(X1_train_res,y1_train_res)\n",
    "\n"
   ]
  },
  {
   "cell_type": "code",
   "execution_count": 0,
   "metadata": {
    "colab": {
     "base_uri": "https://localhost:8080/",
     "height": 1000
    },
    "colab_type": "code",
    "id": "xDq0kA306IFd",
    "outputId": "f236b7b7-d173-4d47-e47d-582d1e78ec3c"
   },
   "outputs": [
    {
     "name": "stdout",
     "output_type": "stream",
     "text": [
      "====Iteration 0  ====\n",
      "accuracy 0.6026506626656665\n",
      "confusion matrix\n",
      " [[ 135    3    8    2   34   33   24]\n",
      " [   7  139    5    0    6   15    0]\n",
      " [  63   87  566    4   28  143   13]\n",
      " [  18    1   68   90   31   24   53]\n",
      " [  39   47   49   14  123  248   16]\n",
      " [  39    6   26    4   28 1176   32]\n",
      " [  50   23  187   22   55   34  181]]\n",
      "====Iteration 1  ====\n",
      "accuracy 0.7996999249812453\n",
      "confusion matrix\n",
      " [[  99   13   68    4   18   30    7]\n",
      " [   1  115   14    1   26   15    0]\n",
      " [  28   24  819    2    9   11   11]\n",
      " [   0    0    1  268    1    7    8]\n",
      " [   0    0    3   11  375   97   50]\n",
      " [   8    0    1   10   23 1248   21]\n",
      " [  20    8   38   20  140   52  274]]\n",
      "====Iteration 2  ====\n",
      "accuracy 0.6611652913228308\n",
      "confusion matrix\n",
      " [[ 114    3   46   14   11   40   11]\n",
      " [   3   72   29    0   56   11    0]\n",
      " [ 102   11  753    2    0    4   33]\n",
      " [   0    1    0  274    5    5    0]\n",
      " [  35   33   10   71   55  261   71]\n",
      " [  29    2   13    2   89 1058  118]\n",
      " [  12    0    8   84   11  119  318]]\n",
      "====Iteration 3  ====\n",
      "accuracy 0.4344672336168084\n",
      "confusion matrix\n",
      " [[ 36  19  61   3  23  90   7]\n",
      " [ 46  66  17   1  19  18   4]\n",
      " [ 41   3 812   4   4   3  38]\n",
      " [  4   0  11 226   7  31   6]\n",
      " [ 20  32  41   2  39 387  15]\n",
      " [745   1   4   5  77 158 321]\n",
      " [ 10   0  20   4  46  71 400]]\n",
      "====Iteration 4  ====\n",
      "accuracy 0.673336668334167\n",
      "confusion matrix\n",
      " [[110  17  77   1  21   3  10]\n",
      " [  1 129   1   0   0  39   1]\n",
      " [ 52  10 816   3   2  10  12]\n",
      " [  0   0   0 283   0   2   0]\n",
      " [ 57  11  36   4 357  33  38]\n",
      " [180   3  55  25 147 645 256]\n",
      " [  2   0  18   2  40 137 352]]\n",
      "====Iteration 5  ====\n",
      "accuracy 0.5925462731365683\n",
      "confusion matrix\n",
      " [[ 163    3   27    5   13   10   18]\n",
      " [   0   79   19    0   48   25    0]\n",
      " [   6  116  484    0  216   51   32]\n",
      " [  32    0    6   55   32  136   24]\n",
      " [  44   60  140   14  164   43   71]\n",
      " [  76    5    1    2    8 1198   21]\n",
      " [   8    0   68    2   76  171  226]]\n",
      "====Iteration 6  ====\n",
      "accuracy 0.5582791395697849\n",
      "confusion matrix\n",
      " [[111  16  70   2   3  10  26]\n",
      " [  5  66  26   1  49  25   0]\n",
      " [ 69  89 407   0  60 128 152]\n",
      " [ 13  35   6  40  21  94  76]\n",
      " [ 84  41 103   5 121 149  33]\n",
      " [  5  44  59  18 127 988  70]\n",
      " [ 13   0  17   0  11  11 499]]\n",
      "====Iteration 7  ====\n",
      "accuracy 0.6405702851425713\n",
      "confusion matrix\n",
      " [[ 132    0    5   10    0   60   31]\n",
      " [  64   85   18    0    0    3    2]\n",
      " [  33  100  528   45   59   70   69]\n",
      " [   3    0    0  280    0    3    0]\n",
      " [  92   37   16   45   74  247   25]\n",
      " [   4  176    6    5    6 1112    2]\n",
      " [  16    0   86    0   69   30  350]]\n",
      "====Iteration 8  ====\n",
      "accuracy 0.4814907453726863\n",
      "confusion matrix\n",
      " [[189   0   0   0   1  18  30]\n",
      " [ 12  92  40   0   7  21   0]\n",
      " [102  66 437 107  94  16  82]\n",
      " [ 20   0   0 168   4  74  20]\n",
      " [  2   4   2   2 483   7  36]\n",
      " [ 48 296 201  38 385 251  91]\n",
      " [150   0  23   1  11  62 305]]\n",
      "====Iteration 9  ====\n",
      "accuracy 0.3791895947973987\n",
      "confusion matrix\n",
      " [[ 41   0  14  28   0 120  35]\n",
      " [ 36   2  76   5  37  14   2]\n",
      " [131   2 577   0  45  75  74]\n",
      " [  9   0   0  90  16 171   0]\n",
      " [  0   0   1   0 430  20  85]\n",
      " [151  83 832   5 146  35  58]\n",
      " [138   0   4   5   4  60 341]]\n"
     ]
    }
   ],
   "source": [
    "EvaluateClassifierEstimator3(classifierEstimaterKNN1, X, Y2, cv)"
   ]
  },
  {
   "cell_type": "markdown",
   "metadata": {
    "colab_type": "text",
    "id": "mPUR_aasnSCM"
   },
   "source": [
    "Here's where we ran the 10 folds of our classifier to evaluate the accuracy. As you can see through our iterations, we were getting accuracy scores from 0.37 through to 0.79. "
   ]
  },
  {
   "cell_type": "code",
   "execution_count": 0,
   "metadata": {
    "colab": {
     "base_uri": "https://localhost:8080/",
     "height": 33
    },
    "colab_type": "code",
    "id": "BG-rLwzQcuWm",
    "outputId": "142e5e00-5ac7-41bb-f2e5-9d72e16b6981"
   },
   "outputs": [
    {
     "name": "stdout",
     "output_type": "stream",
     "text": [
      "Average KNN accuracy score is : 0.5823395818939727\n"
     ]
    }
   ],
   "source": [
    "from sklearn.model_selection import cross_val_score\n",
    "\n",
    "KNN_accuracy = cross_val_score(classifierEstimaterKNN1, X, y=Y2, cv=cv)\n",
    "KNN_acc=KNN_accuracy.mean()\n",
    "print('Average KNN accuracy score is : {}' .format(KNN_acc))"
   ]
  },
  {
   "cell_type": "markdown",
   "metadata": {
    "colab_type": "text",
    "id": "Y6vYMVAinucm"
   },
   "source": [
    "Compiling all of our accuracies together, we can say we found an average accuracy score of 0.58, which we will use to compare against future models on the liquor classifier."
   ]
  },
  {
   "cell_type": "code",
   "execution_count": 0,
   "metadata": {
    "colab": {},
    "colab_type": "code",
    "id": "OlCXIFl9oaYm"
   },
   "outputs": [],
   "source": [
    "##not sure about this one?\n",
    "#from sklearn.metrics import fbeta_score, make_scorer\n",
    "#nested_score = cross_val_score(classifierEstimaterKNN1, X=X, y=Y2, cv=cv, \\\n",
    "#               scoring=make_scorer(classification_report_with_accuracy_score))\n",
    "#print(nested_score)"
   ]
  },
  {
   "cell_type": "markdown",
   "metadata": {
    "colab_type": "text",
    "id": "4XOLCB6un7Vl"
   },
   "source": [
    "To give a visual representation of our model performance, let's plot out the true positive rates and false negative rates for each class. But first, we are going to see how accurate we were with predicting each class."
   ]
  },
  {
   "cell_type": "code",
   "execution_count": 0,
   "metadata": {
    "colab": {},
    "colab_type": "code",
    "id": "ZAPO787ThIhU"
   },
   "outputs": [],
   "source": [
    "from matplotlib import pyplot as plt\n",
    "import numpy as np\n",
    "%matplotlib inline\n",
    "\n",
    "yhat= np.zeros(Y2.shape)\n",
    "\n",
    "def per_class_accuracy(ytrue,yhat):\n",
    "    conf = mt.confusion_matrix(ytrue,yhat)\n",
    "    norm_conf = conf.astype('float') / conf.sum(axis=1)[:, np.newaxis]\n",
    "    return np.diag(norm_conf)\n",
    "\n",
    "def plot_class_acc(ytrue,yhat, title=''):\n",
    "    acc_list = per_class_accuracy(ytrue,yhat)\n",
    "    plt.bar(range(len(acc_list)), acc_list)\n",
    "    plt.xlabel('Class value (one per category)')\n",
    "    plt.ylabel('Accuracy within class')\n",
    "    plt.title(title+\", Total Acc=%.1f\"%(100*mt.accuracy_score(ytrue,yhat)))\n",
    "    plt.grid()\n",
    "    plt.ylim([0,1])\n",
    "    plt.show()\n",
    "#yhat = classifierEstimaterKNN1.predict(X1_test)       \n",
    "#plot_class_acc(y1_test,yhat,title=\"KNN\")\n"
   ]
  },
  {
   "cell_type": "code",
   "execution_count": 0,
   "metadata": {
    "colab": {
     "base_uri": "https://localhost:8080/",
     "height": 298
    },
    "colab_type": "code",
    "id": "KDQJt2eN7HNh",
    "outputId": "beba33e1-f230-442c-ad04-fa7605b1a4c5"
   },
   "outputs": [
    {
     "data": {
      "image/png": "[encoded data removed]",
      "text/plain": [
       "<Figure size 432x288 with 1 Axes>"
      ]
     },
     "metadata": {
      "tags": []
     },
     "output_type": "display_data"
    }
   ],
   "source": [
    "totalacc = 0\n",
    "totalprec = 0\n",
    "totalrec= 0\n",
    "totalf1  = 0\n",
    "list = []\n",
    "perclasslist = []\n",
    "for fold, (train_index, test_index) in enumerate(cv.split(X,Y2)):\n",
    "     X_train = X[train_index]    \n",
    "     y_train = Y2[train_index]  # Based on your code, you might need a ravel call here, but I would look into how you're generating your y\n",
    "     X_test = X[test_index]\n",
    "     y_test = Y2[test_index]  # See comment on ravel and  y_train\n",
    "     sm = SMOTE(random_state=101)\n",
    "     X_train_oversampled, y_train_oversampled = sm.fit_sample(X_train, y_train)\n",
    "     classifierEstimaterKNN1.fit(X_train, y_train) \n",
    "     y_pred = classifierEstimaterKNN1.predict(X_test)\n",
    "     acc = mt.accuracy_score(y_test,y_pred)\n",
    "     prec = precision_score(y_test, y_pred, average='weighted')\n",
    "     rec = recall_score(y_test, y_pred, average='weighted')\n",
    "     f1 = f1_score(y_test, y_pred, average='weighted')\n",
    "     perclassaccuracy = per_class_accuracy(y_test,y_pred)\n",
    "     perclasslist.append(perclassaccuracy.tolist())\n",
    "     totalacc += acc\n",
    "     totalprec += prec\n",
    "     totalrec += rec\n",
    "     totalf1 += f1\n",
    "     conf = mt.confusion_matrix(y_test,y_pred)\n",
    "#     print(\"Sum: \", totalacc, \"Current: \", acc,\"Per Class\",perclassaccuracy,\"\\n\")\n",
    "\n",
    "\n",
    "avgaccuracy = 100*totalacc / cv.n_splits\n",
    "avgprec = 100*totalprec / cv.n_splits\n",
    "avgrec = 100*totalrec / cv.n_splits\n",
    "avgf1 = 100*totalf1 / cv.n_splits\n",
    " \n",
    "list = [(\"Model 1\", \"KNN\", avgaccuracy, avgprec, avgrec, avgf1)]\n",
    "\n",
    "perclassdf = []\n",
    "perclassdf = pd.DataFrame(perclasslist)\n",
    "#perclassdf = perclassdf.transpose()\n",
    "#perclassdf\n",
    "\n",
    "perclassavg = perclassdf.mean(axis = 0) \n",
    "#perclassavg\n",
    "\n",
    "plt.bar(range(len(perclassavg)), perclassavg)\n",
    "plt.xlabel('Class value (one per category)')\n",
    "plt.ylabel('Accuracy within class')\n",
    "#plt.title(title+\", Total Acc=%.1f\"%(totalaccuracy))\n",
    "plt.title(\"KNN Avg Acc=%.1f\"%(avgaccuracy))\n",
    "plt.grid()\n",
    "plt.ylim([0,1])\n",
    "plt.show()"
   ]
  },
  {
   "cell_type": "markdown",
   "metadata": {
    "colab_type": "text",
    "id": "k2Do8EbkoVIb"
   },
   "source": [
    "Looking at the graph above, we can detirmine that class 2, 3 and 5 were the most accurate classes we were predicting. Looking up at the reference key above, these would represent the Gin, Whiskey and Liquer classes respectively. "
   ]
  },
  {
   "cell_type": "code",
   "execution_count": 0,
   "metadata": {
    "colab": {},
    "colab_type": "code",
    "id": "MIw99resH1Ug"
   },
   "outputs": [],
   "source": [
    "ylist = Y['id_label'].values.astype('int64')\n",
    "ylist\n",
    "ylist.shape\n",
    "from sklearn.preprocessing import label_binarize\n",
    "ybinary = label_binarize(ylist, classes=[1, 2, 3, 4, 5, 6, 7])\n",
    "n_classes = ybinary.shape[1]\n",
    "\n",
    "X_train3, X_test3, y_train3, y_test3 = train_test_split(X,ybinary, test_size=0.2)"
   ]
  },
  {
   "cell_type": "code",
   "execution_count": 0,
   "metadata": {
    "colab": {
     "base_uri": "https://localhost:8080/",
     "height": 50
    },
    "colab_type": "code",
    "id": "ynORMZcNMKas",
    "outputId": "ddc588ce-80f0-404c-8462-e134a4db1dac"
   },
   "outputs": [
    {
     "name": "stdout",
     "output_type": "stream",
     "text": [
      "CPU times: user 15.9 s, sys: 16.2 ms, total: 15.9 s\n",
      "Wall time: 15.9 s\n"
     ]
    }
   ],
   "source": [
    "%%time\n",
    "from sklearn.multiclass import OneVsRestClassifier\n",
    "from sklearn.model_selection import cross_val_predict\n",
    "# Learn to predict each class against the other\n",
    "classifier = OneVsRestClassifier(KNeighborsClassifier(algorithm='auto', leaf_size=10, metric='minkowski',\n",
    "                     metric_params=None, n_jobs=None, n_neighbors=5, p=2,\n",
    "                     weights='distance'))\n",
    "knnbinarymodel = classifier.fit(X_train3, y_train3)\n",
    "knnbinaryscore = knnbinarymodel.predict(X_test3)\n",
    "y_score = cross_val_predict(classifier, X, ybinary, cv=10 ,method='predict_proba')"
   ]
  },
  {
   "cell_type": "code",
   "execution_count": 0,
   "metadata": {
    "colab": {
     "base_uri": "https://localhost:8080/",
     "height": 298
    },
    "colab_type": "code",
    "id": "lqm9pUt4FUtI",
    "outputId": "704d809a-d118-4ad2-9ce9-f61e6695d73a"
   },
   "outputs": [
    {
     "data": {
      "image/png": "[encoded data removed]",
      "text/plain": [
       "<Figure size 432x288 with 1 Axes>"
      ]
     },
     "metadata": {
      "tags": []
     },
     "output_type": "display_data"
    }
   ],
   "source": [
    "#X1_train, X1_test, y1_train, y1_test\n",
    "#y_score = classifier.fit(X_train3, y_train3).decision_function(X_test3)\n",
    "# Compute ROC curve and ROC area for each class\n",
    "fpr = dict()\n",
    "tpr = dict()\n",
    "roc_auc = dict()\n",
    "for i in range(n_classes):\n",
    "    fpr[i], tpr[i], _ = roc_curve(ybinary[:, i], y_score[:, i])\n",
    "    roc_auc[i] = auc(fpr[i], tpr[i])\n",
    "\n",
    "# Compute micro-average ROC curve and ROC area\n",
    "fpr[\"micro\"], tpr[\"micro\"], _ = roc_curve(ybinary.ravel(), y_score.ravel())\n",
    "roc_auc[\"micro\"] = auc(fpr[\"micro\"], tpr[\"micro\"])\n",
    "#Plot of a ROC curve for a specific class\n",
    "\n",
    "plt.figure()\n",
    "lw = 2\n",
    "plt.plot(fpr[2], tpr[2], color='darkorange',\n",
    "         lw=lw, label='ROC curve (area = %0.2f)' % roc_auc[3])\n",
    "plt.plot([0, 1], [0, 1], color='navy', lw=lw, linestyle='--')\n",
    "plt.xlim([0.0, 1.0])\n",
    "plt.ylim([0.0, 1.05])\n",
    "plt.xlabel('False Positive Rate')\n",
    "plt.ylabel('True Positive Rate')\n",
    "plt.title('Receiver operating characteristic Whiskey')\n",
    "plt.legend(loc=\"lower right\")\n",
    "plt.show()"
   ]
  },
  {
   "cell_type": "markdown",
   "metadata": {
    "colab_type": "text",
    "id": "vfHbWyrXpcS0"
   },
   "source": [
    "Now that we plotted our KNN classifier, we can see that the model leans more into true positives than false positives. This shows that are test tends to be more accurate than not. "
   ]
  },
  {
   "cell_type": "code",
   "execution_count": 0,
   "metadata": {
    "colab": {
     "base_uri": "https://localhost:8080/",
     "height": 642
    },
    "colab_type": "code",
    "id": "l_6zEVYZiV38",
    "outputId": "c1222951-442e-46e9-963a-b6ca9799a814"
   },
   "outputs": [
    {
     "data": {
      "image/png": "[encoded data removed]",
      "text/plain": [
       "<Figure size 720x720 with 1 Axes>"
      ]
     },
     "metadata": {
      "tags": []
     },
     "output_type": "display_data"
    },
    {
     "data": {
      "text/plain": [
       "<Figure size 1080x1080 with 0 Axes>"
      ]
     },
     "metadata": {
      "tags": []
     },
     "output_type": "display_data"
    }
   ],
   "source": [
    "roc_list = []\n",
    "from scipy import interp\n",
    "from itertools import cycle\n",
    "# First aggregate all false positive rates\n",
    "all_fpr = np.unique(np.concatenate([fpr[i] for i in range(n_classes)]))\n",
    "\n",
    "# Then interpolate all ROC curves at this points\n",
    "mean_tpr = np.zeros_like(all_fpr)\n",
    "for i in range(n_classes):\n",
    "    mean_tpr += interp(all_fpr, fpr[i], tpr[i])\n",
    "\n",
    "# Finally average it and compute AUC\n",
    "mean_tpr /= n_classes\n",
    "\n",
    "fpr[\"macro\"] = all_fpr\n",
    "tpr[\"macro\"] = mean_tpr\n",
    "roc_auc[\"macro\"] = auc(fpr[\"macro\"], tpr[\"macro\"])\n",
    "roc_list = [(\"Model 1\", \"KNN\", roc_auc[\"macro\"], fpr[\"macro\"],tpr[\"macro\"])]\n",
    "# Plot all ROC curves\n",
    "plt.figure()\n",
    "plt.plot(fpr[\"micro\"], tpr[\"micro\"],\n",
    "         label='micro-average ROC curve (area = {0:0.2f})'\n",
    "               ''.format(roc_auc[\"micro\"]),\n",
    "         color='deeppink', linestyle=':', linewidth=4)\n",
    "\n",
    "plt.plot(fpr[\"macro\"], tpr[\"macro\"],\n",
    "         label='macro-average ROC curve (area = {0:0.2f})'\n",
    "               ''.format(roc_auc[\"macro\"]),\n",
    "         color='navy', linestyle=':', linewidth=4)\n",
    "\n",
    "colors = cycle(['aqua', 'darkorange', 'cornflowerblue'])\n",
    "for i, color in zip(range(n_classes), colors):\n",
    "    plt.plot(fpr[i], tpr[i], color=color, lw=lw,\n",
    "             label='ROC curve of class {0} (area = {1:0.2f})'\n",
    "             ''.format(i, roc_auc[i]))\n",
    "\n",
    "plt.plot([0, 1], [0, 1], 'k--', lw=lw)\n",
    "plt.xlim([0.0, 1.0])\n",
    "plt.ylim([0.0, 1.05])\n",
    "plt.xlabel('False Positive Rate')\n",
    "plt.ylabel('True Positive Rate')\n",
    "plt.title('Some extension of Receiver operating characteristic to multi-class')\n",
    "plt.legend(loc=\"lower right\")\n",
    "plt.rcParams[\"figure.figsize\"] = (10,10)\n",
    "plt.figure(figsize=(15, 15)) ",
    "\n",
    "plt.show()"
   ]
  },
  {
   "cell_type": "markdown",
   "metadata": {
    "colab_type": "text",
    "id": "L6ECTYE1qU0t"
   },
   "source": [
    "Here is a plot of all of our classes in the model. We can see here that the class 5, was the most accurate classifier. That said, note that each curve follows the same guide as the overall model, of being more accurate than not. "
   ]
  },
  {
   "cell_type": "markdown",
   "metadata": {
    "colab_type": "text",
    "id": "fi35yamMtVOm"
   },
   "source": [
    "#### Model 2: Random Forest Classification"
   ]
  },
  {
   "cell_type": "markdown",
   "metadata": {
    "colab_type": "text",
    "id": "qktauMZFSQyz"
   },
   "source": [
    "Details regarding this model are noted in the code below, but to quickly summarize, this model has an average accuracy score of 0.67 and a Precision, Recall, & F1 Score of 0.93, 0.93, & 0.93 respectively.  After cross evaluation there was more factors to be detirmined from the output of our code below. "
   ]
  },
  {
   "cell_type": "code",
   "execution_count": 0,
   "metadata": {
    "colab": {
     "base_uri": "https://localhost:8080/",
     "height": 82
    },
    "colab_type": "code",
    "id": "n9vHxo7itYVh",
    "outputId": "cae198ac-c8bd-4759-a9b0-c0ff9613ae3d"
   },
   "outputs": [
    {
     "name": "stdout",
     "output_type": "stream",
     "text": [
      "Fitting 10 folds for each of 6 candidates, totalling 60 fits\n"
     ]
    },
    {
     "name": "stderr",
     "output_type": "stream",
     "text": [
      "[Parallel(n_jobs=-1)]: Using backend LokyBackend with 2 concurrent workers.\n",
      "[Parallel(n_jobs=-1)]: Done  46 tasks      | elapsed: 15.7min\n",
      "[Parallel(n_jobs=-1)]: Done  60 out of  60 | elapsed: 21.6min finished\n"
     ]
    }
   ],
   "source": [
    "param_grid = [\n",
    "    {\n",
    "         'n_estimators': [200, 500], \n",
    "         'max_depth': [20,30,35],\n",
    "         'random_state':[101]\n",
    "     }\n",
    "]\n",
    "\n",
    "clf_RF = RandomForestClassifier()\n",
    "grid_search_RF = GridSearchCV(clf_RF, param_grid=param_grid, cv=cv,n_jobs=-1, verbose=1, scoring='accuracy' )\n",
    "\n",
    "RandomForest_model1 = grid_search_RF.fit(X1_train_res, y1_train_res)\n",
    "\n",
    "y_RF_score1 = grid_search_RF.predict(X1_test)\n"
   ]
  },
  {
   "cell_type": "markdown",
   "metadata": {
    "colab_type": "text",
    "id": "0HtPQHbEqz1P"
   },
   "source": [
    "In model 2, we ran a Random Forest Classification procedure to classify liquor types. You can learn more in the documentation below. \n",
    "\n",
    "https://stackabuse.com/random-forest-algorithm-with-python-and-scikit-learn/\n",
    "\n",
    "Like the KNN model before, we decided to run a grid search procedure as well to help us find the optimal hyperparameters to tune to. "
   ]
  },
  {
   "cell_type": "code",
   "execution_count": 0,
   "metadata": {
    "colab": {
     "base_uri": "https://localhost:8080/",
     "height": 147
    },
    "colab_type": "code",
    "id": "Uc_OTys6trdf",
    "outputId": "1345806c-1c8e-484e-b5ad-62c7ad2be656"
   },
   "outputs": [
    {
     "data": {
      "text/plain": [
       "RandomForestClassifier(bootstrap=True, ccp_alpha=0.0, class_weight=None,\n",
       "                       criterion='gini', max_depth=20, max_features='auto',\n",
       "                       max_leaf_nodes=None, max_samples=None,\n",
       "                       min_impurity_decrease=0.0, min_impurity_split=None,\n",
       "                       min_samples_leaf=1, min_samples_split=2,\n",
       "                       min_weight_fraction_leaf=0.0, n_estimators=500,\n",
       "                       n_jobs=None, oob_score=False, random_state=101,\n",
       "                       verbose=0, warm_start=False)"
      ]
     },
     "execution_count": 156,
     "metadata": {
      "tags": []
     },
     "output_type": "execute_result"
    }
   ],
   "source": [
    "classifierEstimaterRF1 = RandomForest_model1.best_estimator_\n",
    "classifierEstimaterRF1"
   ]
  },
  {
   "cell_type": "markdown",
   "metadata": {
    "colab_type": "text",
    "id": "x5xlEV0NrPmg"
   },
   "source": [
    "After running our Random Forest procedure, we can see the grid search selected, a max depth of 20, a number of estimators split of 500 and no warm start with our model. "
   ]
  },
  {
   "cell_type": "code",
   "execution_count": 0,
   "metadata": {
    "colab": {
     "base_uri": "https://localhost:8080/",
     "height": 66
    },
    "colab_type": "code",
    "id": "SqqmrudFz0zl",
    "outputId": "6285070f-9535-42c3-9a92-651b10af05b8"
   },
   "outputs": [
    {
     "name": "stdout",
     "output_type": "stream",
     "text": [
      "Precision Score is: 0.9299054308005282\n",
      "Recall Score is: 0.9280980367637864\n",
      "F1 Score is: 0.92862062463523\n"
     ]
    }
   ],
   "source": [
    "\n",
    "print(\"Precision Score is: {}\" .format(precision_score(y1_test, y_RF_score1, average='weighted')))\n",
    "print(\"Recall Score is: {}\" .format(recall_score(y1_test, y_RF_score1, average='weighted')))\n",
    "print(\"F1 Score is: {}\" .format(f1_score(y1_test, y_RF_score1, average='weighted')))\n"
   ]
  },
  {
   "cell_type": "markdown",
   "metadata": {
    "colab_type": "text",
    "id": "BvsMJ7usreF7"
   },
   "source": [
    "Like with the KNN we saw previously, we can see that our precision, recall and F1 scores are very high, which suggest we have a strong model."
   ]
  },
  {
   "cell_type": "code",
   "execution_count": 0,
   "metadata": {
    "colab": {
     "base_uri": "https://localhost:8080/",
     "height": 1000
    },
    "colab_type": "code",
    "id": "UWS6npWuzZbt",
    "outputId": "91c6c697-c026-4441-ee31-aa16e91c49d4"
   },
   "outputs": [
    {
     "name": "stdout",
     "output_type": "stream",
     "text": [
      "====Iteration 0  ====\n",
      "accuracy 0.6731682920730182\n",
      "confusion matrix\n",
      " [[ 140    1   12    3   29   35   19]\n",
      " [   3  120    1    0    4   44    0]\n",
      " [  35   56  682    1   15  114    1]\n",
      " [  28    1   71   87   34    8   56]\n",
      " [  56   38   24    0  271  123   24]\n",
      " [  33    5    8    6   10 1227   22]\n",
      " [  50   28  192   11   64   42  165]]\n",
      "====Iteration 1  ====\n",
      "accuracy 0.8312078019504876\n",
      "confusion matrix\n",
      " [[ 124    5   73    1    8   24    4]\n",
      " [   1  136   18    1    8    8    0]\n",
      " [  19   22  843    1    5    5    9]\n",
      " [   0    0    0  280    0    5    0]\n",
      " [   0    0    2   11  378   94   51]\n",
      " [   2    0    0    0   18 1279   12]\n",
      " [  37    8   42   28  132   21  284]]\n",
      "====Iteration 2  ====\n",
      "accuracy 0.8107026756689172\n",
      "confusion matrix\n",
      " [[ 129    1   60   13   11   21    4]\n",
      " [   2   77   26    0   54   10    2]\n",
      " [  48    2  819    0    1    3   32]\n",
      " [   0    0    0  282    0    3    0]\n",
      " [  35   18    5    1  362  102   13]\n",
      " [  22    2    0    0   27 1252    8]\n",
      " [  90    0    7   97   10   27  321]]\n",
      "====Iteration 3  ====\n",
      "accuracy 0.47798899449724863\n",
      "confusion matrix\n",
      " [[ 67  14  71   0  18  55  14]\n",
      " [  9  87  24   1  19  25   6]\n",
      " [ 23   2 844   3   1   3  29]\n",
      " [  0   0  11 235   5  31   3]\n",
      " [ 20  32  23   0  74 372  15]\n",
      " [736   0   4  12  51 183 325]\n",
      " [  2   0  19   6  25  78 421]]\n",
      "====Iteration 4  ====\n",
      "accuracy 0.747623811905953\n",
      "confusion matrix\n",
      " [[112   7  81  11  16   2  10]\n",
      " [  1 129   1   0   0  39   1]\n",
      " [ 46  10 818   1   2  16  12]\n",
      " [  0   0   0 285   0   0   0]\n",
      " [ 36   0  22   1 419  21  37]\n",
      " [113   6  37  18  84 848 205]\n",
      " [  2   0  18   1  39 113 378]]\n",
      "====Iteration 5  ====\n",
      "accuracy 0.7113556778389195\n",
      "confusion matrix\n",
      " [[ 172    3   21    5   18   14    6]\n",
      " [   0   78   28    0   26   39    0]\n",
      " [  63   40  594    0    9  168   31]\n",
      " [  32    0   50  169    0   32    2]\n",
      " [  28    3  155    1  285   31   33]\n",
      " [   6    4    0    2   23 1269    7]\n",
      " [   9    0   62    0   76  127  277]]\n",
      "====Iteration 6  ====\n",
      "accuracy 0.6293146573286643\n",
      "confusion matrix\n",
      " [[ 123    5   71    0    4   16   19]\n",
      " [   0   68   27    0   46   23    8]\n",
      " [  42   48  511    0   65   95  144]\n",
      " [  63   35    4   48   30   75   30]\n",
      " [  82    8   60    0  186  158   42]\n",
      " [   6   36   12    4  155 1063   35]\n",
      " [   3    0    0    0   17   14  517]]\n",
      "====Iteration 7  ====\n",
      "accuracy 0.7621310655327664\n",
      "confusion matrix\n",
      " [[ 162    0    6   12    1   34   23]\n",
      " [  11  144   14    0    0    2    1]\n",
      " [  33   96  603   42   15   61   54]\n",
      " [   3    0    0  280    0    3    0]\n",
      " [  37    5   36   18  173  260    7]\n",
      " [   1   12    1    6    5 1285    1]\n",
      " [   8    0   86    0   47   10  400]]\n",
      "====Iteration 8  ====\n",
      "accuracy 0.6045522761380691\n",
      "confusion matrix\n",
      " [[212   0   0   4   0   1  21]\n",
      " [ 13  94  41   0   1  11  12]\n",
      " [ 50  65 555  66  68  16  84]\n",
      " [ 20   0   0 244   2   0  20]\n",
      " [  0   5   2   1 482   6  40]\n",
      " [ 35 219 150  24 305 490  87]\n",
      " [167   0   1  11   1  32 340]]\n",
      "====Iteration 9  ====\n",
      "accuracy 0.467983991995998\n",
      "confusion matrix\n",
      " [[ 70   0  14  46   1  83  24]\n",
      " [ 28  15  66   5  33  14  11]\n",
      " [124   0 585   0   4 116  75]\n",
      " [  9   0   0 127  13 137   0]\n",
      " [  0   0   0   2 490  14  30]\n",
      " [ 54  77 830   0  99 228  22]\n",
      " [108   0   4  24  15  45 356]]\n",
      "CPU times: user 3min 7s, sys: 1.58 s, total: 3min 9s\n",
      "Wall time: 3min 9s\n"
     ]
    }
   ],
   "source": [
    "%%time\n",
    "EvaluateClassifierEstimator3(classifierEstimaterRF1, X, Y2, cv)\n"
   ]
  },
  {
   "cell_type": "markdown",
   "metadata": {
    "colab_type": "text",
    "id": "2--GeHyvrsP-"
   },
   "source": [
    "Running through each iteration of our kfold, we can see that our accuracy score ranges from 0.46 to 0.83. "
   ]
  },
  {
   "cell_type": "code",
   "execution_count": 0,
   "metadata": {
    "colab": {
     "base_uri": "https://localhost:8080/",
     "height": 33
    },
    "colab_type": "code",
    "id": "TLxsUe8hAvVH",
    "outputId": "0b5564e3-856c-43a4-9224-3c686ce183d0"
   },
   "outputs": [
    {
     "name": "stdout",
     "output_type": "stream",
     "text": [
      "Average RF accuracy score is : 0.6716029244930041\n"
     ]
    }
   ],
   "source": [
    "from sklearn.model_selection import cross_val_score\n",
    "\n",
    "RF_accuracy = cross_val_score(classifierEstimaterRF1, X, y=Y2, cv=cv)\n",
    "RF_acc=RF_accuracy.mean()\n",
    "print('Average RF accuracy score is : {}' .format(RF_acc))"
   ]
  },
  {
   "cell_type": "code",
   "execution_count": 0,
   "metadata": {
    "colab": {
     "base_uri": "https://localhost:8080/",
     "height": 626
    },
    "colab_type": "code",
    "id": "oeHybbBQPejX",
    "outputId": "4ad3c3a8-2610-4aea-8a50-85e370422415"
   },
   "outputs": [
    {
     "data": {
      "image/png": "[encoded data removed]",
      "text/plain": [
       "<Figure size 720x720 with 1 Axes>"
      ]
     },
     "metadata": {
      "tags": []
     },
     "output_type": "display_data"
    }
   ],
   "source": [
    "totalacc = 0\n",
    "totalprec = 0\n",
    "totalrec= 0\n",
    "totalf1  = 0\n",
    "\n",
    "for fold, (train_index, test_index) in enumerate(cv.split(X,Y2)):\n",
    "     X_train = X[train_index]    \n",
    "     y_train = Y2[train_index]  # Based on your code, you might need a ravel call here, but I would look into how you're generating your y\n",
    "     X_test = X[test_index]\n",
    "     y_test = Y2[test_index]  # See comment on ravel and  y_train\n",
    "     sm = SMOTE(random_state=101)\n",
    "     X_train_oversampled, y_train_oversampled = sm.fit_sample(X_train, y_train)\n",
    "     classifierEstimaterRF1.fit(X_train, y_train) \n",
    "     y_pred = classifierEstimaterRF1.predict(X_test)\n",
    "     acc = mt.accuracy_score(y_test,y_pred)\n",
    "     prec = precision_score(y_test, y_pred, average='weighted')\n",
    "     rec = recall_score(y_test, y_pred, average='weighted')\n",
    "     f1 = f1_score(y_test, y_pred, average='weighted')\n",
    "     perclassaccuracy = per_class_accuracy(y_test,y_pred)\n",
    "     perclasslist.append(perclassaccuracy.tolist())\n",
    "     totalacc += acc\n",
    "     totalprec += prec\n",
    "     totalrec += rec\n",
    "     totalf1 += f1\n",
    "     conf = mt.confusion_matrix(y_test,y_pred)\n",
    "#     print(\"Sum: \", totalacc, \"Current: \", acc,\"Per Class\",perclassaccuracy,\"\\n\")\n",
    "\n",
    "\n",
    "avgaccuracy = 100*totalacc / cv.n_splits\n",
    "avgprec = 100*totalprec / cv.n_splits\n",
    "avgrec = 100*totalrec / cv.n_splits\n",
    "avgf1 = 100*totalf1 / cv.n_splits\n",
    " \n",
    "\n",
    "list.append((\"Model 2\", \"Random Forest\", avgaccuracy, avgprec, avgrec, avgf1))\n",
    "\n",
    "perclassdf = []\n",
    "perclassdf = pd.DataFrame(perclasslist)\n",
    "#perclassdf = perclassdf.transpose()\n",
    "#perclassdf\n",
    "\n",
    "perclassavg = perclassdf.mean(axis = 0) \n",
    "#perclassavg\n",
    "\n",
    "plt.bar(range(len(perclassavg)), perclassavg)\n",
    "plt.xlabel('Class value (one per category)')\n",
    "plt.ylabel('Accuracy within class')\n",
    "#plt.title(title+\", Total Acc=%.1f\"%(totalaccuracy))\n",
    "plt.title(\"Random Forest Avg Acc=%.1f\"%(avgaccuracy))\n",
    "plt.grid()\n",
    "plt.ylim([0,1])\n",
    "plt.show()"
   ]
  },
  {
   "cell_type": "markdown",
   "metadata": {
    "colab_type": "text",
    "id": "WFovUZoMAnQk"
   },
   "source": [
    "Like our previous models, we can see class 2, 3 and 5 were the most accurately predicted classes in our model. "
   ]
  },
  {
   "cell_type": "code",
   "execution_count": 0,
   "metadata": {
    "colab": {
     "base_uri": "https://localhost:8080/",
     "height": 33
    },
    "colab_type": "code",
    "id": "JaPxeyaqRD_i",
    "outputId": "03443231-0263-4b0d-c79a-2f2679f66645"
   },
   "outputs": [
    {
     "data": {
      "text/plain": [
       "(39983,)"
      ]
     },
     "execution_count": 161,
     "metadata": {
      "tags": []
     },
     "output_type": "execute_result"
    }
   ],
   "source": [
    "ylist = Y['id_label'].values.astype('int64')\n",
    "ylist\n",
    "ylist.shape"
   ]
  },
  {
   "cell_type": "code",
   "execution_count": 0,
   "metadata": {
    "colab": {
     "base_uri": "https://localhost:8080/",
     "height": 212
    },
    "colab_type": "code",
    "id": "dAp5ZVOGSwZ4",
    "outputId": "22b813c1-3569-4e10-d7e1-291670b71915"
   },
   "outputs": [
    {
     "data": {
      "text/plain": [
       "[('Model 1',\n",
       "  'KNN',\n",
       "  58.23395818939728,\n",
       "  58.34350559044941,\n",
       "  58.23395818939728,\n",
       "  56.50715998546683),\n",
       " ('Model 2',\n",
       "  'Random Forest',\n",
       "  67.1602924493004,\n",
       "  68.6592368482461,\n",
       "  67.1602924493004,\n",
       "  66.05111493740495)]"
      ]
     },
     "execution_count": 162,
     "metadata": {
      "tags": []
     },
     "output_type": "execute_result"
    }
   ],
   "source": [
    "list"
   ]
  },
  {
   "cell_type": "code",
   "execution_count": 0,
   "metadata": {
    "colab": {},
    "colab_type": "code",
    "id": "ELigS-EI-vWd"
   },
   "outputs": [],
   "source": [
    "from sklearn.preprocessing import label_binarize\n",
    "ybinary = label_binarize(ylist, classes=[1, 2, 3, 4, 5, 6, 7])\n",
    "n_classes = ybinary.shape[1]\n",
    "\n",
    "X_train4, X_test4, y_train4, y_test4 = train_test_split(X,ybinary, test_size=0.2) # 70% training and 30% test"
   ]
  },
  {
   "cell_type": "code",
   "execution_count": 0,
   "metadata": {
    "colab": {
     "base_uri": "https://localhost:8080/",
     "height": 50
    },
    "colab_type": "code",
    "id": "BA0VrcfN_Am7",
    "outputId": "c7bba9af-d21d-440e-8a9e-e69d62c2ba51"
   },
   "outputs": [
    {
     "name": "stdout",
     "output_type": "stream",
     "text": [
      "CPU times: user 20min 49s, sys: 6.3 s, total: 20min 55s\n",
      "Wall time: 20min 58s\n"
     ]
    }
   ],
   "source": [
    "%%time\n",
    "from sklearn.multiclass import OneVsRestClassifier\n",
    "from sklearn.model_selection import cross_val_predict\n",
    "# Learn to predict each class against the other\n",
    "rfclassifiercv = OneVsRestClassifier(RandomForestClassifier(bootstrap=True, ccp_alpha=0.0, class_weight=None,\n",
    "                       criterion='gini', max_depth=20, max_features='auto',\n",
    "                       max_leaf_nodes=None, max_samples=None,\n",
    "                       min_impurity_decrease=0.0, min_impurity_split=None,\n",
    "                       min_samples_leaf=1, min_samples_split=2,\n",
    "                       min_weight_fraction_leaf=0.0, n_estimators=500,\n",
    "                       n_jobs=None, oob_score=False, random_state=101,\n",
    "                       verbose=0, warm_start=False))\n",
    "rfbinarymodel = rfclassifiercv.fit(X_train4, y_train4)\n",
    "rfbinaryscore = rfclassifiercv.predict(X_test4)\n",
    "y_score = cross_val_predict(rfclassifiercv, X, ybinary, cv=10 ,method='predict_proba')"
   ]
  },
  {
   "cell_type": "code",
   "execution_count": 0,
   "metadata": {
    "colab": {
     "base_uri": "https://localhost:8080/",
     "height": 626
    },
    "colab_type": "code",
    "id": "Clyn3ShEAb4u",
    "outputId": "286f47b0-2f37-4261-ba33-9eff415dcb8c"
   },
   "outputs": [
    {
     "data": {
      "image/png": "[encoded data removed]",
      "text/plain": [
       "<Figure size 720x720 with 1 Axes>"
      ]
     },
     "metadata": {
      "tags": []
     },
     "output_type": "display_data"
    }
   ],
   "source": [
    "#X1_train, X1_test, y1_train, y1_test\n",
    "#y_score = classifier.fit(X_train3, y_train3).decision_function(X_test3)\n",
    "# Compute ROC curve and ROC area for each class\n",
    "fpr = dict()\n",
    "tpr = dict()\n",
    "roc_auc = dict()\n",
    "for i in range(n_classes):\n",
    "    fpr[i], tpr[i], _ = roc_curve(ybinary[:, i], y_score[:, i])\n",
    "    roc_auc[i] = auc(fpr[i], tpr[i])\n",
    "\n",
    "# Compute micro-average ROC curve and ROC area\n",
    "fpr[\"micro\"], tpr[\"micro\"], _ = roc_curve(ybinary.ravel(), y_score.ravel())\n",
    "roc_auc[\"micro\"] = auc(fpr[\"micro\"], tpr[\"micro\"])\n",
    "#Plot of a ROC curve for a specific class\n",
    "\n",
    "plt.figure()\n",
    "lw = 2\n",
    "plt.plot(fpr[2], tpr[2], color='darkorange',\n",
    "         lw=lw, label='ROC curve (area = %0.2f)' % roc_auc[3])\n",
    "plt.plot([0, 1], [0, 1], color='navy', lw=lw, linestyle='--')\n",
    "plt.xlim([0.0, 1.0])\n",
    "plt.ylim([0.0, 1.05])\n",
    "plt.xlabel('False Positive Rate')\n",
    "plt.ylabel('True Positive Rate')\n",
    "plt.title('Receiver operating characteristic Whiskey')\n",
    "plt.legend(loc=\"lower right\")\n",
    "plt.show()"
   ]
  },
  {
   "cell_type": "markdown",
   "metadata": {
    "colab_type": "text",
    "id": "Wo-PjfLRAzEN"
   },
   "source": [
    "Looking at the average value ROC curve, we can see this model was the strongest performer as indicated by the area under the curve. "
   ]
  },
  {
   "cell_type": "code",
   "execution_count": 0,
   "metadata": {
    "colab": {
     "base_uri": "https://localhost:8080/",
     "height": 626
    },
    "colab_type": "code",
    "id": "U5hAPjphA-y7",
    "outputId": "0efa026d-3c0e-439e-cf46-e72d09170f31"
   },
   "outputs": [
    {
     "data": {
      "image/png": "[encoded data removed]",
      "text/plain": [
       "<Figure size 720x720 with 1 Axes>"
      ]
     },
     "metadata": {
      "tags": []
     },
     "output_type": "display_data"
    }
   ],
   "source": [
    "from scipy import interp\n",
    "from itertools import cycle\n",
    "# First aggregate all false positive rates\n",
    "all_fpr = np.unique(np.concatenate([fpr[i] for i in range(n_classes)]))\n",
    "\n",
    "# Then interpolate all ROC curves at this points\n",
    "mean_tpr = np.zeros_like(all_fpr)\n",
    "for i in range(n_classes):\n",
    "    mean_tpr += interp(all_fpr, fpr[i], tpr[i])\n",
    "\n",
    "# Finally average it and compute AUC\n",
    "mean_tpr /= n_classes\n",
    "\n",
    "fpr[\"macro\"] = all_fpr\n",
    "tpr[\"macro\"] = mean_tpr\n",
    "roc_auc[\"macro\"] = auc(fpr[\"macro\"], tpr[\"macro\"])\n",
    "roc_list.append((\"Model 2\", \"RF\", roc_auc[\"macro\"],fpr[\"macro\"],tpr[\"macro\"]))\n",
    "# Plot all ROC curves\n",
    "plt.figure()\n",
    "plt.plot(fpr[\"micro\"], tpr[\"micro\"],\n",
    "         label='micro-average ROC curve (area = {0:0.2f})'\n",
    "               ''.format(roc_auc[\"micro\"]),\n",
    "         color='deeppink', linestyle=':', linewidth=4)\n",
    "\n",
    "plt.plot(fpr[\"macro\"], tpr[\"macro\"],\n",
    "         label='macro-average ROC curve (area = {0:0.2f})'\n",
    "               ''.format(roc_auc[\"macro\"]),\n",
    "         color='navy', linestyle=':', linewidth=4)\n",
    "\n",
    "colors = cycle(['aqua', 'darkorange', 'cornflowerblue'])\n",
    "for i, color in zip(range(n_classes), colors):\n",
    "    plt.plot(fpr[i], tpr[i], color=color, lw=lw,\n",
    "             label='ROC curve of class {0} (area = {1:0.2f})'\n",
    "             ''.format(i, roc_auc[i]))\n",
    "\n",
    "plt.plot([0, 1], [0, 1], 'k--', lw=lw)\n",
    "plt.xlim([0.0, 1.0])\n",
    "plt.ylim([0.0, 1.05])\n",
    "plt.xlabel('False Positive Rate')\n",
    "plt.ylabel('True Positive Rate')\n",
    "plt.title('Some extension of Receiver operating characteristic to multi-class')\n",
    "plt.legend(loc=\"lower right\")\n",
    "plt.rcParams[\"figure.figsize\"] = (10,10)\n",
    "plt.show()"
   ]
  },
  {
   "cell_type": "markdown",
   "metadata": {
    "colab_type": "text",
    "id": "KjjubGtFBHIN"
   },
   "source": [
    "With an ROC curve of the classes, we can see the random forest was pretty accurate in predicting each of the classes, with a positive outcome on each curve. "
   ]
  },
  {
   "cell_type": "markdown",
   "metadata": {
    "colab_type": "text",
    "id": "Wgb5-8YRY_ec"
   },
   "source": [
    "#### Final Model chosen"
   ]
  },
  {
   "cell_type": "markdown",
   "metadata": {
    "colab_type": "text",
    "id": "428A_s_5fLSW"
   },
   "source": [
    "### Task 1 - Modeling and Evaluation 4  \n",
    "Analyze the results using your chosen method of evaluation. Use visualizations of the results to bolster the analysis. Explain any visuals and analyze why they are interesting to someone that might use this model.\n",
    "\n",
    "Analyze the results using your chosen method of evaluation. Use visualizations of the results to bolster the analysis. Explain any visuals and analyze why they are interesting to someone that might use this model.\n",
    "\n",
    "AUC for both KNN and Random Forest classifier is the same.The best model accuracy was Random Forest Classification at 67%, the highest of 3 models evaluated.\n",
    "\n",
    "We plotted the 3 ROC curves on a graph (see below). The shape of each ROC curve is not the same for all suggesting some models are better at producting classes of alcohol. Random Forest has the largest area under the curve suggesting it is the best of the 3.\n",
    "\n",
    "The computation time taken by each model was comparable between each other. This leads to the conclusion that the Random Forest.\n",
    "\n",
    "\n"
   ]
  },
  {
   "cell_type": "code",
   "execution_count": 0,
   "metadata": {
    "colab": {
     "base_uri": "https://localhost:8080/",
     "height": 66
    },
    "colab_type": "code",
    "id": "pMQPia078KYb",
    "outputId": "ee58ae3d-8cb7-4606-c2a8-9ed5995e5ba8"
   },
   "outputs": [
    {
     "name": "stdout",
     "output_type": "stream",
     "text": [
      "accuracy for KNN classifier is : 0.5823395818939727\n",
      "accuracy for Random Forest classifier is : 0.6716029244930041\n",
      "accuracy for Logistic Regression classifier is : 0.2722635573850941\n"
     ]
    }
   ],
   "source": [
    "print ('accuracy for KNN classifier is :',KNN_acc)\n",
    "print ('accuracy for Random Forest classifier is :',RF_acc)\n",
    "print ('accuracy for Logistic Regression classifier is :',LR_acc)"
   ]
  },
  {
   "cell_type": "code",
   "execution_count": 0,
   "metadata": {
    "colab": {
     "base_uri": "https://localhost:8080/",
     "height": 133
    },
    "colab_type": "code",
    "id": "wRs27H7JpE8k",
    "outputId": "7ff95e24-1fca-469e-b23f-50dc7ab5f9a2"
   },
   "outputs": [
    {
     "data": {
      "text/html": [
       "<div>\n",
       "<style scoped>\n",
       "    .dataframe tbody tr th:only-of-type {\n",
       "        vertical-align: middle;\n",
       "    }\n",
       "\n",
       "    .dataframe tbody tr th {\n",
       "        vertical-align: top;\n",
       "    }\n",
       "\n",
       "    .dataframe thead th {\n",
       "        text-align: right;\n",
       "    }\n",
       "</style>\n",
       "<table border=\"1\" class=\"dataframe\">\n",
       "  <thead>\n",
       "    <tr style=\"text-align: right;\">\n",
       "      <th></th>\n",
       "      <th>Model Number</th>\n",
       "      <th>Model</th>\n",
       "      <th>Accuracy</th>\n",
       "      <th>Precision</th>\n",
       "      <th>Recall</th>\n",
       "      <th>F1</th>\n",
       "    </tr>\n",
       "  </thead>\n",
       "  <tbody>\n",
       "    <tr>\n",
       "      <th>0</th>\n",
       "      <td>Model 1</td>\n",
       "      <td>KNN</td>\n",
       "      <td>58.233958</td>\n",
       "      <td>58.343506</td>\n",
       "      <td>58.233958</td>\n",
       "      <td>56.507160</td>\n",
       "    </tr>\n",
       "    <tr>\n",
       "      <th>1</th>\n",
       "      <td>Model 2</td>\n",
       "      <td>Random Forest</td>\n",
       "      <td>67.160292</td>\n",
       "      <td>68.659237</td>\n",
       "      <td>67.160292</td>\n",
       "      <td>66.051115</td>\n",
       "    </tr>\n",
       "    <tr>\n",
       "      <th>2</th>\n",
       "      <td>Model 3</td>\n",
       "      <td>Logistic Regression</td>\n",
       "      <td>27.226356</td>\n",
       "      <td>37.160409</td>\n",
       "      <td>27.226356</td>\n",
       "      <td>27.604865</td>\n",
       "    </tr>\n",
       "  </tbody>\n",
       "</table>\n",
       "</div>"
      ],
      "text/plain": [
       "  Model Number                Model   Accuracy  Precision     Recall         F1\n",
       "0      Model 1                  KNN  58.233958  58.343506  58.233958  56.507160\n",
       "1      Model 2        Random Forest  67.160292  68.659237  67.160292  66.051115\n",
       "2      Model 3  Logistic Regression  27.226356  37.160409  27.226356  27.604865"
      ]
     },
     "execution_count": 178,
     "metadata": {
      "tags": []
     },
     "output_type": "execute_result"
    }
   ],
   "source": [
    "list\n",
    "dfobj = pd.DataFrame(list, columns = ['Model Number', 'Model','Accuracy' , 'Precision', 'Recall', 'F1'], index=['0', '1', '2'])\n",
    "dfobj"
   ]
  },
  {
   "cell_type": "code",
   "execution_count": 0,
   "metadata": {
    "colab": {
     "base_uri": "https://localhost:8080/",
     "height": 198
    },
    "colab_type": "code",
    "id": "pjUQSuAqSBV1",
    "outputId": "2044be29-bc31-4fd1-9cfd-e86abbe212aa"
   },
   "outputs": [
    {
     "data": {
      "text/html": [
       "<div>\n",
       "<style scoped>\n",
       "    .dataframe tbody tr th:only-of-type {\n",
       "        vertical-align: middle;\n",
       "    }\n",
       "\n",
       "    .dataframe tbody tr th {\n",
       "        vertical-align: top;\n",
       "    }\n",
       "\n",
       "    .dataframe thead th {\n",
       "        text-align: right;\n",
       "    }\n",
       "</style>\n",
       "<table border=\"1\" class=\"dataframe\">\n",
       "  <thead>\n",
       "    <tr style=\"text-align: right;\">\n",
       "      <th></th>\n",
       "      <th>Model Number</th>\n",
       "      <th>Model</th>\n",
       "      <th>ROC</th>\n",
       "      <th>fpr</th>\n",
       "      <th>tpr</th>\n",
       "    </tr>\n",
       "  </thead>\n",
       "  <tbody>\n",
       "    <tr>\n",
       "      <th>0</th>\n",
       "      <td>Model 1</td>\n",
       "      <td>KNN</td>\n",
       "      <td>0.587234</td>\n",
       "      <td>[0.0, 0.022273094532722866, 0.0223269593320764...</td>\n",
       "      <td>[0.0, 0.09158371380516994, 0.091736174092466, ...</td>\n",
       "    </tr>\n",
       "    <tr>\n",
       "      <th>1</th>\n",
       "      <td>Model 2</td>\n",
       "      <td>RF</td>\n",
       "      <td>0.751273</td>\n",
       "      <td>[0.0, 5.386479935362241e-05, 8.07971990304336e...</td>\n",
       "      <td>[5.987306909352174e-05, 0.02477672466686168, 0...</td>\n",
       "    </tr>\n",
       "    <tr>\n",
       "      <th>2</th>\n",
       "      <td>Model 2</td>\n",
       "      <td>LR</td>\n",
       "      <td>0.606728</td>\n",
       "      <td>[0.0, 2.6132176548984765e-05, 3.23227099360010...</td>\n",
       "      <td>[0.0013478748164938664, 0.0013478748164938664,...</td>\n",
       "    </tr>\n",
       "  </tbody>\n",
       "</table>\n",
       "</div>"
      ],
      "text/plain": [
       "  Model Number  ...                                                tpr\n",
       "0      Model 1  ...  [0.0, 0.09158371380516994, 0.091736174092466, ...\n",
       "1      Model 2  ...  [5.987306909352174e-05, 0.02477672466686168, 0...\n",
       "2      Model 2  ...  [0.0013478748164938664, 0.0013478748164938664,...\n",
       "\n",
       "[3 rows x 5 columns]"
      ]
     },
     "execution_count": 179,
     "metadata": {
      "tags": []
     },
     "output_type": "execute_result"
    }
   ],
   "source": [
    "dfroc = pd.DataFrame(roc_list, columns = ['Model Number', 'Model', 'ROC', \"fpr\", \"tpr\"], index=['0', '1', '2'])\n",
    "dfroc"
   ]
  },
  {
   "cell_type": "code",
   "execution_count": 0,
   "metadata": {
    "colab": {
     "base_uri": "https://localhost:8080/",
     "height": 626
    },
    "colab_type": "code",
    "id": "UtVROTGoZGL9",
    "outputId": "5311e29b-77bf-441e-8ea1-c2c6437bf3f3"
   },
   "outputs": [
    {
     "data": {
      "image/png": "[encoded data removed]",
      "text/plain": [
       "<Figure size 720x720 with 1 Axes>"
      ]
     },
     "metadata": {
      "tags": []
     },
     "output_type": "display_data"
    }
   ],
   "source": [
    "plt.plot(dfroc.iloc[0, 3], dfroc.iloc[0, 4],\n",
    "         label='KNN ROC curve (area = {0:0.2f})'\n",
    "               ''.format(dfroc.iloc[0, 2]),\n",
    "         color='navy', linestyle=':', linewidth=4)\n",
    "\n",
    "plt.plot(dfroc.iloc[1, 3], dfroc.iloc[1, 4],\n",
    "         label='RF ROC curve (area = {0:0.2f})'\n",
    "               ''.format(dfroc.iloc[1, 2]),\n",
    "         color='green', linestyle=':', linewidth=4)\n",
    "\n",
    "plt.plot(dfroc.iloc[2, 3], dfroc.iloc[2, 4],\n",
    "         label='LR ROC curve (area = {0:0.2f})'\n",
    "               ''.format(dfroc.iloc[2, 2]),\n",
    "         color='orange', linestyle=':', linewidth=4)\n",
    "\n",
    "plt.plot([0, 1], [0, 1], 'k--', lw=lw)\n",
    "plt.xlim([0.0, 1.0])\n",
    "plt.ylim([0.0, 1.05])\n",
    "plt.xlabel('False Positive Rate')\n",
    "plt.ylabel('True Positive Rate')\n",
    "plt.title('ROC Comparison of Classifiers')\n",
    "plt.legend(loc=\"lower right\")\n",
    "plt.rcParams[\"figure.figsize\"] = (10,10)\n",
    "plt.show()"
   ]
  },
  {
   "cell_type": "markdown",
   "metadata": {
    "colab_type": "text",
    "id": "QsICZBA2NaO5"
   },
   "source": [
    "### Task 1 - Modeling and Evaluation 5  \n",
    "Discuss the advantages of each model for each classification task, if any. If there are not advantages, explain why. Is any model better than another? Is the difference significant with 95% confidence? Use proper statistical comparison methods. You must use statistical comparison techniques—be sure they are appropriate for your chosen method of validation as discussed in unit 7 of the course.\n",
    "\n",
    "\n"
   ]
  },
  {
   "cell_type": "markdown",
   "metadata": {
    "colab_type": "text",
    "id": "wMbIApJ8SQzu"
   },
   "source": [
    "Advantages and overall assumptions for each of the three models we ran for task 1 are outlined below.  \n",
    "\n",
    "For the KNN model, the main advantage was speed.  For example, the KNN model was able to finish running in under 3 minutes vs Random Forest and Logistic Regression which was greater than 20 minutes each.   Note, eventhough the model was quicker to run it did not provide us the best model statistics. \n",
    "\n",
    "For the Random Forest, the main advantage was predictability.  This could be due to the fact that Random Forest does well with highly dimensional data.  Furthermore, this is the best performing model with an accuaracy score at 0.67, and a Precision, Recall, & F1 Score of 0.93, 0.93, & 0.93 respectively. \n",
    "\n",
    "For the Logistic Regression model, the main advantage was that we were able to run the most number of different parameters as compared to other models.  Due to running 16 different parameter tests, the overall grid search + model was the slowest at 24.5 minutes.  In terms of predictability, this was the worst performing model. \n",
    "\n"
   ]
  },
  {
   "cell_type": "markdown",
   "metadata": {
    "colab_type": "text",
    "id": "1uoUpNu6TUUf"
   },
   "source": [
    "#### Statistical Comparisons of Classifiers\n",
    "\n",
    "Null Hypothesis = there is no significant difference in classifier scores among our models. \n",
    "Alt Hypothesis = There is a significant difference in our models. \n",
    "\n",
    "T value is 2.26\n",
    "\n",
    "Confidence interval is 95%"
   ]
  },
  {
   "cell_type": "code",
   "execution_count": 0,
   "metadata": {
    "colab": {},
    "colab_type": "code",
    "id": "L0DkLi9QSybl"
   },
   "outputs": [],
   "source": [
    "from sklearn.model_selection import cross_val_score\n",
    "acc_KNN_t1 = cross_val_score(classifierEstimaterKNN1, X, y=Y, cv=cv)\n",
    "acc_RF_t1 = cross_val_score(classifierEstimaterRF1, X, y=Y, cv=cv)\n",
    "acc_LR_t1 = cross_val_score(classifierEstimaterLR, X, y=Y, cv=cv)"
   ]
  },
  {
   "cell_type": "code",
   "execution_count": 0,
   "metadata": {
    "colab": {
     "base_uri": "https://localhost:8080/",
     "height": 135
    },
    "colab_type": "code",
    "id": "82FQ7BswS189",
    "outputId": "4f521a30-5e3a-42c2-87e3-a4104014c600"
   },
   "outputs": [
    {
     "name": "stdout",
     "output_type": "stream",
     "text": [
      "accuracy for KNN classifier is : [0.60265066 0.79969992 0.66116529 0.43446723 0.67333667 0.59254627\n",
      " 0.55827914 0.64057029 0.48149075 0.37918959]\n",
      "accuracy for Random Forest classifier is : [0.67316829 0.8312078  0.81070268 0.47798899 0.74762381 0.71135568\n",
      " 0.62931466 0.76213107 0.60455228 0.46798399]\n",
      "accuracy for Logistic Regression Classifier is : [0.32733183 0.36634159 0.20930233 0.17083542 0.4132066  0.37343672\n",
      " 0.21485743 0.20735368 0.1935968  0.24637319]\n"
     ]
    }
   ],
   "source": [
    "print ('accuracy for KNN classifier is :',acc_KNN_t1)\n",
    "print ('accuracy for Random Forest classifier is :',acc_RF_t1)\n",
    "print ('accuracy for Logistic Regression Classifier is :',acc_LR_t1)"
   ]
  },
  {
   "cell_type": "code",
   "execution_count": 0,
   "metadata": {
    "colab": {
     "base_uri": "https://localhost:8080/",
     "height": 66
    },
    "colab_type": "code",
    "id": "gSgiUSguS5c1",
    "outputId": "8b684298-fb25-4734-8cf8-1cf8c2a7da6e"
   },
   "outputs": [
    {
     "name": "stdout",
     "output_type": "stream",
     "text": [
      "Range of KNN_RF confidence interval:[0.063468,0.115059]\n",
      "Range of KNN_LR confidence interval:[-0.380690,-0.239462]\n",
      "Range of RF_LR confidence interval:[-0.477818,-0.320861]\n"
     ]
    }
   ],
   "source": [
    "#Is t-value right here???\n",
    "t = 2.26 / np.sqrt(10)\n",
    "\n",
    "e_KNN_RF_t1 = (1-acc_KNN_t1)-(1-acc_RF_t1)\n",
    "e_KNN_LR_t1 = (1-acc_KNN_t1)-(1-acc_LR_t1)\n",
    "e_RF_LR_t1 = (1-acc_RF_t1)-(1-acc_LR_t1)\n",
    "\n",
    "\n",
    "stdtot_K_R_t1 = np.std(e_KNN_RF_t1)\n",
    "stdtot_K_L_t1 = np.std(e_KNN_LR_t1)\n",
    "stdtot_R_L_t1 = np.std(e_RF_LR_t1)\n",
    "\n",
    "\n",
    "dbarKR_t1 = np.mean(e_KNN_RF_t1)\n",
    "dbarKL_t1 = np.mean(e_KNN_LR_t1)\n",
    "dbarRL_t1 = np.mean(e_RF_LR_t1)\n",
    "\n",
    "\n",
    "print ('Range of KNN_RF confidence interval:[%0.6f,%0.6f]' % (dbarKR_t1-t*stdtot_K_R_t1,dbarKR_t1+t*stdtot_K_R_t1))\n",
    "print ('Range of KNN_LR confidence interval:[%0.6f,%0.6f]' % (dbarKL_t1-t*stdtot_K_L_t1,dbarKL_t1+t*stdtot_K_L_t1))\n",
    "print ('Range of RF_LR confidence interval:[%0.6f,%0.6f]' % (dbarRL_t1-t*stdtot_R_L_t1,dbarRL_t1+t*stdtot_R_L_t1))"
   ]
  },
  {
   "cell_type": "markdown",
   "metadata": {
    "colab_type": "text",
    "id": "mZ9en1WjTCSF"
   },
   "source": [
    "According to the intervals above, all of the relationships are statistically significant at the 95% level. So we would reject the null hypothesis. This is indicated by the fact that none of the interval range passes through 0. This means that they are all statistically significant. The code above shows our confidence intervals at 95%."
   ]
  },
  {
   "cell_type": "markdown",
   "metadata": {
    "colab_type": "text",
    "id": "nQoIH4fuNhez"
   },
   "source": [
    "### Task 1 - Modeling and Evaluation 6  \n",
    "Which attributes from your analysis are most important? Use proper methods discussed in class to evaluate the importance of different attributes. Discuss the results and hypothesize about why certain attributes are more important than others for a given classification task.\n"
   ]
  },
  {
   "cell_type": "markdown",
   "metadata": {
    "colab_type": "text",
    "id": "3Qs8MPJOSQz1"
   },
   "source": [
    "As you will see in the charts below, the cost_per_liter_trans is the most important feature, followed by state_bottle_cost_trans, pack_trans, and bottle_volume_ml_trans.  \n",
    "\n",
    "This correlates well with our assumptions since each liquor type may have a different cost per liter, as well as the pack and bottle volume sold.   With that said, the model is using these features to help classify the different liquor types within our dataset. "
   ]
  },
  {
   "cell_type": "code",
   "execution_count": 0,
   "metadata": {
    "colab": {
     "base_uri": "https://localhost:8080/",
     "height": 50
    },
    "colab_type": "code",
    "id": "Ot8lU13gMUOD",
    "outputId": "fa3219a1-aede-4ff8-da38-d425a9fdf521"
   },
   "outputs": [
    {
     "data": {
      "text/plain": [
       "array([0.07569612, 0.29275988, 0.25261299, 0.0144542 , 0.03469669,\n",
       "       0.05725532, 0.06067744, 0.06713809, 0.0720781 , 0.07263117])"
      ]
     },
     "execution_count": 184,
     "metadata": {
      "tags": []
     },
     "output_type": "execute_result"
    }
   ],
   "source": [
    "importances = classifierEstimaterRF1.feature_importances_\n",
    "importances"
   ]
  },
  {
   "cell_type": "code",
   "execution_count": 0,
   "metadata": {
    "colab": {
     "base_uri": "https://localhost:8080/",
     "height": 33
    },
    "colab_type": "code",
    "id": "Q_jVyxJn4mOk",
    "outputId": "a080b7b3-663b-4193-dcd4-0c461be67591"
   },
   "outputs": [
    {
     "data": {
      "text/plain": [
       "array(['1', '2', '3', '4', '5', '6', '7'], dtype=object)"
      ]
     },
     "execution_count": 185,
     "metadata": {
      "tags": []
     },
     "output_type": "execute_result"
    }
   ],
   "source": [
    "classes = classifierEstimaterRF1.classes_\n",
    "classes"
   ]
  },
  {
   "cell_type": "code",
   "execution_count": 0,
   "metadata": {
    "colab": {
     "base_uri": "https://localhost:8080/",
     "height": 115
    },
    "colab_type": "code",
    "id": "XvfdAQMS5U7b",
    "outputId": "b8391c65-5140-4a0d-854d-5c550cdfb82e"
   },
   "outputs": [
    {
     "data": {
      "text/plain": [
       "DecisionTreeClassifier(ccp_alpha=0.0, class_weight=None, criterion='gini',\n",
       "                       max_depth=None, max_features=None, max_leaf_nodes=None,\n",
       "                       min_impurity_decrease=0.0, min_impurity_split=None,\n",
       "                       min_samples_leaf=1, min_samples_split=2,\n",
       "                       min_weight_fraction_leaf=0.0, presort='deprecated',\n",
       "                       random_state=None, splitter='best')"
      ]
     },
     "execution_count": 186,
     "metadata": {
      "tags": []
     },
     "output_type": "execute_result"
    }
   ],
   "source": [
    "classifierEstimaterRF1.base_estimator_"
   ]
  },
  {
   "cell_type": "code",
   "execution_count": 0,
   "metadata": {
    "colab": {
     "base_uri": "https://localhost:8080/",
     "height": 407
    },
    "colab_type": "code",
    "id": "SzXbDFF85gxC",
    "outputId": "e5e3f812-7792-4476-f6ab-4d9a48328169"
   },
   "outputs": [
    {
     "data": {
      "text/plain": [
       "{'importances': array([[-0.0018757 , -0.0018757 , -0.00250094, -0.00175066, -0.00225084,\n",
       "         -0.00262598, -0.00225084, -0.00100038, -0.00112542, -0.00125047],\n",
       "        [ 0.30811554,  0.30386395,  0.30273853,  0.30736526,  0.30023759,\n",
       "          0.30136301,  0.29711142,  0.30461423,  0.30874078,  0.31361761],\n",
       "        [ 0.15955983,  0.16468676,  0.16256096,  0.16181068,  0.15955983,\n",
       "          0.16156059,  0.16231087,  0.16656246,  0.16606227,  0.16043516],\n",
       "        [-0.00225084, -0.00300113, -0.00150056, -0.00237589, -0.00250094,\n",
       "         -0.00237589, -0.00300113, -0.0021258 , -0.00325122, -0.00262598],\n",
       "        [-0.00262598, -0.00162561, -0.00087533, -0.00312617, -0.00050019,\n",
       "         -0.00375141, -0.00275103, -0.00200075, -0.00137552, -0.00362636],\n",
       "        [ 0.09753658,  0.09753658,  0.09391022,  0.09503564,  0.09803676,\n",
       "          0.09553583,  0.09966237,  0.10041265,  0.09391022,  0.09903714],\n",
       "        [ 0.02475928,  0.02225835,  0.0280105 ,  0.02563461,  0.02813555,\n",
       "          0.02488433,  0.02575966,  0.0282606 ,  0.02550957,  0.02701013],\n",
       "        [-0.00237589, -0.00287608, -0.00375141, -0.00312617, -0.00337627,\n",
       "         -0.00262598, -0.00500188, -0.00275103, -0.00412655, -0.00325122],\n",
       "        [-0.0021258 , -0.00175066, -0.00250094, -0.00137552, -0.00250094,\n",
       "         -0.0021258 , -0.00262598, -0.00100038, -0.00125047, -0.00300113],\n",
       "        [-0.00262598, -0.00250094, -0.00275103, -0.00237589, -0.00375141,\n",
       "         -0.00225084, -0.00350131, -0.00087533, -0.00237589, -0.00312617]]),\n",
       " 'importances_mean': array([-0.00185069,  0.30477679,  0.16251094, -0.00250094, -0.00222583,\n",
       "         0.0970614 ,  0.02602226, -0.00332625, -0.00202576, -0.00261348]),\n",
       " 'importances_std': array([0.00054449, 0.00455797, 0.00238587, 0.00048107, 0.00107103,\n",
       "        0.00222696, 0.0017873 , 0.00074861, 0.00062723, 0.00075122])}"
      ]
     },
     "execution_count": 187,
     "metadata": {
      "tags": []
     },
     "output_type": "execute_result"
    }
   ],
   "source": [
    "from sklearn.inspection import permutation_importance\n",
    "result = permutation_importance(classifierEstimaterRF1, X1_test, y1_test, n_repeats=10,\n",
    "                                random_state=42, n_jobs=-1)\n",
    "\n",
    "result\n",
    "#X1_train, X1_test, y1_train, y1_test"
   ]
  },
  {
   "cell_type": "code",
   "execution_count": 0,
   "metadata": {
    "colab": {
     "base_uri": "https://localhost:8080/",
     "height": 728
    },
    "colab_type": "code",
    "id": "4Wy3cU2b8W6Y",
    "outputId": "ea1ba4ec-e7b9-4eaa-f6c7-99697233c8d6"
   },
   "outputs": [
    {
     "data": {
      "image/png": "[encoded data removed]",
      "text/plain": [
       "<Figure size 720x720 with 1 Axes>"
      ]
     },
     "metadata": {
      "tags": []
     },
     "output_type": "display_data"
    }
   ],
   "source": [
    "sorted_idx = result.importances_mean.argsort()\n",
    "\n",
    "fig, ax = plt.subplots()\n",
    "ax.boxplot(result.importances[sorted_idx].T,\n",
    "           vert=False, labels=X2.columns[sorted_idx])\n",
    "ax.set_title(\"Permutation Importances (test set)\")\n",
    "fig.tight_layout()\n",
    "plt.show()"
   ]
  },
  {
   "cell_type": "code",
   "execution_count": 0,
   "metadata": {
    "colab": {
     "base_uri": "https://localhost:8080/",
     "height": 728
    },
    "colab_type": "code",
    "id": "6LgiR-AG9V-s",
    "outputId": "d9be1c1f-5f1d-465d-98e2-13261f500018"
   },
   "outputs": [
    {
     "data": {
      "image/png": "[encoded data removed]",
      "text/plain": [
       "<Figure size 720x720 with 1 Axes>"
      ]
     },
     "metadata": {
      "tags": []
     },
     "output_type": "display_data"
    }
   ],
   "source": [
    "result = permutation_importance(classifierEstimaterRF1, X1_train, y1_train, n_repeats=10,\n",
    "                                random_state=42, n_jobs=-1)\n",
    "sorted_idx = result.importances_mean.argsort()\n",
    "\n",
    "fig, ax = plt.subplots()\n",
    "ax.boxplot(result.importances[sorted_idx].T,\n",
    "           vert=False, labels=X2.columns[sorted_idx])\n",
    "ax.set_title(\"Permutation Importances (train set)\")\n",
    "fig.tight_layout()\n",
    "plt.show()"
   ]
  }
 ],
 "metadata": {
  "colab": {
   "collapsed_sections": [],
   "name": "Copy of Lab2_DC.ipynb",
   "provenance": [],
   "toc_visible": true
  },
  "kernelspec": {
   "display_name": "Python 3",
   "language": "python",
   "name": "python3"
  },
  "language_info": {
   "codemirror_mode": {
    "name": "ipython",
    "version": 3
   },
   "file_extension": ".py",
   "mimetype": "text/x-python",
   "name": "python",
   "nbconvert_exporter": "python",
   "pygments_lexer": "ipython3",
   "version": "3.7.1"
  }
 },
 "nbformat": 4,
 "nbformat_minor": 1
}
