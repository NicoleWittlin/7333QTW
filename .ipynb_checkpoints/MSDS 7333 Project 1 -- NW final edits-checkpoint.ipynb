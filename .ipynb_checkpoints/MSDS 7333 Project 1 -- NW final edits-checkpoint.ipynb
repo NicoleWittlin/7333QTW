{
 "cells": [
  {
   "cell_type": "markdown",
   "metadata": {},
   "source": [
    "### 1.1 Introduction"
   ]
  },
  {
   "cell_type": "markdown",
   "metadata": {},
   "source": [
    "### 1.2 Raw Data"
   ]
  },
  {
   "cell_type": "code",
   "execution_count": 1,
   "metadata": {},
   "outputs": [
    {
     "name": "stdout",
     "output_type": "stream",
     "text": [
      "[1] \"Total Number of rows in dataset starting with '#':  5312\"\n",
      "[1] \"Total Number of rows in dataset:  151392\"\n"
     ]
    }
   ],
   "source": [
    "options(digits = 2)\n",
    "txt = readLines(\"http://rdatasciencecases.org/Data/offline.final.trace.txt\")\n",
    "\n",
    "# Rows in dataset starting with #\n",
    "print(paste(\"Total Number of rows in dataset starting with '#': \",sum(substr(txt, 1, 1) == \"#\")))\n",
    "\n",
    "# Total Number of rows in dataset, inc comment rows\n",
    "print(paste(\"Total Number of rows in dataset: \",length(txt)))\n"
   ]
  },
  {
   "cell_type": "markdown",
   "metadata": {},
   "source": [
    "### 1.2.1 Processing Raw Data"
   ]
  },
  {
   "cell_type": "code",
   "execution_count": 2,
   "metadata": {},
   "outputs": [],
   "source": [
    "# Create a function named processLine to process data (split by ; = or ,)\n",
    "# Returns matrix w/11 rows for each MAC address and columns for position and orientation\n",
    "processLine = function(x)\n",
    "{\n",
    "tokens = strsplit(x, \"[;=,]\")[[1]]\n",
    "if (length(tokens) == 10)\n",
    "    return(NULL)\n",
    "tmp = matrix(tokens[ - (1:10) ], , 4, byrow = TRUE)\n",
    "cbind(matrix(tokens[c(2, 4, 6:8, 10)], nrow(tmp), 6,\n",
    "byrow = TRUE), tmp)\n",
    "}\n"
   ]
  },
  {
   "cell_type": "code",
   "execution_count": 4,
   "metadata": {},
   "outputs": [
    {
     "name": "stdout",
     "output_type": "stream",
     "text": [
      "[1] \"Sample of rows in each time set\"\n"
     ]
    },
    {
     "data": {
      "text/html": [
       "<style>\n",
       ".list-inline {list-style: none; margin:0; padding: 0}\n",
       ".list-inline>li {display: inline-block}\n",
       ".list-inline>li:not(:last-child)::after {content: \"\\00b7\"; padding: 0 .5ex}\n",
       "</style>\n",
       "<ol class=list-inline><li>11</li><li>10</li><li>10</li><li>11</li><li>9</li><li>10</li><li>9</li><li>9</li><li>10</li><li>11</li><li>11</li><li>9</li><li>9</li><li>9</li><li>8</li><li>10</li><li>14</li></ol>\n"
      ],
      "text/latex": [
       "\\begin{enumerate*}\n",
       "\\item 11\n",
       "\\item 10\n",
       "\\item 10\n",
       "\\item 11\n",
       "\\item 9\n",
       "\\item 10\n",
       "\\item 9\n",
       "\\item 9\n",
       "\\item 10\n",
       "\\item 11\n",
       "\\item 11\n",
       "\\item 9\n",
       "\\item 9\n",
       "\\item 9\n",
       "\\item 8\n",
       "\\item 10\n",
       "\\item 14\n",
       "\\end{enumerate*}\n"
      ],
      "text/markdown": [
       "1. 11\n",
       "2. 10\n",
       "3. 10\n",
       "4. 11\n",
       "5. 9\n",
       "6. 10\n",
       "7. 9\n",
       "8. 9\n",
       "9. 10\n",
       "10. 11\n",
       "11. 11\n",
       "12. 9\n",
       "13. 9\n",
       "14. 9\n",
       "15. 8\n",
       "16. 10\n",
       "17. 14\n",
       "\n",
       "\n"
      ],
      "text/plain": [
       " [1] 11 10 10 11  9 10  9  9 10 11 11  9  9  9  8 10 14"
      ]
     },
     "metadata": {},
     "output_type": "display_data"
    },
    {
     "name": "stdout",
     "output_type": "stream",
     "text": [
      "[1] \"# of rows in tmp data set:  170\"\n",
      "[1] \"# of columns in tmp data set:  10\"\n"
     ]
    }
   ],
   "source": [
    "# Apply the processLine function to rows 4 through 20\n",
    "tmp = lapply(txt[4:20], processLine)\n",
    "\n",
    "# Count of rows at each time, returns 17 matrices and # of signals at each point\n",
    "print(\"Sample of rows in each time set\")\n",
    "sapply(tmp, nrow)\n",
    "\n",
    "# Convert a list of data frames into one data frame (Add all times together)\n",
    "offline = as.data.frame(do.call(\"rbind\", tmp))\n",
    "print(paste(\"# of rows in tmp data set: \",dim(offline)[1]))\n",
    "print(paste(\"# of columns in tmp data set: \",dim(offline)[2]))\n"
   ]
  },
  {
   "cell_type": "code",
   "execution_count": 5,
   "metadata": {},
   "outputs": [
    {
     "data": {
      "text/html": [
       "<style>\n",
       ".list-inline {list-style: none; margin:0; padding: 0}\n",
       ".list-inline>li {display: inline-block}\n",
       ".list-inline>li:not(:last-child)::after {content: \"\\00b7\"; padding: 0 .5ex}\n",
       "</style>\n",
       "<ol class=list-inline><li>1181628</li><li>10</li></ol>\n"
      ],
      "text/latex": [
       "\\begin{enumerate*}\n",
       "\\item 1181628\n",
       "\\item 10\n",
       "\\end{enumerate*}\n"
      ],
      "text/markdown": [
       "1. 1181628\n",
       "2. 10\n",
       "\n",
       "\n"
      ],
      "text/plain": [
       "[1] 1181628      10"
      ]
     },
     "metadata": {},
     "output_type": "display_data"
    }
   ],
   "source": [
    "# Must exclude rows starting with #\n",
    "lines = txt[ substr(txt, 1, 1) != \"#\" ]\n",
    "\n",
    "# Options(error = recover, warn = 1)\n",
    "# load in full dataset\n",
    "# Apply the function processLine to each row/line\n",
    "tmp = lapply(lines, processLine)\n",
    "offline = as.data.frame(do.call(\"rbind\", tmp), \n",
    "                        stringsAsFactors = FALSE)\n",
    "\n",
    "# Check data set dimensions\n",
    "dim(offline)"
   ]
  },
  {
   "cell_type": "markdown",
   "metadata": {},
   "source": [
    "Upon removing rows that start with '#', there should be 146,080 lines in the file (per documentation). Difference between 151,392 and 146,080 is 5,312 -- exactly the number of comment lines (start with #).\n",
    "\n",
    "NW Notes - shouldn't this be later? We still have 1M+ rows at this point in data frame."
   ]
  },
  {
   "cell_type": "markdown",
   "metadata": {},
   "source": [
    "### 1.3 Clean Data and Build Representation for Analysis"
   ]
  },
  {
   "cell_type": "code",
   "execution_count": 8,
   "metadata": {},
   "outputs": [
    {
     "data": {
      "text/html": [
       "<style>\n",
       ".list-inline {list-style: none; margin:0; padding: 0}\n",
       ".list-inline>li {display: inline-block}\n",
       ".list-inline>li:not(:last-child)::after {content: \"\\00b7\"; padding: 0 .5ex}\n",
       "</style>\n",
       "<ol class=list-inline><li>978443</li><li>9</li></ol>\n"
      ],
      "text/latex": [
       "\\begin{enumerate*}\n",
       "\\item 978443\n",
       "\\item 9\n",
       "\\end{enumerate*}\n"
      ],
      "text/markdown": [
       "1. 978443\n",
       "2. 9\n",
       "\n",
       "\n"
      ],
      "text/plain": [
       "[1] 978443      9"
      ]
     },
     "metadata": {},
     "output_type": "display_data"
    }
   ],
   "source": [
    "# Rename fields with meaningful names\n",
    "names(offline) = c(\"time\", \"scanMac\", \"posX\", \"posY\", \"posZ\",\n",
    "\"orientation\", \"mac\", \"signal\",\n",
    "\"channel\", \"type\")\n",
    "\n",
    "# Convert position, signal, and time variables to numeric\n",
    "numVars = c(\"time\", \"posX\", \"posY\", \"posZ\", \n",
    "            \"orientation\", \"signal\")\n",
    "offline[ numVars ] =  lapply(offline[ numVars ], as.numeric)\n",
    "\n",
    "# Drop all records for adhoc measurements and remove the type variable from our data frame\n",
    "# Confirm current dataframe dimensions\n",
    "offline = offline[ offline$type == \"3\", ]\n",
    "offline = offline[ , \"type\" != names(offline) ]\n",
    "dim(offline)"
   ]
  },
  {
   "cell_type": "code",
   "execution_count": 9,
   "metadata": {},
   "outputs": [],
   "source": [
    "# Time variable; time measured in milliseconds from midnight on January 1st, 1970.\n",
    "# POSIXt is measured in seconds, not milliseconds. Must scale value of time to seconds \n",
    "# and set class of the time element to have values appear and operate as date-times in R.\n",
    "# Keep the more precise time in rawTime, in case needed.\n",
    "\n",
    "offline$rawTime = offline$time\n",
    "offline$time = offline$time/1000\n",
    "class(offline$time) = c(\"POSIXt\", \"POSIXct\")"
   ]
  },
  {
   "cell_type": "code",
   "execution_count": 10,
   "metadata": {},
   "outputs": [
    {
     "data": {
      "text/html": [
       "<style>\n",
       ".dl-inline {width: auto; margin:0; padding: 0}\n",
       ".dl-inline>dt, .dl-inline>dd {float: none; width: auto; display: inline-block}\n",
       ".dl-inline>dt::after {content: \":\\0020\"; padding-right: .5ex}\n",
       ".dl-inline>dt:not(:first-of-type) {padding-left: .5ex}\n",
       "</style><dl class=dl-inline><dt>time1</dt><dd>'POSIXt'</dd><dt>time2</dt><dd>'POSIXct'</dd><dt>scanMac</dt><dd>'character'</dd><dt>posX</dt><dd>'numeric'</dd><dt>posY</dt><dd>'numeric'</dd><dt>posZ</dt><dd>'numeric'</dd><dt>orientation</dt><dd>'numeric'</dd><dt>mac</dt><dd>'character'</dd><dt>signal</dt><dd>'numeric'</dd><dt>channel</dt><dd>'character'</dd><dt>rawTime</dt><dd>'numeric'</dd></dl>\n"
      ],
      "text/latex": [
       "\\begin{description*}\n",
       "\\item[time1] 'POSIXt'\n",
       "\\item[time2] 'POSIXct'\n",
       "\\item[scanMac] 'character'\n",
       "\\item[posX] 'numeric'\n",
       "\\item[posY] 'numeric'\n",
       "\\item[posZ] 'numeric'\n",
       "\\item[orientation] 'numeric'\n",
       "\\item[mac] 'character'\n",
       "\\item[signal] 'numeric'\n",
       "\\item[channel] 'character'\n",
       "\\item[rawTime] 'numeric'\n",
       "\\end{description*}\n"
      ],
      "text/markdown": [
       "time1\n",
       ":   'POSIXt'time2\n",
       ":   'POSIXct'scanMac\n",
       ":   'character'posX\n",
       ":   'numeric'posY\n",
       ":   'numeric'posZ\n",
       ":   'numeric'orientation\n",
       ":   'numeric'mac\n",
       ":   'character'signal\n",
       ":   'numeric'channel\n",
       ":   'character'rawTime\n",
       ":   'numeric'\n",
       "\n"
      ],
      "text/plain": [
       "      time1       time2     scanMac        posX        posY        posZ \n",
       "   \"POSIXt\"   \"POSIXct\" \"character\"   \"numeric\"   \"numeric\"   \"numeric\" \n",
       "orientation         mac      signal     channel     rawTime \n",
       "  \"numeric\" \"character\"   \"numeric\" \"character\"   \"numeric\" "
      ]
     },
     "metadata": {},
     "output_type": "display_data"
    },
    {
     "data": {
      "text/plain": [
       "      time                          posX         posY           posZ  \n",
       " Min.   :2006-02-11 02:31:58   Min.   : 0   Min.   : 0.0   Min.   :0  \n",
       " 1st Qu.:2006-02-11 08:21:27   1st Qu.: 2   1st Qu.: 3.0   1st Qu.:0  \n",
       " Median :2006-02-11 14:57:58   Median :12   Median : 6.0   Median :0  \n",
       " Mean   :2006-02-16 09:57:37   Mean   :14   Mean   : 5.9   Mean   :0  \n",
       " 3rd Qu.:2006-02-19 09:52:40   3rd Qu.:23   3rd Qu.: 8.0   3rd Qu.:0  \n",
       " Max.   :2006-03-09 15:41:10   Max.   :33   Max.   :13.0   Max.   :0  \n",
       "  orientation      signal   \n",
       " Min.   :  0   Min.   :-99  \n",
       " 1st Qu.: 90   1st Qu.:-69  \n",
       " Median :180   Median :-60  \n",
       " Mean   :167   Mean   :-62  \n",
       " 3rd Qu.:270   3rd Qu.:-53  \n",
       " Max.   :360   Max.   :-25  "
      ]
     },
     "metadata": {},
     "output_type": "display_data"
    },
    {
     "data": {
      "text/plain": [
       "                mac               channel                    scanMac      \n",
       " 00:0f:a3:39:e1:c0:145862   2462000000:189774   00:02:2D:21:0F:33:978443  \n",
       " 00:0f:a3:39:dd:cd:145619   2437000000:152124                             \n",
       " 00:14:bf:b1:97:8a:132962   2412000000:145619                             \n",
       " 00:14:bf:3b:c7:c6:126529   2432000000:126529                             \n",
       " 00:14:bf:b1:97:90:122315   2427000000:122315                             \n",
       " 00:14:bf:b1:97:8d:121325   2442000000:121325                             \n",
       " (Other)          :183831   (Other)   :120757                             "
      ]
     },
     "metadata": {},
     "output_type": "display_data"
    }
   ],
   "source": [
    "# Check the types of the variables in the data frame\n",
    "unlist(lapply(offline, class))\n",
    "\n",
    "# Next verify that actual values of the data look reasonable. Start w/summary of each numeric variable\n",
    "summary(offline[, numVars])\n",
    "\n",
    "# Convert character variables to factors. Examine summary\n",
    "summary(sapply(offline[ , c(\"mac\", \"channel\", \"scanMac\")],\n",
    "               as.factor))"
   ]
  },
  {
   "cell_type": "markdown",
   "metadata": {},
   "source": [
    "Results of Note: \n",
    "\n",
    "1. There is only one value for scanMac, the MAC address for the hand-held device from which the measurements were taken. We might as well discard this variable from our data frame. However, we may want to note this value to compare it with the online data. \n",
    "\n",
    "2. All of the values for posZ, the elevation of the hand-held device, are 0. This is because all of the measurements were taken on one floor of the building. We can eliminate this variable."
   ]
  },
  {
   "cell_type": "code",
   "execution_count": 11,
   "metadata": {},
   "outputs": [],
   "source": [
    "# Discard scanMac and eliminate posZ\n",
    "offline = offline[ , !(names(offline) %in% c(\"scanMac\", \"posZ\"))]\n"
   ]
  },
  {
   "cell_type": "markdown",
   "metadata": {},
   "source": [
    "### 1.3.1 Explore Orientation"
   ]
  },
  {
   "cell_type": "code",
   "execution_count": 12,
   "metadata": {},
   "outputs": [
    {
     "data": {
      "text/html": [
       "203"
      ],
      "text/latex": [
       "203"
      ],
      "text/markdown": [
       "203"
      ],
      "text/plain": [
       "[1] 203"
      ]
     },
     "metadata": {},
     "output_type": "display_data"
    },
    {
     "data": {
      "image/png": "[encoded data removed]",
      "text/plain": [
       "Plot with title \"ecdf(offline$orientation)\""
      ]
     },
     "metadata": {
      "image/png": {
       "height": 420,
       "width": 420
      },
      "text/plain": {
       "height": 420,
       "width": 420
      }
     },
     "output_type": "display_data"
    }
   ],
   "source": [
    "# Per documentation, should have 8 values for orientation (0, 45, 90,..., 315)\n",
    "length(unique(offline$orientation))\n",
    "\n",
    "# At 203, this is not the case. Examine the distribution of orientation\n",
    "plot(ecdf(offline$orientation))\n"
   ]
  },
  {
   "cell_type": "markdown",
   "metadata": {},
   "source": [
    "Figure 1.2: Empirical CDF of Orientation for the Hand-Held Device. Shows 8 basic orientations that are 45 degrees apart."
   ]
  },
  {
   "cell_type": "markdown",
   "metadata": {},
   "source": [
    "Although the experiment was designed to measure signal strength at 8 orientations - 45 degree intervals from 0 to 315 - these orientations are not exact. However, it may be useful to work with values corresponding to the 8 equi-spaced angles, i.e. map 47.5 to 45, and 358.2 to 0, and so on. To do this, take each value and find out which of the 8 orientations is closest and that orientation. Pay special attention to values such as 358.2, as they should map to 0, not to the closer 315."
   ]
  },
  {
   "cell_type": "code",
   "execution_count": 13,
   "metadata": {},
   "outputs": [],
   "source": [
    "# Use roundOrientation() to create the rounded angles, from notes above\n",
    "\n",
    "roundOrientation = function(angles) {\n",
    "  refs = seq(0, by = 45, length  = 9)\n",
    "  q = sapply(angles, function(o) which.min(abs(o - refs)))\n",
    "  c(refs[1:8], 0)[q]\n",
    "}\n"
   ]
  },
  {
   "cell_type": "code",
   "execution_count": 15,
   "metadata": {},
   "outputs": [
    {
     "data": {
      "image/png": "[encoded data removed]",
      "text/plain": [
       "plot without title"
      ]
     },
     "metadata": {
      "image/png": {
       "height": 420,
       "width": 420
      },
      "text/plain": {
       "height": 420,
       "width": 420
      }
     },
     "output_type": "display_data"
    }
   ],
   "source": [
    "# Create rounded angles and check boxplots\n",
    "offline$angle = roundOrientation(offline$orientation)\n",
    "\n",
    "with(offline, boxplot(orientation ~ angle,\n",
    "                     xlab = \"nearest 45 degree angle\",\n",
    "                     ylab = \"orientation\"))\n"
   ]
  },
  {
   "cell_type": "markdown",
   "metadata": {},
   "source": [
    "Figure 1.3: Boxplots of Orientation for the Hand-Held Device. Confirm that values have mapped correctly."
   ]
  },
  {
   "cell_type": "markdown",
   "metadata": {},
   "source": [
    "### 1.3.2 EXPLORE MAC ADDRESSES"
   ]
  },
  {
   "cell_type": "code",
   "execution_count": 16,
   "metadata": {},
   "outputs": [
    {
     "data": {
      "text/html": [
       "<style>\n",
       ".list-inline {list-style: none; margin:0; padding: 0}\n",
       ".list-inline>li {display: inline-block}\n",
       ".list-inline>li:not(:last-child)::after {content: \"\\00b7\"; padding: 0 .5ex}\n",
       "</style>\n",
       "<ol class=list-inline><li>12</li><li>8</li></ol>\n"
      ],
      "text/latex": [
       "\\begin{enumerate*}\n",
       "\\item 12\n",
       "\\item 8\n",
       "\\end{enumerate*}\n"
      ],
      "text/markdown": [
       "1. 12\n",
       "2. 8\n",
       "\n",
       "\n"
      ],
      "text/plain": [
       "[1] 12  8"
      ]
     },
     "metadata": {},
     "output_type": "display_data"
    }
   ],
   "source": [
    "# From the summary() information, there may be a one-to-one mapping between MAC address of the access points and channel. \n",
    "# For example, the summary statistics show 126,529 occurrences of the address 00:14:bf:3b:c7:c6 and the same number of \n",
    "# occurrences of channel 2432000000.\n",
    "\n",
    "# To check for 1:1 mapping, look at relationship between MAC address and channel. The unique addresses and channels should\n",
    "# be the same number if 1:1.\n",
    "c(length(unique(offline$mac)), length(unique(offline$channel)))\n"
   ]
  },
  {
   "cell_type": "code",
   "execution_count": 17,
   "metadata": {},
   "outputs": [
    {
     "data": {
      "text/plain": [
       "\n",
       "00:04:0e:5c:23:fc 00:0f:a3:39:dd:cd 00:0f:a3:39:e0:4b 00:0f:a3:39:e1:c0 \n",
       "              418            145619             43508            145862 \n",
       "00:0f:a3:39:e2:10 00:14:bf:3b:c7:c6 00:14:bf:b1:97:81 00:14:bf:b1:97:8a \n",
       "            19162            126529            120339            132962 \n",
       "00:14:bf:b1:97:8d 00:14:bf:b1:97:90 00:30:bd:f8:7f:c5 00:e0:63:82:8b:a9 \n",
       "           121325            122315               301               103 "
      ]
     },
     "metadata": {},
     "output_type": "display_data"
    }
   ],
   "source": [
    "# Results -  12 MAC addresses and 8 channels.\n",
    "# Building plan (figure 1.1) indcates 6 access points. Documentation notes there are additional access points that \n",
    "# are not part of the testing area, so not seen on the floor plan.\n",
    "# Check counts of observations for the various MAC addresses\n",
    "table(offline$mac)\n"
   ]
  },
  {
   "cell_type": "code",
   "execution_count": 18,
   "metadata": {},
   "outputs": [],
   "source": [
    "# First and last two MAC addresses are not near the testing area or were only working/active for a short time \n",
    "# during the measurement process because their counts are very low. \n",
    "# Also likely that third and fifth addresses are not among the access points displayed because they have much lower counts.\n",
    "# Possible 146,080 recordings total (recall that there are potentially signals recorded at 166 grid points, 8 orientations,\n",
    "# and 110 replications).\n",
    "\n",
    "# Per documentation, access points consist of 5 Linksys/Cisco and one Lancom L-54g routers. \n",
    "# Look up MAC addresses to find the vendor addresses: 00:14:bf -- Linksys, 00:0f:a3 -- Alpha Networks, and \n",
    "# 00:a0:57 -- Lancom devices.\n",
    "# 5 devices with an address that begins are Linksys; none from Lancom (conflict with documentation)\n",
    "# For now, keep the records from top 7 devices.\n",
    "subMacs = names(sort(table(offline$mac), decreasing = TRUE))[1:7]\n",
    "offline = offline[ offline$mac %in% subMacs, ]\n"
   ]
  },
  {
   "cell_type": "code",
   "execution_count": 19,
   "metadata": {},
   "outputs": [
    {
     "data": {
      "text/html": [
       "<style>\n",
       ".dl-inline {width: auto; margin:0; padding: 0}\n",
       ".dl-inline>dt, .dl-inline>dd {float: none; width: auto; display: inline-block}\n",
       ".dl-inline>dt::after {content: \":\\0020\"; padding-right: .5ex}\n",
       ".dl-inline>dt:not(:first-of-type) {padding-left: .5ex}\n",
       "</style><dl class=dl-inline><dt>00:0f:a3:39:dd:cd</dt><dd>1</dd><dt>00:0f:a3:39:e1:c0</dt><dd>1</dd><dt>00:14:bf:3b:c7:c6</dt><dd>1</dd><dt>00:14:bf:b1:97:81</dt><dd>1</dd><dt>00:14:bf:b1:97:8a</dt><dd>1</dd><dt>00:14:bf:b1:97:8d</dt><dd>1</dd><dt>00:14:bf:b1:97:90</dt><dd>1</dd></dl>\n"
      ],
      "text/latex": [
       "\\begin{description*}\n",
       "\\item[00:0f:a3:39:dd:cd] 1\n",
       "\\item[00:0f:a3:39:e1:c0] 1\n",
       "\\item[00:14:bf:3b:c7:c6] 1\n",
       "\\item[00:14:bf:b1:97:81] 1\n",
       "\\item[00:14:bf:b1:97:8a] 1\n",
       "\\item[00:14:bf:b1:97:8d] 1\n",
       "\\item[00:14:bf:b1:97:90] 1\n",
       "\\end{description*}\n"
      ],
      "text/markdown": [
       "00:0f:a3:39:dd:cd\n",
       ":   100:0f:a3:39:e1:c0\n",
       ":   100:14:bf:3b:c7:c6\n",
       ":   100:14:bf:b1:97:81\n",
       ":   100:14:bf:b1:97:8a\n",
       ":   100:14:bf:b1:97:8d\n",
       ":   100:14:bf:b1:97:90\n",
       ":   1\n",
       "\n"
      ],
      "text/plain": [
       "00:0f:a3:39:dd:cd 00:0f:a3:39:e1:c0 00:14:bf:3b:c7:c6 00:14:bf:b1:97:81 \n",
       "                1                 1                 1                 1 \n",
       "00:14:bf:b1:97:8a 00:14:bf:b1:97:8d 00:14:bf:b1:97:90 \n",
       "                1                 1                 1 "
      ]
     },
     "metadata": {},
     "output_type": "display_data"
    }
   ],
   "source": [
    "# Create table of counts for the remaining MAC × channel combination, confirm there is one non-zero entry in each row.\n",
    "macChannel = with(offline, table(mac, channel))\n",
    "apply(macChannel, 1, function(x) sum(x > 0))\n",
    "\n",
    "# There is 1:1 correspondence between MAC address and channel for 7 devices. Eliminate channel from offline.\n",
    "\n",
    "offline = offline[ , \"channel\" != names(offline)]\n"
   ]
  },
  {
   "cell_type": "markdown",
   "metadata": {},
   "source": [
    "### 1.3.3 EXPLORE HAND-HELD DEVICE"
   ]
  },
  {
   "cell_type": "code",
   "execution_count": 20,
   "metadata": {},
   "outputs": [
    {
     "data": {
      "text/html": [
       "476"
      ],
      "text/latex": [
       "476"
      ],
      "text/markdown": [
       "476"
      ],
      "text/plain": [
       "[1] 476"
      ]
     },
     "metadata": {},
     "output_type": "display_data"
    }
   ],
   "source": [
    "# Tally number of rows in data frame for each unique (x, y) combination.\n",
    "\n",
    "locDF <- with(offline, by(offline, list(posX, posY), function(x) x))\n",
    "\n",
    "# Check\n",
    "length(locDF)\n"
   ]
  },
  {
   "cell_type": "code",
   "execution_count": 21,
   "metadata": {},
   "outputs": [
    {
     "data": {
      "text/html": [
       "310"
      ],
      "text/latex": [
       "310"
      ],
      "text/markdown": [
       "310"
      ],
      "text/plain": [
       "[1] 310"
      ]
     },
     "metadata": {},
     "output_type": "display_data"
    }
   ],
   "source": [
    "# 476 is longer than number of combinations of actual (x, y) locations at which measurements were recorded.\n",
    "# Many of these elements are empty.\n",
    "\n",
    "sum(sapply(locDF, is.null))"
   ]
  },
  {
   "cell_type": "code",
   "execution_count": 22,
   "metadata": {},
   "outputs": [
    {
     "data": {
      "text/html": [
       "166"
      ],
      "text/latex": [
       "166"
      ],
      "text/markdown": [
       "166"
      ],
      "text/plain": [
       "[1] 166"
      ]
     },
     "metadata": {},
     "output_type": "display_data"
    }
   ],
   "source": [
    "# Null values correspond to combinations of the xs and ys that were not observed. Drop unneeded elements.\n",
    "locDF <- locDF[!sapply(locDF, is.null)]\n",
    "\n",
    "# Check/Confirm only 166 locations\n",
    "length(locDF)\n"
   ]
  },
  {
   "cell_type": "code",
   "execution_count": 23,
   "metadata": {},
   "outputs": [
    {
     "data": {
      "text/html": [
       "'matrix'"
      ],
      "text/latex": [
       "'matrix'"
      ],
      "text/markdown": [
       "'matrix'"
      ],
      "text/plain": [
       "[1] \"matrix\""
      ]
     },
     "metadata": {},
     "output_type": "display_data"
    }
   ],
   "source": [
    "# Determine the number of observations recorded at each location.\n",
    "locCounts <- sapply(locDF, nrow)\n",
    "\n",
    "# Keep position information with lcoation. \n",
    "locCounts <- sapply(locDF, function(df) c(df[1, c(\"posX\", \"posY\")], count = nrow(df)))\n",
    "\n",
    "# Confirm matrix matrix strucutre\n",
    "class(locCounts)"
   ]
  },
  {
   "cell_type": "code",
   "execution_count": 24,
   "metadata": {},
   "outputs": [
    {
     "data": {
      "text/html": [
       "<style>\n",
       ".list-inline {list-style: none; margin:0; padding: 0}\n",
       ".list-inline>li {display: inline-block}\n",
       ".list-inline>li:not(:last-child)::after {content: \"\\00b7\"; padding: 0 .5ex}\n",
       "</style>\n",
       "<ol class=list-inline><li>3</li><li>166</li></ol>\n"
      ],
      "text/latex": [
       "\\begin{enumerate*}\n",
       "\\item 3\n",
       "\\item 166\n",
       "\\end{enumerate*}\n"
      ],
      "text/markdown": [
       "1. 3\n",
       "2. 166\n",
       "\n",
       "\n"
      ],
      "text/plain": [
       "[1]   3 166"
      ]
     },
     "metadata": {},
     "output_type": "display_data"
    }
   ],
   "source": [
    "# Confirm 3 rows\n",
    "dim(locCounts)"
   ]
  },
  {
   "cell_type": "code",
   "execution_count": 25,
   "metadata": {},
   "outputs": [
    {
     "data": {
      "text/html": [
       "<table>\n",
       "<caption>A matrix: 3 × 8</caption>\n",
       "<tbody>\n",
       "\t<tr><th scope=row>posX</th><td>0</td><td>1</td><td>2</td><td>0</td><td>1</td><td>2</td><td>0</td><td>1</td></tr>\n",
       "\t<tr><th scope=row>posY</th><td>0</td><td>0</td><td>0</td><td>1</td><td>1</td><td>1</td><td>2</td><td>2</td></tr>\n",
       "\t<tr><th scope=row>count</th><td>5505</td><td>5505</td><td>5506</td><td>5524</td><td>5543</td><td>5558</td><td>5503</td><td>5564</td></tr>\n",
       "</tbody>\n",
       "</table>\n"
      ],
      "text/latex": [
       "A matrix: 3 × 8\n",
       "\\begin{tabular}{r|llllllll}\n",
       "\tposX & 0 & 1 & 2 & 0 & 1 & 2 & 0 & 1\\\\\n",
       "\tposY & 0 & 0 & 0 & 1 & 1 & 1 & 2 & 2\\\\\n",
       "\tcount & 5505 & 5505 & 5506 & 5524 & 5543 & 5558 & 5503 & 5564\\\\\n",
       "\\end{tabular}\n"
      ],
      "text/markdown": [
       "\n",
       "A matrix: 3 × 8\n",
       "\n",
       "| posX | 0 | 1 | 2 | 0 | 1 | 2 | 0 | 1 |\n",
       "| posY | 0 | 0 | 0 | 1 | 1 | 1 | 2 | 2 |\n",
       "| count | 5505 | 5505 | 5506 | 5524 | 5543 | 5558 | 5503 | 5564 |\n",
       "\n"
      ],
      "text/plain": [
       "      [,1] [,2] [,3] [,4] [,5] [,6] [,7] [,8]\n",
       "posX  0    1    2    0    1    2    0    1   \n",
       "posY  0    0    0    1    1    1    2    2   \n",
       "count 5505 5505 5506 5524 5543 5558 5503 5564"
      ]
     },
     "metadata": {},
     "output_type": "display_data"
    }
   ],
   "source": [
    "# Examine a few counts\n",
    "locCounts[, 1:8]"
   ]
  },
  {
   "cell_type": "code",
   "execution_count": 26,
   "metadata": {},
   "outputs": [
    {
     "data": {
      "image/png": "[encoded data removed]",
      "text/plain": [
       "plot without title"
      ]
     },
     "metadata": {
      "image/png": {
       "height": 420,
       "width": 420
      },
      "text/plain": {
       "height": 420,
       "width": 420
      }
     },
     "output_type": "display_data"
    }
   ],
   "source": [
    "# There are roughly 5,500 recordings at each position, which aligns with 8 orientations × 110 replications × 7 access points,\n",
    "# which is 6,160 signal strength measurements. Visualize all 166 counts by adding the counts as text at respective locations.\n",
    "# Transpose matrix so locations are columns of matrix and change size/angle of characters to plot.\n",
    "locCounts = t(locCounts)\n",
    "plot(locCounts, type = \"n\", xlab = \"\", ylab = \"\")\n",
    "text(locCounts, labels = locCounts[, 3], cex = 0.8, srt = 45)\n"
   ]
  },
  {
   "cell_type": "markdown",
   "metadata": {},
   "source": [
    "Figure 1.5: Counts of Signals at Each Position. Ideally 110 signals measured at 8 angles for 6 access pooints, for a total of 5,280. Data includes 7th MAC address and not all signals detected, resulting in approximately 5,500 reading at each location."
   ]
  },
  {
   "cell_type": "markdown",
   "metadata": {},
   "source": [
    "### 1.3.4 CREATE A FUNCTION TO PREPARE DATA -- NEED HELP HERE"
   ]
  },
  {
   "cell_type": "markdown",
   "metadata": {},
   "source": [
    "MAY NOT NEED THIS SECTION"
   ]
  },
  {
   "cell_type": "markdown",
   "metadata": {},
   "source": [
    "'We have examined all the variables except time and signal. This process has helped us\n",
    "clean our data and reduce it to those records that are relevant to our analysis. We leave the\n",
    "examination of the signals to the next section where we study its distributional properties.\n",
    "As for time, while this variable is not directly related to our model, it indicates the order\n",
    "in which the observations were taken. In an experiment, this can be helpful in uncovering\n",
    "potential sources of bias. For example, the person carrying the hand-held device may have\n",
    "changed how the device was carried as the experiment progressed and this change may lead\n",
    "to a change in the strength of the signal. Plots and analyses of the relationship between time\n",
    "and other variables can help us uncover such potential problems. We leave this investigation\n",
    "as an exercise.\n",
    "Since we also want to read the online data in R, we turn all of these commands into\n",
    "a function called readData(). Additionally, if we later change our mind as to how we want\n",
    "to handle some of these special cases, e.g., to keep channel or posZ, then we can make a\n",
    "simple update to our function and rerun it. We might even add a parameter to the function\n",
    "definition to allow us to process the data in different ways. We leave it as an exercise to\n",
    "create readData()."
   ]
  },
  {
   "cell_type": "markdown",
   "metadata": {},
   "source": [
    "#### We call readData() to create the offline data frame with'\n",
    "\n",
    "readData = \n",
    "  function(filename = 'offline.final.trace.txt', \n",
    "           subMacs = c(\"00:0f:a3:39:e1:c0\", \"00:0f:a3:39:dd:cd\", \"00:14:bf:b1:97:8a\",\n",
    "                       \"00:14:bf:3b:c7:c6\", \"00:14:bf:b1:97:90\", \"00:14:bf:b1:97:8d\",\n",
    "                       \"00:14:bf:b1:97:81\"))\n",
    "  {\n",
    "    txt = readLines(filename)\n",
    "    lines = txt[ substr(txt, 1, 1) != \"#\" ]\n",
    "    tmp = lapply(lines, processLine)\n",
    "    offline = as.data.frame(do.call(\"rbind\", tmp), \n",
    "                            stringsAsFactors= FALSE) \n",
    "    \n",
    "    names(offline) = c(\"time\", \"scanMac\", \n",
    "                       \"posX\", \"posY\", \"posZ\", \"orientation\", \n",
    "                       \"mac\", \"signal\", \"channel\", \"type\")\n",
    "    \n",
    "    # keep only signals from access points\n",
    "    offline = offline[ offline$type == \"3\", ]\n",
    "    \n",
    "    # drop scanMac, posZ, channel, and type - no info in them\n",
    "    dropVars = c(\"scanMac\", \"posZ\", \"channel\", \"type\")\n",
    "    offline = offline[ , !( names(offline) %in% dropVars ) ]\n",
    "    \n",
    "    # drop more unwanted access points\n",
    "    offline = offline[ offline$mac %in% subMacs, ]\n",
    "    \n",
    "    # convert numeric values\n",
    "    numVars = c(\"time\", \"posX\", \"posY\", \"orientation\", \"signal\")\n",
    "    offline[ numVars ] = lapply(offline[ numVars ], as.numeric)\n",
    "    \n",
    "    # convert time to POSIX\n",
    "    offline$rawTime = offline$time\n",
    "    offline$time = offline$time/1000\n",
    "    class(offline$time) = c(\"POSIXt\", \"POSIXct\")\n",
    "    \n",
    "    # round orientations to nearest 45\n",
    "    offline$angle = roundOrientation(offline$orientation)\n",
    "    \n",
    "    return(offline)\n",
    "  }\n",
    "\n",
    "offlineRedo = readData()\n",
    "\n",
    "Then we use the identical() function to check this version of the data frame against the one that we already created:\n",
    "\n",
    "library(codetools)\n",
    "\n",
    "identical(offline, offlineRedo)\n",
    "\n",
    "findGlobals(readData, merge = FALSE)$variables"
   ]
  },
  {
   "cell_type": "markdown",
   "metadata": {},
   "source": [
    "### 1.4.1 Distribution of Signal Strength"
   ]
  },
  {
   "cell_type": "code",
   "execution_count": null,
   "metadata": {},
   "outputs": [],
   "source": [
    "# Load packages needed\n",
    "library(codetools)\n",
    "library(lattice)\n"
   ]
  },
  {
   "cell_type": "code",
   "execution_count": null,
   "metadata": {},
   "outputs": [],
   "source": [
    "# Compare distribution of signal strength at different orientations and for different access points.\n",
    "# Subdivide data. COnsider impact of orientation on signal strength by fixing a location on the map to see how the signal changes as the experimenter forates through 8 angles. \n",
    "# Examine MAC addresses because at an orientation of 90 degress the experimentater mgith be facing toward on access point and away from another. \n",
    "\n",
    "bwplot(signal ~ factor(angle) | mac, data = offline, subset = posX == 2 & posY == \n",
    "    12 & mac != \"00:0f:a3:39:dd:cd\", layout = c(2, 3))"
   ]
  },
  {
   "cell_type": "markdown",
   "metadata": {},
   "source": [
    "See that Signal Strength varies with orientation for both close and distant access points. \n",
    "Dropped MAC address 00:0f: - a3:39:dd:cd"
   ]
  },
  {
   "cell_type": "code",
   "execution_count": null,
   "metadata": {},
   "outputs": [],
   "source": [
    "# Signal Strength is measured as negative values. \n",
    "\n",
    "summary(offline$signal)\n",
    "\n",
    "# Small values correspond to weak signals and large values are strong. "
   ]
  },
  {
   "cell_type": "code",
   "execution_count": null,
   "metadata": {},
   "outputs": [],
   "source": [
    "# Find a similar dependence of signal strength on angle. Produce 48 density curves for one location.\n",
    "\n",
    "#pdf(file = \"Geo_DensitySignalByMacAngle.pdf\", width = 8, height = 12)\n",
    "oldPar = par(mar = c(3.1, 3, 1, 1))\n",
    "\n",
    "densityplot(~signal | mac + factor(angle), data = offline, subset = posX == \n",
    "    24 & posY == 4 & mac != \"00:0f:a3:39:dd:cd\", bw = 0.5, plot.points = FALSE)\n",
    "\n",
    "par(oldPar)\n",
    "dev.off()"
   ]
  },
  {
   "cell_type": "markdown",
   "metadata": {},
   "source": [
    "Many distributions look approximately normal. Although there are some serious departures with secondary modes and and skewness. The center of the distribution varies with angle and MAC address, so conditioning on angle and MAC address is warranted. "
   ]
  },
  {
   "cell_type": "code",
   "execution_count": null,
   "metadata": {},
   "outputs": [],
   "source": [
    "# Examine summary statistics of mean and SD or media and IQR of signal strength for all location-orientation-access point combinations. \n",
    "\n",
    "offline$posXY <- paste(offline$posX, offline$posY, sep = \"-\")"
   ]
  },
  {
   "cell_type": "code",
   "execution_count": null,
   "metadata": {},
   "outputs": [],
   "source": [
    "#write.csv(offline,\"C:/Users/jjschued/Documents/SMU/7333 QTW/offline.csv\", row.names = TRUE)"
   ]
  },
  {
   "cell_type": "code",
   "execution_count": null,
   "metadata": {},
   "outputs": [],
   "source": [
    "# Create list of data frames for every combination of (x, y), angle, and access point\n",
    "\n",
    "byLocAngleAP <- with(offline, by(offline, list(posXY, angle, mac), function(x) x))"
   ]
  },
  {
   "cell_type": "code",
   "execution_count": null,
   "metadata": {},
   "outputs": [],
   "source": [
    "length(offline[offline$posXY == '0-1',])\n"
   ]
  },
  {
   "cell_type": "code",
   "execution_count": null,
   "metadata": {},
   "outputs": [],
   "source": [
    "# Calculate summary stats for each data frame\n",
    "\n",
    "signalSummary = lapply(byLocAngleAP, function(oneLoc) {\n",
    "    ans = oneLoc[1, ]\n",
    "    ans$medSignal = median(oneLoc$signal)\n",
    "    ans$avgSignal = mean(oneLoc$signal)\n",
    "    ans$num = length(oneLoc$signal)\n",
    "    ans$sdSignal = sd(oneLoc$signal)\n",
    "    ans$iqrSignal = IQR(oneLoc$signal)\n",
    "    ans\n",
    "})\n",
    "\n",
    "offlineSummary = do.call(\"rbind\", signalSummary)"
   ]
  },
  {
   "cell_type": "code",
   "execution_count": null,
   "metadata": {},
   "outputs": [],
   "source": [
    "# Examine standard, see if they vary by average signal strength. Make box plots of sdSignal for subgroups of avgSignal by turning avgSignal into categorial variable. \n",
    "\n",
    "pdf(file = \"Geo_BoxplotSignalSDByAvg.pdf\", width = 10)\n",
    "oldPar = par(mar = c(3.1, 3, 1, 1))\n",
    "\n",
    "breaks = seq(-90, -30, by = 5)\n",
    "bwplot(sdSignal ~ cut(avgSignal, breaks = breaks),\n",
    "       data = offlineSummary, \n",
    "       subset = mac != \"00:0f:a3:39:dd:cd\",\n",
    "       xlab = \"Mean Signal\", ylab = \"SD Signal\")\n",
    "\n",
    "par(oldPar)\n",
    "dev.off()\n",
    "\n",
    "pdf(file = \"Geo_ScatterMean-Median.pdf\", width = 10)\n",
    "oldPar = par(mar = c(4.1, 4.1, 1, 1))"
   ]
  },
  {
   "cell_type": "markdown",
   "metadata": {},
   "source": [
    "See that weakest signals have small standard deviations and it appears that SD increase with average signal strength."
   ]
  },
  {
   "cell_type": "code",
   "execution_count": null,
   "metadata": {},
   "outputs": [],
   "source": [
    "# Examine skewness of signal strength by plotting difference avgSignal - medSignal against observations. \n",
    "# Smooth scatter avoids problems with over plotting; add local average of difference between mean and median to better assess size. \n",
    "\n",
    "with(offlineSummary, smoothScatter((avgSignal - medSignal) ~ num, xlab = \"Number of Observations\", \n",
    "    ylab = \"mean - median\"))\n",
    "abline(h = 0, col = \"#984ea3\", lwd = 2)\n",
    "\n",
    "# Use loess() to locally smooth differences between mean and median.\n",
    "\n",
    "lo.obj = with(offlineSummary, loess(diff ~ num, data = data.frame(diff = (avgSignal - \n",
    "    medSignal), num = num)))\n",
    "\n",
    "# Then use fitted model to predict the idffernce for each value of num and add those to scatter plot.\n",
    "lo.obj.pr = predict(lo.obj, newdata = data.frame(num = (70:120)))\n",
    "lines(x = 70:120, y = lo.obj.pr, col = \"#4daf4a\", lwd = 2)"
   ]
  },
  {
   "cell_type": "markdown",
   "metadata": {},
   "source": [
    "See that these two measures of centrailty are similar to each other; they typically differ by less than 1 or 2 dBm."
   ]
  },
  {
   "cell_type": "code",
   "execution_count": null,
   "metadata": {},
   "outputs": [],
   "source": [
    "breaks = seq(-90, -30, by = 5)\n",
    "bwplot(sdSignal ~ cut(avgSignal, breaks = breaks), data = offlineSummary, subset = mac != \n",
    "    \"00:0f:a3:39:dd:cd\", xlab = \"Mean Signal\", ylab = \"SD Signal\")"
   ]
  },
  {
   "cell_type": "markdown",
   "metadata": {},
   "source": [
    "## Relationship between Signal and Distance\n",
    "###Examine relationship between distance and signal strength is to smooth signal strength over the region where it is measured and create a contour plot -- portion of floor plan where there is strong signal corresponds to mountainous regions on map. "
   ]
  },
  {
   "cell_type": "code",
   "execution_count": null,
   "metadata": {},
   "outputs": [],
   "source": [
    "install.packages(\"fields\")\n",
    "library(fields)"
   ]
  },
  {
   "cell_type": "code",
   "execution_count": null,
   "metadata": {},
   "outputs": [],
   "source": [
    "# Select one MAC address and one orientation. Choose summary stats for an angle x MAC combination\n",
    "oneAPAngle <- subset(offline, mac == subMacs[5] & angle == 0)\n",
    "\n",
    "# Make topographical map, using fields package. Uses the method of thin plate splines to fit a surface to the signal stregnth values at the observed locations. \n",
    "# Tps() requres a \"z\" value, so must subset offLine Summary\n",
    "oneAPAngle = subset(offlineSummary, mac == subMacs[5] & angle == 0)\n",
    "\n",
    "# Call Tps() to fit a smooth surface to mean signal strength \n",
    "smoothSS = Tps(oneAPAngle[, c(\"posX\", \"posY\")], oneAPAngle$avgSignal)\n",
    "\n",
    "# Use predictSurface() to predict the value for the fitted surface at a grid of the observed posX and posY \n",
    "vizSmooth = predictSurface(smoothSS)\n",
    "\n",
    "#Plot predicted signal strength using plot.surface()\n",
    "plot.surface(vizSmooth, type = \"C\")\n",
    "\n",
    "# Lastly add locations where measurements were taken\n",
    "points(oneAPAngle$posX, oneAPAngle$posY, pch = 19, cex = 0.5)"
   ]
  },
  {
   "cell_type": "code",
   "execution_count": null,
   "metadata": {},
   "outputs": [],
   "source": [
    "# Wrap plotting routine into own function so that we can parameterize the MAC address and angle, other other plotting parameters. \n",
    "# surfaceSS() has 3 args - data, MAC, angle\n",
    "# call surfaceSS() with a couple MAC addresses and angles to compare. Modify R plotting parameters to place 4 contour plots on one canvas. \n",
    "\n",
    "surfaceSS = function(data, mac, angle = 45) {\n",
    "    require(fields)\n",
    "    oneAPAngle = data[data$mac == mac & data$angle == angle, ]\n",
    "    smoothSS = Tps(oneAPAngle[, c(\"posX\", \"posY\")], oneAPAngle$avgSignal)\n",
    "    vizSmooth = predictSurface(smoothSS)\n",
    "    plot.surface(vizSmooth, type = \"C\", xlab = \"\", ylab = \"\", xaxt = \"n\", yaxt = \"n\")\n",
    "    points(oneAPAngle$posX, oneAPAngle$posY, pch = 19, cex = 0.5)\n",
    "}\n",
    "\n",
    "# Save Current Settings\n",
    "parCur = par(mfrow = c(2, 2), mar = rep(1, 4))\n",
    "\n",
    "# Mak 4 calls to surfaceSS() using mapply()\n",
    "mapply(surfaceSS, mac = subMacs[rep(c(5, 1), each = 2)], angle = rep(c(0, 135), \n",
    "    2), data = list(data = offlineSummary))"
   ]
  },
  {
   "cell_type": "markdown",
   "metadata": {},
   "source": [
    "Above, identify the location of access points as the dark red region at top of mountain. Confirm effect of orientation on signal strength. A corridor effect emerges - the signal is stronger relative to distance along ocorridors where the signals are not blocked by walls. "
   ]
  },
  {
   "cell_type": "code",
   "execution_count": null,
   "metadata": {},
   "outputs": [],
   "source": [
    "# We find that two MAC addresses have similiar heat maps; these correspond to access points near center of building (i.e. x=7.5, y=6.3)\n",
    "# Choose first of these.\n",
    "\n",
    "offlineSummary <- subset(offlineSummary, mac != subMacs[2])"
   ]
  },
  {
   "cell_type": "code",
   "execution_count": null,
   "metadata": {},
   "outputs": [],
   "source": [
    "# Create small matrix with relevant positions for the 6 access points on floor plan.\n",
    "\n",
    "AP <- matrix(c(7.5, 6.3, 2.5, -0.8, 12.8, -2.8, 1, 14, 33.5, 9.3, 33.5, 2.8), \n",
    "    ncol = 2, byrow = TRUE, dimnames = list(subMacs[-2], c(\"x\", \"y\")))\n",
    "\n",
    "AP"
   ]
  },
  {
   "cell_type": "code",
   "execution_count": null,
   "metadata": {},
   "outputs": [],
   "source": [
    "# To examine relationship between signal strength and distance from the access point, compute distances from locations of device emitting signal to the access point receiving signal.\n",
    "# First compute difference between x coorindate and acces point x coordiante; then for y coordinates.\n",
    "\n",
    "diffs <- offlineSummary[, c(\"posX\", \"posY\")] - AP[offlineSummary$mac, ]"
   ]
  },
  {
   "cell_type": "code",
   "execution_count": null,
   "metadata": {},
   "outputs": [],
   "source": [
    "# Use differnces to find Euclidean distance between position of hand-held device and access point.\n",
    "\n",
    "offlineSummary$dist <- sqrt(diffs[, 1]^2 + diffs[, 2]^2)"
   ]
  },
  {
   "cell_type": "code",
   "execution_count": null,
   "metadata": {},
   "outputs": [],
   "source": [
    "# Make series of scatter plots for access point and device orientation. \n",
    "\n",
    "xyplot(signal ~ dist | factor(mac) + factor(angle), data = offlineSummary, pch = 19, \n",
    "    cex = 0.3, xlab = \"distance\")"
   ]
  },
  {
   "cell_type": "markdown",
   "metadata": {},
   "source": [
    "Appears to be curvature to plots. A log transform might improve relationship; but signals are negative so need to be cautious. "
   ]
  },
  {
   "cell_type": "code",
   "execution_count": null,
   "metadata": {},
   "outputs": [],
   "source": [
    "#pdf(file = \"Geo_ScatterSignalDist.pdf\", width = 7, height = 10)\n",
    "oldPar = par(mar = c(3.1, 3.1, 1, 1))\n",
    "\n",
    "xyplot(signal ~ dist | factor(mac) + factor(angle), data = offlineSummary, pch = 19, \n",
    "    cex = 0.3, xlab = \"distance\")\n",
    "par(oldPar)\n",
    "dev.off()"
   ]
  },
  {
   "cell_type": "markdown",
   "metadata": {},
   "source": [
    "## 1.5 Nearest Neighbor Methods to Predict Location"
   ]
  },
  {
   "cell_type": "markdown",
   "metadata": {},
   "source": [
    "#### Numerous statistical techniques to estimate location of device from signal strength between device and several access points. Here, using simple and intuitive k-NN: have training data where signal is measured to several access points from known position throughout building; when get a new observation (new set of signal strengths from unknown location), find observation in training data that is close to new observation. "
   ]
  },
  {
   "cell_type": "markdown",
   "metadata": {},
   "source": [
    "### 1.5.1 Preparing Test Data\n",
    "#### Online data are in online.final.trace.txt; use readData() from Section 1.2 to process raw data. "
   ]
  },
  {
   "cell_type": "code",
   "execution_count": null,
   "metadata": {},
   "outputs": [],
   "source": [
    "macs <- unique(offlineSummary$mac)"
   ]
  },
  {
   "cell_type": "code",
   "execution_count": null,
   "metadata": {},
   "outputs": [],
   "source": [
    "# edited to match book\n",
    "online <- readLines(\"C:/Users/jjschued/Documents/SMU/7333 QTW//online.final.trace.txt\", subMacs = macs)\n",
    "\n",
    "# Joe's code; SEE REMAINDER OF CODE BELOW\n",
    "online <- readLines(\"C:/Users/jjschued/Documents/SMU/7333 QTW//online.final.trace.txt\")\n",
    "    # subMacs = macs)"
   ]
  },
  {
   "cell_type": "code",
   "execution_count": null,
   "metadata": {},
   "outputs": [],
   "source": [
    "# Create unique location identifier\n",
    "\n",
    "online$posXY = paste(online$posX, online$posY, sep = \"-\")"
   ]
  },
  {
   "cell_type": "code",
   "execution_count": null,
   "metadata": {},
   "outputs": [],
   "source": [
    "# Use new variable to determine that we have 60 unique test locations\n",
    "\n",
    "length(unique(online$posXY))"
   ]
  },
  {
   "cell_type": "code",
   "execution_count": null,
   "metadata": {},
   "outputs": [],
   "source": [
    "# Tally number of signal strengths recorded at each location\n",
    "\n",
    "tabonlineXYA = table(online$posXY, online$angle)\n",
    "tabonlineXYA[1:6, ]\n",
    "\n",
    "# Output indicates that signal strengths were recorded at one orientation for each location"
   ]
  },
  {
   "cell_type": "code",
   "execution_count": null,
   "metadata": {},
   "outputs": [],
   "source": [
    "# Organize data in different structure; organize data into 6 columns of signal strengths\n",
    "# Summarize online data into new format, providing average signal strength at each location\n",
    "\n",
    "keepVars = c(\"posXY\", \"posX\",\"posY\", \"orientation\", \"angle\")\n",
    "byLoc = with(online, \n",
    "             by(online, list(posXY), \n",
    "                function(x) {\n",
    "                  ans = x[1, keepVars]\n",
    "                  avgSS = tapply(x$signal, x$mac, mean)\n",
    "                  y = matrix(avgSS, nrow = 1, ncol = 6,\n",
    "                             dimnames = list(ans$posXY, names(avgSS)))\n",
    "                  cbind(ans, y)\n",
    "                }))\n",
    "\n",
    "onlineSummary = do.call(\"rbind\", byLoc)  \n"
   ]
  },
  {
   "cell_type": "code",
   "execution_count": null,
   "metadata": {},
   "outputs": [],
   "source": [
    "# New Frame should have 60 rows and 11 variables, including 6 average signal strengths at the corresponding MAC addresses\n",
    "\n",
    "dim(onlineSummary)"
   ]
  },
  {
   "cell_type": "code",
   "execution_count": null,
   "metadata": {},
   "outputs": [],
   "source": [
    "# Confirm\n",
    "\n",
    "names(onlineSummary)"
   ]
  },
  {
   "cell_type": "markdown",
   "metadata": {},
   "source": [
    "### 1.5.2 Choice of Orientation\n",
    "#### Find records in offline data that have similar orientations to our new observations. Consider using all records with an orientation that is within a specified range of the new point's orientation."
   ]
  },
  {
   "cell_type": "code",
   "execution_count": null,
   "metadata": {},
   "outputs": [],
   "source": [
    "# m for the number of angles and angleNewObs the angle of new observation. Find angles to include.\n",
    "\n",
    "m = 3; angleNewObs = 230\n",
    "refs = seq(0, by = 45, length  = 8)\n",
    "nearestAngle = roundOrientation(angleNewObs)\n",
    "\n",
    "if (m %% 2 == 1) {\n",
    "  angles = seq(-45 * (m - 1) /2, 45 * (m - 1) /2, length = m)\n",
    "} else {\n",
    "  m = m + 1\n",
    "  angles = seq(-45 * (m - 1) /2, 45 * (m - 1) /2, length = m)\n",
    "  if (sign(angleNewObs - nearestAngle) > -1) \n",
    "    angles = angles[ -1 ]\n",
    "  else \n",
    "    angles = angles[ -m ]\n",
    "}\n"
   ]
  },
  {
   "cell_type": "code",
   "execution_count": null,
   "metadata": {},
   "outputs": [],
   "source": [
    "# Handle case of m odd and even separately; must also map angles to values in refs, -45 to 355 and 405 maps to 45. So adjust angles:\n",
    "\n",
    "angles = angles + nearestAngle\n",
    "angles[angles < 0] = angles[ angles < 0 ] + 360\n",
    "angles[angles > 360] = angles[ angles > 360 ] - 360\n"
   ]
  },
  {
   "cell_type": "code",
   "execution_count": null,
   "metadata": {},
   "outputs": [],
   "source": [
    "# Select observations from offlineSummary to analyze\n",
    "\n",
    "offlineSubset = \n",
    "  offlineSummary[ offlineSummary$angle %in% angles, ]\n"
   ]
  },
  {
   "cell_type": "code",
   "execution_count": null,
   "metadata": {},
   "outputs": [],
   "source": [
    "# Aggregate signal strengths from angles and create data structure that is similar to onlineSummary\n",
    "# Use helper function reshapeSS()\n",
    "\n",
    "reshapeSS = function(data, varSignal = \"signal\", \n",
    "                     keepVars = c(\"posXY\", \"posX\",\"posY\")) {\n",
    "  byLocation =\n",
    "    with(data, by(data, list(posXY), \n",
    "                  function(x) {\n",
    "                    ans = x[1, keepVars]\n",
    "                    avgSS = tapply(x[ , varSignal ], x$mac, mean)\n",
    "                    y = matrix(avgSS, nrow = 1, ncol = 6,\n",
    "                               dimnames = list(ans$posXY,\n",
    "                                               names(avgSS)))\n",
    "                    cbind(ans, y)\n",
    "                  }))\n",
    "  \n",
    "  newDataSS = do.call(\"rbind\", byLocation)\n",
    "  return(newDataSS)\n",
    "}\n"
   ]
  },
  {
   "cell_type": "code",
   "execution_count": null,
   "metadata": {},
   "outputs": [],
   "source": [
    "# Summarize and Reshape offlineSubset (Set Training Set)\n",
    "\n",
    "trainSS = reshapeSS(offlineSubset, varSignal = \"avgSignal\")\n"
   ]
  },
  {
   "cell_type": "code",
   "execution_count": null,
   "metadata": {},
   "outputs": [],
   "source": [
    "# Wrap code to select angles and call to reshapeSS() into function called selectTrain()\n",
    "# selectTrain() has 3 args: angleNewObs, angle of new observation; singals, the training data/data in format of offlineSummary; m, number of angles to include form signals.\n",
    "# Returns data frame that matches trainSS\n",
    "\n",
    "selectTrain = function(angleNewObs, signals = NULL, m = 1){\n",
    "  # m is the number of angles to keep between 1 and 5\n",
    "  refs = seq(0, by = 45, length  = 8)\n",
    "  nearestAngle = roundOrientation(angleNewObs)\n",
    "  \n",
    "  if (m %% 2 == 1) \n",
    "    angles = seq(-45 * (m - 1) /2, 45 * (m - 1) /2, length = m)\n",
    "  else {\n",
    "    m = m + 1\n",
    "    angles = seq(-45 * (m - 1) /2, 45 * (m - 1) /2, length = m)\n",
    "    if (sign(angleNewObs - nearestAngle) > -1) \n",
    "      angles = angles[ -1 ]\n",
    "    else \n",
    "      angles = angles[ -m ]\n",
    "  }\n",
    "  angles = angles + nearestAngle\n",
    "  angles[angles < 0] = angles[ angles < 0 ] + 360\n",
    "  angles[angles > 360] = angles[ angles > 360 ] - 360\n",
    "  angles = sort(angles) \n",
    "  \n",
    "  offlineSubset = signals[ signals$angle %in% angles, ]\n",
    "  reshapeSS(offlineSubset, varSignal = \"avgSignal\")\n",
    "}\n"
   ]
  },
  {
   "cell_type": "code",
   "execution_count": null,
   "metadata": {},
   "outputs": [],
   "source": [
    "# Test function for angle of 130 and m of 3; aggregate offline data angles of 90, 135, 180\n",
    "train130 = selectTrain(130, offlineSummary, m = 3)\n",
    "\n",
    "# Reformatted results for readability\n",
    "head(train130)\n"
   ]
  },
  {
   "cell_type": "code",
   "execution_count": null,
   "metadata": {},
   "outputs": [],
   "source": [
    "# selectTrain() averages signal strength for different angles to produce one set of signal strengths for each 166 location in training data\n",
    "length(train130[[1]])"
   ]
  },
  {
   "cell_type": "code",
   "execution_count": null,
   "metadata": {},
   "outputs": [],
   "source": [
    "# May not want to collapse signal strengths across m angles and instead return a set of mX166 signals\n",
    "# Try alternative approach"
   ]
  },
  {
   "cell_type": "markdown",
   "metadata": {},
   "source": [
    "### 1.5.3 Finding the Nearest Neighbors\n",
    "#### have training data to use to predict location of new points; look at distance in terms of signal strengths from these training data to new point. "
   ]
  },
  {
   "cell_type": "code",
   "execution_count": null,
   "metadata": {},
   "outputs": [],
   "source": [
    "# Use findNN() to calcluate distance from new point to all observations in training set\n",
    "# Parameters are numeric vector of 6 new signal strengths and the return value from selectTrain()\n",
    "# Returns locations of training observations in order of closeness to new observation's signal strength\n",
    "\n",
    "findNN = function(newSignal, trainSubset) {\n",
    "  diffs = apply(trainSubset[ , 4:9], 1, \n",
    "                function(x) x - newSignal)\n",
    "  dists = apply(diffs, 2, function(x) sqrt(sum(x^2)) )\n",
    "  closest = order(dists)\n",
    "  return(trainSubset[closest, 1:3 ])\n",
    "}\n"
   ]
  },
  {
   "cell_type": "code",
   "execution_count": null,
   "metadata": {},
   "outputs": [],
   "source": [
    "# Use some subset of these ordered locations to estimate location of the new observation\n",
    "# For some value k of nearest neighbors, simply average first k locations\n",
    "# if closeXY contains x and y returned from findNN(), can estimate the location of the new observation\n",
    "\n",
    "estXY = lapply(closeXY, \n",
    "              function(x) sapply(x, function(x) mean(x[1:k])))\n"
   ]
  },
  {
   "cell_type": "code",
   "execution_count": null,
   "metadata": {},
   "outputs": [],
   "source": [
    "# these are simple averages but don't need to do this\n",
    "# alternative approach: use weights in average that are inversely proportional to disatnce from test obversations; include k points that are close, but differentiate between them by close they actually are from new observation's signals\n",
    "# Consider different metrics, Manhattan distance, medians not means when combining neighbors"
   ]
  },
  {
   "cell_type": "code",
   "execution_count": null,
   "metadata": {},
   "outputs": [],
   "source": [
    "# Two functions, trainSelect() and findNN(), to provide locations in trainig data that have signals strengths close to test obsercvation.\n",
    "# Formalize approach to make predictions for all test data, with predXY()\n",
    "\n",
    "predXY = function(newSignals, newAngles, trainData, \n",
    "                  numAngles = 1, k = 3){\n",
    "  \n",
    "  closeXY = list(length = nrow(newSignals))\n",
    "  \n",
    "  for (i in 1:nrow(newSignals)) {\n",
    "    trainSS = selectTrain(newAngles[i], trainData, m = numAngles)\n",
    "    closeXY[[i]] = \n",
    "      findNN(newSignal = as.numeric(newSignals[i, ]), trainSS)\n",
    "  }\n",
    "  \n",
    "  estXY = lapply(closeXY, \n",
    "                 function(x) sapply(x[ , 2:3], \n",
    "                                    function(x) mean(x[1:k])))\n",
    "  estXY = do.call(\"rbind\", estXY)\n",
    "  return(estXY)\n",
    "}\n"
   ]
  },
  {
   "cell_type": "code",
   "execution_count": null,
   "metadata": {},
   "outputs": [],
   "source": [
    "# Test functions with case of 3 nearest neighbors and 3 orientation\n",
    "# Map k = 3 and Map k = 1\n",
    "\n",
    "estXYk3 = predXY(newSignals = onlineSummary[ , 6:11], \n",
    "                 newAngles = onlineSummary[ , 4], \n",
    "                 offlineSummary, numAngles = 3, k = 3)\n",
    "\n",
    "estXYk1 = predXY(newSignals = onlineSummary[ , 6:11], \n",
    "                 newAngles = onlineSummary[ , 4], \n",
    "                 offlineSummary, numAngles = 3, k = 1)\n",
    "\n",
    "floorErrorMap = function(estXY, actualXY, trainPoints = NULL, AP = NULL){\n",
    "  \n",
    "  plot(0, 0, xlim = c(0, 35), ylim = c(-3, 15), type = \"n\",\n",
    "       xlab = \"\", ylab = \"\", axes = FALSE)\n",
    "  box()\n",
    "  if ( !is.null(AP) ) points(AP, pch = 15)\n",
    "  if ( !is.null(trainPoints) )\n",
    "    points(trainPoints, pch = 19, col=\"grey\", cex = 0.6)\n",
    "  \n",
    "  points(x = actualXY[, 1], y = actualXY[, 2], \n",
    "         pch = 19, cex = 0.8 )\n",
    "  points(x = estXY[, 1], y = estXY[, 2], \n",
    "         pch = 8, cex = 0.8 )\n",
    "  segments(x0 = estXY[, 1], y0 = estXY[, 2],\n",
    "           x1 = actualXY[, 1], y1 = actualXY[ , 2],\n",
    "           lwd = 2, col = \"red\")\n",
    "}\n",
    "\n",
    "trainPoints = offlineSummary[ offlineSummary$angle == 0 & \n",
    "                                offlineSummary$mac == \"00:0f:a3:39:e1:c0\" ,\n",
    "                              c(\"posX\", \"posY\")]\n",
    "\n",
    "pdf(file=\"GEO_FloorPlanK3Errors.pdf\", width = 10, height = 7)\n",
    "oldPar = par(mar = c(1, 1, 1, 1))\n",
    "floorErrorMap(estXYk3, onlineSummary[ , c(\"posX\",\"posY\")], \n",
    "              trainPoints = trainPoints, AP = AP)\n",
    "par(oldPar)\n",
    "dev.off()\n",
    "\n",
    "pdf(file=\"GEO_FloorPlanK1Errors.pdf\", width = 10, height = 7)\n",
    "oldPar = par(mar = c(1, 1, 1, 1))\n",
    "floorErrorMap(estXYk1, onlineSummary[ , c(\"posX\",\"posY\")], \n",
    "              trainPoints = trainPoints, AP = AP)\n",
    "par(oldPar)\n",
    "dev.off()\n"
   ]
  },
  {
   "cell_type": "code",
   "execution_count": null,
   "metadata": {},
   "outputs": [],
   "source": [
    "# Compare fits numerically\n",
    "# Find sum of squared errors\n",
    "\n",
    "calcError = \n",
    "  function(estXY, actualXY) \n",
    "    sum( rowSums( (estXY - actualXY)^2) )\n",
    "\n",
    "# Apply function to two sets of errors\n",
    "actualXY = onlineSummary[ , c(\"posX\", \"posY\")]\n",
    "sapply(list(estXYk1, estXYk3), calcError, actualXY)\n"
   ]
  },
  {
   "cell_type": "markdown",
   "metadata": {},
   "source": [
    "### 1.5.4 Cross-Validation and Choice of k\n",
    "#### Choice of k - number of neighbors to include in estimate of new observation's position - is a model select problem. Cross validation can help here. "
   ]
  },
  {
   "cell_type": "code",
   "execution_count": null,
   "metadata": {},
   "outputs": [],
   "source": [
    "# Use all 8 orientations and 6 MAC addresses with each location\n",
    "# Cross Validate on 166 locations\n",
    "# try v = 11, each fold has floor(166/v), or 15 locations\n",
    "\n",
    "v = 11\n",
    "permuteLocs = sample(unique(offlineSummary$posXY))\n",
    "permuteLocs = matrix(permuteLocs, ncol = v, \n",
    "                     nrow = floor(length(permuteLocs)/v))\n",
    "\n",
    "onlineFold = subset(offlineSummary, posXY %in% permuteLocs[ , 1])\n",
    "\n",
    "# Warning message with matrix() because v doesn't divide evenly into 166, so permuteLocs doesn't have all 166 locations.\n",
    "\n",
    "\n",
    "\n",
    "\n",
    "\n",
    "\n",
    "\n",
    "\n",
    "\n",
    "\n",
    "\n"
   ]
  },
  {
   "cell_type": "code",
   "execution_count": null,
   "metadata": {},
   "outputs": [],
   "source": [
    "# Summarize data so data structure matches online Summary, includes selecting an orientation at random because each test observation has only 1 orientation\n",
    "# Online data has structure that had 6 columns of signal strength, one for each access point\n",
    "# Create test data from offline and divide into folds, augment reshapeSS()\n",
    "\n",
    "reshapeSS = function(data, varSignal = \"signal\", \n",
    "                     keepVars = c(\"posXY\", \"posX\",\"posY\"),\n",
    "                     sampleAngle = FALSE, \n",
    "                     refs = seq(0, 315, by = 45)) {\n",
    "  byLocation =\n",
    "    with(data, by(data, list(posXY), \n",
    "                  function(x) {\n",
    "                    if (sampleAngle) {\n",
    "                      x = x[x$angle == sample(refs, size = 1), ]}\n",
    "                    ans = x[1, keepVars]\n",
    "                    avgSS = tapply(x[ , varSignal ], x$mac, mean)\n",
    "                    y = matrix(avgSS, nrow = 1, ncol = 6,\n",
    "                               dimnames = list(ans$posXY,\n",
    "                                               names(avgSS)))\n",
    "                    cbind(ans, y)\n",
    "                  }))\n",
    "  \n",
    "  newDataSS = do.call(\"rbind\", byLocation)\n",
    "  return(newDataSS)\n",
    "}\n",
    "\n",
    "\n",
    "\n"
   ]
  },
  {
   "cell_type": "code",
   "execution_count": null,
   "metadata": {},
   "outputs": [],
   "source": [
    "# Summarize and format offline (after revising reshapeSS() and augmenting with sampleAngle with default = FALSE)\n",
    "\n",
    "offline = offline[ offline$mac != \"00:0f:a3:39:dd:cd\", ]\n",
    "\n",
    "keepVars = c(\"posXY\", \"posX\",\"posY\", \"orientation\", \"angle\")\n",
    "\n",
    "onlineCVSummary = reshapeSS(offline, keepVars = keepVars, \n",
    "                            sampleAngle = TRUE)\n"
   ]
  },
  {
   "cell_type": "code",
   "execution_count": null,
   "metadata": {},
   "outputs": [],
   "source": [
    "# First fold\n",
    "\n",
    "onlineFold = subset(onlineCVSummary, \n",
    "                    posXY %in% permuteLocs[ , 1])\n"
   ]
  },
  {
   "cell_type": "code",
   "execution_count": null,
   "metadata": {},
   "outputs": [],
   "source": [
    "# Training data for first fold\n",
    "\n",
    "offlineFold = subset(offlineSummary,\n",
    "                     posXY %in% permuteLocs[ , -1])"
   ]
  },
  {
   "cell_type": "code",
   "execution_count": null,
   "metadata": {},
   "outputs": [],
   "source": [
    "# Use predXY() with cross-validated versions of online and offline data\n",
    "\n",
    "estFold = predXY(newSignals = onlineFold[ , 6:11], \n",
    "                 newAngles = onlineFold[ , 4], \n",
    "                 offlineFold, numAngles = 3, k = 3)\n"
   ]
  },
  {
   "cell_type": "code",
   "execution_count": null,
   "metadata": {},
   "outputs": [],
   "source": [
    "# Find Error in Estimates\n",
    "\n",
    "actualFold = onlineFold[ , c(\"posX\", \"posY\")]\n",
    "calcError(estFold, actualFold)\n"
   ]
  },
  {
   "cell_type": "code",
   "execution_count": null,
   "metadata": {},
   "outputs": [],
   "source": [
    "# For each fold, find k-NN for k=1, 2,...,K. Aggregate errors over v folds.\n",
    "# Wrap code from above in loops over folds and number of neighbors\n",
    "\n",
    "K = 20\n",
    "err = rep(0, K)\n",
    "\n",
    "for (j in 1:v) {\n",
    "  onlineFold = subset(onlineCVSummary, \n",
    "                      posXY %in% permuteLocs[ , j])\n",
    "  offlineFold = subset(offlineSummary,\n",
    "                       posXY %in% permuteLocs[ , -j])\n",
    "  actualFold = onlineFold[ , c(\"posX\", \"posY\")]\n",
    "  \n",
    "  for (k in 1:K) {\n",
    "    estFold = predXY(newSignals = onlineFold[ , 6:11],\n",
    "                     newAngles = onlineFold[ , 4], \n",
    "                     offlineFold, numAngles = 3, k = k)\n",
    "    err[k] = err[k] + calcError(estFold, actualFold)\n",
    "  }\n",
    "}\n"
   ]
  },
  {
   "cell_type": "code",
   "execution_count": null,
   "metadata": {},
   "outputs": [],
   "source": [
    "# Plot Sum of Squared Errors as function of k (figure 1.13)\n",
    "\n",
    "pdf(file = \"Geo_CVChoiceOfK.pdf\", width = 10, height = 6)\n",
    "oldPar = par(mar = c(4, 3, 1, 1))\n",
    "plot(y = err, x = (1:K),  type = \"l\", lwd= 2,\n",
    "     ylim = c(1200, 2100),\n",
    "     xlab = \"Number of Neighbors\",\n",
    "     ylab = \"Sum of Square Errors\")\n",
    "\n",
    "rmseMin = min(err)\n",
    "kMin = which(err == rmseMin)[1]\n",
    "segments(x0 = 0, x1 = kMin, y0 = rmseMin, col = gray(0.4), \n",
    "         lty = 2, lwd = 2)\n",
    "segments(x0 = kMin, x1 = kMin, y0 = 1100,  y1 = rmseMin, \n",
    "         col = grey(0.4), lty = 2, lwd = 2)\n",
    "\n",
    "#mtext(kMin, side = 1, line = 1, at = kMin, col = grey(0.4))\n",
    "text(x = kMin - 2, y = rmseMin + 40, \n",
    "     label = as.character(round(rmseMin)), col = grey(0.4))\n",
    "par(oldPar)\n",
    "dev.off()\n"
   ]
  },
  {
   "cell_type": "code",
   "execution_count": null,
   "metadata": {},
   "outputs": [],
   "source": [
    "# Use value of 5 for nearest neighbor from cross-validation and apply to original training and test\n",
    "\n",
    "estXYk5 = predXY(newSignals = onlineSummary[ , 6:11], \n",
    "                 newAngles = onlineSummary[ , 4], \n",
    "                 offlineSummary, numAngles = 3, k = 5)\n"
   ]
  },
  {
   "cell_type": "code",
   "execution_count": null,
   "metadata": {},
   "outputs": [],
   "source": [
    "# Tally errors in preidctions\n",
    "\n",
    "calcError(estXYk5, actualXY)\n",
    "\n",
    "# values for k = 1 and k = 3 were 659 and 307\n",
    "# value of k = 5 may not minimize value for online data because it was chosen without refernce to online data\n",
    "# hence use cross validation (don't use online data in both selection of k and assessment of prediction"
   ]
  },
  {
   "cell_type": "code",
   "execution_count": null,
   "metadata": {},
   "outputs": [],
   "source": [
    "# Speed up Cross Validation Code, consider predXY()\n",
    "\n",
    "predXY = function(newSignals, newAngles, trainData, \n",
    "                  numAngles = 1, k = 3){\n",
    "  \n",
    "  closeXY = list(length = nrow(newSignals))\n",
    "  \n",
    "  for (i in 1:nrow(newSignals)) {\n",
    "    trainSS = selectTrain(newAngles[i], trainData, m = numAngles)\n",
    "    closeXY[[i]] = findNN(newSignal = as.numeric(newSignals[i, ]),\n",
    "                          trainSS)\n",
    "  }\n",
    "  \n",
    "  estXY = lapply(closeXY, function(x)\n",
    "    sapply(x[ , 2:3], \n",
    "           function(x) mean(x[1:k])))\n",
    "  estXY = do.call(\"rbind\", estXY)\n",
    "  return(estXY)\n",
    "}\n",
    "\n",
    "# Recall findNN() returns all positions for training data, ordered according to their distance from the new observation's signal strength.\n",
    "# Use first k positions but we have all locations so we can calculate estimates for all values of k; cumsum() helpful\n",
    "# cumsum(x[1-:K])/(1:K) provides K means\n",
    "# modify predXY() to return all K estiates and eliminate inner loop over k \n"
   ]
  },
  {
   "cell_type": "code",
   "execution_count": null,
   "metadata": {},
   "outputs": [],
   "source": [
    "# Investigate number of angles to include in the trainig data; can use cross-validation to select parameter.\n",
    "# Can be selected jointly via cross-valudation"
   ]
  },
  {
   "cell_type": "markdown",
   "metadata": {},
   "source": [
    "### JOE'S CODE BELOW"
   ]
  },
  {
   "cell_type": "code",
   "execution_count": null,
   "metadata": {},
   "outputs": [],
   "source": [
    "# Starts after 1.5.1\n",
    "\n",
    "onlines = online[ substr(online, 1, 1) != \"#\" ]\n",
    "tmp = lapply(onlines, processLine)\n",
    "online = as.data.frame(do.call(\"rbind\", tmp),stringsAsFactors = FALSE)"
   ]
  },
  {
   "cell_type": "code",
   "execution_count": null,
   "metadata": {},
   "outputs": [],
   "source": [
    "names(online) = c(\"time\", \"scanMac\", \"posX\", \"posY\", \"posZ\", \"orientation\", \n",
    "        \"mac\", \"signal\", \"channel\", \"type\")"
   ]
  },
  {
   "cell_type": "code",
   "execution_count": null,
   "metadata": {},
   "outputs": [],
   "source": [
    "roundOrientation = function(angles) {\n",
    "    refs = seq(0, by = 45, length = 9)\n",
    "    q = sapply(angles, function(o) which.min(abs(o - refs)))\n",
    "    c(refs[1:8], 0)[q]\n",
    "}\n",
    "# keep only signals from access points\n",
    "online = online[online$type == \"3\", ]\n",
    "    \n"
   ]
  },
  {
   "cell_type": "code",
   "execution_count": null,
   "metadata": {},
   "outputs": [],
   "source": [
    "macs <-unique(offlineSummary$mac)\n",
    "macs"
   ]
  },
  {
   "cell_type": "code",
   "execution_count": null,
   "metadata": {},
   "outputs": [],
   "source": [
    "# drop scanMac, posZ, channel, and type - no info in them\n",
    "dropVars = c(\"scanMac\", \"posZ\", \"channel\", \"type\")\n",
    "online = online[, !(names(online) %in% dropVars)]\n",
    "\n",
    "\n",
    "\n",
    "\n",
    "# drop more unwanted access points\n",
    "subMacs = c(\"00:0f:a3:39:e1:c0\", \"00:14:bf:b1:97:8a\", \n",
    "        \"00:14:bf:3b:c7:c6\", \"00:14:bf:b1:97:90\", \"00:14:bf:b1:97:8d\", \"00:14:bf:b1:97:81\")               \n",
    "online = online[online$mac %in% subMacs, ]\n",
    "    \n"
   ]
  },
  {
   "cell_type": "code",
   "execution_count": null,
   "metadata": {},
   "outputs": [],
   "source": [
    "# convert numeric values\n",
    "numVars = c(\"time\", \"posX\", \"posY\", \"orientation\", \"signal\")\n",
    "online[numVars] = lapply(online[numVars], as.numeric)\n",
    "    \n"
   ]
  },
  {
   "cell_type": "code",
   "execution_count": null,
   "metadata": {},
   "outputs": [],
   "source": [
    "# convert time to POSIX\n",
    "online$rawTime = online$time\n",
    "online$time = online$time/1000\n",
    "class(online$time) = c(\"POSIXt\", \"POSIXct\")\n",
    "    \n",
    "# round orientations to nearest 45\n",
    "online$angle = roundOrientation(online$orientation)"
   ]
  },
  {
   "cell_type": "code",
   "execution_count": null,
   "metadata": {},
   "outputs": [],
   "source": [
    "head(online)"
   ]
  },
  {
   "cell_type": "code",
   "execution_count": null,
   "metadata": {},
   "outputs": [],
   "source": [
    "online$posXY <- paste(online$posX, online$posY, sep = \"-\")\n",
    "# Check\n",
    "length(unique(online$posXY))"
   ]
  },
  {
   "cell_type": "code",
   "execution_count": null,
   "metadata": {},
   "outputs": [],
   "source": [
    "tabonlineXYA <- table(online$posXY, online$angle)\n",
    "tabonlineXYA[1:6, ]"
   ]
  },
  {
   "cell_type": "code",
   "execution_count": null,
   "metadata": {},
   "outputs": [],
   "source": [
    "keepVars = c(\"posXY\", \"posX\", \"posY\", \"orientation\", \"angle\")\n",
    "byLoc = with(online, by(online, list(posXY), function(x) {\n",
    "    ans = x[1, keepVars]\n",
    "    avgSS = tapply(x$signal, x$mac, mean)\n",
    "    y = matrix(avgSS, nrow = 1, ncol = 6, dimnames = list(ans$posXY, names(avgSS)))\n",
    "    cbind(ans, y)\n",
    "}))\n",
    "\n"
   ]
  },
  {
   "cell_type": "code",
   "execution_count": null,
   "metadata": {},
   "outputs": [],
   "source": [
    "onlineSummary = do.call(\"rbind\", byLoc)\n",
    "\n",
    "dim(onlineSummary)"
   ]
  },
  {
   "cell_type": "code",
   "execution_count": null,
   "metadata": {},
   "outputs": [],
   "source": [
    "names(onlineSummary)"
   ]
  },
  {
   "cell_type": "markdown",
   "metadata": {},
   "source": [
    "KNN"
   ]
  },
  {
   "cell_type": "code",
   "execution_count": null,
   "metadata": {},
   "outputs": [],
   "source": [
    "m <- 3\n",
    "angleNewObs <- 230\n",
    "refs <- seq(0, by = 45, length = 8)\n",
    "nearestAngle <- roundOrientation(angleNewObs)\n",
    "\n",
    "if (m%%2 == 1) {\n",
    "    angles = seq(-45 * (m - 1)/2, 45 * (m - 1)/2, length = m)\n",
    "} else {\n",
    "    m = m + 1\n",
    "    angles = seq(-45 * (m - 1)/2, 45 * (m - 1)/2, length = m)\n",
    "    if (sign(angleNewObs - nearestAngle) > -1) \n",
    "        angles = angles[-1] else angles = angles[-m]\n",
    "}\n",
    "\n",
    "## m odd and even are handled seperatly. Map angles to refs Adjustments\n",
    "angles <- angles + nearestAngle\n",
    "angles[angles < 0] = angles[angles < 0] + 360\n",
    "angles[angles > 360] = angles[angles > 360] - 360"
   ]
  },
  {
   "cell_type": "code",
   "execution_count": null,
   "metadata": {},
   "outputs": [],
   "source": [
    "offlineSubset <- offlineSummary[offlineSummary$angle %in% angles, ]"
   ]
  },
  {
   "cell_type": "code",
   "execution_count": null,
   "metadata": {},
   "outputs": [],
   "source": [
    "reshapeSS <- function(data, varSignal = \"signal\", keepVars = c(\"posXY\", \"posX\", \n",
    "    \"posY\")) {\n",
    "    byLocation <- with(data, by(data, list(posXY), function(x) {\n",
    "        ans = x[1, keepVars]\n",
    "        avgSS = tapply(x[, varSignal], x$mac, mean)\n",
    "        y = matrix(avgSS, nrow = 1, ncol = 6, dimnames = list(ans$posXY, names(avgSS)))\n",
    "        cbind(ans, y)\n",
    "    }))\n",
    "    \n",
    "    newDataSS <- do.call(\"rbind\", byLocation)\n",
    "    return(newDataSS)\n",
    "}"
   ]
  },
  {
   "cell_type": "code",
   "execution_count": null,
   "metadata": {},
   "outputs": [],
   "source": [
    "trainSS <- reshapeSS(offlineSubset, varSignal = \"avgSignal\")"
   ]
  },
  {
   "cell_type": "code",
   "execution_count": null,
   "metadata": {},
   "outputs": [],
   "source": [
    "trainSS = reshapeSS(offlineSubset, varSignal = \"avgSignal\")\n",
    "\n",
    "selectTrain = function(angleNewObs, signals = NULL, m = 1) {\n",
    "    # m is the number of angles to keep between 1 and 5\n",
    "    refs = seq(0, by = 45, length = 8)\n",
    "    nearestAngle = roundOrientation(angleNewObs)\n",
    "    \n",
    "    if (m%%2 == 1) \n",
    "        angles = seq(-45 * (m - 1)/2, 45 * (m - 1)/2, length = m) else {\n",
    "        m = m + 1\n",
    "        angles = seq(-45 * (m - 1)/2, 45 * (m - 1)/2, length = m)\n",
    "        if (sign(angleNewObs - nearestAngle) > -1) \n",
    "            angles = angles[-1] else angles = angles[-m]\n",
    "    }\n",
    "    angles = angles + nearestAngle\n",
    "    angles[angles < 0] = angles[angles < 0] + 360\n",
    "    angles[angles > 360] = angles[angles > 360] - 360\n",
    "    angles = sort(angles)\n",
    "    \n",
    "    offlineSubset = signals[signals$angle %in% angles, ]\n",
    "    reshapeSS(offlineSubset, varSignal = \"avgSignal\")\n",
    "}"
   ]
  },
  {
   "cell_type": "code",
   "execution_count": null,
   "metadata": {},
   "outputs": [],
   "source": [
    "train130 <- selectTrain(130, offlineSummary, m = 3)\n",
    "head(train130)"
   ]
  },
  {
   "cell_type": "code",
   "execution_count": null,
   "metadata": {},
   "outputs": [],
   "source": [
    "# Should be 166\n",
    "length(train130[[1]])"
   ]
  },
  {
   "cell_type": "code",
   "execution_count": null,
   "metadata": {},
   "outputs": [],
   "source": [
    "findNN <- function(newSignal, trainSubset) {\n",
    "    diffs = apply(trainSubset[, 4:9], 1, function(x) x - newSignal)\n",
    "    dists = apply(diffs, 2, function(x) sqrt(sum(x^2)))\n",
    "    closest = order(dists)\n",
    "    return(trainSubset[closest, 1:3])\n",
    "}\n",
    "\n",
    "predXY <- function(newSignals, newAngles, trainData, numAngles = 1, k = 3) {\n",
    "    \n",
    "    closeXY = list(length = nrow(newSignals))\n",
    "    \n",
    "    for (i in 1:nrow(newSignals)) {\n",
    "        trainSS = selectTrain(newAngles[i], trainData, m = numAngles)\n",
    "        closeXY[[i]] = findNN(newSignal = as.numeric(newSignals[i, ]), trainSS)\n",
    "    }\n",
    "    \n",
    "    estXY <- lapply(closeXY, function(x) sapply(x[, 2:3], function(x) mean(x[1:k])))\n",
    "    estXY = do.call(\"rbind\", estXY)\n",
    "    return(estXY)\n",
    "}"
   ]
  },
  {
   "cell_type": "code",
   "execution_count": null,
   "metadata": {},
   "outputs": [],
   "source": [
    "estXYk3 <- predXY(newSignals = onlineSummary[, 6:11], newAngles = onlineSummary[, \n",
    "    4], offlineSummary, numAngles = 3, k = 3)\n",
    "\n",
    "estXYk1 <- predXY(newSignals = onlineSummary[, 6:11], newAngles = onlineSummary[, \n",
    "    4], offlineSummary, numAngles = 3, k = 1)\n",
    "\n",
    "calcError <- function(estXY, actualXY) sum(rowSums((estXY - actualXY)^2))\n",
    "\n",
    "## Apply the functions to our two sets\n",
    "actualXY <- onlineSummary[, c(\"posX\", \"posY\")]\n",
    "sapply(list(estXYk1, estXYk3), calcError, actualXY)"
   ]
  },
  {
   "cell_type": "code",
   "execution_count": null,
   "metadata": {},
   "outputs": [],
   "source": [
    "floorErrorMap <- function(estXY, actualXY, trainPoints = NULL, AP = NULL) {\n",
    "    \n",
    "    plot(0, 0, xlim = c(0, 35), ylim = c(-3, 15), type = \"n\", xlab = \"\", ylab = \"\", \n",
    "        axes = FALSE)\n",
    "    box()\n",
    "    if (!is.null(AP)) \n",
    "        points(AP, pch = 15)\n",
    "    if (!is.null(trainPoints)) \n",
    "        points(trainPoints, pch = 19, col = \"grey\", cex = 0.6)\n",
    "    \n",
    "    points(x = actualXY[, 1], y = actualXY[, 2], pch = 19, cex = 0.8)\n",
    "    points(x = estXY[, 1], y = estXY[, 2], pch = 8, cex = 0.8)\n",
    "    segments(x0 = estXY[, 1], y0 = estXY[, 2], x1 = actualXY[, 1], y1 = actualXY[, \n",
    "        2], lwd = 2, col = \"red\")\n",
    "}\n",
    "\n",
    "trainPoints <- offlineSummary[offlineSummary$angle == 0 & offlineSummary$mac == \n",
    "    \"00:0f:a3:39:e1:c0\", c(\"posX\", \"posY\")]\n",
    "\n",
    "#pdf(file = \"GEO_FloorPlanK3Errors.pdf\", width = 10, height = 7)\n",
    "oldPar = par(mar = c(1, 1, 1, 1))\n",
    "floorErrorMap(estXYk3, onlineSummary[, c(\"posX\", \"posY\")], trainPoints = trainPoints, \n",
    "    AP = AP)\n",
    "par(oldPar)\n",
    "dev.off()"
   ]
  },
  {
   "cell_type": "code",
   "execution_count": null,
   "metadata": {},
   "outputs": [],
   "source": [
    "#pdf(file = \"GEO_FloorPlanK1Errors.pdf\", width = 10, height = 7)\n",
    "oldPar = par(mar = c(1, 1, 1, 1))\n",
    "floorErrorMap(estXYk1, onlineSummary[, c(\"posX\", \"posY\")], trainPoints = trainPoints, \n",
    "    AP = AP)\n",
    "par(oldPar)\n",
    "dev.off()"
   ]
  },
  {
   "cell_type": "code",
   "execution_count": null,
   "metadata": {},
   "outputs": [],
   "source": [
    "v <- 11\n",
    "permuteLocs <- sample(unique(offlineSummary$posXY))\n",
    "permuteLocs <- matrix(permuteLocs, ncol = v, nrow = floor(length(permuteLocs)/v))"
   ]
  },
  {
   "cell_type": "code",
   "execution_count": null,
   "metadata": {},
   "outputs": [],
   "source": [
    "## This will generate a warning message with the call to matrix() because v\n",
    "## does not divide evenly into 166, so permuteLocs does not contain all 166\n",
    "## locations. Each subset of 1s5 locations is used as the 'online' data.\n",
    "onlineFold <- subset(offlineSubset, posXY %in% permuteLocs[, 1])"
   ]
  },
  {
   "cell_type": "code",
   "execution_count": null,
   "metadata": {},
   "outputs": [],
   "source": [
    "reshapeSS <- function(data, varSignal = \"signal\", keepVars = c(\"posXY\", \"posX\", \n",
    "    \"posY\"), sampleAngle = FALSE, refs = seq(0, 315, by = 45)) {\n",
    "    byLocation = with(data, by(data, list(posXY), function(x) {\n",
    "        if (sampleAngle) {\n",
    "            x = x[x$angle == sample(refs, size = 1), ]\n",
    "        }\n",
    "        ans = x[1, keepVars]\n",
    "        avgSS = tapply(x[, varSignal], x$mac, mean)\n",
    "        y = matrix(avgSS, nrow = 1, ncol = 6, dimnames = list(ans$posXY, names(avgSS)))\n",
    "        cbind(ans, y)\n",
    "    }))\n",
    "    \n",
    "    newDataSS = do.call(\"rbind\", byLocation)\n",
    "    return(newDataSS)\n",
    "}"
   ]
  },
  {
   "cell_type": "code",
   "execution_count": null,
   "metadata": {},
   "outputs": [],
   "source": [
    "offline <- offline[offline$mac != \"00:0f:a3:39:dd:cd\", ]\n",
    "\n",
    "keepVars <- c(\"posXY\", \"posX\", \"posY\", \"orientation\", \"angle\")\n",
    "\n",
    "onlineCVSummary <- reshapeSS(offline, keepVars = keepVars, sampleAngle = TRUE)"
   ]
  },
  {
   "cell_type": "code",
   "execution_count": null,
   "metadata": {},
   "outputs": [],
   "source": [
    "# This chunk of code takes a few minutes\n",
    "onlineFold <- subset(onlineCVSummary, posXY %in% permuteLocs[, 1])\n",
    "\n",
    "offlineFold <- subset(offlineSummary, posXY %in% permuteLocs[, -1])\n",
    "\n",
    "estFold <- predXY(newSignals = onlineFold[, 6:11], newAngles = onlineFold[, \n",
    "    4], offlineFold, numAngles = 3, k = 3)\n",
    "\n",
    "actualFold <- onlineFold[, c(\"posX\", \"posY\")]\n",
    "calcError(estFold, actualFold)"
   ]
  },
  {
   "cell_type": "code",
   "execution_count": null,
   "metadata": {},
   "outputs": [],
   "source": [
    "K <- 20\n",
    "err <- rep(0, K)\n",
    "\n",
    "for (j in 1:v) {\n",
    "    onlineFold = subset(onlineCVSummary, posXY %in% permuteLocs[, j])\n",
    "    offlineFold = subset(offlineSummary, posXY %in% permuteLocs[, -j])\n",
    "    actualFold = onlineFold[, c(\"posX\", \"posY\")]\n",
    "    \n",
    "    for (k in 1:K) {\n",
    "        estFold = predXY(newSignals = onlineFold[, 6:11], newAngles = onlineFold[, \n",
    "            4], offlineFold, numAngles = 3, k = k)\n",
    "        err[k] = err[k] + calcError(estFold, actualFold)\n",
    "    }\n",
    "}"
   ]
  },
  {
   "cell_type": "code",
   "execution_count": null,
   "metadata": {},
   "outputs": [],
   "source": [
    "#pdf(file = \"Geo_CVChoiceOfK.pdf\", width = 10, height = 6)\n",
    "oldPar = par(mar = c(4, 3, 1, 1))\n",
    "plot(y = err, x = (1:K), type = \"l\", lwd = 2, ylim = c(1200, 2100), xlab = \"Number of Neighbors\", \n",
    "    ylab = \"Sum of Square Errors\")\n",
    "\n",
    "rmseMin <- min(err)\n",
    "kMin <- which(err == rmseMin)[1]\n",
    "segments(x0 = 0, x1 = kMin, y0 = rmseMin, col = gray(0.4), lty = 2, lwd = 2)\n",
    "segments(x0 = kMin, x1 = kMin, y0 = 1100, y1 = rmseMin, col = grey(0.4), lty = 2, \n",
    "    lwd = 2)\n",
    "\n",
    "# mtext(kMin, side = 1, line = 1, at = kMin, col = grey(0.4))\n",
    "text(x = kMin - 2, y = rmseMin + 40, label = as.character(round(rmseMin)), col = grey(0.4))\n",
    "par(oldPar)\n",
    "dev.off()"
   ]
  },
  {
   "cell_type": "code",
   "execution_count": null,
   "metadata": {},
   "outputs": [],
   "source": [
    "estXYk5 <- predXY(newSignals = onlineSummary[, 6:11], newAngles = onlineSummary[, \n",
    "    4], offlineSummary, numAngles = 3, k = 5)\n",
    "# Add up errors in prediction\n",
    "calcError(estXYk5, actualXY)"
   ]
  },
  {
   "cell_type": "code",
   "execution_count": null,
   "metadata": {},
   "outputs": [],
   "source": [
    "predXY <- function(newSignals, newAngles, trainData, numAngles = 1, k = 5) {\n",
    "    \n",
    "    closeXY = list(length = nrow(newSignals))\n",
    "    \n",
    "    for (i in 1:nrow(newSignals)) {\n",
    "        trainSS = selectTrain(newAngles[i], trainData, m = numAngles)\n",
    "        closeXY[[i]] = findNN(newSignal = as.numeric(newSignals[i, ]), trainSS)\n",
    "    }\n",
    "    \n",
    "    estXY = lapply(closeXY, function(x) sapply(x[, 2:3], function(x) mean(x[1:k])))\n",
    "    estXY = do.call(\"rbind\", estXY)\n",
    "    return(estXY)\n",
    "}"
   ]
  },
  {
   "cell_type": "code",
   "execution_count": null,
   "metadata": {},
   "outputs": [],
   "source": [
    "estXYk5 <- predXY(newSignals = onlineSummary[, 6:11], newAngles = onlineSummary[, \n",
    "    4], offlineSummary, numAngles = 3, k = 5)\n",
    "# Add up errors in prediction\n",
    "calcError(estXYk5, actualXY)"
   ]
  },
  {
   "cell_type": "code",
   "execution_count": null,
   "metadata": {},
   "outputs": [],
   "source": []
  }
 ],
 "metadata": {
  "kernelspec": {
   "display_name": "R",
   "language": "R",
   "name": "ir"
  },
  "language_info": {
   "codemirror_mode": "r",
   "file_extension": ".r",
   "mimetype": "text/x-r-source",
   "name": "R",
   "pygments_lexer": "r",
   "version": "3.6.1"
  }
 },
 "nbformat": 4,
 "nbformat_minor": 4
}
