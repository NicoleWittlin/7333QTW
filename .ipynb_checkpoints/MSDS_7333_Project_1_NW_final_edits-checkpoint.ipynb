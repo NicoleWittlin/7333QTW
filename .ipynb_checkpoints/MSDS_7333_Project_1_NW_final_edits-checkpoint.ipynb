{
 "cells": [
  {
   "cell_type": "markdown",
   "metadata": {
    "colab_type": "text",
    "id": "DDuxH7hE72wO"
   },
   "source": [
    "## MSDS 7333 Project 1 -- Predicting Location via Indoor Positioning Systems\n",
    "\n",
    "#### Stephen Hayden, Joe Schueder, Nicole Witten, Kevin Mendonsa"
   ]
  },
  {
   "cell_type": "markdown",
   "metadata": {
    "colab_type": "text",
    "id": "X2Fc7tgK72wP"
   },
   "source": [
    "### 1.1 Introduction\n",
    "\n",
    "#### Business Understanding\n",
    "\n",
    "**Introduction & describing the purpose of the data set (i.e., why was this data collected in the first place?).**\n",
    "\n",
    "Here is the floor plan of the building that we are building the location system for. \n",
    "\n",
    "![alt text](https://github.com/jjschueder/7333QTW/blob/master/floorplan.JPG?raw=true \"Logo Title Text 1\")\n"
   ]
  },
  {
   "cell_type": "markdown",
   "metadata": {
    "colab_type": "text",
    "id": "eQSl0Hv272wQ"
   },
   "source": [
    "### 1.1.2 Methods\n",
    "\n",
    "**How will we measure the effectiveness of a good algorithm?** \n",
    "\n",
    "To measure the effectiveness of each clustering algorithm we will be comparing the calculated Silhouette score (i.e. Silhouette Coefficient). Additional details regarding the silhouette score is below.\n",
    "    \n",
    "Silhouette Score – Per scikit learn documentation, “The Silhouette Coefficient is calculated using the mean intra-cluster distance (a) and the mean nearest-cluster distance (b) for each sample. The Silhouette Coefficient for a sample is (b - a) / max(a, b). To clarify, b is the distance between a sample and the nearest cluster that the sample is not a part of. Note that Silhouette Coefficient is only defined if number of labels is 2 <= n_labels <= n_samples - 1. \n",
    "    \n",
    "The best value is 1 and the worst value is -1. Values near 0 indicate overlapping clusters. Negative values indicate that the values located in each cluster have little in common with one another, suggesting the cluster was not based on a unified characteristic. We are going to use Silhouette score because it's a simple scoring metric to interpret, it shows a direct correlation to additional metrics we've reviewed such as homogeneity, completeness and V-measure. \n",
    "\n",
    "Outside of these quality measures, we will also be factoring time to run into the model performance as well, since we are working with a subset of data and will need to consider the computation resources needed to model the entire dataset. \n",
    "\n",
    "Additionally, we will want to keep in mind the number of observations that appear in each cluster, since we have equal balance of liquor types we are classifying, we will want as balanced as a cluster distribution as possible. "
   ]
  },
  {
   "cell_type": "markdown",
   "metadata": {
    "colab_type": "text",
    "id": "opsx_e--72wS"
   },
   "source": [
    "### 1.2 Raw Data\n",
    "\n",
    "The “offline” data has 151,392 lines. The data documentation says the expected row count 146,080 lines. The difference between expected and retrieved is 5,312. Therefore some cleanup needs to be done. "
   ]
  },
  {
   "cell_type": "code",
   "execution_count": 1,
   "metadata": {
    "colab": {},
    "colab_type": "code",
    "id": "YUVP_ZJg72wS",
    "outputId": "2234e9df-4a5c-419b-de34-c8459be43684"
   },
   "outputs": [
    {
     "name": "stdout",
     "output_type": "stream",
     "text": [
      "[1] \"Total Number of rows in dataset starting with '#':  5312\"\n",
      "[1] \"Total Number of rows in dataset:  151392\"\n"
     ]
    }
   ],
   "source": [
    "options(digits = 2)\n",
    "txt = readLines(\"http://rdatasciencecases.org/Data/offline.final.trace.txt\")\n",
    "\n",
    "# Rows in dataset starting with #\n",
    "print(paste(\"Total Number of rows in dataset starting with '#': \",sum(substr(txt, 1, 1) == \"#\")))\n",
    "\n",
    "# Total Number of rows in dataset, inc comment rows\n",
    "print(paste(\"Total Number of rows in dataset: \",length(txt)))\n"
   ]
  },
  {
   "cell_type": "markdown",
   "metadata": {
    "colab_type": "text",
    "id": "Z8EeF53b72wZ"
   },
   "source": [
    "### 1.2.1 Processing Raw Data\n",
    "\n",
    "Create a function named processLine to process data (split by ; = or ,). The function returns matrix with rows for each MAC address and columns for position and orientation. Therefore, the number of rows in the dataset grow in size while achieving seperate columns representing various attributes of the data. Next, exclude rows starting with # as these are not relevant to the analysis. The rows in the data that start with # are removed also. "
   ]
  },
  {
   "cell_type": "code",
   "execution_count": 2,
   "metadata": {
    "colab": {},
    "colab_type": "code",
    "id": "LkHI5Lwx72wa"
   },
   "outputs": [],
   "source": [
    "# Create a function named processLine to process data (split by ; = or ,)\n",
    "# Returns matrix w/11 rows for each MAC address and columns for position and orientation\n",
    "processLine = function(x)\n",
    "{\n",
    "tokens = strsplit(x, \"[;=,]\")[[1]]\n",
    "if (length(tokens) == 10)\n",
    "    return(NULL)\n",
    "tmp = matrix(tokens[ - (1:10) ], , 4, byrow = TRUE)\n",
    "cbind(matrix(tokens[c(2, 4, 6:8, 10)], nrow(tmp), 6,\n",
    "byrow = TRUE), tmp)\n",
    "}\n"
   ]
  },
  {
   "cell_type": "code",
   "execution_count": 3,
   "metadata": {
    "colab": {},
    "colab_type": "code",
    "id": "p8f93_cd72wf",
    "outputId": "1acb1b10-c9ea-45ea-c016-fe25916a0b99"
   },
   "outputs": [
    {
     "name": "stdout",
     "output_type": "stream",
     "text": [
      "[1] \"Sample of rows in each time set\"\n"
     ]
    },
    {
     "data": {
      "text/html": [
       "<ol class=list-inline>\n",
       "\t<li>11</li>\n",
       "\t<li>10</li>\n",
       "\t<li>10</li>\n",
       "\t<li>11</li>\n",
       "\t<li>9</li>\n",
       "\t<li>10</li>\n",
       "\t<li>9</li>\n",
       "\t<li>9</li>\n",
       "\t<li>10</li>\n",
       "\t<li>11</li>\n",
       "\t<li>11</li>\n",
       "\t<li>9</li>\n",
       "\t<li>9</li>\n",
       "\t<li>9</li>\n",
       "\t<li>8</li>\n",
       "\t<li>10</li>\n",
       "\t<li>14</li>\n",
       "</ol>\n"
      ],
      "text/latex": [
       "\\begin{enumerate*}\n",
       "\\item 11\n",
       "\\item 10\n",
       "\\item 10\n",
       "\\item 11\n",
       "\\item 9\n",
       "\\item 10\n",
       "\\item 9\n",
       "\\item 9\n",
       "\\item 10\n",
       "\\item 11\n",
       "\\item 11\n",
       "\\item 9\n",
       "\\item 9\n",
       "\\item 9\n",
       "\\item 8\n",
       "\\item 10\n",
       "\\item 14\n",
       "\\end{enumerate*}\n"
      ],
      "text/markdown": [
       "1. 11\n",
       "2. 10\n",
       "3. 10\n",
       "4. 11\n",
       "5. 9\n",
       "6. 10\n",
       "7. 9\n",
       "8. 9\n",
       "9. 10\n",
       "10. 11\n",
       "11. 11\n",
       "12. 9\n",
       "13. 9\n",
       "14. 9\n",
       "15. 8\n",
       "16. 10\n",
       "17. 14\n",
       "\n",
       "\n"
      ],
      "text/plain": [
       " [1] 11 10 10 11  9 10  9  9 10 11 11  9  9  9  8 10 14"
      ]
     },
     "metadata": {},
     "output_type": "display_data"
    },
    {
     "name": "stdout",
     "output_type": "stream",
     "text": [
      "[1] \"# of rows in tmp data set:  170\"\n",
      "[1] \"# of columns in tmp data set:  10\"\n"
     ]
    }
   ],
   "source": [
    "# Apply the processLine function to rows 4 through 20\n",
    "tmp = lapply(txt[4:20], processLine)\n",
    "\n",
    "# Count of rows at each time, returns 17 matrices and # of signals at each point\n",
    "print(\"Sample of rows in each time set\")\n",
    "sapply(tmp, nrow)\n",
    "\n",
    "# Convert a list of data frames into one data frame (Add all times together)\n",
    "offline = as.data.frame(do.call(\"rbind\", tmp))\n",
    "print(paste(\"# of rows in tmp data set: \",dim(offline)[1]))\n",
    "print(paste(\"# of columns in tmp data set: \",dim(offline)[2]))\n"
   ]
  },
  {
   "cell_type": "code",
   "execution_count": 4,
   "metadata": {
    "colab": {},
    "colab_type": "code",
    "id": "IyRtI-e972wl",
    "outputId": "0f72531c-4ee2-4112-f77e-5c93c0d28df6"
   },
   "outputs": [
    {
     "data": {
      "text/html": [
       "1181628"
      ],
      "text/latex": [
       "1181628"
      ],
      "text/markdown": [
       "1181628"
      ],
      "text/plain": [
       "[1] 1181628"
      ]
     },
     "metadata": {},
     "output_type": "display_data"
    }
   ],
   "source": [
    "# Must exclude rows starting with #\n",
    "lines = txt[ substr(txt, 1, 1) != \"#\" ]\n",
    "\n",
    "# Options(error = recover, warn = 1)\n",
    "# load in full dataset\n",
    "# Apply the function processLine to each row/line\n",
    "tmp = lapply(lines, processLine)\n",
    "offline = as.data.frame(do.call(\"rbind\", tmp), \n",
    "                        stringsAsFactors = FALSE)\n",
    "\n",
    "# Check data set dimensions\n",
    "nrow(offline)"
   ]
  },
  {
   "cell_type": "markdown",
   "metadata": {
    "colab_type": "text",
    "id": "E_iNOC3Q72wr"
   },
   "source": []
  },
  {
   "cell_type": "markdown",
   "metadata": {
    "colab_type": "text",
    "id": "7yeOnHF472ws"
   },
   "source": [
    "### 1.3 Clean Data and Build Representation for Analysis"
   ]
  },
  {
   "cell_type": "code",
   "execution_count": 5,
   "metadata": {
    "colab": {},
    "colab_type": "code",
    "id": "6yMOqjMR72wt",
    "outputId": "f4ee1f31-3149-4c7a-c51a-9c8ca3b6b424"
   },
   "outputs": [
    {
     "data": {
      "text/html": [
       "<ol class=list-inline>\n",
       "\t<li>978443</li>\n",
       "\t<li>9</li>\n",
       "</ol>\n"
      ],
      "text/latex": [
       "\\begin{enumerate*}\n",
       "\\item 978443\n",
       "\\item 9\n",
       "\\end{enumerate*}\n"
      ],
      "text/markdown": [
       "1. 978443\n",
       "2. 9\n",
       "\n",
       "\n"
      ],
      "text/plain": [
       "[1] 978443      9"
      ]
     },
     "metadata": {},
     "output_type": "display_data"
    }
   ],
   "source": [
    "# Rename fields with meaningful names\n",
    "names(offline) = c(\"time\", \"scanMac\", \"posX\", \"posY\", \"posZ\",\n",
    "\"orientation\", \"mac\", \"signal\",\n",
    "\"channel\", \"type\")\n",
    "\n",
    "# Convert position, signal, and time variables to numeric\n",
    "numVars = c(\"time\", \"posX\", \"posY\", \"posZ\", \n",
    "            \"orientation\", \"signal\")\n",
    "offline[ numVars ] =  lapply(offline[ numVars ], as.numeric)\n",
    "\n",
    "# Drop all records for adhoc measurements and remove the type variable from our data frame\n",
    "# Confirm current dataframe dimensions\n",
    "offline = offline[ offline$type == \"3\", ]\n",
    "offline = offline[ , \"type\" != names(offline) ]\n",
    "dim(offline)"
   ]
  },
  {
   "cell_type": "code",
   "execution_count": 6,
   "metadata": {
    "colab": {},
    "colab_type": "code",
    "id": "3c4xj5ZI72wz"
   },
   "outputs": [],
   "source": [
    "# Time variable; time measured in milliseconds from midnight on January 1st, 1970.\n",
    "# POSIXt is measured in seconds, not milliseconds. Must scale value of time to seconds \n",
    "# and set class of the time element to have values appear and operate as date-times in R.\n",
    "# Keep the more precise time in rawTime, in case needed.\n",
    "\n",
    "offline$rawTime = offline$time\n",
    "offline$time = offline$time/1000\n",
    "class(offline$time) = c(\"POSIXt\", \"POSIXct\")"
   ]
  },
  {
   "cell_type": "code",
   "execution_count": 7,
   "metadata": {
    "colab": {},
    "colab_type": "code",
    "id": "8hBEk9EC72w3",
    "outputId": "bd1f9ea0-3a08-4461-e0dd-a8790cd5cb3a"
   },
   "outputs": [
    {
     "data": {
      "text/html": [
       "<dl class=dl-horizontal>\n",
       "\t<dt>time1</dt>\n",
       "\t\t<dd>'POSIXt'</dd>\n",
       "\t<dt>time2</dt>\n",
       "\t\t<dd>'POSIXct'</dd>\n",
       "\t<dt>scanMac</dt>\n",
       "\t\t<dd>'character'</dd>\n",
       "\t<dt>posX</dt>\n",
       "\t\t<dd>'numeric'</dd>\n",
       "\t<dt>posY</dt>\n",
       "\t\t<dd>'numeric'</dd>\n",
       "\t<dt>posZ</dt>\n",
       "\t\t<dd>'numeric'</dd>\n",
       "\t<dt>orientation</dt>\n",
       "\t\t<dd>'numeric'</dd>\n",
       "\t<dt>mac</dt>\n",
       "\t\t<dd>'character'</dd>\n",
       "\t<dt>signal</dt>\n",
       "\t\t<dd>'numeric'</dd>\n",
       "\t<dt>channel</dt>\n",
       "\t\t<dd>'character'</dd>\n",
       "\t<dt>rawTime</dt>\n",
       "\t\t<dd>'numeric'</dd>\n",
       "</dl>\n"
      ],
      "text/latex": [
       "\\begin{description*}\n",
       "\\item[time1] 'POSIXt'\n",
       "\\item[time2] 'POSIXct'\n",
       "\\item[scanMac] 'character'\n",
       "\\item[posX] 'numeric'\n",
       "\\item[posY] 'numeric'\n",
       "\\item[posZ] 'numeric'\n",
       "\\item[orientation] 'numeric'\n",
       "\\item[mac] 'character'\n",
       "\\item[signal] 'numeric'\n",
       "\\item[channel] 'character'\n",
       "\\item[rawTime] 'numeric'\n",
       "\\end{description*}\n"
      ],
      "text/markdown": [
       "time1\n",
       ":   'POSIXt'time2\n",
       ":   'POSIXct'scanMac\n",
       ":   'character'posX\n",
       ":   'numeric'posY\n",
       ":   'numeric'posZ\n",
       ":   'numeric'orientation\n",
       ":   'numeric'mac\n",
       ":   'character'signal\n",
       ":   'numeric'channel\n",
       ":   'character'rawTime\n",
       ":   'numeric'\n",
       "\n"
      ],
      "text/plain": [
       "      time1       time2     scanMac        posX        posY        posZ \n",
       "   \"POSIXt\"   \"POSIXct\" \"character\"   \"numeric\"   \"numeric\"   \"numeric\" \n",
       "orientation         mac      signal     channel     rawTime \n",
       "  \"numeric\" \"character\"   \"numeric\" \"character\"   \"numeric\" "
      ]
     },
     "metadata": {},
     "output_type": "display_data"
    },
    {
     "data": {
      "text/plain": [
       "      time                          posX         posY           posZ  \n",
<<<<<<< HEAD
       " Min.   :2006-02-11 01:31:58   Min.   : 0   Min.   : 0.0   Min.   :0  \n",
       " 1st Qu.:2006-02-11 07:21:27   1st Qu.: 2   1st Qu.: 3.0   1st Qu.:0  \n",
       " Median :2006-02-11 13:57:58   Median :12   Median : 6.0   Median :0  \n",
       " Mean   :2006-02-16 08:57:37   Mean   :14   Mean   : 5.9   Mean   :0  \n",
       " 3rd Qu.:2006-02-19 08:52:40   3rd Qu.:23   3rd Qu.: 8.0   3rd Qu.:0  \n",
       " Max.   :2006-03-09 14:41:10   Max.   :33   Max.   :13.0   Max.   :0  \n",
=======
       " Min.   :2006-02-10 23:31:58   Min.   : 0   Min.   : 0.0   Min.   :0  \n",
       " 1st Qu.:2006-02-11 05:21:27   1st Qu.: 2   1st Qu.: 3.0   1st Qu.:0  \n",
       " Median :2006-02-11 11:57:58   Median :12   Median : 6.0   Median :0  \n",
       " Mean   :2006-02-16 06:57:37   Mean   :14   Mean   : 5.9   Mean   :0  \n",
       " 3rd Qu.:2006-02-19 06:52:40   3rd Qu.:23   3rd Qu.: 8.0   3rd Qu.:0  \n",
       " Max.   :2006-03-09 12:41:10   Max.   :33   Max.   :13.0   Max.   :0  \n",
>>>>>>> 66eb6c9fec8115d9e5fc0842898bf00e47e76891
       "  orientation      signal   \n",
       " Min.   :  0   Min.   :-99  \n",
       " 1st Qu.: 90   1st Qu.:-69  \n",
       " Median :180   Median :-60  \n",
       " Mean   :167   Mean   :-62  \n",
       " 3rd Qu.:270   3rd Qu.:-53  \n",
       " Max.   :360   Max.   :-25  "
      ]
     },
     "metadata": {},
     "output_type": "display_data"
    },
    {
     "data": {
      "text/plain": [
       "                mac               channel                    scanMac      \n",
       " 00:0f:a3:39:e1:c0:145862   2462000000:189774   00:02:2D:21:0F:33:978443  \n",
       " 00:0f:a3:39:dd:cd:145619   2437000000:152124                             \n",
       " 00:14:bf:b1:97:8a:132962   2412000000:145619                             \n",
       " 00:14:bf:3b:c7:c6:126529   2432000000:126529                             \n",
       " 00:14:bf:b1:97:90:122315   2427000000:122315                             \n",
       " 00:14:bf:b1:97:8d:121325   2442000000:121325                             \n",
       " (Other)          :183831   (Other)   :120757                             "
      ]
     },
     "metadata": {},
     "output_type": "display_data"
    }
   ],
   "source": [
    "# Check the types of the variables in the data frame\n",
    "unlist(lapply(offline, class))\n",
    "\n",
    "# Next verify that actual values of the data look reasonable. Start w/summary of each numeric variable\n",
    "summary(offline[, numVars])\n",
    "\n",
    "# Convert character variables to factors. Examine summary\n",
    "summary(sapply(offline[ , c(\"mac\", \"channel\", \"scanMac\")],\n",
    "               as.factor))"
   ]
  },
  {
   "cell_type": "markdown",
   "metadata": {
    "colab_type": "text",
    "id": "Fd1xJVRh72w-"
   },
   "source": [
    "Results of Note: \n",
    "\n",
    "1. There is only one value for scanMac, the MAC address for the hand-held device from which the measurements were taken. We might as well discard this variable from our data frame. However, we may want to note this value to compare it with the online data. \n",
    "\n",
    "2. All of the values for posZ, the elevation of the hand-held device, are 0. This is because all of the measurements were taken on one floor of the building. We can eliminate this variable."
   ]
  },
  {
   "cell_type": "code",
   "execution_count": 8,
   "metadata": {
    "colab": {},
    "colab_type": "code",
    "id": "0UFtQ18i72w_"
   },
   "outputs": [],
   "source": [
    "# Discard scanMac and eliminate posZ\n",
    "offline = offline[ , !(names(offline) %in% c(\"scanMac\", \"posZ\"))]\n"
   ]
  },
  {
   "cell_type": "markdown",
   "metadata": {
    "colab_type": "text",
    "id": "HwksNvAL72xE"
   },
   "source": [
    "### 1.3.1 Explore Orientation"
   ]
  },
  {
   "cell_type": "code",
   "execution_count": 9,
   "metadata": {
    "colab": {},
    "colab_type": "code",
    "id": "ILMF8T6d72xF",
    "outputId": "17b4867b-73a8-48ea-9a12-657ae38283fb"
   },
   "outputs": [
    {
     "data": {
      "text/html": [
       "203"
      ],
      "text/latex": [
       "203"
      ],
      "text/markdown": [
       "203"
      ],
      "text/plain": [
       "[1] 203"
      ]
     },
     "metadata": {},
     "output_type": "display_data"
    },
    {
     "data": {
      "image/png": "iVBORw0KGgoAAAANSUhEUgAAA0gAAANICAMAAADKOT/pAAAAM1BMVEUAAABNTU1oaGh8fHyM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",
      "text/plain": [
       "Plot with title \"ecdf(offline$orientation)\""
      ]
     },
     "metadata": {},
     "output_type": "display_data"
    }
   ],
   "source": [
    "# Per documentation, should have 8 values for orientation (0, 45, 90,..., 315)\n",
    "length(unique(offline$orientation))\n",
    "\n",
    "# At 203, this is not the case. Examine the distribution of orientation\n",
    "plot(ecdf(offline$orientation))\n"
   ]
  },
  {
   "cell_type": "markdown",
   "metadata": {
    "colab_type": "text",
    "id": "Ts-4e5EB72xJ"
   },
   "source": [
    "Figure 1.2: Empirical CDF of Orientation for the Hand-Held Device. Shows 8 basic orientations that are 45 degrees apart."
   ]
  },
  {
   "cell_type": "markdown",
   "metadata": {
    "colab_type": "text",
    "id": "vraVobgC72xK"
   },
   "source": [
    "Although the experiment was designed to measure signal strength at 8 orientations - 45 degree intervals from 0 to 315 - these orientations are not exact. However, it may be useful to work with values corresponding to the 8 equi-spaced angles, i.e. map 47.5 to 45, and 358.2 to 0, and so on. To do this, take each value and find out which of the 8 orientations is closest and that orientation. Pay special attention to values such as 358.2, as they should map to 0, not to the closer 315."
   ]
  },
  {
   "cell_type": "code",
   "execution_count": 10,
   "metadata": {
    "colab": {},
    "colab_type": "code",
    "id": "HvFFZogi72xL"
   },
   "outputs": [],
   "source": [
    "# Use roundOrientation() to create the rounded angles, from notes above\n",
    "\n",
    "roundOrientation = function(angles) {\n",
    "  refs = seq(0, by = 45, length  = 9)\n",
    "  q = sapply(angles, function(o) which.min(abs(o - refs)))\n",
    "  c(refs[1:8], 0)[q]\n",
    "}\n"
   ]
  },
  {
   "cell_type": "code",
   "execution_count": 11,
   "metadata": {
    "colab": {},
    "colab_type": "code",
    "id": "zKEuc3LI72xP",
    "outputId": "70ac5340-0772-4bfc-f221-020a727e83ef"
   },
   "outputs": [
    {
     "data": {
      "image/png": "iVBORw0KGgoAAAANSUhEUgAAA0gAAANICAMAAADKOT/pAAAAMFBMVEUAAABNTU1oaGh8fHyM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",
      "text/plain": [
       "Plot with title \"Main title\""
      ]
     },
     "metadata": {},
     "output_type": "display_data"
    }
   ],
   "source": [
    "# Create rounded angles and check boxplots\n",
    "offline$angle = roundOrientation(offline$orientation)\n",
    "\n",
    "with(offline, boxplot(orientation ~ angle,\n",
    "                     xlab = \"nearest 45 degree angle\",\n",
    "                     ylab = \"orientation\",\n",
    "                     main=\"Main title\"))\n"
   ]
  },
  {
   "cell_type": "markdown",
   "metadata": {
    "colab_type": "text",
    "id": "IdW9tP3r72xT"
   },
   "source": [
    "Figure 1.3: Boxplots of Orientation for the Hand-Held Device. Confirm that values have mapped correctly."
   ]
  },
  {
   "cell_type": "markdown",
   "metadata": {
    "colab_type": "text",
    "id": "lP2PBla272xU"
   },
   "source": [
    "### 1.3.2 EXPLORE MAC ADDRESSES"
   ]
  },
  {
   "cell_type": "code",
   "execution_count": 12,
   "metadata": {
    "colab": {},
    "colab_type": "code",
    "id": "P8c3OJXd72xU",
    "outputId": "50faabbb-0218-42d8-e2d8-c1e88adb64d5"
   },
   "outputs": [
    {
     "data": {
      "text/html": [
       "<ol class=list-inline>\n",
       "\t<li>12</li>\n",
       "\t<li>8</li>\n",
       "</ol>\n"
      ],
      "text/latex": [
       "\\begin{enumerate*}\n",
       "\\item 12\n",
       "\\item 8\n",
       "\\end{enumerate*}\n"
      ],
      "text/markdown": [
       "1. 12\n",
       "2. 8\n",
       "\n",
       "\n"
      ],
      "text/plain": [
       "[1] 12  8"
      ]
     },
     "metadata": {},
     "output_type": "display_data"
    }
   ],
   "source": [
    "# From the summary() information, there may be a one-to-one mapping between MAC address of the access points and channel. \n",
    "# For example, the summary statistics show 126,529 occurrences of the address 00:14:bf:3b:c7:c6 and the same number of \n",
    "# occurrences of channel 2432000000.\n",
    "\n",
    "# To check for 1:1 mapping, look at relationship between MAC address and channel. The unique addresses and channels should\n",
    "# be the same number if 1:1.\n",
    "c(length(unique(offline$mac)), length(unique(offline$channel)))\n"
   ]
  },
  {
   "cell_type": "markdown",
   "metadata": {
    "colab_type": "text",
    "id": "9zoRJXc672xZ"
   },
   "source": [
    "First and last two MAC addresses are not near the testing area or were only working/active for a short time  during the measurement process because their counts are very low. \n",
    " \n",
    "Also likely that third and fifth addresses are not among the access points displayed because they have much lower counts.\n"
   ]
  },
  {
   "cell_type": "code",
   "execution_count": 13,
   "metadata": {
    "colab": {},
    "colab_type": "code",
    "id": "vMNs1IDQ72xZ",
    "outputId": "4375a7a9-48c3-4325-bc66-8f107df33808"
   },
   "outputs": [
    {
     "data": {
      "text/plain": [
       "\n",
       "00:04:0e:5c:23:fc 00:0f:a3:39:dd:cd 00:0f:a3:39:e0:4b 00:0f:a3:39:e1:c0 \n",
       "              418            145619             43508            145862 \n",
       "00:0f:a3:39:e2:10 00:14:bf:3b:c7:c6 00:14:bf:b1:97:81 00:14:bf:b1:97:8a \n",
       "            19162            126529            120339            132962 \n",
       "00:14:bf:b1:97:8d 00:14:bf:b1:97:90 00:30:bd:f8:7f:c5 00:e0:63:82:8b:a9 \n",
       "           121325            122315               301               103 "
      ]
     },
     "metadata": {},
     "output_type": "display_data"
    }
   ],
   "source": [
    "# Results -  12 MAC addresses and 8 channels.\n",
    "# Building plan (figure 1.1) indcates 6 access points. Documentation notes there are additional access points that \n",
    "# are not part of the testing area, so not seen on the floor plan.\n",
    "# Check counts of observations for the various MAC addresses\n",
    "table(offline$mac)\n"
   ]
  },
  {
   "cell_type": "code",
   "execution_count": 14,
   "metadata": {
    "colab": {},
    "colab_type": "code",
    "id": "GkDK5rMP72xd"
   },
   "outputs": [],
   "source": [
    "# First and last two MAC addresses are not near the testing area or were only working/active for a short time \n",
    "# during the measurement process because their counts are very low. \n",
    "# Also likely that third and fifth addresses are not among the access points displayed because they have much lower counts.\n",
    "# Possible 146,080 recordings total (recall that there are potentially signals recorded at 166 grid points, 8 orientations,\n",
    "# and 110 replications).\n",
    "\n",
    "# Per documentation, access points consist of 5 Linksys/Cisco and one Lancom L-54g routers. \n",
    "# Look up MAC addresses to find the vendor addresses: 00:14:bf -- Linksys, 00:0f:a3 -- Alpha Networks, and \n",
    "# 00:a0:57 -- Lancom devices.\n",
    "# 5 devices with an address that begins are Linksys; none from Lancom (conflict with documentation)\n",
    "# For now, keep the records from top 7 devices.\n",
    "subMacs = names(sort(table(offline$mac), decreasing = TRUE))[1:7]\n",
    "offline = offline[ offline$mac %in% subMacs, ]\n"
   ]
  },
  {
   "cell_type": "code",
   "execution_count": 15,
   "metadata": {
    "colab": {},
    "colab_type": "code",
    "id": "57AAZd-872xh",
    "outputId": "85d55185-e59d-48ba-8dc9-c69488af03a6"
   },
   "outputs": [
    {
     "data": {
      "text/html": [
       "<dl class=dl-horizontal>\n",
       "\t<dt>00:0f:a3:39:dd:cd</dt>\n",
       "\t\t<dd>1</dd>\n",
       "\t<dt>00:0f:a3:39:e1:c0</dt>\n",
       "\t\t<dd>1</dd>\n",
       "\t<dt>00:14:bf:3b:c7:c6</dt>\n",
       "\t\t<dd>1</dd>\n",
       "\t<dt>00:14:bf:b1:97:81</dt>\n",
       "\t\t<dd>1</dd>\n",
       "\t<dt>00:14:bf:b1:97:8a</dt>\n",
       "\t\t<dd>1</dd>\n",
       "\t<dt>00:14:bf:b1:97:8d</dt>\n",
       "\t\t<dd>1</dd>\n",
       "\t<dt>00:14:bf:b1:97:90</dt>\n",
       "\t\t<dd>1</dd>\n",
       "</dl>\n"
      ],
      "text/latex": [
       "\\begin{description*}\n",
       "\\item[00:0f:a3:39:dd:cd] 1\n",
       "\\item[00:0f:a3:39:e1:c0] 1\n",
       "\\item[00:14:bf:3b:c7:c6] 1\n",
       "\\item[00:14:bf:b1:97:81] 1\n",
       "\\item[00:14:bf:b1:97:8a] 1\n",
       "\\item[00:14:bf:b1:97:8d] 1\n",
       "\\item[00:14:bf:b1:97:90] 1\n",
       "\\end{description*}\n"
      ],
      "text/markdown": [
       "00:0f:a3:39:dd:cd\n",
       ":   100:0f:a3:39:e1:c0\n",
       ":   100:14:bf:3b:c7:c6\n",
       ":   100:14:bf:b1:97:81\n",
       ":   100:14:bf:b1:97:8a\n",
       ":   100:14:bf:b1:97:8d\n",
       ":   100:14:bf:b1:97:90\n",
       ":   1\n",
       "\n"
      ],
      "text/plain": [
       "00:0f:a3:39:dd:cd 00:0f:a3:39:e1:c0 00:14:bf:3b:c7:c6 00:14:bf:b1:97:81 \n",
       "                1                 1                 1                 1 \n",
       "00:14:bf:b1:97:8a 00:14:bf:b1:97:8d 00:14:bf:b1:97:90 \n",
       "                1                 1                 1 "
      ]
     },
     "metadata": {},
     "output_type": "display_data"
    }
   ],
   "source": [
    "# Create table of counts for the remaining MAC × channel combination, confirm there is one non-zero entry in each row.\n",
    "macChannel = with(offline, table(mac, channel))\n",
    "apply(macChannel, 1, function(x) sum(x > 0))\n",
    "\n",
    "# There is 1:1 correspondence between MAC address and channel for 7 devices. Eliminate channel from offline.\n",
    "\n",
    "offline = offline[ , \"channel\" != names(offline)]\n"
   ]
  },
  {
   "cell_type": "markdown",
   "metadata": {
    "colab_type": "text",
    "id": "6hYyDHzU72xm"
   },
   "source": [
    "### 1.3.3 EXPLORE HAND-HELD DEVICE"
   ]
  },
  {
   "cell_type": "code",
   "execution_count": 16,
   "metadata": {
    "colab": {},
    "colab_type": "code",
    "id": "vPsYxnmZ72xn",
    "outputId": "96a87f8d-1b84-4423-d517-729da7822fc0"
   },
   "outputs": [
    {
     "data": {
      "text/html": [
       "476"
      ],
      "text/latex": [
       "476"
      ],
      "text/markdown": [
       "476"
      ],
      "text/plain": [
       "[1] 476"
      ]
     },
     "metadata": {},
     "output_type": "display_data"
    }
   ],
   "source": [
    "# Tally number of rows in data frame for each unique (x, y) combination.\n",
    "\n",
    "locDF <- with(offline, by(offline, list(posX, posY), function(x) x))\n",
    "\n",
    "# Check\n",
    "length(locDF)\n"
   ]
  },
  {
   "cell_type": "code",
   "execution_count": 17,
   "metadata": {
    "colab": {},
    "colab_type": "code",
    "id": "6rkcXMtA72xr",
    "outputId": "593754d6-c007-42a2-959e-8d0d1ed5ba89"
   },
   "outputs": [
    {
     "data": {
      "text/html": [
       "310"
      ],
      "text/latex": [
       "310"
      ],
      "text/markdown": [
       "310"
      ],
      "text/plain": [
       "[1] 310"
      ]
     },
     "metadata": {},
     "output_type": "display_data"
    }
   ],
   "source": [
    "# 476 is longer than number of combinations of actual (x, y) locations at which measurements were recorded.\n",
    "# Many of these elements are empty.\n",
    "\n",
    "sum(sapply(locDF, is.null))"
   ]
  },
  {
   "cell_type": "code",
   "execution_count": 18,
   "metadata": {
    "colab": {},
    "colab_type": "code",
    "id": "mIss7vzp72xw",
    "outputId": "fc28f266-346c-4f37-f584-33570cbfb54c"
   },
   "outputs": [
    {
     "data": {
      "text/html": [
       "166"
      ],
      "text/latex": [
       "166"
      ],
      "text/markdown": [
       "166"
      ],
      "text/plain": [
       "[1] 166"
      ]
     },
     "metadata": {},
     "output_type": "display_data"
    }
   ],
   "source": [
    "# Null values correspond to combinations of the xs and ys that were not observed. Drop unneeded elements.\n",
    "locDF <- locDF[!sapply(locDF, is.null)]\n",
    "\n",
    "# Check/Confirm only 166 locations\n",
    "length(locDF)\n"
   ]
  },
  {
   "cell_type": "code",
   "execution_count": 19,
   "metadata": {
    "colab": {},
    "colab_type": "code",
    "id": "DH1PBtWu72x2",
    "outputId": "7788133b-5a94-480c-f968-3f1636600b2f"
   },
   "outputs": [
    {
     "data": {
      "text/html": [
       "'matrix'"
      ],
      "text/latex": [
       "'matrix'"
      ],
      "text/markdown": [
       "'matrix'"
      ],
      "text/plain": [
       "[1] \"matrix\""
      ]
     },
     "metadata": {},
     "output_type": "display_data"
    }
   ],
   "source": [
    "# Determine the number of observations recorded at each location.\n",
    "locCounts <- sapply(locDF, nrow)\n",
    "\n",
    "# Keep position information with lcoation. \n",
    "locCounts <- sapply(locDF, function(df) c(df[1, c(\"posX\", \"posY\")], count = nrow(df)))\n",
    "\n",
    "# Confirm matrix matrix strucutre\n",
    "class(locCounts)"
   ]
  },
  {
   "cell_type": "code",
   "execution_count": 20,
   "metadata": {
    "colab": {},
    "colab_type": "code",
    "id": "coOtHLqn72x6",
    "outputId": "8b66bc2c-10b9-454c-cfd4-eeffdeda7acd"
   },
   "outputs": [
    {
     "data": {
      "text/html": [
       "<ol class=list-inline>\n",
       "\t<li>3</li>\n",
       "\t<li>166</li>\n",
       "</ol>\n"
      ],
      "text/latex": [
       "\\begin{enumerate*}\n",
       "\\item 3\n",
       "\\item 166\n",
       "\\end{enumerate*}\n"
      ],
      "text/markdown": [
       "1. 3\n",
       "2. 166\n",
       "\n",
       "\n"
      ],
      "text/plain": [
       "[1]   3 166"
      ]
     },
     "metadata": {},
     "output_type": "display_data"
    }
   ],
   "source": [
    "# Confirm 3 rows\n",
    "dim(locCounts)"
   ]
  },
  {
   "cell_type": "code",
   "execution_count": 21,
   "metadata": {
    "colab": {},
    "colab_type": "code",
    "id": "PwXPWAhZ72x9",
    "outputId": "502e939a-9a09-4cc2-9d90-217da7e09eb3"
   },
   "outputs": [
    {
     "data": {
      "text/html": [
       "<table>\n",
       "<tbody>\n",
       "\t<tr><th scope=row>posX</th><td>0</td><td>1</td><td>2</td><td>0</td><td>1</td><td>2</td><td>0</td><td>1</td></tr>\n",
       "\t<tr><th scope=row>posY</th><td>0</td><td>0</td><td>0</td><td>1</td><td>1</td><td>1</td><td>2</td><td>2</td></tr>\n",
       "\t<tr><th scope=row>count</th><td>5505</td><td>5505</td><td>5506</td><td>5524</td><td>5543</td><td>5558</td><td>5503</td><td>5564</td></tr>\n",
       "</tbody>\n",
       "</table>\n"
      ],
      "text/latex": [
       "\\begin{tabular}{r|llllllll}\n",
       "\tposX & 0 & 1 & 2 & 0 & 1 & 2 & 0 & 1\\\\\n",
       "\tposY & 0 & 0 & 0 & 1 & 1 & 1 & 2 & 2\\\\\n",
       "\tcount & 5505 & 5505 & 5506 & 5524 & 5543 & 5558 & 5503 & 5564\\\\\n",
       "\\end{tabular}\n"
      ],
      "text/markdown": [
       "\n",
       "| posX | 0 | 1 | 2 | 0 | 1 | 2 | 0 | 1 |\n",
       "| posY | 0 | 0 | 0 | 1 | 1 | 1 | 2 | 2 |\n",
       "| count | 5505 | 5505 | 5506 | 5524 | 5543 | 5558 | 5503 | 5564 |\n",
       "\n"
      ],
      "text/plain": [
       "      [,1] [,2] [,3] [,4] [,5] [,6] [,7] [,8]\n",
       "posX  0    1    2    0    1    2    0    1   \n",
       "posY  0    0    0    1    1    1    2    2   \n",
       "count 5505 5505 5506 5524 5543 5558 5503 5564"
      ]
     },
     "metadata": {},
     "output_type": "display_data"
    }
   ],
   "source": [
    "# Examine a few counts\n",
    "locCounts[, 1:8]"
   ]
  },
  {
   "cell_type": "code",
   "execution_count": 22,
   "metadata": {
    "colab": {},
    "colab_type": "code",
    "id": "3qZnFYtE72yC",
    "outputId": "2ea24d5b-db2e-4d84-fc7c-4fec3c22430b"
   },
   "outputs": [
    {
     "data": {
      "image/png": "iVBORw0KGgoAAAANSUhEUgAAA0gAAANICAMAAADKOT/pAAAAMFBMVEUAAABNTU1oaGh8fHyM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\nHEBIAA4gJAAHEBKAAwgJwAGEBODA/wEvGSrdL++eiAAAAABJRU5ErkJggg==",
      "text/plain": [
       "Plot with title \"Main title\""
      ]
     },
     "metadata": {},
     "output_type": "display_data"
    }
   ],
   "source": [
    "# There are roughly 5,500 recordings at each position, which aligns with 8 orientations × 110 replications × 7 access points,\n",
    "# which is 6,160 signal strength measurements. Visualize all 166 counts by adding the counts as text at respective locations.\n",
    "# Transpose matrix so locations are columns of matrix and change size/angle of characters to plot.\n",
    "locCounts = t(locCounts)\n",
    "plot(locCounts, type = \"n\", xlab = \"\", ylab = \"\", main=\"Main title\")\n",
    "text(locCounts, labels = locCounts[, 3], cex = 0.8, srt = 45)\n"
   ]
  },
  {
   "cell_type": "markdown",
   "metadata": {
    "colab_type": "text",
    "id": "KmU8J9lG72yG"
   },
   "source": [
    "Figure 1.5: Counts of Signals at Each Position. Ideally 110 signals measured at 8 angles for 6 access pooints, for a total of 5,280. Data includes 7th MAC address and not all signals detected, resulting in approximately 5,500 reading at each location."
   ]
  },
  {
   "cell_type": "markdown",
   "metadata": {
    "colab_type": "text",
    "id": "6ZxtLYPV72yH"
   },
   "source": [
    "### 1.3.4 CREATE A FUNCTION TO PREPARE DATA -- NEED HELP HERE"
   ]
  },
  {
   "cell_type": "markdown",
   "metadata": {
    "colab_type": "text",
    "id": "O2JrRSd372yI"
   },
   "source": [
    "MAY NOT NEED THIS SECTION"
   ]
  },
  {
   "cell_type": "markdown",
   "metadata": {
    "colab_type": "text",
    "id": "7i5mv2de72yI"
   },
   "source": [
    "'We have examined all the variables except time and signal. This process has helped us\n",
    "clean our data and reduce it to those records that are relevant to our analysis. We leave the\n",
    "examination of the signals to the next section where we study its distributional properties.\n",
    "As for time, while this variable is not directly related to our model, it indicates the order\n",
    "in which the observations were taken. In an experiment, this can be helpful in uncovering\n",
    "potential sources of bias. For example, the person carrying the hand-held device may have\n",
    "changed how the device was carried as the experiment progressed and this change may lead\n",
    "to a change in the strength of the signal. Plots and analyses of the relationship between time\n",
    "and other variables can help us uncover such potential problems. We leave this investigation\n",
    "as an exercise.\n",
    "Since we also want to read the online data in R, we turn all of these commands into\n",
    "a function called readData(). Additionally, if we later change our mind as to how we want\n",
    "to handle some of these special cases, e.g., to keep channel or posZ, then we can make a\n",
    "simple update to our function and rerun it. We might even add a parameter to the function\n",
    "definition to allow us to process the data in different ways. We leave it as an exercise to\n",
    "create readData()."
   ]
  },
  {
   "cell_type": "markdown",
   "metadata": {
    "colab_type": "text",
    "id": "FesScsBi72yJ"
   },
   "source": [
    "#### We call readData() to create the offline data frame with'\n",
    "\n",
    "readData = \n",
    "  function(filename = 'offline.final.trace.txt', \n",
    "           subMacs = c(\"00:0f:a3:39:e1:c0\", \"00:0f:a3:39:dd:cd\", \"00:14:bf:b1:97:8a\",\n",
    "                       \"00:14:bf:3b:c7:c6\", \"00:14:bf:b1:97:90\", \"00:14:bf:b1:97:8d\",\n",
    "                       \"00:14:bf:b1:97:81\"))\n",
    "  {\n",
    "    txt = readLines(filename)\n",
    "    lines = txt[ substr(txt, 1, 1) != \"#\" ]\n",
    "    tmp = lapply(lines, processLine)\n",
    "    offline = as.data.frame(do.call(\"rbind\", tmp), \n",
    "                            stringsAsFactors= FALSE) \n",
    "    \n",
    "    names(offline) = c(\"time\", \"scanMac\", \n",
    "                       \"posX\", \"posY\", \"posZ\", \"orientation\", \n",
    "                       \"mac\", \"signal\", \"channel\", \"type\")\n",
    "    \n",
    "    # keep only signals from access points\n",
    "    offline = offline[ offline$type == \"3\", ]\n",
    "    \n",
    "    # drop scanMac, posZ, channel, and type - no info in them\n",
    "    dropVars = c(\"scanMac\", \"posZ\", \"channel\", \"type\")\n",
    "    offline = offline[ , !( names(offline) %in% dropVars ) ]\n",
    "    \n",
    "    # drop more unwanted access points\n",
    "    offline = offline[ offline$mac %in% subMacs, ]\n",
    "    \n",
    "    # convert numeric values\n",
    "    numVars = c(\"time\", \"posX\", \"posY\", \"orientation\", \"signal\")\n",
    "    offline[ numVars ] = lapply(offline[ numVars ], as.numeric)\n",
    "    \n",
    "    # convert time to POSIX\n",
    "    offline$rawTime = offline$time\n",
    "    offline$time = offline$time/1000\n",
    "    class(offline$time) = c(\"POSIXt\", \"POSIXct\")\n",
    "    \n",
    "    # round orientations to nearest 45\n",
    "    offline$angle = roundOrientation(offline$orientation)\n",
    "    \n",
    "    return(offline)\n",
    "  }\n",
    "\n",
    "offlineRedo = readData()\n",
    "\n",
    "Then we use the identical() function to check this version of the data frame against the one that we already created:\n",
    "\n",
    "library(codetools)\n",
    "\n",
    "identical(offline, offlineRedo)\n",
    "\n",
    "findGlobals(readData, merge = FALSE)$variables"
   ]
  },
  {
   "cell_type": "markdown",
   "metadata": {
    "colab_type": "text",
    "id": "0ZuhfTmm72yK"
   },
   "source": [
    "### 1.4.1 Distribution of Signal Strength"
   ]
  },
  {
   "cell_type": "code",
   "execution_count": 23,
   "metadata": {
    "colab": {},
    "colab_type": "code",
    "id": "u4tlygW-72yL"
   },
   "outputs": [],
   "source": [
    "# Load packages needed\n",
    "library(codetools)\n",
    "library(lattice)\n"
   ]
  },
  {
   "cell_type": "code",
   "execution_count": 24,
   "metadata": {
    "colab": {},
    "colab_type": "code",
    "id": "JC1GSLnb72yO",
    "outputId": "5f0c15f0-ceb0-440c-dc18-50b65d1ed1ee"
   },
   "outputs": [
    {
     "data": {
      "image/png": "iVBORw0KGgoAAAANSUhEUgAAA0gAAANICAMAAADKOT/pAAAAYFBMVEUAAAAAgP9NRT5NTU1o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\nACIBCEAkAAGIBCAAkQAEIBKAgP8HI6M5O6atQ6EAAAAASUVORK5CYII=",
      "text/plain": [
       "plot without title"
      ]
     },
     "metadata": {},
     "output_type": "display_data"
    }
   ],
   "source": [
    "# Compare distribution of signal strength at different orientations and for different access points.\n",
    "# Subdivide data. COnsider impact of orientation on signal strength by fixing a location on the map to see how the signal changes as the experimenter forates through 8 angles. \n",
    "# Examine MAC addresses because at an orientation of 90 degress the experimentater mgith be facing toward on access point and away from another. \n",
    "\n",
    "bwplot(signal ~ factor(angle) | mac, data = offline, subset = posX == 2 & posY == \n",
    "    12 & mac != \"00:0f:a3:39:dd:cd\", layout = c(2, 3))"
   ]
  },
  {
   "cell_type": "markdown",
   "metadata": {
    "colab_type": "text",
    "id": "y2GdoBnG72yS"
   },
   "source": [
    "See that Signal Strength varies with orientation for both close and distant access points. \n",
    "Dropped MAC address 00:0f: - a3:39:dd:cd"
   ]
  },
  {
   "cell_type": "code",
   "execution_count": 25,
   "metadata": {
    "colab": {},
    "colab_type": "code",
    "id": "bTDWlc-T72yT",
    "outputId": "76577605-b04d-4dc7-b294-b241ce3b235e"
   },
   "outputs": [
    {
     "data": {
      "text/plain": [
       "   Min. 1st Qu.  Median    Mean 3rd Qu.    Max. \n",
       "    -98     -67     -59     -60     -53     -25 "
      ]
     },
     "metadata": {},
     "output_type": "display_data"
    }
   ],
   "source": [
    "# Signal Strength is measured as negative values. \n",
    "\n",
    "summary(offline$signal)\n",
    "\n",
    "# Small values correspond to weak signals and large values are strong. "
   ]
  },
  {
   "cell_type": "code",
   "execution_count": 26,
   "metadata": {
    "colab": {},
    "colab_type": "code",
    "id": "F96j8L4v72yW",
    "outputId": "2f1253e5-b1a0-4548-d8b0-a24f27aa2c1a"
   },
   "outputs": [
    {
     "data": {
      "text/html": [
       "<strong>null device:</strong> 1"
      ],
      "text/latex": [
       "\\textbf{null device:} 1"
      ],
      "text/markdown": [
       "**null device:** 1"
      ],
      "text/plain": [
       "null device \n",
       "          1 "
      ]
     },
     "metadata": {},
     "output_type": "display_data"
    },
    {
     "data": {
      "image/png": "iVBORw0KGgoAAAANSUhEUgAAA0gAAANICAMAAADKOT/pAAAAjVBMVEUAAAAAgP8+TT5NRT5N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\ngg==",
      "text/plain": [
       "plot without title"
      ]
     },
     "metadata": {},
     "output_type": "display_data"
    }
   ],
   "source": [
    "# Find a similar dependence of signal strength on angle. Produce 48 density curves for one location.\n",
    "\n",
    "#pdf(file = \"Geo_DensitySignalByMacAngle.pdf\", width = 8, height = 12)\n",
    "oldPar = par(mar = c(3.1, 3, 1, 1))\n",
    "\n",
    "densityplot(~signal | mac + factor(angle), data = offline, subset = posX == \n",
    "    24 & posY == 4 & mac != \"00:0f:a3:39:dd:cd\", bw = 0.5, plot.points = FALSE)\n",
    "\n",
    "par(oldPar)\n",
    "dev.off()"
   ]
  },
  {
   "cell_type": "markdown",
   "metadata": {
    "colab_type": "text",
    "id": "K7SkAKVr72ya"
   },
   "source": [
    "Many distributions look approximately normal. Although there are some serious departures with secondary modes and and skewness. The center of the distribution varies with angle and MAC address, so conditioning on angle and MAC address is warranted. "
   ]
  },
  {
   "cell_type": "code",
   "execution_count": 27,
   "metadata": {
    "colab": {},
    "colab_type": "code",
    "id": "-cdsp4Yo72yb"
   },
   "outputs": [],
   "source": [
    "# Examine summary statistics of mean and SD or media and IQR of signal strength for all location-orientation-access point combinations. \n",
    "\n",
    "offline$posXY <- paste(offline$posX, offline$posY, sep = \"-\")"
   ]
  },
  {
   "cell_type": "code",
   "execution_count": 28,
   "metadata": {
    "colab": {},
    "colab_type": "code",
    "id": "7VaJfV5Q72ye"
   },
   "outputs": [],
   "source": [
    "#write.csv(offline,\"C:/Users/jjschued/Documents/SMU/7333 QTW/offline.csv\", row.names = TRUE)"
   ]
  },
  {
   "cell_type": "code",
   "execution_count": 29,
   "metadata": {
    "colab": {},
    "colab_type": "code",
    "id": "YCauA3aC72yh"
   },
   "outputs": [],
   "source": [
    "# Create list of data frames for every combination of (x, y), angle, and access point\n",
    "\n",
    "byLocAngleAP <- with(offline, by(offline, list(posXY, angle, mac), function(x) x))"
   ]
  },
  {
   "cell_type": "code",
   "execution_count": 30,
   "metadata": {
    "colab": {},
    "colab_type": "code",
    "id": "uqhS5CAg72yn",
    "outputId": "bbc64c11-e8a1-444a-8322-be61a2b27bc8"
   },
   "outputs": [
    {
     "data": {
      "text/html": [
       "9"
      ],
      "text/latex": [
       "9"
      ],
      "text/markdown": [
       "9"
      ],
      "text/plain": [
       "[1] 9"
      ]
     },
     "metadata": {},
     "output_type": "display_data"
    }
   ],
   "source": [
    "length(offline[offline$posXY == '0-1',])"
   ]
  },
  {
   "cell_type": "code",
   "execution_count": 31,
   "metadata": {
    "colab": {},
    "colab_type": "code",
    "id": "vV8cNL8k72yq"
   },
   "outputs": [],
   "source": [
    "# Calculate summary stats for each data frame\n",
    "\n",
    "signalSummary = lapply(byLocAngleAP, function(oneLoc) {\n",
    "    ans = oneLoc[1, ]\n",
    "    ans$medSignal = median(oneLoc$signal)\n",
    "    ans$avgSignal = mean(oneLoc$signal)\n",
    "    ans$num = length(oneLoc$signal)\n",
    "    ans$sdSignal = sd(oneLoc$signal)\n",
    "    ans$iqrSignal = IQR(oneLoc$signal)\n",
    "    ans\n",
    "})\n",
    "\n",
    "offlineSummary = do.call(\"rbind\", signalSummary)"
   ]
  },
  {
   "cell_type": "code",
   "execution_count": 32,
   "metadata": {
    "colab": {},
    "colab_type": "code",
    "id": "E58vH-nd72yv",
    "outputId": "01e750c1-4b0b-4553-ac31-f7c2d540670a"
   },
   "outputs": [
    {
     "data": {
      "text/html": [
       "<strong>null device:</strong> 1"
      ],
      "text/latex": [
       "\\textbf{null device:} 1"
      ],
      "text/markdown": [
       "**null device:** 1"
      ],
      "text/plain": [
       "null device \n",
       "          1 "
      ]
     },
     "metadata": {},
     "output_type": "display_data"
    },
    {
     "data": {
      "image/png": "iVBORw0KGgoAAAANSUhEUgAAA0gAAANICAMAAADKOT/pAAAAM1BMVEUAAAAAgP9NTU1oaGh8\nfHyMjIyampqnp6eysrK9vb3Hx8fQ0NDZ2dnh4eHp6enw8PD///8GaMMZAAAACXBIWXMAABJ0\nAAASdAHeZh94AAAgAElEQVR4nO2djVqjOhBAY626rl7t+z/t7Y9thUAXMpPMTDjn209d08lA\nmyNJCJAOACAmWW8AQA8gEoACiASgACIBKIBIAAogEoACiASgACIBKIBIAAogEoACiASgACIB\nKIBIAAogEoACiASgACIBKIBIAAogEoACiASgACIBKIBIAAogEoACiASgACIBKIBIAAogEoAC\niASgACIBKIBIAAogEoACiASgACIBKIBIAAogEoACiASgACIBKIBIAAogEoACiASgACIBKIBI\nAAogEoACiASgACIBKIBIAAogEoACiASggJ5ICaAfDEVSqwnAGkQCUACRABRAJAAFEAlAAUQC\nUACRABRAJAAFEAlAAUQCUACRABRAJAAFEAlAAUQCUACRABRAJAAFEAlAAUQCUACRABRAJAAF\nEAlAAUQCUACRABRAJAAFEAlAAUQCUACRABRAJAAFEAlAAUQCUACRABRAJAAFEAlAAUQCUACR\nABRAJAAFEAlAAUQCUACRABRAJCji6cl6C3yBSFDASSNU+g0iQQFPty9wAZFgPU+Db3BAJCgB\nkTIQCQqgazcGkaAAJhvGIBIUgUZDEAlAAUQCUACRABRAJAAFEAlAAUQCUACRABRAJAAFEAlA\nAUQCUACRABRAJAAFEAlAAUQCUACRoDVdXoGBSNCWTq8JRCRoS6dXqSMSNKXX+6YgEjQFkUoD\nGtQEgaBrVxjQoCYIBJMNhQENaoJQdKgRIgGogEgACiASgAKIBKAAIgEogEgACiASgAKIBKAA\nIgEogEgACiASgAKIBKAAIgEogEgACiASgAKIBKAAIgEogEgACiASgAKIBKAAIgEogEgACiAS\ngAKIBKAAIgEogEgACiASgAKIBKAAIgEogEgACiASgAKIBKAAIgEogEgACiASgAKIBKBAfZFS\nmglBJOiH6iKl2RhEgn6oLVKaD0Ik6AdEAlCgedcu3VmbGsAtq9s1kw0AOUw2ACjAGAlAAUQC\nUACRABRgjASgAEuEoIinJ+st8AWLVqGAk0ao9BtEggKebl/gAiLBep4G3+CASFCCmUh+u5OI\nBAXYdO08j8wQCQqwadKeR2aIBEUYHBlcj8wQCaKASLVrgm1A165yTbANmGyoXBNsBa8aIRKA\nCogEoAAiASiASAAKIBKAAoi0ZfxOgoUDkbaL59My4UCk7eJ5oUA4EGmzuF66Fg5E2iyIpAki\nbRe6doog0nZhskERRNoyaKQGIgEogEhQBAezIYgEBTC8GoNIUAATfmMQCdbDKagMRIL1/HTs\nEOkOIkEBjJHGIBIUgEhjEAnWQ9cuA5G2TOlBhcmGDETaLoL+GdPfYxBpuwhsYIw0BpE2i6x/\nhkZDEGmzMNDRBJG2CwMdRRBpuzDQUQSRtgwaqYFIAAogEoACiASgACIBKIBIAAogEhTBhN8Q\nRIICns5Yb4UnEMkJsZol53LHIJILgjXMy6YG2uD6IJILgi17Y71rBiJ5IFrD5IiUgUgeiCaS\nWVfUr7uI5IJgXTujWTvPI0lEcoHnJjKNyfHo9sUfiOSEeBoVb3GX9y5CJCcEE+n2ZX1osYOI\nVLum+ATr2kluEPl0Cu3vJmCI5ALPTWSCp4v4JRv89FQ+UeH5zw0iecB1p2WKcvEFDh78aoRI\nPogmkuiI9POvMxDJBdG6duVjJNkRyS+I5ALPvf8pJF07jkhlAQ1q6oFYTUswh80RqTCgQU09\nEK1plU8X9HlRICK5IFrXToDgPJJnEMkFwSYbDsIFQh0uHEckD0Sb/pY9o8ziiFRdX0TyQDyR\nbl+KItvvavVDPiK5IFjXTnIeSbBMr5z6+iKSC4JNNkjmsE12FZE2QyCNDrIl3CZ/M+jagUMk\na+1MunZMNoBHBOt8zOZVmP4Gd0gWzAWbV1kKIsF6wk021AeRoADRWdUONUIkN4RqXb0u4RaA\nSC4I1t8xmnrzDCK5INoIPNr21geRPBBvrV2sI2gDEMkD4URCozGI5IJoXaU+r3KVgEguiNZV\nira99UEkJ4RqljxoLAORYD1Mf2cgEqyHE7IZiAQFMEYag0iwHtnN6bo0EJFgPZIxUqcHM0SC\nAkS34zr0OE2BSFBAp8+vFIBIW0bwWGTB7bh+fesHRNouNocVunaFAQ1q6gGD8begSUtC+1ym\nh0gusJjKEh1WBJMNiFQW0KCm+Fj0d2SjlfKnUfBYl7KABjWFx2YEbjJa6XV1ESJ5wEgkk7tw\nd7pwHJFcYDSVZTHDgUiFAQ1qio/ZwcEgKV27soAGNfVArOlvUVYmG4oCGtQEJRitMWDRamFA\ng5qgBKPp7y41QqQtY/W0MEQqCmhQExQhWGMQ7ol91UGk7VIukuixLrcvXYFIm0VwRkcSOvjW\nD4i0WQRNWiZSl3fyQqTNIjoiSbqFjJGKAhrUBEVIJhtMQj2DSNvFxAbZnbz8gkjbpXwOW2AD\ni1ZLAxrUBCWIJhuKp79lIvkVEJHiI7nBXPtZO8kpKMfzFIgUHeG9gAxOyJYvirh98QciRUei\nQ7GCTz//2mYdfHMGIgVH1LpE606bL1pFpNo1bRkrkQRT2IIbEB28eoRI4bHo2h1sDmZMNlSu\nadNIxhyCi75tDiteNUKkHhCtTpCsTyiKHHzrB0TaLDZndBCpNKBBTVCCYA5bsjyBrl1hQIOa\noATJOh/BRUVMNhQGNKgJShAdkUwexsz0d+WaoATZGMngUgjXwytE2iyiayEsTEKk2jVBEaLL\nxYvX2gmga1e5JijCZtGqACYbKtcEJQim3sweKeH3RsmItFkkQ45w912ofjBDpPiILksQeBTJ\npOrDK0SKjmSks5lbAdWf8EOk6EiPK2WR968hQCT4B4ImIlLQZrKhGLp28JhykSQK2kx/C+hg\nsiGlmRBEUqH4b61s1s6mZ7fh6e80G4NIKljcjsto+nvLJ2TTfBAiKSFZhd3+ng0CtrxE6MHL\nEckcr3/ep9n0otXEGMktwc4FbVyk8Rgp3VmbGnQJ2LUT3PaoMqvbNWOkXrC577AEJhsQySFG\nd8IX4PqIVDkAkdwiWOcjW9nAvb8LAhDJLUaP3ev03pKckN0sZiIVH5NWnke67t3cd1VYIrRd\nRM+QLe3aGTlYHRatbhabyQZZ/8yrRojUA+X3LTWY/g53KdNCECk6xW1adgPv4olos/UUwVd/\nt6hp05RfRiG6QWR5rxCRygIa1LRlfo5H5SYVJZX0Cq3OqiISPEA4gVZ8VClOWi6+EESCR0iu\nkDW4QeTaDuXo5M/T6P9rMq/c0nUgUnDK27RgItpuvavb2T5ECo7kuGJzQlY024BINWvaNCId\nSlu0NCkiIZI3LO60GvKE7JqU65fpIZITBH+jCw8OsiZdHie5AkMCkw0bQHhPraJWIln1Jj0M\nIhIiVaF4DlsiUrslQsOe0V2lpnPYiNQ/ooODwWSDbImQ0fR33VBE8oCslyXQwWCJkGymwWbW\nDpGiUN61E126bXAe6ZK4GESqWVN8RNPJhQcH0coGRBqBSE4QTCcXHpJEa+0kXTu/NghCESk4\n0VZ/n8ML42QwawcPMBFJeFERIpUENKjJDQbnGU26dsI5bAFuh1eIpIdJ62oo0uA06vXE6q/f\nt4DzSDVrcoJgDluSVbR+NNqVQW6zIpIakrOqgqzla9c6XWNQAURqSTSRJGOkAyKNQCQ9TLp2\nghOynV7QUCErIjXFarKhePr79qUx4URaACJpEmv6u9Mrg2yyIlJwRF07iUjhbECkTWBw6bas\na7clkRgjRcFitc7Wjkh1syKSC0RPdyh00E4kt/0zQVZE0sTm1jrFcbcvxdGRQgUgUlNEl24f\nyoUohPNImqGIpEewuyYKVzbIMhvArF0QBDbYHBw4IasIIqkhWWtn8vStja3+RqQgiG64KGnT\nAhnctssKWRkjRcHm0m3JHPamRKqbFZH0kNxh7ve3ZllFS+3cHhsqgEiNEZ3RKWslopufIJJa\nVkRyQfkEWvnIjNXfmqGI5AKLU1CckNUEkTQRtEqDO61anAW+ZG6fsnpWRNLD5mZvgnufiI5I\n4WxApCjYrBSQiLSpyygYIwVBMoctyFp+P3uzWTsBbrOKREpDBDX1gEwkwcx56dJTpr8VsyKS\nHhZX58lGOkYrGxCpJKBBTU4QLRE6lDaSlVmHN+wOdwNvm6yI1BTBoyQH39aFiqYMwjVpt1n1\nRPp8qZ3aORIbBKGI5CKrXKQ3xkgXRCtPiyNllzL1OFqpELoAsUh3jz5qp/ZOu4HOIFJyWtVt\nu6yQ1fkYaZf+Hvbp62ufPoU1hcfk6jzBeSQZ4USqm1Us0qlH9+d4NPov7YU1dYBIo+JFq+FE\n6vE4qCLSR3q//CCqacuU9wrN1nAj0gCxSC/Hrt1Xej58IlI5snkKm8kGAeGythDp4yTQ/jTZ\n8CqsacPI1vnYTDYI6DGrfPr7z+k3rym9VU/dMaLbPQhu89hjk7bJysoGFwhOqgom3fscrVQI\nXQAieUCyPCHgIyUEuJ3iQCQPyO4tyR1MHGRVGCM9s0RIikik25e2uD02VKCFSH+4HkmOoGsn\nmTkXgUgDFJYIva+tojR1xzBr5zprq5UNZSDSHcmsnWiFX2GcjB6zKqxs+G6Vul8kC+YQyUVW\nsUhfu/3aZd+lqftFNkay6dqFs8G5SNz8RAHJnfAH3wqjG4cKcDvFgUiatL/vcMjp7x6zckJW\nD+nqBIMxkgC3x4YKIFJTRNeLS+5gYtK6EGmAZtduv24BeG8iNXyq+ehmdE+j/69IvHZLVQiX\ntbFIKe0kNUVHMOw3u599uCbtNqu8a/e6O90+6GOXPg8vqy5K6k4kyRFJdOMFRLLPqnA7rv/O\n3083P/lOzzVTe0c02VA6/X0OL4zrc7RSIXQBekuETj+smgJHJJXQAyJ5CFVYtHo9Iu0QyUgk\nE8KJVDerQtfuOkZ6O/xddW+73kSKeHWeALfHhgo0OY+0v05+nw5Iay6p6E4kwao3q+UJAhBp\ngMIJ2Y+Xo0Yvp8NS+iOrKTZmC+aYtaudlZUNTRGsbBh8Kw1vGimhx6yIpIbdylNEss8qfIYs\nq7/viMZIopWnTH9XDl0AIulh8liXc6xB5KZEYozUFKsbL9gQTqS6WRFJDdkYSfBICRvcHhsq\nUF2k77fzfz+f0279Tbn6E+n+dXVovDOyiDRAJtLuPDD6uJ6QFdTUAQ2vRxqHF8Y5bpe+stYW\n6T3tT/fi2u3+O3zv019BTT0gOSErWF10QCQPWUUi7dPX8evneUHDJ8+QLR/ocEQKn1U8/X1a\ntvp5/0/N1N4xe6Iy09+VQxegINJz+vWfmqn9IziLxPVItbM6HiM9n7p2X5eHx36vu2FDSeqO\niTdpF0+kullFIr2dJhte02nh9+GdhzEL4DxS/VABtUX63t3mvd/Tz5WyZTVtHOHqbxMQaYDw\nhOz1aeaJp5pL4DIK31nbLRFKL+sfSYFId7iMInpW1tq5IOCsnYAesyKSCwKKFM4GRNoAXNhX\nP2uIMVIJHYoke55ErBNJ4USqmxWR9BDd/ETw/Eob3B4bKoBITSmfehMuWjUBkQYgkhqSk0EB\nx0gCwmVFpJYIROL5SOGzSkX6eH0+P6tv/fnY7kSSdO1kYyREss8qE+lrf7sX1/6remrvCPpn\nAVc2hLPBsUjfu/T8cbrY/Ovv8+qrKPoTSXQ9Urgx0pZEanAZxe3n/bo76Jek7ppYU3aHgCLV\nzSq/sO+HL+7ZsJLxo8iLH01ug9tjQwVqi5Rm/7O2JggHIg1AJC+YtC637dJXVkQKBCKFzopI\nGUYDFEQKnVUo0oDaqZtg9lyIaCKFswGRmiI6NWrzkCNEchDKWrshditPoxFOpLpZEWmISKR4\nN6cT4PbYUAFEWs+2LioSgEgDeNDYiIB3wmfWrnbW6iJ1+aCx8hsviI5IiBQ6Kw8ayxCIZHN1\nHiI5yMqDxkZIunabEimcDY5F6vFBY2aTDYhUOavjMVKHDxoTTH8LJxuiEU6kull50NgQkUhM\nf3sOFVBbpB4fNCZYIsQJWdehAmqL1OODxiR3MBEtEYo2RhIQLmv9E7I9PmhM0Dnb0qJVAT1m\n5UFjXkCk0FlZa+eFaCKFswGRtgEiVc7qeYwkApFCE06kulkRCcpwe2yogBeRZiYoCmoCNyDS\ngBYizSweQqQB0cZIAsJl9SFS6vmIpHffYUQKnbW+SImu3SIQKXRWRPJCNJHC2RBcpDSKKb8P\nXucgUuWslcdIa9v1yuaf5mN6FGkza78DilQ3a+UjUnoQg0ihcXtsqIADkR4c7byKZLSEOxqI\nNIATsiMCXlTErF3trIi0HsEVspJARAqeFZGGCO7ZoJO5bWiPTdomK4tWhyBSg1ABbjcYkUaY\n3cEEkSpn7WCMVLsmTcwmG6IRTqS6WRFphOyIhEh+QwUg0mqEYyRE8hsqAJFWYydStDGSgHBZ\nEWk9Zl07RAqdFZFGmD1RGZFCZ0WkEUx/1w8V4HaDEWkIJ2QbhApw23dGpCHM2i0lnEh1syLS\nCLNFq9Fwe2yoACKth5UNC0GkAYiUEe7ZLMza1c6KSCUgUm16zIpIIziPVJ8esyLSCNlkgzRx\n69AeRysVQheASEM4j9QgVIDbvjMiDfnp2HEe6Z+EE6luVkQawfT3QtweGyqASOtBpIUg0gBE\nGmLXtYs2RhIQLisircZurR0ihc6KSCOY/q5Pj1kRaQQnZOuHCnC7wYiUYaIRIlXPyhgpEMza\nbTUrIqmCSH5DBSBSaxDJb6gARGpNtNbltl36yopIrUGkrWZFJC8gUuisiOSFaCKFswGRGsN5\npNqhAtz2nRFpBKu/FxJOpLpZEWmEbK0dIvkNFYBIq7Fb/R0NRBqASEO4jKIB4bIi0nrMunaI\nFDorIo14OmOR2CK0xyZtkxWRRiBS/VABbjcYkUZwYV/9UAFrsj49RjcrIg25vL/FJjFr5yjr\n49ciUlWY/l6K/3kVRDKEI9JSEGkAIo0wWyIUbYwkoFFWRLJENmuHSI6y6om0AETKYPV3bRCp\nJKBBTV0QTST/DiLSJkEk7ayMkeLCrJ2jrIgUF0RyFIpIcelapJYrbhYmfVgTIrXm+pHMfV9R\nk2AjLEJXRQpaba3X1hJpvb6IlBPNBkRyEIpIOf6H0WqhjUSy6Z8hkjGIVPBiP03aJhSRchCp\n4MV+mrRNKCLlhDtL2QhEelCKSKog0vrCPkIRSRVEWl/YRygiqcL0d0GaLkIRKSeaDYjkIBSR\ncpi1K3ixnyZtE4pIOYhU8GI/TdomFJFy/IskWD4qCa1T2EcoIuX4P4/kp/3Y1usoFJFUQaSm\n9ToKRSRVEKlpvY5CEUmVRr1CP+3Htl5HoYiU4/9kkJ/2Y1uvo1BEygkwa1deESLVCUWkHETS\nDnW4SYhUH0TSDnW4SYhUH84jaYc63CREcg0iNa3XUSgiqYJITet1FIpIqjD93bReR6GIlMN5\nJO1Qh5uESPVh1k471OEmIVJ9EEk71OEmIVJ9Ws0YWFwZhEiVQhEph4GOdqjDTUIk1yBS03od\nhSKSKojUtF5HoYikCiI1rddRKCLlMEbSDnW4SYi0jJVP2hvG6m1GcZoo7ce2XkehfYp00qhc\nJUTSDnW4SYi0hKfbl+Lo+vhpBNVDHW4SIi3gafCtNLx2qJ9GUD3U4SYh0gKEIskzy18bpf3Y\n1usotEuRhF07aWKN10ZpP7b1OgrtVCTRZIMksdZro7Qf23odhfYpkkyjVTZUevB9lPZjW6+j\n0F5FkqB2WKHpVa7XUSgi5SCSdqjDTUKk+iCSdqjDTUKk+iCSdqjDTUIkX9D0LOt1FIpIMmh6\nlvU6CkUkGTQ9y3odhSJSDmMk7VCHm4RI9UEk7VCHm4RI9UEk7VCHm4RIy2i2RKi81E8jqB7q\ncJMQaQntrpCl6VnW6yi0U5FOGgmOSWsyFZf6aQTVQx1uEiIt4OlyRGphEk3Psl5HoZ2KdP9a\nGZqeZb2OQhFpIlzttTS9uvU6Cu1UJFHXDpG0Qx1uEiItQTbZEEykdKTFJg1Kx0kdNWmb0E5F\nepIMkWKJlNKoUbdoP1lSR03aJrRPkWQzDaFESmncqBu0nzypoyY9XVj7ENqrSK2wFimlrFHX\nb7UTSb2LVP0QikgyEEmx3nqh9Q+hiCQDkRTr/Wdhaf+swQb3I9L1PnJz31fUpPZaRJooLB+t\nFPfPEMmESCLFm2woH62UZ0WkcrYyaxdt+tvEBkQqJ5hIq9qlWuiqwkzfknqNbJAcQpeVIpIs\ntNbsrPk8l2qouUhMfxcjEEkvTfkfTIc2hBaJE7KlRBJpook47J9Zi+R7PUW3IjUiskgruzs6\nUycSG6r3zwShiJTTfIxkI9LaJq00BymxoXb/TBCKSDnbEGl1J0tJJM82CEK7FSnUrJ3FZIOZ\nSH2GIpIsVOnDatbJQqRKoYgkC9X6sFoN+xGpUigi1UzjuukZTTZ0GopINdP4bnom09+9hnYr\nUiNqzUc1aQQGJ2S7DUWknNIxkub5wijtx7ZeR6GIlFMokuoKlijtx7ZeR6HditR81m71LJif\nRlA91OEmIdJCEMlRqMNNiidSNqItrmkVq2x4zLI0iNS+Xkeh1UVKszGORCovRSTLeh2F1hYp\nzQd1JhKTDe3rdRTaZoxkINIalN5xpr9b1+sotLlIaaoLZIzWOx7thGyzUIebpC7S2nZd0vwt\nxkhrcPhhOdwk9uZRaZMj0iYmG3RDHW4Se/OotIVIMyFTvxZMRI9rUnstTU8c6nCTAoo0FzEp\n0sOaECloqMNNiifSbAAiGdTL3lQKbXJCdnkJIlWul72pFFr9hOz8jGBdkdbg8MNyuEnszaNS\nZ4tWEalyvexNpVBEkmWl6VnW6yi0W5EYIzkKdbhJiLQQRHIU6nCTEGkhiOQo1OEmrQhdtIQS\nkWRZaXqW9TYJXbaoH5FkWWl6lvW2CF14mVm3Iq3B/MNqVy97szJ06YXPiCTLStOzrBeR5mpC\npGX1lq+R97g3nkM3L1KAMZLWFSN6+4pIWSEiqb221ocleG2tNIiUF259sgGRCl6LSBOFTH8r\nvRaRxKH2NkhCOSGr81r/Iq0BkeqEdivSGlyI1AhEqhPqWaR1t4kTgEhLChHpUaljkVbeuFRA\ndJEYI9mH+hVp7a2052sSvtb/GAmR7EPdirT64Q6zNUlfi0ji0Cg2CEIR6Z+vffyOm9zRUhCK\nSHVCEemfr3VogyBU0n6K/2ZEsUEQ2o9IgmOD3lyhjUhqaRz+pYoS6lYk3ed2LQ+VzRU2skEA\nItUJ9SuS6nO7Foc2nCu0AZHqhDoWSfO5XUtDpSMzG1a1aYvJkSg2CEI9i7SuNLpIJsMrF/vm\nxwZBKCIdEKk61h9rg1BEOmiK5H/6Wy2pXppqH2vL+XpEGhbaTTZEE8n/GKnaaxFpQaHZ9Lf/\nOY0hiDQAkcaFVidko4FIAxBJFip4bXBaiRRkvh6RZKEu8D9GMrFBACK1DtUj2mSDAP8jSURq\nHaoHIlUO1UuDSPqhgtd6CN2SSIyRlpUiUpSkAfRFpNahgtfqhZoQbXsRaWFpdJGiEW5XEWlZ\nKSK1xX//TBCKSNe6W13K5IINjZGYtVtWk5JI7S6u1SPaZIMARCoJWFWTjkgNb/egByJVDtVL\nsxWR1t+AqDyr4LUeQrckEmOkZaWIFCVpAH0R6Vzx1kQyIdr2bkwkjauDY4oUjXC7uj2R7t+f\nRv9/hIvJhnCtqxz//TNBaHiRBEimv9Uul7FhQ2MkZu1q1nRGcEL2UU3NiDbZIACRSgIa1HQm\nev8MkSqH6qVBJI2augrdkkiMkZaBSFGSBtAXkcpKG21ErVATom3vOpFWTz8hUsON6Ipwu1r3\njxwiNdyIrvDfP2saikiy17pgQ2Mkt/oikuy1ekSbbBCASCUBDWo6g0htkwoIJ9ICEEn22uCh\nWxKp7r4ikuy1wUOjba8ERFpG9Fk7t52WGaJtL7N2C3GxhDtc6yon3K4iUhE9dh9cEe4NRqQi\nNtTJ2tIYya2+iKQaKiDaZIOAHj8bRFINFYBIlUPr0q1IAsJ1WhCpcugCECkn3Oe8oTGSAEQK\nRLjWVU607WXWrowe/+q5ItyuIlIRiFSZcG8wIhWxoU7WlsZIbvVFJNVQAdEmGwT0+Nkgkmqo\nAESqHFqXbkUSEK7TgkiVQxeASDnhPucNjZEEIFIgwrWucqJtL7N2ZfT4V88V4XYVkYpApMqE\ne4MRqYgNdbK2NEZyqy8iqYYKiDbZIKDHzwaRVEMFIFLl0Lp0K5KAcJ0WRKocuoB+RBo/t3nF\nc5zHNQk2IlhotO2VgEiBaNS69P5olOO2kzUHs3aBCNe6yvG/q6M/L09V+yiIdHDSK4xGj/0z\nQVZE2jThxkiIVLOmLjBpIm7bZYVQAYjkGb0uvGAbGuVRy9pog9d39hFJlWhjJETSApFUcfs5\nz7ClgU5dEEmVHpvIDBva1SUgkgwPAx0b+t671SASlOF22G8DIm2aDS1pqgwibYxhG37qsU2b\ngEgACiASgAKIBGXQDxyASFAGIg1AJCgDkQYgEiyFCb8HIBKAAogEoAAiASiASAAKIBKAAogE\noAAiASiASAAKIBKAAogEoAAiASiASAAKIBKAAogEoAAiASiASAAKIBKAAogEoAAiASiASAAK\nIBKAAogEoAAiASiASAAKIBKAAogEoAAiASiASAAKIBKAAogEoAAiASiASAAKIBKAAogEoAAi\nASiASAAKNBcp3RHWBOCH1e2aIxJADl07AAUQCUABRAJQAJEAFEAkAAUsRQLoBzuRADYMIgEo\ngEgACiASgAKIBKAAIgEogEgACiASgAKIBKAAIgEooC/SvcbbQot8xcX1Nz/LMX7+m4dOLNcY\n1TobmmW9r/2YzpqVT4VOZ83Ka+7rkjf4H7ualU+FzrzBj3b1+rq5XR2VT4XOfayj8tEW/94y\neWMqQV2kNPgpDX6YLjrkr8nLH9T6IHQ6fC5rXj5d9GCnGuzr4jc4/yE9KJ8umnmDJ2q8/vIf\nb411O/wAAAWNSURBVPCEH3nR9E6lB/uq2piKqCdSun5Nw9//LprZ94nyB7VOh+ZZ778oF2km\n60T5g32R7euiXVUQaW5X8/JB8OM3eFyeFc2/wePywfY8yDpRnhU9+BCWYivSxJ+NmfIHta4R\nafSGZm/dPzx6JNKofLhB81kXNOmHIrVJuijrbfNm3+CsfKZo4g3OyrOtfvCxPnLEqUjjv1zT\nTfr2Rt06rWn8ro3K86Lf/5sKzbNe/z+XNS/Pi2ay5uX3X99HFFNZJ8rzol9ZpyLzpOkfSfPy\nvGh6VyfKB+/Bo481L8+LprP+Q6T0MGtWnhf9zlqGjUiDJpAGr5spny6afMfnP+ffv5zKmpVP\nF02KNC6/b849YCrrRPl0US7S/N+MdDg8TpqXTxdNiJSXD8oeZJ0ony6aeIPn91W9MZVRT6Sf\nvz0P3/HB/ybetoltlLzjWWObtmEiq0Ck4W+mG+awPCuaESkvntrkme2dS3r7zfyuzmUdtdR5\nB/OsEn3/kXWiPCvyLdJZ9/l3XLFxLW5diDRbnhWtFmn8i3HoVHlWNJ11qvzBvsj2tYwaIv3u\ni47e8UvRfOOaLc+Ksnd8tvzXBs2INFueFc1knSivta9Ld/Vh0onyBx/bdGiWNaXhiZpx6FR5\nVjSddaq82r6WUUOk3z/lTWW6KNUPvf1vJnSiXCFUe19dv8H3gKnQiXKFUPV9LaOeSPftyjcw\nL0oNQm//nQnNyzVClffV9Rv8j9C8XCE0/WODJ8ofh5ahLdLgLR+vYEmPi+qHjl8zDp0ql4fq\n7qvnN/j2n5nQyXJxqPa+FlFTpDVl03+jCM2Lom1vvNAiEClaaLTtjRdahLpIRTUOzosR+jg0\n2vbGCy1BXySADYJIAAogEoACiASgACIBKIBIAAogEoACiASgACIBKIBIAAogEoACiASgACIB\nKIBIAAogEoACiASgACIBKIBIhuxe3r/OP3y9v+xWxH2/Pae0fz/9uOSSzvLLPmExvMeGpJRe\nzz+8rrrG+Xt3uV3i7huR3MB7bEhKz5cD0e55TWN/Tfvjgexrn96WpinYNlgH77EhKb2l/47f\n/zt+X/FBpPR9+va9NAaRGsB7bEhKH+k00nlPf38a+/tz2p3HPoePl2Pf7e3yqq+XtPvzO2z8\n89vueHQ63xr7/trfFTTYl63De2zI8dCSXo7fX9LXpbG/nMc+++NPfy7DoLfzq85jortJb+n1\n617F8cv+VP56Een62kEFbXdrk/AeG3Js4c/nO9XtLo39I+2/D9/79HEq+ns4/P150tzxt+/p\n+R53FOf57fNaxTFs99/hv91FpOtrBxUY7NvW4D025NjC39Ln4TO9Xhr7y3nwczlKXV9w+vJ5\nGNnwcZrm2338/PrlZN5Rp5S/FpFawXtsyLGF/z12w/4cDx4/Lf7XI4S+Pv7sf3kwtuHzz+4k\nzcWea22D144qgKrwHhtybOFfxxHRPn3lIu1vP02LdJrre34k0rgCqArvsSGnFr5L38chUtYH\ne03P7x9fkyLdfrqaMylSVgFUhffYkEuDfzstb/gZI338LjpMi/SSLhPkNwEHY6Tra7MKoCq8\nx4acWvjfdJ5fOzf2v6fpt8P7abLhNGvw3/QY6TOl9+/jt/1JqGzW7vrarAKoCu+xIacWfjxo\nHIdIP439Mq7ZfZ3OFV34nBgjXcv211/v788qvr02qwCqwntsyLmF7049tGtjf39OP2dbX4+i\nfH5cDk6Hw9CG/16Ph5/93/uv33bHF48mG8YVQFV4j7vhfIQCIxApPudB1vfL0sXgUANEis/P\nsro1lwaCNojUAe/nxXfWW7FtEAlAAUQCUACRABRAJAAFEAlAAUQCUACRABRAJAAFEAlAAUQC\nUACRABRAJAAFEAlAAUQCUACRABRAJAAF/gce/tO52otG2gAAAABJRU5ErkJggg==",
      "text/plain": [
       "plot without title"
      ]
     },
     "metadata": {},
     "output_type": "display_data"
    }
   ],
   "source": [
    "# Examine standard, see if they vary by average signal strength. Make box plots of sdSignal for subgroups of avgSignal by turning avgSignal into categorial variable. \n",
    "\n",
    "#pdf(file = \"Geo_BoxplotSignalSDByAvg.pdf\", width = 10)\n",
    "oldPar = par(mar = c(3.1, 3, 1, 1))\n",
    "\n",
    "breaks = seq(-90, -30, by = 5)\n",
    "bwplot(sdSignal ~ cut(avgSignal, breaks = breaks),\n",
    "       data = offlineSummary, \n",
    "       subset = mac != \"00:0f:a3:39:dd:cd\",\n",
    "       xlab = \"Mean Signal\", ylab = \"SD Signal\")\n",
    "\n",
    "par(oldPar)\n",
    "dev.off()\n",
    "\n",
    "#pdf(file = \"Geo_ScatterMean-Median.pdf\", width = 10)\n",
    "oldPar = par(mar = c(4.1, 4.1, 1, 1))"
   ]
  },
  {
   "cell_type": "markdown",
   "metadata": {
    "colab_type": "text",
    "id": "R6nbP4MI72yz"
   },
   "source": [
    "See that weakest signals have small standard deviations and it appears that SD increase with average signal strength."
   ]
  },
  {
   "cell_type": "markdown",
   "metadata": {
    "colab_type": "text",
    "id": "Viy3TRgf72y0"
   },
   "source": [
    "See that these two measures of centrailty are similar to each other; they typically differ by less than 1 or 2 dBm."
   ]
  },
  {
   "cell_type": "code",
   "execution_count": 33,
   "metadata": {
    "colab": {},
    "colab_type": "code",
    "id": "dKD8weVD72y0",
    "outputId": "c5abb5b3-a44f-41f5-cbbd-0e42fa6ff234"
   },
   "outputs": [
    {
     "data": {
      "image/png": "iVBORw0KGgoAAAANSUhEUgAAA0gAAANICAMAAADKOT/pAAACx1BMVEUAAAAIMGsIMWwIM3AI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",
      "text/plain": [
       "plot without title"
      ]
     },
     "metadata": {},
     "output_type": "display_data"
    }
   ],
   "source": [
    "# Examine skewness of signal strength by plotting difference avgSignal - medSignal against observations. \n",
    "# Smooth scatter avoids problems with over plotting; add local average of difference between mean and median to better assess size. \n",
    "\n",
    "with(offlineSummary, smoothScatter((avgSignal - medSignal) ~ num, xlab = \"Number of Observations\", \n",
    "    ylab = \"mean - median\"))\n",
    "abline(h = 0, col = \"#984ea3\", lwd = 2)\n",
    "\n",
    "# Use loess() to locally smooth differences between mean and median.\n",
    "\n",
    "lo.obj = with(offlineSummary, loess(diff ~ num, data = data.frame(diff = (avgSignal - \n",
    "    medSignal), num = num)))\n",
    "\n",
    "# Then use fitted model to predict the idffernce for each value of num and add those to scatter plot.\n",
    "lo.obj.pr = predict(lo.obj, newdata = data.frame(num = (70:120)))\n",
    "lines(x = 70:120, y = lo.obj.pr, col = \"#4daf4a\", lwd = 2)"
   ]
  },
  {
   "cell_type": "markdown",
   "metadata": {
    "colab_type": "text",
    "id": "Lzj1zUlo72y4"
   },
   "source": [
    "## Relationship between Signal and Distance\n",
    " Examine relationship between distance and signal strength is to smooth signal strength over the region where it is measured and create a contour plot -- portion of floor plan where there is strong signal corresponds to mountainous regions on map. "
   ]
  },
  {
   "cell_type": "code",
<<<<<<< HEAD
   "execution_count": 34,
=======
   "execution_count": 36,
>>>>>>> 66eb6c9fec8115d9e5fc0842898bf00e47e76891
   "metadata": {
    "colab": {},
    "colab_type": "code",
    "id": "RmIHFAs872y4",
    "outputId": "db9ffca8-d45a-48a4-f497-6b8def2c45d8"
   },
   "outputs": [
    {
<<<<<<< HEAD
     "name": "stderr",
     "output_type": "stream",
     "text": [
      "Warning message:\n",
      "\"package 'fields' was built under R version 3.6.3\"Loading required package: spam\n",
      "Warning message:\n",
      "\"package 'spam' was built under R version 3.6.3\"Loading required package: dotCall64\n",
      "Warning message:\n",
      "\"package 'dotCall64' was built under R version 3.6.3\"Loading required package: grid\n",
      "Spam version 2.5-1 (2019-12-12) is loaded.\n",
      "Type 'help( Spam)' or 'demo( spam)' for a short introduction \n",
      "and overview of this package.\n",
      "Help for individual functions is also obtained by adding the\n",
      "suffix '.spam' to the function name, e.g. 'help( chol.spam)'.\n",
      "\n",
      "Attaching package: 'spam'\n",
      "\n",
      "The following objects are masked from 'package:base':\n",
      "\n",
      "    backsolve, forwardsolve\n",
      "\n",
      "Loading required package: maps\n",
      "See https://github.com/NCAR/Fields for\n",
      " an extensive vignette, other supplements and source code \n"
=======
     "ename": "ERROR",
     "evalue": "Error in library(fields): there is no package called 'fields'\n",
     "output_type": "error",
     "traceback": [
      "Error in library(fields): there is no package called 'fields'\nTraceback:\n",
      "1. library(fields)"
>>>>>>> 66eb6c9fec8115d9e5fc0842898bf00e47e76891
     ]
    }
   ],
   "source": [
    "#install.packages(\"fields\")\n",
    "library(fields)"
   ]
  },
  {
   "cell_type": "code",
<<<<<<< HEAD
   "execution_count": 35,
=======
   "execution_count": null,
>>>>>>> 66eb6c9fec8115d9e5fc0842898bf00e47e76891
   "metadata": {
    "colab": {},
    "colab_type": "code",
    "id": "-iiYQ-5s72y9",
    "outputId": "2fa93b59-13fb-431a-d61d-5bda421fbc24"
   },
<<<<<<< HEAD
   "outputs": [
    {
     "data": {
      "image/png": "iVBORw0KGgoAAAANSUhEUgAAA0gAAANICAMAAADKOT/pAAAA8FBMVEUAAAAAAI8AAJ8AAK8A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\nmuN7AAAAAElFTkSuQmCC",
      "text/plain": [
       "plot without title"
      ]
     },
     "metadata": {},
     "output_type": "display_data"
    }
   ],
=======
   "outputs": [],
>>>>>>> 66eb6c9fec8115d9e5fc0842898bf00e47e76891
   "source": [
    "# Select one MAC address and one orientation. Choose summary stats for an angle x MAC combination\n",
    "oneAPAngle <- subset(offline, mac == subMacs[5] & angle == 0)\n",
    "\n",
    "# Make topographical map, using fields package. Uses the method of thin plate splines to fit a surface to the signal stregnth values at the observed locations. \n",
    "# Tps() requres a \"z\" value, so must subset offLine Summary\n",
    "oneAPAngle = subset(offlineSummary, mac == subMacs[5] & angle == 0)\n",
    "\n",
    "# Call Tps() to fit a smooth surface to mean signal strength \n",
    "smoothSS = Tps(oneAPAngle[, c(\"posX\", \"posY\")], oneAPAngle$avgSignal)\n",
    "\n",
    "# Use predictSurface() to predict the value for the fitted surface at a grid of the observed posX and posY \n",
    "vizSmooth = predictSurface(smoothSS)\n",
    "\n",
    "#Plot predicted signal strength using plot.surface()\n",
    "plot.surface(vizSmooth, type = \"C\")\n",
    "\n",
    "# Lastly add locations where measurements were taken\n",
    "points(oneAPAngle$posX, oneAPAngle$posY, pch = 19, cex = 0.5)"
   ]
  },
  {
   "cell_type": "code",
<<<<<<< HEAD
   "execution_count": 36,
=======
   "execution_count": null,
>>>>>>> 66eb6c9fec8115d9e5fc0842898bf00e47e76891
   "metadata": {
    "colab": {},
    "colab_type": "code",
    "id": "RTjPOG5B72zB",
    "outputId": "433ee4c0-0f79-4cf7-898b-36782e5c0d1b"
   },
<<<<<<< HEAD
   "outputs": [
    {
     "data": {
      "text/html": [
       "<dl>\n",
       "\t<dt>$`00:14:bf:b1:97:90`</dt>\n",
       "\t\t<dd>NULL</dd>\n",
       "\t<dt>$`00:14:bf:b1:97:90`</dt>\n",
       "\t\t<dd>NULL</dd>\n",
       "\t<dt>$`00:0f:a3:39:e1:c0`</dt>\n",
       "\t\t<dd>NULL</dd>\n",
       "\t<dt>$`00:0f:a3:39:e1:c0`</dt>\n",
       "\t\t<dd>NULL</dd>\n",
       "</dl>\n"
      ],
      "text/latex": [
       "\\begin{description}\n",
       "\\item[\\$`00:14:bf:b1:97:90`] NULL\n",
       "\\item[\\$`00:14:bf:b1:97:90`] NULL\n",
       "\\item[\\$`00:0f:a3:39:e1:c0`] NULL\n",
       "\\item[\\$`00:0f:a3:39:e1:c0`] NULL\n",
       "\\end{description}\n"
      ],
      "text/markdown": [
       "$`00:14:bf:b1:97:90`\n",
       ":   NULL\n",
       "$`00:14:bf:b1:97:90`\n",
       ":   NULL\n",
       "$`00:0f:a3:39:e1:c0`\n",
       ":   NULL\n",
       "$`00:0f:a3:39:e1:c0`\n",
       ":   NULL\n",
       "\n",
       "\n"
      ],
      "text/plain": [
       "$`00:14:bf:b1:97:90`\n",
       "NULL\n",
       "\n",
       "$`00:14:bf:b1:97:90`\n",
       "NULL\n",
       "\n",
       "$`00:0f:a3:39:e1:c0`\n",
       "NULL\n",
       "\n",
       "$`00:0f:a3:39:e1:c0`\n",
       "NULL\n"
      ]
     },
     "metadata": {},
     "output_type": "display_data"
    },
    {
     "data": {
      "image/png": "iVBORw0KGgoAAAANSUhEUgAAA0gAAANICAMAAADKOT/pAAAAxlBMVEUAAAAAAI8AAJ8AAK8A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\no+kQhaTRdIhC0mg6RCFpNB3y/wHYhzxoRgKR+wAAAABJRU5ErkJggg==",
      "text/plain": [
       "plot without title"
      ]
     },
     "metadata": {},
     "output_type": "display_data"
    }
   ],
=======
   "outputs": [],
>>>>>>> 66eb6c9fec8115d9e5fc0842898bf00e47e76891
   "source": [
    "# Wrap plotting routine into own function so that we can parameterize the MAC address and angle, other other plotting parameters. \n",
    "# surfaceSS() has 3 args - data, MAC, angle\n",
    "# call surfaceSS() with a couple MAC addresses and angles to compare. Modify R plotting parameters to place 4 contour plots on one canvas. \n",
    "\n",
    "surfaceSS = function(data, mac, angle = 45) {\n",
    "    require(fields)\n",
    "    oneAPAngle = data[data$mac == mac & data$angle == angle, ]\n",
    "    smoothSS = Tps(oneAPAngle[, c(\"posX\", \"posY\")], oneAPAngle$avgSignal)\n",
    "    vizSmooth = predictSurface(smoothSS)\n",
    "    plot.surface(vizSmooth, type = \"C\", xlab = \"\", ylab = \"\", xaxt = \"n\", yaxt = \"n\")\n",
    "    points(oneAPAngle$posX, oneAPAngle$posY, pch = 19, cex = 0.5)\n",
    "}\n",
    "\n",
    "# Save Current Settings\n",
    "parCur = par(mfrow = c(2, 2), mar = rep(1, 4))\n",
    "\n",
    "# Mak 4 calls to surfaceSS() using mapply()\n",
    "mapply(surfaceSS, mac = subMacs[rep(c(5, 1), each = 2)], angle = rep(c(0, 135), \n",
    "    2), data = list(data = offlineSummary))"
   ]
  },
  {
   "cell_type": "markdown",
   "metadata": {
    "colab_type": "text",
    "id": "ZDly2nbY72zE"
   },
   "source": [
    "Above, identify the location of access points as the dark red region at top of mountain. Confirm effect of orientation on signal strength. A corridor effect emerges - the signal is stronger relative to distance along ocorridors where the signals are not blocked by walls. "
   ]
  },
  {
   "cell_type": "code",
<<<<<<< HEAD
   "execution_count": 37,
=======
   "execution_count": null,
>>>>>>> 66eb6c9fec8115d9e5fc0842898bf00e47e76891
   "metadata": {
    "colab": {},
    "colab_type": "code",
    "id": "dDY0ouPN72zE"
   },
   "outputs": [],
   "source": [
    "# We find that two MAC addresses have similiar heat maps; these correspond to access points near center of building (i.e. x=7.5, y=6.3)\n",
    "# Choose first of these.\n",
    "\n",
    "offlineSummary <- subset(offlineSummary, mac != subMacs[2])"
   ]
  },
  {
   "cell_type": "code",
<<<<<<< HEAD
   "execution_count": 38,
=======
   "execution_count": null,
>>>>>>> 66eb6c9fec8115d9e5fc0842898bf00e47e76891
   "metadata": {
    "colab": {},
    "colab_type": "code",
    "id": "Wf8yV6lm72zI",
    "outputId": "9ec03033-897d-4210-e0c3-93b6eb4709d7"
   },
<<<<<<< HEAD
   "outputs": [
    {
     "data": {
      "text/html": [
       "<table>\n",
       "<thead><tr><th></th><th scope=col>x</th><th scope=col>y</th></tr></thead>\n",
       "<tbody>\n",
       "\t<tr><th scope=row>00:0f:a3:39:e1:c0</th><td> 7.5</td><td> 6.3</td></tr>\n",
       "\t<tr><th scope=row>00:14:bf:b1:97:8a</th><td> 2.5</td><td>-0.8</td></tr>\n",
       "\t<tr><th scope=row>00:14:bf:3b:c7:c6</th><td>12.8</td><td>-2.8</td></tr>\n",
       "\t<tr><th scope=row>00:14:bf:b1:97:90</th><td> 1.0</td><td>14.0</td></tr>\n",
       "\t<tr><th scope=row>00:14:bf:b1:97:8d</th><td>33.5</td><td> 9.3</td></tr>\n",
       "\t<tr><th scope=row>00:14:bf:b1:97:81</th><td>33.5</td><td> 2.8</td></tr>\n",
       "</tbody>\n",
       "</table>\n"
      ],
      "text/latex": [
       "\\begin{tabular}{r|ll}\n",
       "  & x & y\\\\\n",
       "\\hline\n",
       "\t00:0f:a3:39:e1:c0 &  7.5 &  6.3\\\\\n",
       "\t00:14:bf:b1:97:8a &  2.5 & -0.8\\\\\n",
       "\t00:14:bf:3b:c7:c6 & 12.8 & -2.8\\\\\n",
       "\t00:14:bf:b1:97:90 &  1.0 & 14.0\\\\\n",
       "\t00:14:bf:b1:97:8d & 33.5 &  9.3\\\\\n",
       "\t00:14:bf:b1:97:81 & 33.5 &  2.8\\\\\n",
       "\\end{tabular}\n"
      ],
      "text/markdown": [
       "\n",
       "| <!--/--> | x | y |\n",
       "|---|---|---|\n",
       "| 00:0f:a3:39:e1:c0 |  7.5 |  6.3 |\n",
       "| 00:14:bf:b1:97:8a |  2.5 | -0.8 |\n",
       "| 00:14:bf:3b:c7:c6 | 12.8 | -2.8 |\n",
       "| 00:14:bf:b1:97:90 |  1.0 | 14.0 |\n",
       "| 00:14:bf:b1:97:8d | 33.5 |  9.3 |\n",
       "| 00:14:bf:b1:97:81 | 33.5 |  2.8 |\n",
       "\n"
      ],
      "text/plain": [
       "                  x    y   \n",
       "00:0f:a3:39:e1:c0  7.5  6.3\n",
       "00:14:bf:b1:97:8a  2.5 -0.8\n",
       "00:14:bf:3b:c7:c6 12.8 -2.8\n",
       "00:14:bf:b1:97:90  1.0 14.0\n",
       "00:14:bf:b1:97:8d 33.5  9.3\n",
       "00:14:bf:b1:97:81 33.5  2.8"
      ]
     },
     "metadata": {},
     "output_type": "display_data"
    }
   ],
=======
   "outputs": [],
>>>>>>> 66eb6c9fec8115d9e5fc0842898bf00e47e76891
   "source": [
    "# Create small matrix with relevant positions for the 6 access points on floor plan.\n",
    "\n",
    "AP <- matrix(c(7.5, 6.3, 2.5, -0.8, 12.8, -2.8, 1, 14, 33.5, 9.3, 33.5, 2.8), \n",
    "    ncol = 2, byrow = TRUE, dimnames = list(subMacs[-2], c(\"x\", \"y\")))\n",
    "\n",
    "AP"
   ]
  },
  {
   "cell_type": "code",
<<<<<<< HEAD
   "execution_count": 39,
=======
   "execution_count": null,
>>>>>>> 66eb6c9fec8115d9e5fc0842898bf00e47e76891
   "metadata": {
    "colab": {},
    "colab_type": "code",
    "id": "i69MVc3V72zM"
   },
   "outputs": [],
   "source": [
    "# To examine relationship between signal strength and distance from the access point, compute distances from locations of device emitting signal to the access point receiving signal.\n",
    "# First compute difference between x coorindate and acces point x coordiante; then for y coordinates.\n",
    "\n",
    "diffs <- offlineSummary[, c(\"posX\", \"posY\")] - AP[offlineSummary$mac, ]"
   ]
  },
  {
   "cell_type": "code",
<<<<<<< HEAD
   "execution_count": 40,
=======
   "execution_count": null,
>>>>>>> 66eb6c9fec8115d9e5fc0842898bf00e47e76891
   "metadata": {
    "colab": {},
    "colab_type": "code",
    "id": "YkknZ3R-72zQ"
   },
   "outputs": [],
   "source": [
    "# Use differnces to find Euclidean distance between position of hand-held device and access point.\n",
    "\n",
    "offlineSummary$dist <- sqrt(diffs[, 1]^2 + diffs[, 2]^2)"
   ]
  },
  {
   "cell_type": "markdown",
   "metadata": {
    "colab_type": "text",
    "id": "b6Y96SOp72zT"
   },
   "source": [
    "Appears to be curvature to plots. A log transform might improve relationship; but signals are negative so need to be cautious. "
   ]
  },
  {
   "cell_type": "code",
<<<<<<< HEAD
   "execution_count": 41,
=======
   "execution_count": null,
>>>>>>> 66eb6c9fec8115d9e5fc0842898bf00e47e76891
   "metadata": {
    "colab": {},
    "colab_type": "code",
    "id": "RVkcw1Js72zT",
    "outputId": "59c51919-00a9-448e-f79e-ab3ef387950a"
   },
<<<<<<< HEAD
   "outputs": [
    {
     "data": {
      "image/png": "iVBORw0KGgoAAAANSUhEUgAAA0gAAANICAMAAADKOT/pAAAAjVBMVEUAAAAAgP8+TT5NRT5N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\nY7AipGLFGKwIqVgxBitCKlaMwf5/AM1G+P6hTdnuAAAAAElFTkSuQmCC",
      "text/plain": [
       "plot without title"
      ]
     },
     "metadata": {},
     "output_type": "display_data"
    }
   ],
=======
   "outputs": [],
>>>>>>> 66eb6c9fec8115d9e5fc0842898bf00e47e76891
   "source": [
    "# Make series of scatter plots for access point and device orientation. \n",
    "\n",
    "xyplot(signal ~ dist | factor(mac) + factor(angle), data = offlineSummary, pch = 19, \n",
    "    cex = 0.3, xlab = \"distance\")"
   ]
  },
  {
   "cell_type": "markdown",
   "metadata": {
    "colab_type": "text",
    "id": "wd_Ah4-Q72zX"
   },
   "source": [
    "## 1.5 Nearest Neighbor Methods to Predict Location"
   ]
  },
  {
   "cell_type": "markdown",
   "metadata": {
    "colab_type": "text",
    "id": "cSR42Cvq72zY"
   },
   "source": [
    "#### Numerous statistical techniques to estimate location of device from signal strength between device and several access points. Here, using simple and intuitive k-NN: have training data where signal is measured to several access points from known position throughout building; when get a new observation (new set of signal strengths from unknown location), find observation in training data that is close to new observation. "
   ]
  },
  {
   "cell_type": "markdown",
   "metadata": {
    "colab_type": "text",
    "id": "nID3tL5o72zY"
   },
   "source": [
    "### 1.5.1 Preparing Test Data\n",
    "#### Online data are in online.final.trace.txt; use readData() from Section 1.2 to process raw data. "
   ]
  },
  {
   "cell_type": "code",
<<<<<<< HEAD
   "execution_count": 42,
=======
   "execution_count": null,
>>>>>>> 66eb6c9fec8115d9e5fc0842898bf00e47e76891
   "metadata": {
    "colab": {},
    "colab_type": "code",
    "id": "KqGX2B3P72zZ"
   },
   "outputs": [],
   "source": [
    "macs <- unique(offlineSummary$mac)"
   ]
  },
  {
   "cell_type": "code",
<<<<<<< HEAD
   "execution_count": 43,
=======
   "execution_count": null,
>>>>>>> 66eb6c9fec8115d9e5fc0842898bf00e47e76891
   "metadata": {
    "colab": {},
    "colab_type": "code",
    "id": "-8kyJNXE72zb",
    "outputId": "6344eaa0-ab4e-4e83-a93f-b611763e6fa4"
   },
<<<<<<< HEAD
   "outputs": [
    {
     "data": {
      "text/html": [
       "<ol class=list-inline>\n",
       "\t<li>'00:0f:a3:39:e1:c0'</li>\n",
       "\t<li>'00:14:bf:3b:c7:c6'</li>\n",
       "\t<li>'00:14:bf:b1:97:81'</li>\n",
       "\t<li>'00:14:bf:b1:97:8a'</li>\n",
       "\t<li>'00:14:bf:b1:97:8d'</li>\n",
       "\t<li>'00:14:bf:b1:97:90'</li>\n",
       "</ol>\n"
      ],
      "text/latex": [
       "\\begin{enumerate*}\n",
       "\\item '00:0f:a3:39:e1:c0'\n",
       "\\item '00:14:bf:3b:c7:c6'\n",
       "\\item '00:14:bf:b1:97:81'\n",
       "\\item '00:14:bf:b1:97:8a'\n",
       "\\item '00:14:bf:b1:97:8d'\n",
       "\\item '00:14:bf:b1:97:90'\n",
       "\\end{enumerate*}\n"
      ],
      "text/markdown": [
       "1. '00:0f:a3:39:e1:c0'\n",
       "2. '00:14:bf:3b:c7:c6'\n",
       "3. '00:14:bf:b1:97:81'\n",
       "4. '00:14:bf:b1:97:8a'\n",
       "5. '00:14:bf:b1:97:8d'\n",
       "6. '00:14:bf:b1:97:90'\n",
       "\n",
       "\n"
      ],
      "text/plain": [
       "[1] \"00:0f:a3:39:e1:c0\" \"00:14:bf:3b:c7:c6\" \"00:14:bf:b1:97:81\"\n",
       "[4] \"00:14:bf:b1:97:8a\" \"00:14:bf:b1:97:8d\" \"00:14:bf:b1:97:90\""
      ]
     },
     "metadata": {},
     "output_type": "display_data"
    },
    {
     "data": {
      "text/html": [
       "60"
      ],
      "text/latex": [
       "60"
      ],
      "text/markdown": [
       "60"
      ],
      "text/plain": [
       "[1] 60"
      ]
     },
     "metadata": {},
     "output_type": "display_data"
    }
   ],
=======
   "outputs": [],
>>>>>>> 66eb6c9fec8115d9e5fc0842898bf00e47e76891
   "source": [
    "# edited to match book\n",
    "#online <- readLines(\"C:/Users/jjschued/Documents/SMU/7333 QTW//online.final.trace.txt\", subMacs = macs)\n",
    "\n",
    "# Joe's code; SEE REMAINDER OF CODE BELOW\n",
    "online <- readLines(\"C:/Users/jjschued/Documents/SMU/7333 QTW//online.final.trace.txt\")\n",
    "    # subMacs = macs)\n",
    "\n",
    "onlines = online[ substr(online, 1, 1) != \"#\" ]\n",
    "tmp = lapply(onlines, processLine)\n",
    "online = as.data.frame(do.call(\"rbind\", tmp),stringsAsFactors = FALSE)\n",
    "\n",
    "\n",
    "names(online) = c(\"time\", \"scanMac\", \"posX\", \"posY\", \"posZ\", \"orientation\", \n",
    "        \"mac\", \"signal\", \"channel\", \"type\")\n",
    "\n",
    "roundOrientation = function(angles) {\n",
    "    refs = seq(0, by = 45, length = 9)\n",
    "    q = sapply(angles, function(o) which.min(abs(o - refs)))\n",
    "    c(refs[1:8], 0)[q]\n",
    "}\n",
    "# keep only signals from access points\n",
    "online = online[online$type == \"3\", ]\n",
    "               \n",
    "macs <-unique(offlineSummary$mac)\n",
    "macs               \n",
    "\n",
    "# drop scanMac, posZ, channel, and type - no info in them\n",
    "dropVars = c(\"scanMac\", \"posZ\", \"channel\", \"type\")\n",
    "online = online[, !(names(online) %in% dropVars)]\n",
    "\n",
    "# convert numeric values\n",
    "numVars = c(\"time\", \"posX\", \"posY\", \"orientation\", \"signal\")\n",
    "online[numVars] = lapply(online[numVars], as.numeric)\n",
    "\n",
    "\n",
    "# drop more unwanted access points\n",
    "subMacs = c(\"00:0f:a3:39:e1:c0\", \"00:14:bf:b1:97:8a\", \n",
    "        \"00:14:bf:3b:c7:c6\", \"00:14:bf:b1:97:90\", \"00:14:bf:b1:97:8d\", \"00:14:bf:b1:97:81\")               \n",
    "online = online[online$mac %in% subMacs, ]\n",
    "               \n",
    "# convert time to POSIX\n",
    "online$rawTime = online$time\n",
    "online$time = online$time/1000\n",
    "class(online$time) = c(\"POSIXt\", \"POSIXct\")\n",
    "    \n",
    "# round orientations to nearest 45\n",
    "online$angle = roundOrientation(online$orientation)\n",
    "# Create unique location identifier\n",
    "online$posXY <- paste(online$posX, online$posY, sep = \"-\")\n",
    "\n",
    "length(unique(online$posXY))               "
   ]
  },
  {
   "cell_type": "code",
<<<<<<< HEAD
   "execution_count": 44,
=======
   "execution_count": null,
>>>>>>> 66eb6c9fec8115d9e5fc0842898bf00e47e76891
   "metadata": {
    "colab": {},
    "colab_type": "code",
    "id": "jVYD2jWR72zd",
    "outputId": "63805f15-4d5f-4870-e2a3-cc2cfb97645b"
   },
<<<<<<< HEAD
   "outputs": [
    {
     "data": {
      "text/html": [
       "60"
      ],
      "text/latex": [
       "60"
      ],
      "text/markdown": [
       "60"
      ],
      "text/plain": [
       "[1] 60"
      ]
     },
     "metadata": {},
     "output_type": "display_data"
    }
   ],
=======
   "outputs": [],
>>>>>>> 66eb6c9fec8115d9e5fc0842898bf00e47e76891
   "source": [
    "# Use new variable to determine that we have 60 unique test locations\n",
    "\n",
    "length(unique(online$posXY))"
   ]
  },
  {
   "cell_type": "code",
<<<<<<< HEAD
   "execution_count": 45,
=======
   "execution_count": null,
>>>>>>> 66eb6c9fec8115d9e5fc0842898bf00e47e76891
   "metadata": {
    "colab": {},
    "colab_type": "code",
    "id": "iJ9Rjfbx72zh",
    "outputId": "4615c027-5623-489d-b028-77bd1315d004"
   },
<<<<<<< HEAD
   "outputs": [
    {
     "data": {
      "text/plain": [
       "            \n",
       "               0  45  90 135 180 225 270 315\n",
       "  0-0.05       0   0   0 593   0   0   0   0\n",
       "  0.15-9.42    0   0 606   0   0   0   0   0\n",
       "  0.31-11.09   0   0   0   0   0 573   0   0\n",
       "  0.47-8.2   590   0   0   0   0   0   0   0\n",
       "  0.78-10.94 586   0   0   0   0   0   0   0\n",
       "  0.93-11.69   0   0   0   0 583   0   0   0"
      ]
     },
     "metadata": {},
     "output_type": "display_data"
    }
   ],
=======
   "outputs": [],
>>>>>>> 66eb6c9fec8115d9e5fc0842898bf00e47e76891
   "source": [
    "# Tally number of signal strengths recorded at each location\n",
    "\n",
    "tabonlineXYA = table(online$posXY, online$angle)\n",
    "tabonlineXYA[1:6, ]\n",
    "\n",
    "# Output indicates that signal strengths were recorded at one orientation for each location"
   ]
  },
  {
   "cell_type": "code",
<<<<<<< HEAD
   "execution_count": 46,
=======
   "execution_count": null,
>>>>>>> 66eb6c9fec8115d9e5fc0842898bf00e47e76891
   "metadata": {
    "colab": {},
    "colab_type": "code",
    "id": "Xnus_XUE72zm"
   },
   "outputs": [],
   "source": [
    "# Organize data in different structure; organize data into 6 columns of signal strengths\n",
    "# Summarize online data into new format, providing average signal strength at each location\n",
    "\n",
    "keepVars = c(\"posXY\", \"posX\",\"posY\", \"orientation\", \"angle\")\n",
    "byLoc = with(online, \n",
    "             by(online, list(posXY), \n",
    "                function(x) {\n",
    "                  ans = x[1, keepVars]\n",
    "                  avgSS = tapply(x$signal, x$mac, mean)\n",
    "                  y = matrix(avgSS, nrow = 1, ncol = 6,\n",
    "                             dimnames = list(ans$posXY, names(avgSS)))\n",
    "                  cbind(ans, y)\n",
    "                }))\n",
    "\n",
    "onlineSummary = do.call(\"rbind\", byLoc)  \n"
   ]
  },
  {
   "cell_type": "code",
<<<<<<< HEAD
   "execution_count": 47,
=======
   "execution_count": null,
>>>>>>> 66eb6c9fec8115d9e5fc0842898bf00e47e76891
   "metadata": {
    "colab": {},
    "colab_type": "code",
    "id": "lxxLCxwk72zq",
    "outputId": "a16dbaba-d591-49b8-fc54-290b27cb5885"
   },
<<<<<<< HEAD
   "outputs": [
    {
     "data": {
      "text/html": [
       "<ol class=list-inline>\n",
       "\t<li>60</li>\n",
       "\t<li>11</li>\n",
       "</ol>\n"
      ],
      "text/latex": [
       "\\begin{enumerate*}\n",
       "\\item 60\n",
       "\\item 11\n",
       "\\end{enumerate*}\n"
      ],
      "text/markdown": [
       "1. 60\n",
       "2. 11\n",
       "\n",
       "\n"
      ],
      "text/plain": [
       "[1] 60 11"
      ]
     },
     "metadata": {},
     "output_type": "display_data"
    }
   ],
=======
   "outputs": [],
>>>>>>> 66eb6c9fec8115d9e5fc0842898bf00e47e76891
   "source": [
    "# New Frame should have 60 rows and 11 variables, including 6 average signal strengths at the corresponding MAC addresses\n",
    "\n",
    "dim(onlineSummary)"
   ]
  },
  {
   "cell_type": "code",
<<<<<<< HEAD
   "execution_count": 48,
=======
   "execution_count": null,
>>>>>>> 66eb6c9fec8115d9e5fc0842898bf00e47e76891
   "metadata": {
    "colab": {},
    "colab_type": "code",
    "id": "q50Z6FxQ72zw",
    "outputId": "59121716-109e-4972-f85e-713948cc974c"
   },
<<<<<<< HEAD
   "outputs": [
    {
     "data": {
      "text/html": [
       "<ol class=list-inline>\n",
       "\t<li>'posXY'</li>\n",
       "\t<li>'posX'</li>\n",
       "\t<li>'posY'</li>\n",
       "\t<li>'orientation'</li>\n",
       "\t<li>'angle'</li>\n",
       "\t<li>'00:0f:a3:39:e1:c0'</li>\n",
       "\t<li>'00:14:bf:3b:c7:c6'</li>\n",
       "\t<li>'00:14:bf:b1:97:81'</li>\n",
       "\t<li>'00:14:bf:b1:97:8a'</li>\n",
       "\t<li>'00:14:bf:b1:97:8d'</li>\n",
       "\t<li>'00:14:bf:b1:97:90'</li>\n",
       "</ol>\n"
      ],
      "text/latex": [
       "\\begin{enumerate*}\n",
       "\\item 'posXY'\n",
       "\\item 'posX'\n",
       "\\item 'posY'\n",
       "\\item 'orientation'\n",
       "\\item 'angle'\n",
       "\\item '00:0f:a3:39:e1:c0'\n",
       "\\item '00:14:bf:3b:c7:c6'\n",
       "\\item '00:14:bf:b1:97:81'\n",
       "\\item '00:14:bf:b1:97:8a'\n",
       "\\item '00:14:bf:b1:97:8d'\n",
       "\\item '00:14:bf:b1:97:90'\n",
       "\\end{enumerate*}\n"
      ],
      "text/markdown": [
       "1. 'posXY'\n",
       "2. 'posX'\n",
       "3. 'posY'\n",
       "4. 'orientation'\n",
       "5. 'angle'\n",
       "6. '00:0f:a3:39:e1:c0'\n",
       "7. '00:14:bf:3b:c7:c6'\n",
       "8. '00:14:bf:b1:97:81'\n",
       "9. '00:14:bf:b1:97:8a'\n",
       "10. '00:14:bf:b1:97:8d'\n",
       "11. '00:14:bf:b1:97:90'\n",
       "\n",
       "\n"
      ],
      "text/plain": [
       " [1] \"posXY\"             \"posX\"              \"posY\"             \n",
       " [4] \"orientation\"       \"angle\"             \"00:0f:a3:39:e1:c0\"\n",
       " [7] \"00:14:bf:3b:c7:c6\" \"00:14:bf:b1:97:81\" \"00:14:bf:b1:97:8a\"\n",
       "[10] \"00:14:bf:b1:97:8d\" \"00:14:bf:b1:97:90\""
      ]
     },
     "metadata": {},
     "output_type": "display_data"
    }
   ],
=======
   "outputs": [],
>>>>>>> 66eb6c9fec8115d9e5fc0842898bf00e47e76891
   "source": [
    "# Confirm\n",
    "\n",
    "names(onlineSummary)"
   ]
  },
  {
   "cell_type": "markdown",
   "metadata": {
    "colab_type": "text",
    "id": "mWC0VBC072z2"
   },
   "source": [
    "### 1.5.2 Choice of Orientation\n",
    "#### Find records in offline data that have similar orientations to our new observations. Consider using all records with an orientation that is within a specified range of the new point's orientation."
   ]
  },
  {
   "cell_type": "code",
<<<<<<< HEAD
   "execution_count": 49,
=======
   "execution_count": null,
>>>>>>> 66eb6c9fec8115d9e5fc0842898bf00e47e76891
   "metadata": {
    "colab": {},
    "colab_type": "code",
    "id": "082IlwsX72z2"
   },
   "outputs": [],
   "source": [
    "# m for the number of angles and angleNewObs the angle of new observation. Find angles to include.\n",
    "\n",
    "m = 3; angleNewObs = 230\n",
    "refs = seq(0, by = 45, length  = 8)\n",
    "nearestAngle = roundOrientation(angleNewObs)\n",
    "\n",
    "if (m %% 2 == 1) {\n",
    "  angles = seq(-45 * (m - 1) /2, 45 * (m - 1) /2, length = m)\n",
    "} else {\n",
    "  m = m + 1\n",
    "  angles = seq(-45 * (m - 1) /2, 45 * (m - 1) /2, length = m)\n",
    "  if (sign(angleNewObs - nearestAngle) > -1) \n",
    "    angles = angles[ -1 ]\n",
    "  else \n",
    "    angles = angles[ -m ]\n",
    "}\n"
   ]
  },
  {
   "cell_type": "code",
<<<<<<< HEAD
   "execution_count": 50,
=======
   "execution_count": null,
>>>>>>> 66eb6c9fec8115d9e5fc0842898bf00e47e76891
   "metadata": {
    "colab": {},
    "colab_type": "code",
    "id": "_EQoKlPo72z7"
   },
   "outputs": [],
   "source": [
    "# Handle case of m odd and even separately; must also map angles to values in refs, -45 to 355 and 405 maps to 45. So adjust angles:\n",
    "\n",
    "angles = angles + nearestAngle\n",
    "angles[angles < 0] = angles[ angles < 0 ] + 360\n",
    "angles[angles > 360] = angles[ angles > 360 ] - 360\n"
   ]
  },
  {
   "cell_type": "code",
<<<<<<< HEAD
   "execution_count": 94,
   "metadata": {},
   "outputs": [
    {
     "data": {
      "text/html": [
       "<ol class=list-inline>\n",
       "\t<li>180</li>\n",
       "\t<li>225</li>\n",
       "\t<li>270</li>\n",
       "</ol>\n"
      ],
      "text/latex": [
       "\\begin{enumerate*}\n",
       "\\item 180\n",
       "\\item 225\n",
       "\\item 270\n",
       "\\end{enumerate*}\n"
      ],
      "text/markdown": [
       "1. 180\n",
       "2. 225\n",
       "3. 270\n",
       "\n",
       "\n"
      ],
      "text/plain": [
       "[1] 180 225 270"
      ]
     },
     "metadata": {},
     "output_type": "display_data"
    }
   ],
   "source": [
    "angles"
   ]
  },
  {
   "cell_type": "code",
   "execution_count": null,
   "metadata": {},
   "outputs": [],
   "source": []
  },
  {
   "cell_type": "code",
   "execution_count": 51,
=======
   "execution_count": null,
>>>>>>> 66eb6c9fec8115d9e5fc0842898bf00e47e76891
   "metadata": {
    "colab": {},
    "colab_type": "code",
    "id": "A1eiRK4S72z-"
   },
   "outputs": [],
   "source": [
    "# Select observations from offlineSummary to analyze\n",
    "\n",
    "offlineSubset = \n",
    "  offlineSummary[ offlineSummary$angle %in% angles, ]\n"
   ]
  },
  {
   "cell_type": "code",
<<<<<<< HEAD
   "execution_count": 52,
=======
   "execution_count": null,
>>>>>>> 66eb6c9fec8115d9e5fc0842898bf00e47e76891
   "metadata": {
    "colab": {},
    "colab_type": "code",
    "id": "HP-ts19x720B"
   },
   "outputs": [],
   "source": [
    "# Aggregate signal strengths from angles and create data structure that is similar to onlineSummary\n",
    "# Use helper function reshapeSS()\n",
    "\n",
    "reshapeSS = function(data, varSignal = \"signal\", \n",
    "                     keepVars = c(\"posXY\", \"posX\",\"posY\")) {\n",
    "  byLocation =\n",
    "    with(data, by(data, list(posXY), \n",
    "                  function(x) {\n",
    "                    ans = x[1, keepVars]\n",
    "                    avgSS = tapply(x[ , varSignal ], x$mac, mean)\n",
    "                    y = matrix(avgSS, nrow = 1, ncol = 6,\n",
    "                               dimnames = list(ans$posXY,\n",
    "                                               names(avgSS)))\n",
    "                    cbind(ans, y)\n",
    "                  }))\n",
    "  \n",
    "  newDataSS = do.call(\"rbind\", byLocation)\n",
    "  return(newDataSS)\n",
    "}\n"
   ]
  },
  {
   "cell_type": "code",
<<<<<<< HEAD
   "execution_count": 53,
=======
   "execution_count": null,
>>>>>>> 66eb6c9fec8115d9e5fc0842898bf00e47e76891
   "metadata": {
    "colab": {},
    "colab_type": "code",
    "id": "8iMSx1lV720E"
   },
   "outputs": [],
   "source": [
    "# Summarize and Reshape offlineSubset (Set Training Set)\n",
    "\n",
    "trainSS = reshapeSS(offlineSubset, varSignal = \"avgSignal\")\n"
   ]
  },
  {
   "cell_type": "code",
<<<<<<< HEAD
   "execution_count": 93,
   "metadata": {},
   "outputs": [
    {
     "data": {
      "text/html": [
       "<table>\n",
       "<thead><tr><th></th><th scope=col>posXY</th><th scope=col>posX</th><th scope=col>posY</th><th scope=col>00:0f:a3:39:e1:c0</th><th scope=col>00:14:bf:3b:c7:c6</th><th scope=col>00:14:bf:b1:97:81</th><th scope=col>00:14:bf:b1:97:8a</th><th scope=col>00:14:bf:b1:97:8d</th><th scope=col>00:14:bf:b1:97:90</th></tr></thead>\n",
       "<tbody>\n",
       "\t<tr><th scope=row>0-0</th><td>0-0 </td><td> 0  </td><td> 0  </td><td>-55 </td><td>-67 </td><td>-65 </td><td>-36 </td><td>-66 </td><td>-56 </td></tr>\n",
       "\t<tr><th scope=row>0-1</th><td>0-1 </td><td> 0  </td><td> 1  </td><td>-52 </td><td>-65 </td><td>-65 </td><td>-38 </td><td>-67 </td><td>-57 </td></tr>\n",
       "\t<tr><th scope=row>0-10</th><td>0-10</td><td> 0  </td><td>10  </td><td>-54 </td><td>-64 </td><td>-68 </td><td>-45 </td><td>-66 </td><td>-53 </td></tr>\n",
       "\t<tr><th scope=row>0-11</th><td>0-11</td><td> 0  </td><td>11  </td><td>-55 </td><td>-65 </td><td>-66 </td><td>-49 </td><td>-67 </td><td>-55 </td></tr>\n",
       "\t<tr><th scope=row>0-12</th><td>0-12</td><td> 0  </td><td>12  </td><td>-55 </td><td>-67 </td><td>-70 </td><td>-44 </td><td>-71 </td><td>-54 </td></tr>\n",
       "\t<tr><th scope=row>0-13</th><td>0-13</td><td> 0  </td><td>13  </td><td>-54 </td><td>-71 </td><td>-72 </td><td>-47 </td><td>-70 </td><td>-57 </td></tr>\n",
       "\t<tr><th scope=row>0-2</th><td>0-2 </td><td> 0  </td><td> 2  </td><td>-56 </td><td>-62 </td><td>-61 </td><td>-44 </td><td>-62 </td><td>-56 </td></tr>\n",
       "\t<tr><th scope=row>0-3</th><td>0-3 </td><td> 0  </td><td> 3  </td><td>-57 </td><td>-64 </td><td>-54 </td><td>-40 </td><td>-63 </td><td>-57 </td></tr>\n",
       "\t<tr><th scope=row>0-4</th><td>0-4 </td><td> 0  </td><td> 4  </td><td>-55 </td><td>-63 </td><td>-58 </td><td>-43 </td><td>-62 </td><td>-54 </td></tr>\n",
       "\t<tr><th scope=row>0-7</th><td>0-7 </td><td> 0  </td><td> 7  </td><td>-56 </td><td>-63 </td><td>-63 </td><td>-44 </td><td>-54 </td><td>-58 </td></tr>\n",
       "\t<tr><th scope=row>0-8</th><td>0-8 </td><td> 0  </td><td> 8  </td><td>-50 </td><td>-66 </td><td>-61 </td><td>-47 </td><td>-50 </td><td>-58 </td></tr>\n",
       "\t<tr><th scope=row>0-9</th><td>0-9 </td><td> 0  </td><td> 9  </td><td>-48 </td><td>-65 </td><td>-63 </td><td>-46 </td><td>-61 </td><td>-54 </td></tr>\n",
       "\t<tr><th scope=row>1-0</th><td>1-0 </td><td> 1  </td><td> 0  </td><td>-52 </td><td>-64 </td><td>-68 </td><td>-34 </td><td>-65 </td><td>-58 </td></tr>\n",
       "\t<tr><th scope=row>1-1</th><td>1-1 </td><td> 1  </td><td> 1  </td><td>-55 </td><td>-65 </td><td>-64 </td><td>-37 </td><td>-66 </td><td>-57 </td></tr>\n",
       "\t<tr><th scope=row>1-10</th><td>1-10</td><td> 1  </td><td>10  </td><td>-52 </td><td>-68 </td><td>-68 </td><td>-49 </td><td>-66 </td><td>-53 </td></tr>\n",
       "\t<tr><th scope=row>1-11</th><td>1-11</td><td> 1  </td><td>11  </td><td>-53 </td><td>-66 </td><td>-69 </td><td>-49 </td><td>-65 </td><td>-53 </td></tr>\n",
       "\t<tr><th scope=row>1-12</th><td>1-12</td><td> 1  </td><td>12  </td><td>-53 </td><td>-69 </td><td>-71 </td><td>-45 </td><td>-69 </td><td>-56 </td></tr>\n",
       "\t<tr><th scope=row>1-13</th><td>1-13</td><td> 1  </td><td>13  </td><td>-58 </td><td>-71 </td><td>-74 </td><td>-45 </td><td>-68 </td><td>-52 </td></tr>\n",
       "\t<tr><th scope=row>1-2</th><td>1-2 </td><td> 1  </td><td> 2  </td><td>-58 </td><td>-63 </td><td>-58 </td><td>-39 </td><td>-65 </td><td>-57 </td></tr>\n",
       "\t<tr><th scope=row>1-3</th><td>1-3 </td><td> 1  </td><td> 3  </td><td>-57 </td><td>-65 </td><td>-54 </td><td>-40 </td><td>-59 </td><td>-61 </td></tr>\n",
       "\t<tr><th scope=row>1-4</th><td>1-4 </td><td> 1  </td><td> 4  </td><td>-51 </td><td>-64 </td><td>-59 </td><td>-46 </td><td>-60 </td><td>-60 </td></tr>\n",
       "\t<tr><th scope=row>1-5</th><td>1-5 </td><td> 1  </td><td> 5  </td><td>-49 </td><td>-65 </td><td>-63 </td><td>-40 </td><td>-61 </td><td>-57 </td></tr>\n",
       "\t<tr><th scope=row>1-6</th><td>1-6 </td><td> 1  </td><td> 6  </td><td>-52 </td><td>-65 </td><td>-61 </td><td>-48 </td><td>-61 </td><td>-56 </td></tr>\n",
       "\t<tr><th scope=row>1-7</th><td>1-7 </td><td> 1  </td><td> 7  </td><td>-53 </td><td>-66 </td><td>-64 </td><td>-48 </td><td>-49 </td><td>-54 </td></tr>\n",
       "\t<tr><th scope=row>1-8</th><td>1-8 </td><td> 1  </td><td> 8  </td><td>-52 </td><td>-65 </td><td>-62 </td><td>-48 </td><td>-49 </td><td>-56 </td></tr>\n",
       "\t<tr><th scope=row>1-9</th><td>1-9 </td><td> 1  </td><td> 9  </td><td>-50 </td><td>-63 </td><td>-63 </td><td>-48 </td><td>-63 </td><td>-50 </td></tr>\n",
       "\t<tr><th scope=row>10-3</th><td>10-3</td><td>10  </td><td> 3  </td><td>-50 </td><td>-53 </td><td>-52 </td><td>-54 </td><td>-56 </td><td>-71 </td></tr>\n",
       "\t<tr><th scope=row>10-4</th><td>10-4</td><td>10  </td><td> 4  </td><td>-53 </td><td>-50 </td><td>-54 </td><td>-57 </td><td>-55 </td><td>-69 </td></tr>\n",
       "\t<tr><th scope=row>10-5</th><td>10-5</td><td>10  </td><td> 5  </td><td>-50 </td><td>-48 </td><td>-53 </td><td>-55 </td><td>-57 </td><td>-67 </td></tr>\n",
       "\t<tr><th scope=row>10-6</th><td>10-6</td><td>10  </td><td> 6  </td><td>-44 </td><td>-51 </td><td>-58 </td><td>-58 </td><td>-60 </td><td>-63 </td></tr>\n",
       "\t<tr><th scope=row>...</th><td>...</td><td>...</td><td>...</td><td>...</td><td>...</td><td>...</td><td>...</td><td>...</td><td>...</td></tr>\n",
       "\t<tr><th scope=row>31-8</th><td>31-8</td><td>31  </td><td>8   </td><td>-57 </td><td>-67 </td><td>-48 </td><td>-68 </td><td>-41 </td><td>-78 </td></tr>\n",
       "\t<tr><th scope=row>32-3</th><td>32-3</td><td>32  </td><td>3   </td><td>-60 </td><td>-67 </td><td>-42 </td><td>-63 </td><td>-49 </td><td>-79 </td></tr>\n",
       "\t<tr><th scope=row>32-4</th><td>32-4</td><td>32  </td><td>4   </td><td>-62 </td><td>-68 </td><td>-38 </td><td>-71 </td><td>-44 </td><td>-76 </td></tr>\n",
       "\t<tr><th scope=row>32-5</th><td>32-5</td><td>32  </td><td>5   </td><td>-64 </td><td>-70 </td><td>-42 </td><td>-68 </td><td>-46 </td><td>-78 </td></tr>\n",
       "\t<tr><th scope=row>32-6</th><td>32-6</td><td>32  </td><td>6   </td><td>-63 </td><td>-69 </td><td>-48 </td><td>-71 </td><td>-47 </td><td>-81 </td></tr>\n",
       "\t<tr><th scope=row>32-7</th><td>32-7</td><td>32  </td><td>7   </td><td>-58 </td><td>-62 </td><td>-43 </td><td>-62 </td><td>-43 </td><td>-75 </td></tr>\n",
       "\t<tr><th scope=row>32-8</th><td>32-8</td><td>32  </td><td>8   </td><td>-57 </td><td>-71 </td><td>-40 </td><td>-68 </td><td>-39 </td><td>-77 </td></tr>\n",
       "\t<tr><th scope=row>33-3</th><td>33-3</td><td>33  </td><td>3   </td><td>-60 </td><td>-67 </td><td>-41 </td><td>-65 </td><td>-51 </td><td>-79 </td></tr>\n",
       "\t<tr><th scope=row>33-4</th><td>33-4</td><td>33  </td><td>4   </td><td>-59 </td><td>-67 </td><td>-42 </td><td>-64 </td><td>-45 </td><td>-79 </td></tr>\n",
       "\t<tr><th scope=row>33-7</th><td>33-7</td><td>33  </td><td>7   </td><td>-54 </td><td>-66 </td><td>-46 </td><td>-72 </td><td>-39 </td><td>-74 </td></tr>\n",
       "\t<tr><th scope=row>33-8</th><td>33-8</td><td>33  </td><td>8   </td><td>-53 </td><td>-68 </td><td>-48 </td><td>-67 </td><td>-35 </td><td>-76 </td></tr>\n",
       "\t<tr><th scope=row>4-3</th><td>4-3 </td><td> 4  </td><td>3   </td><td>-49 </td><td>-60 </td><td>-56 </td><td>-49 </td><td>-60 </td><td>-59 </td></tr>\n",
       "\t<tr><th scope=row>4-7</th><td>4-7 </td><td> 4  </td><td>7   </td><td>-52 </td><td>-61 </td><td>-64 </td><td>-51 </td><td>-54 </td><td>-54 </td></tr>\n",
       "\t<tr><th scope=row>4-8</th><td>4-8 </td><td> 4  </td><td>8   </td><td>-48 </td><td>-62 </td><td>-61 </td><td>-51 </td><td>-56 </td><td>-57 </td></tr>\n",
       "\t<tr><th scope=row>5-3</th><td>5-3 </td><td> 5  </td><td>3   </td><td>-46 </td><td>-58 </td><td>-57 </td><td>-50 </td><td>-58 </td><td>-63 </td></tr>\n",
       "\t<tr><th scope=row>5-7</th><td>5-7 </td><td> 5  </td><td>7   </td><td>-45 </td><td>-59 </td><td>-62 </td><td>-54 </td><td>-46 </td><td>-60 </td></tr>\n",
       "\t<tr><th scope=row>5-8</th><td>5-8 </td><td> 5  </td><td>8   </td><td>-46 </td><td>-60 </td><td>-61 </td><td>-54 </td><td>-54 </td><td>-59 </td></tr>\n",
       "\t<tr><th scope=row>6-3</th><td>6-3 </td><td> 6  </td><td>3   </td><td>-49 </td><td>-57 </td><td>-56 </td><td>-52 </td><td>-58 </td><td>-61 </td></tr>\n",
       "\t<tr><th scope=row>6-7</th><td>6-7 </td><td> 6  </td><td>7   </td><td>-44 </td><td>-59 </td><td>-60 </td><td>-56 </td><td>-50 </td><td>-62 </td></tr>\n",
       "\t<tr><th scope=row>6-8</th><td>6-8 </td><td> 6  </td><td>8   </td><td>-46 </td><td>-59 </td><td>-62 </td><td>-53 </td><td>-53 </td><td>-60 </td></tr>\n",
       "\t<tr><th scope=row>7-3</th><td>7-3 </td><td> 7  </td><td>3   </td><td>-47 </td><td>-55 </td><td>-55 </td><td>-55 </td><td>-57 </td><td>-62 </td></tr>\n",
       "\t<tr><th scope=row>7-7</th><td>7-7 </td><td> 7  </td><td>7   </td><td>-43 </td><td>-58 </td><td>-59 </td><td>-55 </td><td>-52 </td><td>-66 </td></tr>\n",
       "\t<tr><th scope=row>7-8</th><td>7-8 </td><td> 7  </td><td>8   </td><td>-45 </td><td>-54 </td><td>-58 </td><td>-53 </td><td>-51 </td><td>-67 </td></tr>\n",
       "\t<tr><th scope=row>8-3</th><td>8-3 </td><td> 8  </td><td>3   </td><td>-48 </td><td>-54 </td><td>-58 </td><td>-48 </td><td>-59 </td><td>-64 </td></tr>\n",
       "\t<tr><th scope=row>8-7</th><td>8-7 </td><td> 8  </td><td>7   </td><td>-45 </td><td>-53 </td><td>-61 </td><td>-56 </td><td>-53 </td><td>-64 </td></tr>\n",
       "\t<tr><th scope=row>8-8</th><td>8-8 </td><td> 8  </td><td>8   </td><td>-47 </td><td>-55 </td><td>-60 </td><td>-59 </td><td>-52 </td><td>-64 </td></tr>\n",
       "\t<tr><th scope=row>9-3</th><td>9-3 </td><td> 9  </td><td>3   </td><td>-50 </td><td>-51 </td><td>-57 </td><td>-52 </td><td>-58 </td><td>-66 </td></tr>\n",
       "\t<tr><th scope=row>9-4</th><td>9-4 </td><td> 9  </td><td>4   </td><td>-45 </td><td>-52 </td><td>-55 </td><td>-54 </td><td>-57 </td><td>-68 </td></tr>\n",
       "\t<tr><th scope=row>9-7</th><td>9-7 </td><td> 9  </td><td>7   </td><td>-46 </td><td>-51 </td><td>-60 </td><td>-61 </td><td>-54 </td><td>-65 </td></tr>\n",
       "\t<tr><th scope=row>9-8</th><td>9-8 </td><td> 9  </td><td>8   </td><td>-51 </td><td>-53 </td><td>-57 </td><td>-59 </td><td>-51 </td><td>-69 </td></tr>\n",
       "</tbody>\n",
       "</table>\n"
      ],
      "text/latex": [
       "\\begin{tabular}{r|lllllllll}\n",
       "  & posXY & posX & posY & 00:0f:a3:39:e1:c0 & 00:14:bf:3b:c7:c6 & 00:14:bf:b1:97:81 & 00:14:bf:b1:97:8a & 00:14:bf:b1:97:8d & 00:14:bf:b1:97:90\\\\\n",
       "\\hline\n",
       "\t0-0 & 0-0  &  0   &  0   & -55  & -67  & -65  & -36  & -66  & -56 \\\\\n",
       "\t0-1 & 0-1  &  0   &  1   & -52  & -65  & -65  & -38  & -67  & -57 \\\\\n",
       "\t0-10 & 0-10 &  0   & 10   & -54  & -64  & -68  & -45  & -66  & -53 \\\\\n",
       "\t0-11 & 0-11 &  0   & 11   & -55  & -65  & -66  & -49  & -67  & -55 \\\\\n",
       "\t0-12 & 0-12 &  0   & 12   & -55  & -67  & -70  & -44  & -71  & -54 \\\\\n",
       "\t0-13 & 0-13 &  0   & 13   & -54  & -71  & -72  & -47  & -70  & -57 \\\\\n",
       "\t0-2 & 0-2  &  0   &  2   & -56  & -62  & -61  & -44  & -62  & -56 \\\\\n",
       "\t0-3 & 0-3  &  0   &  3   & -57  & -64  & -54  & -40  & -63  & -57 \\\\\n",
       "\t0-4 & 0-4  &  0   &  4   & -55  & -63  & -58  & -43  & -62  & -54 \\\\\n",
       "\t0-7 & 0-7  &  0   &  7   & -56  & -63  & -63  & -44  & -54  & -58 \\\\\n",
       "\t0-8 & 0-8  &  0   &  8   & -50  & -66  & -61  & -47  & -50  & -58 \\\\\n",
       "\t0-9 & 0-9  &  0   &  9   & -48  & -65  & -63  & -46  & -61  & -54 \\\\\n",
       "\t1-0 & 1-0  &  1   &  0   & -52  & -64  & -68  & -34  & -65  & -58 \\\\\n",
       "\t1-1 & 1-1  &  1   &  1   & -55  & -65  & -64  & -37  & -66  & -57 \\\\\n",
       "\t1-10 & 1-10 &  1   & 10   & -52  & -68  & -68  & -49  & -66  & -53 \\\\\n",
       "\t1-11 & 1-11 &  1   & 11   & -53  & -66  & -69  & -49  & -65  & -53 \\\\\n",
       "\t1-12 & 1-12 &  1   & 12   & -53  & -69  & -71  & -45  & -69  & -56 \\\\\n",
       "\t1-13 & 1-13 &  1   & 13   & -58  & -71  & -74  & -45  & -68  & -52 \\\\\n",
       "\t1-2 & 1-2  &  1   &  2   & -58  & -63  & -58  & -39  & -65  & -57 \\\\\n",
       "\t1-3 & 1-3  &  1   &  3   & -57  & -65  & -54  & -40  & -59  & -61 \\\\\n",
       "\t1-4 & 1-4  &  1   &  4   & -51  & -64  & -59  & -46  & -60  & -60 \\\\\n",
       "\t1-5 & 1-5  &  1   &  5   & -49  & -65  & -63  & -40  & -61  & -57 \\\\\n",
       "\t1-6 & 1-6  &  1   &  6   & -52  & -65  & -61  & -48  & -61  & -56 \\\\\n",
       "\t1-7 & 1-7  &  1   &  7   & -53  & -66  & -64  & -48  & -49  & -54 \\\\\n",
       "\t1-8 & 1-8  &  1   &  8   & -52  & -65  & -62  & -48  & -49  & -56 \\\\\n",
       "\t1-9 & 1-9  &  1   &  9   & -50  & -63  & -63  & -48  & -63  & -50 \\\\\n",
       "\t10-3 & 10-3 & 10   &  3   & -50  & -53  & -52  & -54  & -56  & -71 \\\\\n",
       "\t10-4 & 10-4 & 10   &  4   & -53  & -50  & -54  & -57  & -55  & -69 \\\\\n",
       "\t10-5 & 10-5 & 10   &  5   & -50  & -48  & -53  & -55  & -57  & -67 \\\\\n",
       "\t10-6 & 10-6 & 10   &  6   & -44  & -51  & -58  & -58  & -60  & -63 \\\\\n",
       "\t... & ... & ... & ... & ... & ... & ... & ... & ... & ...\\\\\n",
       "\t31-8 & 31-8 & 31   & 8    & -57  & -67  & -48  & -68  & -41  & -78 \\\\\n",
       "\t32-3 & 32-3 & 32   & 3    & -60  & -67  & -42  & -63  & -49  & -79 \\\\\n",
       "\t32-4 & 32-4 & 32   & 4    & -62  & -68  & -38  & -71  & -44  & -76 \\\\\n",
       "\t32-5 & 32-5 & 32   & 5    & -64  & -70  & -42  & -68  & -46  & -78 \\\\\n",
       "\t32-6 & 32-6 & 32   & 6    & -63  & -69  & -48  & -71  & -47  & -81 \\\\\n",
       "\t32-7 & 32-7 & 32   & 7    & -58  & -62  & -43  & -62  & -43  & -75 \\\\\n",
       "\t32-8 & 32-8 & 32   & 8    & -57  & -71  & -40  & -68  & -39  & -77 \\\\\n",
       "\t33-3 & 33-3 & 33   & 3    & -60  & -67  & -41  & -65  & -51  & -79 \\\\\n",
       "\t33-4 & 33-4 & 33   & 4    & -59  & -67  & -42  & -64  & -45  & -79 \\\\\n",
       "\t33-7 & 33-7 & 33   & 7    & -54  & -66  & -46  & -72  & -39  & -74 \\\\\n",
       "\t33-8 & 33-8 & 33   & 8    & -53  & -68  & -48  & -67  & -35  & -76 \\\\\n",
       "\t4-3 & 4-3  &  4   & 3    & -49  & -60  & -56  & -49  & -60  & -59 \\\\\n",
       "\t4-7 & 4-7  &  4   & 7    & -52  & -61  & -64  & -51  & -54  & -54 \\\\\n",
       "\t4-8 & 4-8  &  4   & 8    & -48  & -62  & -61  & -51  & -56  & -57 \\\\\n",
       "\t5-3 & 5-3  &  5   & 3    & -46  & -58  & -57  & -50  & -58  & -63 \\\\\n",
       "\t5-7 & 5-7  &  5   & 7    & -45  & -59  & -62  & -54  & -46  & -60 \\\\\n",
       "\t5-8 & 5-8  &  5   & 8    & -46  & -60  & -61  & -54  & -54  & -59 \\\\\n",
       "\t6-3 & 6-3  &  6   & 3    & -49  & -57  & -56  & -52  & -58  & -61 \\\\\n",
       "\t6-7 & 6-7  &  6   & 7    & -44  & -59  & -60  & -56  & -50  & -62 \\\\\n",
       "\t6-8 & 6-8  &  6   & 8    & -46  & -59  & -62  & -53  & -53  & -60 \\\\\n",
       "\t7-3 & 7-3  &  7   & 3    & -47  & -55  & -55  & -55  & -57  & -62 \\\\\n",
       "\t7-7 & 7-7  &  7   & 7    & -43  & -58  & -59  & -55  & -52  & -66 \\\\\n",
       "\t7-8 & 7-8  &  7   & 8    & -45  & -54  & -58  & -53  & -51  & -67 \\\\\n",
       "\t8-3 & 8-3  &  8   & 3    & -48  & -54  & -58  & -48  & -59  & -64 \\\\\n",
       "\t8-7 & 8-7  &  8   & 7    & -45  & -53  & -61  & -56  & -53  & -64 \\\\\n",
       "\t8-8 & 8-8  &  8   & 8    & -47  & -55  & -60  & -59  & -52  & -64 \\\\\n",
       "\t9-3 & 9-3  &  9   & 3    & -50  & -51  & -57  & -52  & -58  & -66 \\\\\n",
       "\t9-4 & 9-4  &  9   & 4    & -45  & -52  & -55  & -54  & -57  & -68 \\\\\n",
       "\t9-7 & 9-7  &  9   & 7    & -46  & -51  & -60  & -61  & -54  & -65 \\\\\n",
       "\t9-8 & 9-8  &  9   & 8    & -51  & -53  & -57  & -59  & -51  & -69 \\\\\n",
       "\\end{tabular}\n"
      ],
      "text/markdown": [
       "\n",
       "| <!--/--> | posXY | posX | posY | 00:0f:a3:39:e1:c0 | 00:14:bf:3b:c7:c6 | 00:14:bf:b1:97:81 | 00:14:bf:b1:97:8a | 00:14:bf:b1:97:8d | 00:14:bf:b1:97:90 |\n",
       "|---|---|---|---|---|---|---|---|---|---|\n",
       "| 0-0 | 0-0  |  0   |  0   | -55  | -67  | -65  | -36  | -66  | -56  |\n",
       "| 0-1 | 0-1  |  0   |  1   | -52  | -65  | -65  | -38  | -67  | -57  |\n",
       "| 0-10 | 0-10 |  0   | 10   | -54  | -64  | -68  | -45  | -66  | -53  |\n",
       "| 0-11 | 0-11 |  0   | 11   | -55  | -65  | -66  | -49  | -67  | -55  |\n",
       "| 0-12 | 0-12 |  0   | 12   | -55  | -67  | -70  | -44  | -71  | -54  |\n",
       "| 0-13 | 0-13 |  0   | 13   | -54  | -71  | -72  | -47  | -70  | -57  |\n",
       "| 0-2 | 0-2  |  0   |  2   | -56  | -62  | -61  | -44  | -62  | -56  |\n",
       "| 0-3 | 0-3  |  0   |  3   | -57  | -64  | -54  | -40  | -63  | -57  |\n",
       "| 0-4 | 0-4  |  0   |  4   | -55  | -63  | -58  | -43  | -62  | -54  |\n",
       "| 0-7 | 0-7  |  0   |  7   | -56  | -63  | -63  | -44  | -54  | -58  |\n",
       "| 0-8 | 0-8  |  0   |  8   | -50  | -66  | -61  | -47  | -50  | -58  |\n",
       "| 0-9 | 0-9  |  0   |  9   | -48  | -65  | -63  | -46  | -61  | -54  |\n",
       "| 1-0 | 1-0  |  1   |  0   | -52  | -64  | -68  | -34  | -65  | -58  |\n",
       "| 1-1 | 1-1  |  1   |  1   | -55  | -65  | -64  | -37  | -66  | -57  |\n",
       "| 1-10 | 1-10 |  1   | 10   | -52  | -68  | -68  | -49  | -66  | -53  |\n",
       "| 1-11 | 1-11 |  1   | 11   | -53  | -66  | -69  | -49  | -65  | -53  |\n",
       "| 1-12 | 1-12 |  1   | 12   | -53  | -69  | -71  | -45  | -69  | -56  |\n",
       "| 1-13 | 1-13 |  1   | 13   | -58  | -71  | -74  | -45  | -68  | -52  |\n",
       "| 1-2 | 1-2  |  1   |  2   | -58  | -63  | -58  | -39  | -65  | -57  |\n",
       "| 1-3 | 1-3  |  1   |  3   | -57  | -65  | -54  | -40  | -59  | -61  |\n",
       "| 1-4 | 1-4  |  1   |  4   | -51  | -64  | -59  | -46  | -60  | -60  |\n",
       "| 1-5 | 1-5  |  1   |  5   | -49  | -65  | -63  | -40  | -61  | -57  |\n",
       "| 1-6 | 1-6  |  1   |  6   | -52  | -65  | -61  | -48  | -61  | -56  |\n",
       "| 1-7 | 1-7  |  1   |  7   | -53  | -66  | -64  | -48  | -49  | -54  |\n",
       "| 1-8 | 1-8  |  1   |  8   | -52  | -65  | -62  | -48  | -49  | -56  |\n",
       "| 1-9 | 1-9  |  1   |  9   | -50  | -63  | -63  | -48  | -63  | -50  |\n",
       "| 10-3 | 10-3 | 10   |  3   | -50  | -53  | -52  | -54  | -56  | -71  |\n",
       "| 10-4 | 10-4 | 10   |  4   | -53  | -50  | -54  | -57  | -55  | -69  |\n",
       "| 10-5 | 10-5 | 10   |  5   | -50  | -48  | -53  | -55  | -57  | -67  |\n",
       "| 10-6 | 10-6 | 10   |  6   | -44  | -51  | -58  | -58  | -60  | -63  |\n",
       "| ... | ... | ... | ... | ... | ... | ... | ... | ... | ... |\n",
       "| 31-8 | 31-8 | 31   | 8    | -57  | -67  | -48  | -68  | -41  | -78  |\n",
       "| 32-3 | 32-3 | 32   | 3    | -60  | -67  | -42  | -63  | -49  | -79  |\n",
       "| 32-4 | 32-4 | 32   | 4    | -62  | -68  | -38  | -71  | -44  | -76  |\n",
       "| 32-5 | 32-5 | 32   | 5    | -64  | -70  | -42  | -68  | -46  | -78  |\n",
       "| 32-6 | 32-6 | 32   | 6    | -63  | -69  | -48  | -71  | -47  | -81  |\n",
       "| 32-7 | 32-7 | 32   | 7    | -58  | -62  | -43  | -62  | -43  | -75  |\n",
       "| 32-8 | 32-8 | 32   | 8    | -57  | -71  | -40  | -68  | -39  | -77  |\n",
       "| 33-3 | 33-3 | 33   | 3    | -60  | -67  | -41  | -65  | -51  | -79  |\n",
       "| 33-4 | 33-4 | 33   | 4    | -59  | -67  | -42  | -64  | -45  | -79  |\n",
       "| 33-7 | 33-7 | 33   | 7    | -54  | -66  | -46  | -72  | -39  | -74  |\n",
       "| 33-8 | 33-8 | 33   | 8    | -53  | -68  | -48  | -67  | -35  | -76  |\n",
       "| 4-3 | 4-3  |  4   | 3    | -49  | -60  | -56  | -49  | -60  | -59  |\n",
       "| 4-7 | 4-7  |  4   | 7    | -52  | -61  | -64  | -51  | -54  | -54  |\n",
       "| 4-8 | 4-8  |  4   | 8    | -48  | -62  | -61  | -51  | -56  | -57  |\n",
       "| 5-3 | 5-3  |  5   | 3    | -46  | -58  | -57  | -50  | -58  | -63  |\n",
       "| 5-7 | 5-7  |  5   | 7    | -45  | -59  | -62  | -54  | -46  | -60  |\n",
       "| 5-8 | 5-8  |  5   | 8    | -46  | -60  | -61  | -54  | -54  | -59  |\n",
       "| 6-3 | 6-3  |  6   | 3    | -49  | -57  | -56  | -52  | -58  | -61  |\n",
       "| 6-7 | 6-7  |  6   | 7    | -44  | -59  | -60  | -56  | -50  | -62  |\n",
       "| 6-8 | 6-8  |  6   | 8    | -46  | -59  | -62  | -53  | -53  | -60  |\n",
       "| 7-3 | 7-3  |  7   | 3    | -47  | -55  | -55  | -55  | -57  | -62  |\n",
       "| 7-7 | 7-7  |  7   | 7    | -43  | -58  | -59  | -55  | -52  | -66  |\n",
       "| 7-8 | 7-8  |  7   | 8    | -45  | -54  | -58  | -53  | -51  | -67  |\n",
       "| 8-3 | 8-3  |  8   | 3    | -48  | -54  | -58  | -48  | -59  | -64  |\n",
       "| 8-7 | 8-7  |  8   | 7    | -45  | -53  | -61  | -56  | -53  | -64  |\n",
       "| 8-8 | 8-8  |  8   | 8    | -47  | -55  | -60  | -59  | -52  | -64  |\n",
       "| 9-3 | 9-3  |  9   | 3    | -50  | -51  | -57  | -52  | -58  | -66  |\n",
       "| 9-4 | 9-4  |  9   | 4    | -45  | -52  | -55  | -54  | -57  | -68  |\n",
       "| 9-7 | 9-7  |  9   | 7    | -46  | -51  | -60  | -61  | -54  | -65  |\n",
       "| 9-8 | 9-8  |  9   | 8    | -51  | -53  | -57  | -59  | -51  | -69  |\n",
       "\n"
      ],
      "text/plain": [
       "     posXY posX posY 00:0f:a3:39:e1:c0 00:14:bf:3b:c7:c6 00:14:bf:b1:97:81\n",
       "0-0  0-0    0    0   -55               -67               -65              \n",
       "0-1  0-1    0    1   -52               -65               -65              \n",
       "0-10 0-10   0   10   -54               -64               -68              \n",
       "0-11 0-11   0   11   -55               -65               -66              \n",
       "0-12 0-12   0   12   -55               -67               -70              \n",
       "0-13 0-13   0   13   -54               -71               -72              \n",
       "0-2  0-2    0    2   -56               -62               -61              \n",
       "0-3  0-3    0    3   -57               -64               -54              \n",
       "0-4  0-4    0    4   -55               -63               -58              \n",
       "0-7  0-7    0    7   -56               -63               -63              \n",
       "0-8  0-8    0    8   -50               -66               -61              \n",
       "0-9  0-9    0    9   -48               -65               -63              \n",
       "1-0  1-0    1    0   -52               -64               -68              \n",
       "1-1  1-1    1    1   -55               -65               -64              \n",
       "1-10 1-10   1   10   -52               -68               -68              \n",
       "1-11 1-11   1   11   -53               -66               -69              \n",
       "1-12 1-12   1   12   -53               -69               -71              \n",
       "1-13 1-13   1   13   -58               -71               -74              \n",
       "1-2  1-2    1    2   -58               -63               -58              \n",
       "1-3  1-3    1    3   -57               -65               -54              \n",
       "1-4  1-4    1    4   -51               -64               -59              \n",
       "1-5  1-5    1    5   -49               -65               -63              \n",
       "1-6  1-6    1    6   -52               -65               -61              \n",
       "1-7  1-7    1    7   -53               -66               -64              \n",
       "1-8  1-8    1    8   -52               -65               -62              \n",
       "1-9  1-9    1    9   -50               -63               -63              \n",
       "10-3 10-3  10    3   -50               -53               -52              \n",
       "10-4 10-4  10    4   -53               -50               -54              \n",
       "10-5 10-5  10    5   -50               -48               -53              \n",
       "10-6 10-6  10    6   -44               -51               -58              \n",
       "...  ...   ...  ...  ...               ...               ...              \n",
       "31-8 31-8  31   8    -57               -67               -48              \n",
       "32-3 32-3  32   3    -60               -67               -42              \n",
       "32-4 32-4  32   4    -62               -68               -38              \n",
       "32-5 32-5  32   5    -64               -70               -42              \n",
       "32-6 32-6  32   6    -63               -69               -48              \n",
       "32-7 32-7  32   7    -58               -62               -43              \n",
       "32-8 32-8  32   8    -57               -71               -40              \n",
       "33-3 33-3  33   3    -60               -67               -41              \n",
       "33-4 33-4  33   4    -59               -67               -42              \n",
       "33-7 33-7  33   7    -54               -66               -46              \n",
       "33-8 33-8  33   8    -53               -68               -48              \n",
       "4-3  4-3    4   3    -49               -60               -56              \n",
       "4-7  4-7    4   7    -52               -61               -64              \n",
       "4-8  4-8    4   8    -48               -62               -61              \n",
       "5-3  5-3    5   3    -46               -58               -57              \n",
       "5-7  5-7    5   7    -45               -59               -62              \n",
       "5-8  5-8    5   8    -46               -60               -61              \n",
       "6-3  6-3    6   3    -49               -57               -56              \n",
       "6-7  6-7    6   7    -44               -59               -60              \n",
       "6-8  6-8    6   8    -46               -59               -62              \n",
       "7-3  7-3    7   3    -47               -55               -55              \n",
       "7-7  7-7    7   7    -43               -58               -59              \n",
       "7-8  7-8    7   8    -45               -54               -58              \n",
       "8-3  8-3    8   3    -48               -54               -58              \n",
       "8-7  8-7    8   7    -45               -53               -61              \n",
       "8-8  8-8    8   8    -47               -55               -60              \n",
       "9-3  9-3    9   3    -50               -51               -57              \n",
       "9-4  9-4    9   4    -45               -52               -55              \n",
       "9-7  9-7    9   7    -46               -51               -60              \n",
       "9-8  9-8    9   8    -51               -53               -57              \n",
       "     00:14:bf:b1:97:8a 00:14:bf:b1:97:8d 00:14:bf:b1:97:90\n",
       "0-0  -36               -66               -56              \n",
       "0-1  -38               -67               -57              \n",
       "0-10 -45               -66               -53              \n",
       "0-11 -49               -67               -55              \n",
       "0-12 -44               -71               -54              \n",
       "0-13 -47               -70               -57              \n",
       "0-2  -44               -62               -56              \n",
       "0-3  -40               -63               -57              \n",
       "0-4  -43               -62               -54              \n",
       "0-7  -44               -54               -58              \n",
       "0-8  -47               -50               -58              \n",
       "0-9  -46               -61               -54              \n",
       "1-0  -34               -65               -58              \n",
       "1-1  -37               -66               -57              \n",
       "1-10 -49               -66               -53              \n",
       "1-11 -49               -65               -53              \n",
       "1-12 -45               -69               -56              \n",
       "1-13 -45               -68               -52              \n",
       "1-2  -39               -65               -57              \n",
       "1-3  -40               -59               -61              \n",
       "1-4  -46               -60               -60              \n",
       "1-5  -40               -61               -57              \n",
       "1-6  -48               -61               -56              \n",
       "1-7  -48               -49               -54              \n",
       "1-8  -48               -49               -56              \n",
       "1-9  -48               -63               -50              \n",
       "10-3 -54               -56               -71              \n",
       "10-4 -57               -55               -69              \n",
       "10-5 -55               -57               -67              \n",
       "10-6 -58               -60               -63              \n",
       "...  ...               ...               ...              \n",
       "31-8 -68               -41               -78              \n",
       "32-3 -63               -49               -79              \n",
       "32-4 -71               -44               -76              \n",
       "32-5 -68               -46               -78              \n",
       "32-6 -71               -47               -81              \n",
       "32-7 -62               -43               -75              \n",
       "32-8 -68               -39               -77              \n",
       "33-3 -65               -51               -79              \n",
       "33-4 -64               -45               -79              \n",
       "33-7 -72               -39               -74              \n",
       "33-8 -67               -35               -76              \n",
       "4-3  -49               -60               -59              \n",
       "4-7  -51               -54               -54              \n",
       "4-8  -51               -56               -57              \n",
       "5-3  -50               -58               -63              \n",
       "5-7  -54               -46               -60              \n",
       "5-8  -54               -54               -59              \n",
       "6-3  -52               -58               -61              \n",
       "6-7  -56               -50               -62              \n",
       "6-8  -53               -53               -60              \n",
       "7-3  -55               -57               -62              \n",
       "7-7  -55               -52               -66              \n",
       "7-8  -53               -51               -67              \n",
       "8-3  -48               -59               -64              \n",
       "8-7  -56               -53               -64              \n",
       "8-8  -59               -52               -64              \n",
       "9-3  -52               -58               -66              \n",
       "9-4  -54               -57               -68              \n",
       "9-7  -61               -54               -65              \n",
       "9-8  -59               -51               -69              "
      ]
     },
     "metadata": {},
     "output_type": "display_data"
    }
   ],
   "source": [
    "trainSS"
   ]
  },
  {
   "cell_type": "code",
   "execution_count": 54,
=======
   "execution_count": null,
>>>>>>> 66eb6c9fec8115d9e5fc0842898bf00e47e76891
   "metadata": {
    "colab": {},
    "colab_type": "code",
    "id": "5GIe3pkp720J"
   },
   "outputs": [],
   "source": [
    "# Wrap code to select angles and call to reshapeSS() into function called selectTrain()\n",
    "# selectTrain() has 3 args: angleNewObs, angle of new observation; singals, the training data/data in format of offlineSummary; m, number of angles to include form signals.\n",
    "# Returns data frame that matches trainSS\n",
    "\n",
    "selectTrain = function(angleNewObs, signals = NULL, m = 1){\n",
    "  # m is the number of angles to keep between 1 and 5\n",
    "  refs = seq(0, by = 45, length  = 8)\n",
    "  nearestAngle = roundOrientation(angleNewObs)\n",
    "  \n",
    "  if (m %% 2 == 1) \n",
    "    angles = seq(-45 * (m - 1) /2, 45 * (m - 1) /2, length = m)\n",
    "  else {\n",
    "    m = m + 1\n",
    "    angles = seq(-45 * (m - 1) /2, 45 * (m - 1) /2, length = m)\n",
    "    if (sign(angleNewObs - nearestAngle) > -1) \n",
    "      angles = angles[ -1 ]\n",
    "    else \n",
    "      angles = angles[ -m ]\n",
    "  }\n",
    "  angles = angles + nearestAngle\n",
    "  angles[angles < 0] = angles[ angles < 0 ] + 360\n",
    "  angles[angles > 360] = angles[ angles > 360 ] - 360\n",
    "  angles = sort(angles) \n",
    "  \n",
    "  offlineSubset = signals[ signals$angle %in% angles, ]\n",
    "  reshapeSS(offlineSubset, varSignal = \"avgSignal\")\n",
    "}\n"
   ]
  },
  {
   "cell_type": "code",
<<<<<<< HEAD
   "execution_count": 55,
=======
   "execution_count": null,
>>>>>>> 66eb6c9fec8115d9e5fc0842898bf00e47e76891
   "metadata": {
    "colab": {},
    "colab_type": "code",
    "id": "ekXwpEbn720O",
    "outputId": "fb799d37-6d25-418a-eccf-a2ec6975bfd5"
   },
<<<<<<< HEAD
   "outputs": [
    {
     "data": {
      "text/html": [
       "<table>\n",
       "<thead><tr><th></th><th scope=col>posXY</th><th scope=col>posX</th><th scope=col>posY</th><th scope=col>00:0f:a3:39:e1:c0</th><th scope=col>00:14:bf:3b:c7:c6</th><th scope=col>00:14:bf:b1:97:81</th><th scope=col>00:14:bf:b1:97:8a</th><th scope=col>00:14:bf:b1:97:8d</th><th scope=col>00:14:bf:b1:97:90</th></tr></thead>\n",
       "<tbody>\n",
       "\t<tr><th scope=row>0-0</th><td>0-0 </td><td>0   </td><td> 0  </td><td>-52 </td><td>-66 </td><td>-63 </td><td>-36 </td><td>-64 </td><td>-55 </td></tr>\n",
       "\t<tr><th scope=row>0-1</th><td>0-1 </td><td>0   </td><td> 1  </td><td>-53 </td><td>-65 </td><td>-64 </td><td>-39 </td><td>-65 </td><td>-59 </td></tr>\n",
       "\t<tr><th scope=row>0-10</th><td>0-10</td><td>0   </td><td>10  </td><td>-56 </td><td>-66 </td><td>-69 </td><td>-45 </td><td>-67 </td><td>-50 </td></tr>\n",
       "\t<tr><th scope=row>0-11</th><td>0-11</td><td>0   </td><td>11  </td><td>-55 </td><td>-67 </td><td>-70 </td><td>-48 </td><td>-67 </td><td>-55 </td></tr>\n",
       "\t<tr><th scope=row>0-12</th><td>0-12</td><td>0   </td><td>12  </td><td>-56 </td><td>-70 </td><td>-72 </td><td>-45 </td><td>-67 </td><td>-50 </td></tr>\n",
       "\t<tr><th scope=row>0-13</th><td>0-13</td><td>0   </td><td>13  </td><td>-55 </td><td>-71 </td><td>-73 </td><td>-43 </td><td>-69 </td><td>-54 </td></tr>\n",
       "</tbody>\n",
       "</table>\n"
      ],
      "text/latex": [
       "\\begin{tabular}{r|lllllllll}\n",
       "  & posXY & posX & posY & 00:0f:a3:39:e1:c0 & 00:14:bf:3b:c7:c6 & 00:14:bf:b1:97:81 & 00:14:bf:b1:97:8a & 00:14:bf:b1:97:8d & 00:14:bf:b1:97:90\\\\\n",
       "\\hline\n",
       "\t0-0 & 0-0  & 0    &  0   & -52  & -66  & -63  & -36  & -64  & -55 \\\\\n",
       "\t0-1 & 0-1  & 0    &  1   & -53  & -65  & -64  & -39  & -65  & -59 \\\\\n",
       "\t0-10 & 0-10 & 0    & 10   & -56  & -66  & -69  & -45  & -67  & -50 \\\\\n",
       "\t0-11 & 0-11 & 0    & 11   & -55  & -67  & -70  & -48  & -67  & -55 \\\\\n",
       "\t0-12 & 0-12 & 0    & 12   & -56  & -70  & -72  & -45  & -67  & -50 \\\\\n",
       "\t0-13 & 0-13 & 0    & 13   & -55  & -71  & -73  & -43  & -69  & -54 \\\\\n",
       "\\end{tabular}\n"
      ],
      "text/markdown": [
       "\n",
       "| <!--/--> | posXY | posX | posY | 00:0f:a3:39:e1:c0 | 00:14:bf:3b:c7:c6 | 00:14:bf:b1:97:81 | 00:14:bf:b1:97:8a | 00:14:bf:b1:97:8d | 00:14:bf:b1:97:90 |\n",
       "|---|---|---|---|---|---|---|---|---|---|\n",
       "| 0-0 | 0-0  | 0    |  0   | -52  | -66  | -63  | -36  | -64  | -55  |\n",
       "| 0-1 | 0-1  | 0    |  1   | -53  | -65  | -64  | -39  | -65  | -59  |\n",
       "| 0-10 | 0-10 | 0    | 10   | -56  | -66  | -69  | -45  | -67  | -50  |\n",
       "| 0-11 | 0-11 | 0    | 11   | -55  | -67  | -70  | -48  | -67  | -55  |\n",
       "| 0-12 | 0-12 | 0    | 12   | -56  | -70  | -72  | -45  | -67  | -50  |\n",
       "| 0-13 | 0-13 | 0    | 13   | -55  | -71  | -73  | -43  | -69  | -54  |\n",
       "\n"
      ],
      "text/plain": [
       "     posXY posX posY 00:0f:a3:39:e1:c0 00:14:bf:3b:c7:c6 00:14:bf:b1:97:81\n",
       "0-0  0-0   0     0   -52               -66               -63              \n",
       "0-1  0-1   0     1   -53               -65               -64              \n",
       "0-10 0-10  0    10   -56               -66               -69              \n",
       "0-11 0-11  0    11   -55               -67               -70              \n",
       "0-12 0-12  0    12   -56               -70               -72              \n",
       "0-13 0-13  0    13   -55               -71               -73              \n",
       "     00:14:bf:b1:97:8a 00:14:bf:b1:97:8d 00:14:bf:b1:97:90\n",
       "0-0  -36               -64               -55              \n",
       "0-1  -39               -65               -59              \n",
       "0-10 -45               -67               -50              \n",
       "0-11 -48               -67               -55              \n",
       "0-12 -45               -67               -50              \n",
       "0-13 -43               -69               -54              "
      ]
     },
     "metadata": {},
     "output_type": "display_data"
    }
   ],
=======
   "outputs": [],
>>>>>>> 66eb6c9fec8115d9e5fc0842898bf00e47e76891
   "source": [
    "# Test function for angle of 130 and m of 3; aggregate offline data angles of 90, 135, 180\n",
    "train130 = selectTrain(130, offlineSummary, m = 3)\n",
    "\n",
    "# Reformatted results for readability\n",
    "head(train130)\n"
   ]
  },
  {
   "cell_type": "code",
<<<<<<< HEAD
   "execution_count": 102,
   "metadata": {},
   "outputs": [],
   "source": [
    "train0 = selectTrain(0, offlineSummary, m = 3)\n",
    "train0$angle = 0\n",
    "train45 = selectTrain(45, offlineSummary, m = 3)\n",
    "train45$angle = 45\n",
    "train90 = selectTrain(90, offlineSummary, m = 3)\n",
    "train90$angle = 90\n",
    "train135 = selectTrain(135, offlineSummary, m = 3)\n",
    "train135$angle = 135\n",
    "train180 = selectTrain(180, offlineSummary, m = 3)\n",
    "train180$angle = 180\n",
    "train225 = selectTrain(225, offlineSummary, m = 3)\n",
    "train225$angle = 225\n",
    "train270 = selectTrain(270, offlineSummary, m = 3)\n",
    "train270$angle = 270\n",
    "train315 = selectTrain(315, offlineSummary, m = 3)\n",
    "train315$angle = 315"
   ]
  },
  {
   "cell_type": "code",
   "execution_count": 103,
   "metadata": {},
   "outputs": [],
   "source": [
    "trainexport <- rbind(train0, train45, train90, train135, train180, train225, train315)"
   ]
  },
  {
   "cell_type": "code",
   "execution_count": 104,
   "metadata": {},
   "outputs": [
    {
     "data": {
      "text/html": [
       "<table>\n",
       "<thead><tr><th></th><th scope=col>posXY</th><th scope=col>posX</th><th scope=col>posY</th><th scope=col>00:0f:a3:39:e1:c0</th><th scope=col>00:14:bf:3b:c7:c6</th><th scope=col>00:14:bf:b1:97:81</th><th scope=col>00:14:bf:b1:97:8a</th><th scope=col>00:14:bf:b1:97:8d</th><th scope=col>00:14:bf:b1:97:90</th><th scope=col>angle</th></tr></thead>\n",
       "<tbody>\n",
       "\t<tr><th scope=row>0-0</th><td>0-0 </td><td> 0  </td><td> 0  </td><td>-54 </td><td>-66 </td><td>-65 </td><td>-43 </td><td>-68 </td><td>-57 </td><td>0   </td></tr>\n",
       "\t<tr><th scope=row>0-1</th><td>0-1 </td><td> 0  </td><td> 1  </td><td>-53 </td><td>-68 </td><td>-68 </td><td>-41 </td><td>-65 </td><td>-58 </td><td>0   </td></tr>\n",
       "\t<tr><th scope=row>0-10</th><td>0-10</td><td> 0  </td><td>10  </td><td>-55 </td><td>-66 </td><td>-64 </td><td>-46 </td><td>-65 </td><td>-52 </td><td>0   </td></tr>\n",
       "\t<tr><th scope=row>0-11</th><td>0-11</td><td> 0  </td><td>11  </td><td>-53 </td><td>-69 </td><td>-71 </td><td>-47 </td><td>-66 </td><td>-56 </td><td>0   </td></tr>\n",
       "\t<tr><th scope=row>0-12</th><td>0-12</td><td> 0  </td><td>12  </td><td>-53 </td><td>-68 </td><td>-71 </td><td>-47 </td><td>-67 </td><td>-55 </td><td>0   </td></tr>\n",
       "\t<tr><th scope=row>0-13</th><td>0-13</td><td> 0  </td><td>13  </td><td>-56 </td><td>-71 </td><td>-71 </td><td>-45 </td><td>-68 </td><td>-55 </td><td>0   </td></tr>\n",
       "\t<tr><th scope=row>0-2</th><td>0-2 </td><td> 0  </td><td> 2  </td><td>-56 </td><td>-62 </td><td>-63 </td><td>-44 </td><td>-65 </td><td>-57 </td><td>0   </td></tr>\n",
       "\t<tr><th scope=row>0-3</th><td>0-3 </td><td> 0  </td><td> 3  </td><td>-54 </td><td>-63 </td><td>-58 </td><td>-43 </td><td>-61 </td><td>-54 </td><td>0   </td></tr>\n",
       "\t<tr><th scope=row>0-4</th><td>0-4 </td><td> 0  </td><td> 4  </td><td>-50 </td><td>-65 </td><td>-59 </td><td>-44 </td><td>-65 </td><td>-56 </td><td>0   </td></tr>\n",
       "\t<tr><th scope=row>0-7</th><td>0-7 </td><td> 0  </td><td> 7  </td><td>-58 </td><td>-63 </td><td>-64 </td><td>-47 </td><td>-54 </td><td>-57 </td><td>0   </td></tr>\n",
       "\t<tr><th scope=row>0-8</th><td>0-8 </td><td> 0  </td><td> 8  </td><td>-53 </td><td>-66 </td><td>-65 </td><td>-50 </td><td>-57 </td><td>-54 </td><td>0   </td></tr>\n",
       "\t<tr><th scope=row>0-9</th><td>0-9 </td><td> 0  </td><td> 9  </td><td>-52 </td><td>-67 </td><td>-65 </td><td>-49 </td><td>-63 </td><td>-55 </td><td>0   </td></tr>\n",
       "\t<tr><th scope=row>1-0</th><td>1-0 </td><td> 1  </td><td> 0  </td><td>-50 </td><td>-62 </td><td>-68 </td><td>-43 </td><td>-65 </td><td>-52 </td><td>0   </td></tr>\n",
       "\t<tr><th scope=row>1-1</th><td>1-1 </td><td> 1  </td><td> 1  </td><td>-54 </td><td>-62 </td><td>-66 </td><td>-44 </td><td>-64 </td><td>-55 </td><td>0   </td></tr>\n",
       "\t<tr><th scope=row>1-10</th><td>1-10</td><td> 1  </td><td>10  </td><td>-55 </td><td>-66 </td><td>-71 </td><td>-51 </td><td>-65 </td><td>-53 </td><td>0   </td></tr>\n",
       "\t<tr><th scope=row>1-11</th><td>1-11</td><td> 1  </td><td>11  </td><td>-55 </td><td>-66 </td><td>-70 </td><td>-47 </td><td>-64 </td><td>-51 </td><td>0   </td></tr>\n",
       "\t<tr><th scope=row>1-12</th><td>1-12</td><td> 1  </td><td>12  </td><td>-54 </td><td>-68 </td><td>-72 </td><td>-46 </td><td>-66 </td><td>-46 </td><td>0   </td></tr>\n",
       "\t<tr><th scope=row>1-13</th><td>1-13</td><td> 1  </td><td>13  </td><td>-56 </td><td>-71 </td><td>-74 </td><td>-50 </td><td>-69 </td><td>-44 </td><td>0   </td></tr>\n",
       "\t<tr><th scope=row>1-2</th><td>1-2 </td><td> 1  </td><td> 2  </td><td>-57 </td><td>-65 </td><td>-61 </td><td>-40 </td><td>-63 </td><td>-57 </td><td>0   </td></tr>\n",
       "\t<tr><th scope=row>1-3</th><td>1-3 </td><td> 1  </td><td> 3  </td><td>-52 </td><td>-66 </td><td>-58 </td><td>-40 </td><td>-61 </td><td>-57 </td><td>0   </td></tr>\n",
       "\t<tr><th scope=row>1-4</th><td>1-4 </td><td> 1  </td><td> 4  </td><td>-53 </td><td>-64 </td><td>-61 </td><td>-43 </td><td>-61 </td><td>-56 </td><td>0   </td></tr>\n",
       "\t<tr><th scope=row>1-5</th><td>1-5 </td><td> 1  </td><td> 5  </td><td>-55 </td><td>-68 </td><td>-65 </td><td>-42 </td><td>-63 </td><td>-56 </td><td>0   </td></tr>\n",
       "\t<tr><th scope=row>1-6</th><td>1-6 </td><td> 1  </td><td> 6  </td><td>-50 </td><td>-67 </td><td>-64 </td><td>-45 </td><td>-61 </td><td>-54 </td><td>0   </td></tr>\n",
       "\t<tr><th scope=row>1-7</th><td>1-7 </td><td> 1  </td><td> 7  </td><td>-53 </td><td>-68 </td><td>-66 </td><td>-49 </td><td>-53 </td><td>-51 </td><td>0   </td></tr>\n",
       "\t<tr><th scope=row>1-8</th><td>1-8 </td><td> 1  </td><td> 8  </td><td>-53 </td><td>-67 </td><td>-64 </td><td>-50 </td><td>-56 </td><td>-53 </td><td>0   </td></tr>\n",
       "\t<tr><th scope=row>1-9</th><td>1-9 </td><td> 1  </td><td> 9  </td><td>-53 </td><td>-67 </td><td>-65 </td><td>-46 </td><td>-65 </td><td>-53 </td><td>0   </td></tr>\n",
       "\t<tr><th scope=row>10-3</th><td>10-3</td><td>10  </td><td> 3  </td><td>-46 </td><td>-53 </td><td>-54 </td><td>-53 </td><td>-57 </td><td>-71 </td><td>0   </td></tr>\n",
       "\t<tr><th scope=row>10-4</th><td>10-4</td><td>10  </td><td> 4  </td><td>-49 </td><td>-51 </td><td>-56 </td><td>-56 </td><td>-56 </td><td>-69 </td><td>0   </td></tr>\n",
       "\t<tr><th scope=row>10-5</th><td>10-5</td><td>10  </td><td> 5  </td><td>-46 </td><td>-52 </td><td>-56 </td><td>-56 </td><td>-58 </td><td>-72 </td><td>0   </td></tr>\n",
       "\t<tr><th scope=row>10-6</th><td>10-6</td><td>10  </td><td> 6  </td><td>-43 </td><td>-51 </td><td>-59 </td><td>-57 </td><td>-55 </td><td>-64 </td><td>0   </td></tr>\n",
       "\t<tr><th scope=row>...</th><td>...</td><td>...</td><td>...</td><td>...</td><td>...</td><td>...</td><td>...</td><td>...</td><td>...</td><td>...</td></tr>\n",
       "\t<tr><th scope=row>31-86</th><td>31-8</td><td>31  </td><td>8   </td><td>-55 </td><td>-67 </td><td>-45 </td><td>-69 </td><td>-44 </td><td>-80 </td><td>315 </td></tr>\n",
       "\t<tr><th scope=row>32-36</th><td>32-3</td><td>32  </td><td>3   </td><td>-62 </td><td>-67 </td><td>-47 </td><td>-63 </td><td>-47 </td><td>-78 </td><td>315 </td></tr>\n",
       "\t<tr><th scope=row>32-46</th><td>32-4</td><td>32  </td><td>4   </td><td>-65 </td><td>-70 </td><td>-44 </td><td>-68 </td><td>-46 </td><td>-80 </td><td>315 </td></tr>\n",
       "\t<tr><th scope=row>32-56</th><td>32-5</td><td>32  </td><td>5   </td><td>-63 </td><td>-72 </td><td>-46 </td><td>-69 </td><td>-43 </td><td>-81 </td><td>315 </td></tr>\n",
       "\t<tr><th scope=row>32-66</th><td>32-6</td><td>32  </td><td>6   </td><td>-66 </td><td>-74 </td><td>-44 </td><td>-74 </td><td>-48 </td><td>-83 </td><td>315 </td></tr>\n",
       "\t<tr><th scope=row>32-76</th><td>32-7</td><td>32  </td><td>7   </td><td>-58 </td><td>-63 </td><td>-43 </td><td>-63 </td><td>-49 </td><td>-75 </td><td>315 </td></tr>\n",
       "\t<tr><th scope=row>32-86</th><td>32-8</td><td>32  </td><td>8   </td><td>-54 </td><td>-65 </td><td>-45 </td><td>-68 </td><td>-46 </td><td>-78 </td><td>315 </td></tr>\n",
       "\t<tr><th scope=row>33-36</th><td>33-3</td><td>33  </td><td>3   </td><td>-62 </td><td>-68 </td><td>-45 </td><td>-65 </td><td>-49 </td><td>-81 </td><td>315 </td></tr>\n",
       "\t<tr><th scope=row>33-46</th><td>33-4</td><td>33  </td><td>4   </td><td>-62 </td><td>-67 </td><td>-46 </td><td>-68 </td><td>-43 </td><td>-83 </td><td>315 </td></tr>\n",
       "\t<tr><th scope=row>33-76</th><td>33-7</td><td>33  </td><td>7   </td><td>-57 </td><td>-67 </td><td>-46 </td><td>-70 </td><td>-47 </td><td>-75 </td><td>315 </td></tr>\n",
       "\t<tr><th scope=row>33-86</th><td>33-8</td><td>33  </td><td>8   </td><td>-53 </td><td>-68 </td><td>-48 </td><td>-67 </td><td>-40 </td><td>-78 </td><td>315 </td></tr>\n",
       "\t<tr><th scope=row>4-36</th><td>4-3 </td><td> 4  </td><td>3   </td><td>-51 </td><td>-62 </td><td>-61 </td><td>-52 </td><td>-61 </td><td>-55 </td><td>315 </td></tr>\n",
       "\t<tr><th scope=row>4-76</th><td>4-7 </td><td> 4  </td><td>7   </td><td>-53 </td><td>-62 </td><td>-64 </td><td>-50 </td><td>-59 </td><td>-54 </td><td>315 </td></tr>\n",
       "\t<tr><th scope=row>4-86</th><td>4-8 </td><td> 4  </td><td>8   </td><td>-50 </td><td>-65 </td><td>-66 </td><td>-48 </td><td>-60 </td><td>-59 </td><td>315 </td></tr>\n",
       "\t<tr><th scope=row>5-36</th><td>5-3 </td><td> 5  </td><td>3   </td><td>-53 </td><td>-61 </td><td>-60 </td><td>-49 </td><td>-60 </td><td>-58 </td><td>315 </td></tr>\n",
       "\t<tr><th scope=row>5-76</th><td>5-7 </td><td> 5  </td><td>7   </td><td>-50 </td><td>-58 </td><td>-60 </td><td>-50 </td><td>-48 </td><td>-60 </td><td>315 </td></tr>\n",
       "\t<tr><th scope=row>5-86</th><td>5-8 </td><td> 5  </td><td>8   </td><td>-43 </td><td>-61 </td><td>-63 </td><td>-53 </td><td>-60 </td><td>-58 </td><td>315 </td></tr>\n",
       "\t<tr><th scope=row>6-36</th><td>6-3 </td><td> 6  </td><td>3   </td><td>-48 </td><td>-58 </td><td>-60 </td><td>-50 </td><td>-63 </td><td>-58 </td><td>315 </td></tr>\n",
       "\t<tr><th scope=row>6-76</th><td>6-7 </td><td> 6  </td><td>7   </td><td>-46 </td><td>-58 </td><td>-62 </td><td>-49 </td><td>-52 </td><td>-61 </td><td>315 </td></tr>\n",
       "\t<tr><th scope=row>6-86</th><td>6-8 </td><td> 6  </td><td>8   </td><td>-46 </td><td>-60 </td><td>-62 </td><td>-52 </td><td>-57 </td><td>-63 </td><td>315 </td></tr>\n",
       "\t<tr><th scope=row>7-36</th><td>7-3 </td><td> 7  </td><td>3   </td><td>-45 </td><td>-59 </td><td>-58 </td><td>-52 </td><td>-62 </td><td>-62 </td><td>315 </td></tr>\n",
       "\t<tr><th scope=row>7-76</th><td>7-7 </td><td> 7  </td><td>7   </td><td>-44 </td><td>-57 </td><td>-62 </td><td>-54 </td><td>-54 </td><td>-62 </td><td>315 </td></tr>\n",
       "\t<tr><th scope=row>7-86</th><td>7-8 </td><td> 7  </td><td>8   </td><td>-43 </td><td>-58 </td><td>-63 </td><td>-51 </td><td>-58 </td><td>-65 </td><td>315 </td></tr>\n",
       "\t<tr><th scope=row>8-36</th><td>8-3 </td><td> 8  </td><td>3   </td><td>-46 </td><td>-53 </td><td>-59 </td><td>-48 </td><td>-58 </td><td>-67 </td><td>315 </td></tr>\n",
       "\t<tr><th scope=row>8-76</th><td>8-7 </td><td> 8  </td><td>7   </td><td>-50 </td><td>-56 </td><td>-61 </td><td>-53 </td><td>-58 </td><td>-64 </td><td>315 </td></tr>\n",
       "\t<tr><th scope=row>8-86</th><td>8-8 </td><td> 8  </td><td>8   </td><td>-40 </td><td>-56 </td><td>-65 </td><td>-58 </td><td>-60 </td><td>-64 </td><td>315 </td></tr>\n",
       "\t<tr><th scope=row>9-36</th><td>9-3 </td><td> 9  </td><td>3   </td><td>-51 </td><td>-53 </td><td>-60 </td><td>-50 </td><td>-61 </td><td>-63 </td><td>315 </td></tr>\n",
       "\t<tr><th scope=row>9-46</th><td>9-4 </td><td> 9  </td><td>4   </td><td>-46 </td><td>-53 </td><td>-60 </td><td>-54 </td><td>-61 </td><td>-67 </td><td>315 </td></tr>\n",
       "\t<tr><th scope=row>9-76</th><td>9-7 </td><td> 9  </td><td>7   </td><td>-45 </td><td>-53 </td><td>-61 </td><td>-60 </td><td>-57 </td><td>-62 </td><td>315 </td></tr>\n",
       "\t<tr><th scope=row>9-86</th><td>9-8 </td><td> 9  </td><td>8   </td><td>-46 </td><td>-55 </td><td>-59 </td><td>-56 </td><td>-59 </td><td>-71 </td><td>315 </td></tr>\n",
       "</tbody>\n",
       "</table>\n"
      ],
      "text/latex": [
       "\\begin{tabular}{r|llllllllll}\n",
       "  & posXY & posX & posY & 00:0f:a3:39:e1:c0 & 00:14:bf:3b:c7:c6 & 00:14:bf:b1:97:81 & 00:14:bf:b1:97:8a & 00:14:bf:b1:97:8d & 00:14:bf:b1:97:90 & angle\\\\\n",
       "\\hline\n",
       "\t0-0 & 0-0  &  0   &  0   & -54  & -66  & -65  & -43  & -68  & -57  & 0   \\\\\n",
       "\t0-1 & 0-1  &  0   &  1   & -53  & -68  & -68  & -41  & -65  & -58  & 0   \\\\\n",
       "\t0-10 & 0-10 &  0   & 10   & -55  & -66  & -64  & -46  & -65  & -52  & 0   \\\\\n",
       "\t0-11 & 0-11 &  0   & 11   & -53  & -69  & -71  & -47  & -66  & -56  & 0   \\\\\n",
       "\t0-12 & 0-12 &  0   & 12   & -53  & -68  & -71  & -47  & -67  & -55  & 0   \\\\\n",
       "\t0-13 & 0-13 &  0   & 13   & -56  & -71  & -71  & -45  & -68  & -55  & 0   \\\\\n",
       "\t0-2 & 0-2  &  0   &  2   & -56  & -62  & -63  & -44  & -65  & -57  & 0   \\\\\n",
       "\t0-3 & 0-3  &  0   &  3   & -54  & -63  & -58  & -43  & -61  & -54  & 0   \\\\\n",
       "\t0-4 & 0-4  &  0   &  4   & -50  & -65  & -59  & -44  & -65  & -56  & 0   \\\\\n",
       "\t0-7 & 0-7  &  0   &  7   & -58  & -63  & -64  & -47  & -54  & -57  & 0   \\\\\n",
       "\t0-8 & 0-8  &  0   &  8   & -53  & -66  & -65  & -50  & -57  & -54  & 0   \\\\\n",
       "\t0-9 & 0-9  &  0   &  9   & -52  & -67  & -65  & -49  & -63  & -55  & 0   \\\\\n",
       "\t1-0 & 1-0  &  1   &  0   & -50  & -62  & -68  & -43  & -65  & -52  & 0   \\\\\n",
       "\t1-1 & 1-1  &  1   &  1   & -54  & -62  & -66  & -44  & -64  & -55  & 0   \\\\\n",
       "\t1-10 & 1-10 &  1   & 10   & -55  & -66  & -71  & -51  & -65  & -53  & 0   \\\\\n",
       "\t1-11 & 1-11 &  1   & 11   & -55  & -66  & -70  & -47  & -64  & -51  & 0   \\\\\n",
       "\t1-12 & 1-12 &  1   & 12   & -54  & -68  & -72  & -46  & -66  & -46  & 0   \\\\\n",
       "\t1-13 & 1-13 &  1   & 13   & -56  & -71  & -74  & -50  & -69  & -44  & 0   \\\\\n",
       "\t1-2 & 1-2  &  1   &  2   & -57  & -65  & -61  & -40  & -63  & -57  & 0   \\\\\n",
       "\t1-3 & 1-3  &  1   &  3   & -52  & -66  & -58  & -40  & -61  & -57  & 0   \\\\\n",
       "\t1-4 & 1-4  &  1   &  4   & -53  & -64  & -61  & -43  & -61  & -56  & 0   \\\\\n",
       "\t1-5 & 1-5  &  1   &  5   & -55  & -68  & -65  & -42  & -63  & -56  & 0   \\\\\n",
       "\t1-6 & 1-6  &  1   &  6   & -50  & -67  & -64  & -45  & -61  & -54  & 0   \\\\\n",
       "\t1-7 & 1-7  &  1   &  7   & -53  & -68  & -66  & -49  & -53  & -51  & 0   \\\\\n",
       "\t1-8 & 1-8  &  1   &  8   & -53  & -67  & -64  & -50  & -56  & -53  & 0   \\\\\n",
       "\t1-9 & 1-9  &  1   &  9   & -53  & -67  & -65  & -46  & -65  & -53  & 0   \\\\\n",
       "\t10-3 & 10-3 & 10   &  3   & -46  & -53  & -54  & -53  & -57  & -71  & 0   \\\\\n",
       "\t10-4 & 10-4 & 10   &  4   & -49  & -51  & -56  & -56  & -56  & -69  & 0   \\\\\n",
       "\t10-5 & 10-5 & 10   &  5   & -46  & -52  & -56  & -56  & -58  & -72  & 0   \\\\\n",
       "\t10-6 & 10-6 & 10   &  6   & -43  & -51  & -59  & -57  & -55  & -64  & 0   \\\\\n",
       "\t... & ... & ... & ... & ... & ... & ... & ... & ... & ... & ...\\\\\n",
       "\t31-86 & 31-8 & 31   & 8    & -55  & -67  & -45  & -69  & -44  & -80  & 315 \\\\\n",
       "\t32-36 & 32-3 & 32   & 3    & -62  & -67  & -47  & -63  & -47  & -78  & 315 \\\\\n",
       "\t32-46 & 32-4 & 32   & 4    & -65  & -70  & -44  & -68  & -46  & -80  & 315 \\\\\n",
       "\t32-56 & 32-5 & 32   & 5    & -63  & -72  & -46  & -69  & -43  & -81  & 315 \\\\\n",
       "\t32-66 & 32-6 & 32   & 6    & -66  & -74  & -44  & -74  & -48  & -83  & 315 \\\\\n",
       "\t32-76 & 32-7 & 32   & 7    & -58  & -63  & -43  & -63  & -49  & -75  & 315 \\\\\n",
       "\t32-86 & 32-8 & 32   & 8    & -54  & -65  & -45  & -68  & -46  & -78  & 315 \\\\\n",
       "\t33-36 & 33-3 & 33   & 3    & -62  & -68  & -45  & -65  & -49  & -81  & 315 \\\\\n",
       "\t33-46 & 33-4 & 33   & 4    & -62  & -67  & -46  & -68  & -43  & -83  & 315 \\\\\n",
       "\t33-76 & 33-7 & 33   & 7    & -57  & -67  & -46  & -70  & -47  & -75  & 315 \\\\\n",
       "\t33-86 & 33-8 & 33   & 8    & -53  & -68  & -48  & -67  & -40  & -78  & 315 \\\\\n",
       "\t4-36 & 4-3  &  4   & 3    & -51  & -62  & -61  & -52  & -61  & -55  & 315 \\\\\n",
       "\t4-76 & 4-7  &  4   & 7    & -53  & -62  & -64  & -50  & -59  & -54  & 315 \\\\\n",
       "\t4-86 & 4-8  &  4   & 8    & -50  & -65  & -66  & -48  & -60  & -59  & 315 \\\\\n",
       "\t5-36 & 5-3  &  5   & 3    & -53  & -61  & -60  & -49  & -60  & -58  & 315 \\\\\n",
       "\t5-76 & 5-7  &  5   & 7    & -50  & -58  & -60  & -50  & -48  & -60  & 315 \\\\\n",
       "\t5-86 & 5-8  &  5   & 8    & -43  & -61  & -63  & -53  & -60  & -58  & 315 \\\\\n",
       "\t6-36 & 6-3  &  6   & 3    & -48  & -58  & -60  & -50  & -63  & -58  & 315 \\\\\n",
       "\t6-76 & 6-7  &  6   & 7    & -46  & -58  & -62  & -49  & -52  & -61  & 315 \\\\\n",
       "\t6-86 & 6-8  &  6   & 8    & -46  & -60  & -62  & -52  & -57  & -63  & 315 \\\\\n",
       "\t7-36 & 7-3  &  7   & 3    & -45  & -59  & -58  & -52  & -62  & -62  & 315 \\\\\n",
       "\t7-76 & 7-7  &  7   & 7    & -44  & -57  & -62  & -54  & -54  & -62  & 315 \\\\\n",
       "\t7-86 & 7-8  &  7   & 8    & -43  & -58  & -63  & -51  & -58  & -65  & 315 \\\\\n",
       "\t8-36 & 8-3  &  8   & 3    & -46  & -53  & -59  & -48  & -58  & -67  & 315 \\\\\n",
       "\t8-76 & 8-7  &  8   & 7    & -50  & -56  & -61  & -53  & -58  & -64  & 315 \\\\\n",
       "\t8-86 & 8-8  &  8   & 8    & -40  & -56  & -65  & -58  & -60  & -64  & 315 \\\\\n",
       "\t9-36 & 9-3  &  9   & 3    & -51  & -53  & -60  & -50  & -61  & -63  & 315 \\\\\n",
       "\t9-46 & 9-4  &  9   & 4    & -46  & -53  & -60  & -54  & -61  & -67  & 315 \\\\\n",
       "\t9-76 & 9-7  &  9   & 7    & -45  & -53  & -61  & -60  & -57  & -62  & 315 \\\\\n",
       "\t9-86 & 9-8  &  9   & 8    & -46  & -55  & -59  & -56  & -59  & -71  & 315 \\\\\n",
       "\\end{tabular}\n"
      ],
      "text/markdown": [
       "\n",
       "| <!--/--> | posXY | posX | posY | 00:0f:a3:39:e1:c0 | 00:14:bf:3b:c7:c6 | 00:14:bf:b1:97:81 | 00:14:bf:b1:97:8a | 00:14:bf:b1:97:8d | 00:14:bf:b1:97:90 | angle |\n",
       "|---|---|---|---|---|---|---|---|---|---|---|\n",
       "| 0-0 | 0-0  |  0   |  0   | -54  | -66  | -65  | -43  | -68  | -57  | 0    |\n",
       "| 0-1 | 0-1  |  0   |  1   | -53  | -68  | -68  | -41  | -65  | -58  | 0    |\n",
       "| 0-10 | 0-10 |  0   | 10   | -55  | -66  | -64  | -46  | -65  | -52  | 0    |\n",
       "| 0-11 | 0-11 |  0   | 11   | -53  | -69  | -71  | -47  | -66  | -56  | 0    |\n",
       "| 0-12 | 0-12 |  0   | 12   | -53  | -68  | -71  | -47  | -67  | -55  | 0    |\n",
       "| 0-13 | 0-13 |  0   | 13   | -56  | -71  | -71  | -45  | -68  | -55  | 0    |\n",
       "| 0-2 | 0-2  |  0   |  2   | -56  | -62  | -63  | -44  | -65  | -57  | 0    |\n",
       "| 0-3 | 0-3  |  0   |  3   | -54  | -63  | -58  | -43  | -61  | -54  | 0    |\n",
       "| 0-4 | 0-4  |  0   |  4   | -50  | -65  | -59  | -44  | -65  | -56  | 0    |\n",
       "| 0-7 | 0-7  |  0   |  7   | -58  | -63  | -64  | -47  | -54  | -57  | 0    |\n",
       "| 0-8 | 0-8  |  0   |  8   | -53  | -66  | -65  | -50  | -57  | -54  | 0    |\n",
       "| 0-9 | 0-9  |  0   |  9   | -52  | -67  | -65  | -49  | -63  | -55  | 0    |\n",
       "| 1-0 | 1-0  |  1   |  0   | -50  | -62  | -68  | -43  | -65  | -52  | 0    |\n",
       "| 1-1 | 1-1  |  1   |  1   | -54  | -62  | -66  | -44  | -64  | -55  | 0    |\n",
       "| 1-10 | 1-10 |  1   | 10   | -55  | -66  | -71  | -51  | -65  | -53  | 0    |\n",
       "| 1-11 | 1-11 |  1   | 11   | -55  | -66  | -70  | -47  | -64  | -51  | 0    |\n",
       "| 1-12 | 1-12 |  1   | 12   | -54  | -68  | -72  | -46  | -66  | -46  | 0    |\n",
       "| 1-13 | 1-13 |  1   | 13   | -56  | -71  | -74  | -50  | -69  | -44  | 0    |\n",
       "| 1-2 | 1-2  |  1   |  2   | -57  | -65  | -61  | -40  | -63  | -57  | 0    |\n",
       "| 1-3 | 1-3  |  1   |  3   | -52  | -66  | -58  | -40  | -61  | -57  | 0    |\n",
       "| 1-4 | 1-4  |  1   |  4   | -53  | -64  | -61  | -43  | -61  | -56  | 0    |\n",
       "| 1-5 | 1-5  |  1   |  5   | -55  | -68  | -65  | -42  | -63  | -56  | 0    |\n",
       "| 1-6 | 1-6  |  1   |  6   | -50  | -67  | -64  | -45  | -61  | -54  | 0    |\n",
       "| 1-7 | 1-7  |  1   |  7   | -53  | -68  | -66  | -49  | -53  | -51  | 0    |\n",
       "| 1-8 | 1-8  |  1   |  8   | -53  | -67  | -64  | -50  | -56  | -53  | 0    |\n",
       "| 1-9 | 1-9  |  1   |  9   | -53  | -67  | -65  | -46  | -65  | -53  | 0    |\n",
       "| 10-3 | 10-3 | 10   |  3   | -46  | -53  | -54  | -53  | -57  | -71  | 0    |\n",
       "| 10-4 | 10-4 | 10   |  4   | -49  | -51  | -56  | -56  | -56  | -69  | 0    |\n",
       "| 10-5 | 10-5 | 10   |  5   | -46  | -52  | -56  | -56  | -58  | -72  | 0    |\n",
       "| 10-6 | 10-6 | 10   |  6   | -43  | -51  | -59  | -57  | -55  | -64  | 0    |\n",
       "| ... | ... | ... | ... | ... | ... | ... | ... | ... | ... | ... |\n",
       "| 31-86 | 31-8 | 31   | 8    | -55  | -67  | -45  | -69  | -44  | -80  | 315  |\n",
       "| 32-36 | 32-3 | 32   | 3    | -62  | -67  | -47  | -63  | -47  | -78  | 315  |\n",
       "| 32-46 | 32-4 | 32   | 4    | -65  | -70  | -44  | -68  | -46  | -80  | 315  |\n",
       "| 32-56 | 32-5 | 32   | 5    | -63  | -72  | -46  | -69  | -43  | -81  | 315  |\n",
       "| 32-66 | 32-6 | 32   | 6    | -66  | -74  | -44  | -74  | -48  | -83  | 315  |\n",
       "| 32-76 | 32-7 | 32   | 7    | -58  | -63  | -43  | -63  | -49  | -75  | 315  |\n",
       "| 32-86 | 32-8 | 32   | 8    | -54  | -65  | -45  | -68  | -46  | -78  | 315  |\n",
       "| 33-36 | 33-3 | 33   | 3    | -62  | -68  | -45  | -65  | -49  | -81  | 315  |\n",
       "| 33-46 | 33-4 | 33   | 4    | -62  | -67  | -46  | -68  | -43  | -83  | 315  |\n",
       "| 33-76 | 33-7 | 33   | 7    | -57  | -67  | -46  | -70  | -47  | -75  | 315  |\n",
       "| 33-86 | 33-8 | 33   | 8    | -53  | -68  | -48  | -67  | -40  | -78  | 315  |\n",
       "| 4-36 | 4-3  |  4   | 3    | -51  | -62  | -61  | -52  | -61  | -55  | 315  |\n",
       "| 4-76 | 4-7  |  4   | 7    | -53  | -62  | -64  | -50  | -59  | -54  | 315  |\n",
       "| 4-86 | 4-8  |  4   | 8    | -50  | -65  | -66  | -48  | -60  | -59  | 315  |\n",
       "| 5-36 | 5-3  |  5   | 3    | -53  | -61  | -60  | -49  | -60  | -58  | 315  |\n",
       "| 5-76 | 5-7  |  5   | 7    | -50  | -58  | -60  | -50  | -48  | -60  | 315  |\n",
       "| 5-86 | 5-8  |  5   | 8    | -43  | -61  | -63  | -53  | -60  | -58  | 315  |\n",
       "| 6-36 | 6-3  |  6   | 3    | -48  | -58  | -60  | -50  | -63  | -58  | 315  |\n",
       "| 6-76 | 6-7  |  6   | 7    | -46  | -58  | -62  | -49  | -52  | -61  | 315  |\n",
       "| 6-86 | 6-8  |  6   | 8    | -46  | -60  | -62  | -52  | -57  | -63  | 315  |\n",
       "| 7-36 | 7-3  |  7   | 3    | -45  | -59  | -58  | -52  | -62  | -62  | 315  |\n",
       "| 7-76 | 7-7  |  7   | 7    | -44  | -57  | -62  | -54  | -54  | -62  | 315  |\n",
       "| 7-86 | 7-8  |  7   | 8    | -43  | -58  | -63  | -51  | -58  | -65  | 315  |\n",
       "| 8-36 | 8-3  |  8   | 3    | -46  | -53  | -59  | -48  | -58  | -67  | 315  |\n",
       "| 8-76 | 8-7  |  8   | 7    | -50  | -56  | -61  | -53  | -58  | -64  | 315  |\n",
       "| 8-86 | 8-8  |  8   | 8    | -40  | -56  | -65  | -58  | -60  | -64  | 315  |\n",
       "| 9-36 | 9-3  |  9   | 3    | -51  | -53  | -60  | -50  | -61  | -63  | 315  |\n",
       "| 9-46 | 9-4  |  9   | 4    | -46  | -53  | -60  | -54  | -61  | -67  | 315  |\n",
       "| 9-76 | 9-7  |  9   | 7    | -45  | -53  | -61  | -60  | -57  | -62  | 315  |\n",
       "| 9-86 | 9-8  |  9   | 8    | -46  | -55  | -59  | -56  | -59  | -71  | 315  |\n",
       "\n"
      ],
      "text/plain": [
       "      posXY posX posY 00:0f:a3:39:e1:c0 00:14:bf:3b:c7:c6 00:14:bf:b1:97:81\n",
       "0-0   0-0    0    0   -54               -66               -65              \n",
       "0-1   0-1    0    1   -53               -68               -68              \n",
       "0-10  0-10   0   10   -55               -66               -64              \n",
       "0-11  0-11   0   11   -53               -69               -71              \n",
       "0-12  0-12   0   12   -53               -68               -71              \n",
       "0-13  0-13   0   13   -56               -71               -71              \n",
       "0-2   0-2    0    2   -56               -62               -63              \n",
       "0-3   0-3    0    3   -54               -63               -58              \n",
       "0-4   0-4    0    4   -50               -65               -59              \n",
       "0-7   0-7    0    7   -58               -63               -64              \n",
       "0-8   0-8    0    8   -53               -66               -65              \n",
       "0-9   0-9    0    9   -52               -67               -65              \n",
       "1-0   1-0    1    0   -50               -62               -68              \n",
       "1-1   1-1    1    1   -54               -62               -66              \n",
       "1-10  1-10   1   10   -55               -66               -71              \n",
       "1-11  1-11   1   11   -55               -66               -70              \n",
       "1-12  1-12   1   12   -54               -68               -72              \n",
       "1-13  1-13   1   13   -56               -71               -74              \n",
       "1-2   1-2    1    2   -57               -65               -61              \n",
       "1-3   1-3    1    3   -52               -66               -58              \n",
       "1-4   1-4    1    4   -53               -64               -61              \n",
       "1-5   1-5    1    5   -55               -68               -65              \n",
       "1-6   1-6    1    6   -50               -67               -64              \n",
       "1-7   1-7    1    7   -53               -68               -66              \n",
       "1-8   1-8    1    8   -53               -67               -64              \n",
       "1-9   1-9    1    9   -53               -67               -65              \n",
       "10-3  10-3  10    3   -46               -53               -54              \n",
       "10-4  10-4  10    4   -49               -51               -56              \n",
       "10-5  10-5  10    5   -46               -52               -56              \n",
       "10-6  10-6  10    6   -43               -51               -59              \n",
       "...   ...   ...  ...  ...               ...               ...              \n",
       "31-86 31-8  31   8    -55               -67               -45              \n",
       "32-36 32-3  32   3    -62               -67               -47              \n",
       "32-46 32-4  32   4    -65               -70               -44              \n",
       "32-56 32-5  32   5    -63               -72               -46              \n",
       "32-66 32-6  32   6    -66               -74               -44              \n",
       "32-76 32-7  32   7    -58               -63               -43              \n",
       "32-86 32-8  32   8    -54               -65               -45              \n",
       "33-36 33-3  33   3    -62               -68               -45              \n",
       "33-46 33-4  33   4    -62               -67               -46              \n",
       "33-76 33-7  33   7    -57               -67               -46              \n",
       "33-86 33-8  33   8    -53               -68               -48              \n",
       "4-36  4-3    4   3    -51               -62               -61              \n",
       "4-76  4-7    4   7    -53               -62               -64              \n",
       "4-86  4-8    4   8    -50               -65               -66              \n",
       "5-36  5-3    5   3    -53               -61               -60              \n",
       "5-76  5-7    5   7    -50               -58               -60              \n",
       "5-86  5-8    5   8    -43               -61               -63              \n",
       "6-36  6-3    6   3    -48               -58               -60              \n",
       "6-76  6-7    6   7    -46               -58               -62              \n",
       "6-86  6-8    6   8    -46               -60               -62              \n",
       "7-36  7-3    7   3    -45               -59               -58              \n",
       "7-76  7-7    7   7    -44               -57               -62              \n",
       "7-86  7-8    7   8    -43               -58               -63              \n",
       "8-36  8-3    8   3    -46               -53               -59              \n",
       "8-76  8-7    8   7    -50               -56               -61              \n",
       "8-86  8-8    8   8    -40               -56               -65              \n",
       "9-36  9-3    9   3    -51               -53               -60              \n",
       "9-46  9-4    9   4    -46               -53               -60              \n",
       "9-76  9-7    9   7    -45               -53               -61              \n",
       "9-86  9-8    9   8    -46               -55               -59              \n",
       "      00:14:bf:b1:97:8a 00:14:bf:b1:97:8d 00:14:bf:b1:97:90 angle\n",
       "0-0   -43               -68               -57               0    \n",
       "0-1   -41               -65               -58               0    \n",
       "0-10  -46               -65               -52               0    \n",
       "0-11  -47               -66               -56               0    \n",
       "0-12  -47               -67               -55               0    \n",
       "0-13  -45               -68               -55               0    \n",
       "0-2   -44               -65               -57               0    \n",
       "0-3   -43               -61               -54               0    \n",
       "0-4   -44               -65               -56               0    \n",
       "0-7   -47               -54               -57               0    \n",
       "0-8   -50               -57               -54               0    \n",
       "0-9   -49               -63               -55               0    \n",
       "1-0   -43               -65               -52               0    \n",
       "1-1   -44               -64               -55               0    \n",
       "1-10  -51               -65               -53               0    \n",
       "1-11  -47               -64               -51               0    \n",
       "1-12  -46               -66               -46               0    \n",
       "1-13  -50               -69               -44               0    \n",
       "1-2   -40               -63               -57               0    \n",
       "1-3   -40               -61               -57               0    \n",
       "1-4   -43               -61               -56               0    \n",
       "1-5   -42               -63               -56               0    \n",
       "1-6   -45               -61               -54               0    \n",
       "1-7   -49               -53               -51               0    \n",
       "1-8   -50               -56               -53               0    \n",
       "1-9   -46               -65               -53               0    \n",
       "10-3  -53               -57               -71               0    \n",
       "10-4  -56               -56               -69               0    \n",
       "10-5  -56               -58               -72               0    \n",
       "10-6  -57               -55               -64               0    \n",
       "...   ...               ...               ...               ...  \n",
       "31-86 -69               -44               -80               315  \n",
       "32-36 -63               -47               -78               315  \n",
       "32-46 -68               -46               -80               315  \n",
       "32-56 -69               -43               -81               315  \n",
       "32-66 -74               -48               -83               315  \n",
       "32-76 -63               -49               -75               315  \n",
       "32-86 -68               -46               -78               315  \n",
       "33-36 -65               -49               -81               315  \n",
       "33-46 -68               -43               -83               315  \n",
       "33-76 -70               -47               -75               315  \n",
       "33-86 -67               -40               -78               315  \n",
       "4-36  -52               -61               -55               315  \n",
       "4-76  -50               -59               -54               315  \n",
       "4-86  -48               -60               -59               315  \n",
       "5-36  -49               -60               -58               315  \n",
       "5-76  -50               -48               -60               315  \n",
       "5-86  -53               -60               -58               315  \n",
       "6-36  -50               -63               -58               315  \n",
       "6-76  -49               -52               -61               315  \n",
       "6-86  -52               -57               -63               315  \n",
       "7-36  -52               -62               -62               315  \n",
       "7-76  -54               -54               -62               315  \n",
       "7-86  -51               -58               -65               315  \n",
       "8-36  -48               -58               -67               315  \n",
       "8-76  -53               -58               -64               315  \n",
       "8-86  -58               -60               -64               315  \n",
       "9-36  -50               -61               -63               315  \n",
       "9-46  -54               -61               -67               315  \n",
       "9-76  -60               -57               -62               315  \n",
       "9-86  -56               -59               -71               315  "
      ]
     },
     "metadata": {},
     "output_type": "display_data"
    }
   ],
   "source": [
    "trainexport"
   ]
  },
  {
   "cell_type": "code",
   "execution_count": 105,
   "metadata": {},
   "outputs": [],
   "source": [
    "write.csv(trainexport,\"C:/Users/jjschued/Documents/SMU/7333 QTW/trainexport.csv\", row.names = TRUE)"
   ]
  },
  {
   "cell_type": "code",
   "execution_count": 56,
=======
   "execution_count": null,
>>>>>>> 66eb6c9fec8115d9e5fc0842898bf00e47e76891
   "metadata": {
    "colab": {},
    "colab_type": "code",
    "id": "xmpiyA-K720Q",
    "outputId": "4db9e2a5-903d-4028-b709-cc23cf23d65a"
   },
<<<<<<< HEAD
   "outputs": [
    {
     "data": {
      "text/html": [
       "166"
      ],
      "text/latex": [
       "166"
      ],
      "text/markdown": [
       "166"
      ],
      "text/plain": [
       "[1] 166"
      ]
     },
     "metadata": {},
     "output_type": "display_data"
    }
   ],
=======
   "outputs": [],
>>>>>>> 66eb6c9fec8115d9e5fc0842898bf00e47e76891
   "source": [
    "# selectTrain() averages signal strength for different angles to produce one set of signal strengths for each 166 location in training data\n",
    "length(train130[[1]])"
   ]
  },
  {
   "cell_type": "code",
<<<<<<< HEAD
   "execution_count": 57,
=======
   "execution_count": null,
>>>>>>> 66eb6c9fec8115d9e5fc0842898bf00e47e76891
   "metadata": {
    "colab": {},
    "colab_type": "code",
    "id": "zWfKQazN720U"
   },
   "outputs": [],
   "source": [
    "# May not want to collapse signal strengths across m angles and instead return a set of mX166 signals\n",
    "# Try alternative approach"
   ]
  },
  {
   "cell_type": "markdown",
   "metadata": {
    "colab_type": "text",
    "id": "PnLnw3Me720W"
   },
   "source": [
    "### 1.5.3 Finding the Nearest Neighbors\n",
    "#### have training data to use to predict location of new points; look at distance in terms of signal strengths from these training data to new point. "
   ]
  },
  {
   "cell_type": "code",
<<<<<<< HEAD
   "execution_count": 58,
=======
   "execution_count": null,
>>>>>>> 66eb6c9fec8115d9e5fc0842898bf00e47e76891
   "metadata": {
    "colab": {},
    "colab_type": "code",
    "id": "sECK5bn0720W"
   },
   "outputs": [],
   "source": [
    "m <- 3\n",
    "angleNewObs <- 230\n",
    "refs <- seq(0, by = 45, length = 8)\n",
    "nearestAngle <- roundOrientation(angleNewObs)\n",
    "\n",
    "if (m%%2 == 1) {\n",
    "    angles = seq(-45 * (m - 1)/2, 45 * (m - 1)/2, length = m)\n",
    "} else {\n",
    "    m = m + 1\n",
    "    angles = seq(-45 * (m - 1)/2, 45 * (m - 1)/2, length = m)\n",
    "    if (sign(angleNewObs - nearestAngle) > -1) \n",
    "        angles = angles[-1] else angles = angles[-m]\n",
    "}\n",
    "\n",
    "## m odd and even are handled seperatly. Map angles to refs Adjustments\n",
    "angles <- angles + nearestAngle\n",
    "angles[angles < 0] = angles[angles < 0] + 360\n",
    "angles[angles > 360] = angles[angles > 360] - 360"
   ]
  },
  {
   "cell_type": "code",
<<<<<<< HEAD
   "execution_count": 59,
=======
   "execution_count": null,
>>>>>>> 66eb6c9fec8115d9e5fc0842898bf00e47e76891
   "metadata": {
    "colab": {},
    "colab_type": "code",
    "id": "lh15H64p720Z"
   },
   "outputs": [],
   "source": [
    "offlineSubset <- offlineSummary[offlineSummary$angle %in% angles, ]"
   ]
  },
  {
   "cell_type": "code",
<<<<<<< HEAD
   "execution_count": 60,
=======
   "execution_count": null,
>>>>>>> 66eb6c9fec8115d9e5fc0842898bf00e47e76891
   "metadata": {
    "colab": {},
    "colab_type": "code",
    "id": "yZnA-jXa720b"
   },
   "outputs": [],
   "source": [
    "reshapeSS <- function(data, varSignal = \"signal\", keepVars = c(\"posXY\", \"posX\", \n",
    "    \"posY\")) {\n",
    "    byLocation <- with(data, by(data, list(posXY), function(x) {\n",
    "        ans = x[1, keepVars]\n",
    "        avgSS = tapply(x[, varSignal], x$mac, mean)\n",
    "        y = matrix(avgSS, nrow = 1, ncol = 6, dimnames = list(ans$posXY, names(avgSS)))\n",
    "        cbind(ans, y)\n",
    "    }))\n",
    "    \n",
    "    newDataSS <- do.call(\"rbind\", byLocation)\n",
    "    return(newDataSS)\n",
    "}"
   ]
  },
  {
   "cell_type": "code",
<<<<<<< HEAD
   "execution_count": 61,
=======
   "execution_count": null,
>>>>>>> 66eb6c9fec8115d9e5fc0842898bf00e47e76891
   "metadata": {
    "colab": {},
    "colab_type": "code",
    "id": "S33_Hpsa720d"
   },
   "outputs": [],
   "source": [
    "trainSS <- reshapeSS(offlineSubset, varSignal = \"avgSignal\")"
   ]
  },
  {
   "cell_type": "code",
<<<<<<< HEAD
   "execution_count": 62,
=======
   "execution_count": null,
>>>>>>> 66eb6c9fec8115d9e5fc0842898bf00e47e76891
   "metadata": {
    "colab": {},
    "colab_type": "code",
    "id": "AoogiwcK720g"
   },
   "outputs": [],
   "source": [
    "trainSS = reshapeSS(offlineSubset, varSignal = \"avgSignal\")\n",
    "\n",
    "selectTrain = function(angleNewObs, signals = NULL, m = 1) {\n",
    "    # m is the number of angles to keep between 1 and 5\n",
    "    refs = seq(0, by = 45, length = 8)\n",
    "    nearestAngle = roundOrientation(angleNewObs)\n",
    "    \n",
    "    if (m%%2 == 1) \n",
    "        angles = seq(-45 * (m - 1)/2, 45 * (m - 1)/2, length = m) else {\n",
    "        m = m + 1\n",
    "        angles = seq(-45 * (m - 1)/2, 45 * (m - 1)/2, length = m)\n",
    "        if (sign(angleNewObs - nearestAngle) > -1) \n",
    "            angles = angles[-1] else angles = angles[-m]\n",
    "    }\n",
    "    angles = angles + nearestAngle\n",
    "    angles[angles < 0] = angles[angles < 0] + 360\n",
    "    angles[angles > 360] = angles[angles > 360] - 360\n",
    "    angles = sort(angles)\n",
    "    \n",
    "    offlineSubset = signals[signals$angle %in% angles, ]\n",
    "    reshapeSS(offlineSubset, varSignal = \"avgSignal\")\n",
    "}"
   ]
  },
  {
   "cell_type": "code",
<<<<<<< HEAD
   "execution_count": 63,
=======
   "execution_count": null,
>>>>>>> 66eb6c9fec8115d9e5fc0842898bf00e47e76891
   "metadata": {
    "colab": {},
    "colab_type": "code",
    "id": "d-wzaqL7720i",
    "outputId": "f139a0cc-7bab-458b-8cc9-841d1e667a53"
   },
<<<<<<< HEAD
   "outputs": [
    {
     "data": {
      "text/html": [
       "<table>\n",
       "<thead><tr><th></th><th scope=col>posXY</th><th scope=col>posX</th><th scope=col>posY</th><th scope=col>00:0f:a3:39:e1:c0</th><th scope=col>00:14:bf:3b:c7:c6</th><th scope=col>00:14:bf:b1:97:81</th><th scope=col>00:14:bf:b1:97:8a</th><th scope=col>00:14:bf:b1:97:8d</th><th scope=col>00:14:bf:b1:97:90</th></tr></thead>\n",
       "<tbody>\n",
       "\t<tr><th scope=row>0-0</th><td>0-0 </td><td>0   </td><td> 0  </td><td>-52 </td><td>-66 </td><td>-63 </td><td>-36 </td><td>-64 </td><td>-55 </td></tr>\n",
       "\t<tr><th scope=row>0-1</th><td>0-1 </td><td>0   </td><td> 1  </td><td>-53 </td><td>-65 </td><td>-64 </td><td>-39 </td><td>-65 </td><td>-59 </td></tr>\n",
       "\t<tr><th scope=row>0-10</th><td>0-10</td><td>0   </td><td>10  </td><td>-56 </td><td>-66 </td><td>-69 </td><td>-45 </td><td>-67 </td><td>-50 </td></tr>\n",
       "\t<tr><th scope=row>0-11</th><td>0-11</td><td>0   </td><td>11  </td><td>-55 </td><td>-67 </td><td>-70 </td><td>-48 </td><td>-67 </td><td>-55 </td></tr>\n",
       "\t<tr><th scope=row>0-12</th><td>0-12</td><td>0   </td><td>12  </td><td>-56 </td><td>-70 </td><td>-72 </td><td>-45 </td><td>-67 </td><td>-50 </td></tr>\n",
       "\t<tr><th scope=row>0-13</th><td>0-13</td><td>0   </td><td>13  </td><td>-55 </td><td>-71 </td><td>-73 </td><td>-43 </td><td>-69 </td><td>-54 </td></tr>\n",
       "</tbody>\n",
       "</table>\n"
      ],
      "text/latex": [
       "\\begin{tabular}{r|lllllllll}\n",
       "  & posXY & posX & posY & 00:0f:a3:39:e1:c0 & 00:14:bf:3b:c7:c6 & 00:14:bf:b1:97:81 & 00:14:bf:b1:97:8a & 00:14:bf:b1:97:8d & 00:14:bf:b1:97:90\\\\\n",
       "\\hline\n",
       "\t0-0 & 0-0  & 0    &  0   & -52  & -66  & -63  & -36  & -64  & -55 \\\\\n",
       "\t0-1 & 0-1  & 0    &  1   & -53  & -65  & -64  & -39  & -65  & -59 \\\\\n",
       "\t0-10 & 0-10 & 0    & 10   & -56  & -66  & -69  & -45  & -67  & -50 \\\\\n",
       "\t0-11 & 0-11 & 0    & 11   & -55  & -67  & -70  & -48  & -67  & -55 \\\\\n",
       "\t0-12 & 0-12 & 0    & 12   & -56  & -70  & -72  & -45  & -67  & -50 \\\\\n",
       "\t0-13 & 0-13 & 0    & 13   & -55  & -71  & -73  & -43  & -69  & -54 \\\\\n",
       "\\end{tabular}\n"
      ],
      "text/markdown": [
       "\n",
       "| <!--/--> | posXY | posX | posY | 00:0f:a3:39:e1:c0 | 00:14:bf:3b:c7:c6 | 00:14:bf:b1:97:81 | 00:14:bf:b1:97:8a | 00:14:bf:b1:97:8d | 00:14:bf:b1:97:90 |\n",
       "|---|---|---|---|---|---|---|---|---|---|\n",
       "| 0-0 | 0-0  | 0    |  0   | -52  | -66  | -63  | -36  | -64  | -55  |\n",
       "| 0-1 | 0-1  | 0    |  1   | -53  | -65  | -64  | -39  | -65  | -59  |\n",
       "| 0-10 | 0-10 | 0    | 10   | -56  | -66  | -69  | -45  | -67  | -50  |\n",
       "| 0-11 | 0-11 | 0    | 11   | -55  | -67  | -70  | -48  | -67  | -55  |\n",
       "| 0-12 | 0-12 | 0    | 12   | -56  | -70  | -72  | -45  | -67  | -50  |\n",
       "| 0-13 | 0-13 | 0    | 13   | -55  | -71  | -73  | -43  | -69  | -54  |\n",
       "\n"
      ],
      "text/plain": [
       "     posXY posX posY 00:0f:a3:39:e1:c0 00:14:bf:3b:c7:c6 00:14:bf:b1:97:81\n",
       "0-0  0-0   0     0   -52               -66               -63              \n",
       "0-1  0-1   0     1   -53               -65               -64              \n",
       "0-10 0-10  0    10   -56               -66               -69              \n",
       "0-11 0-11  0    11   -55               -67               -70              \n",
       "0-12 0-12  0    12   -56               -70               -72              \n",
       "0-13 0-13  0    13   -55               -71               -73              \n",
       "     00:14:bf:b1:97:8a 00:14:bf:b1:97:8d 00:14:bf:b1:97:90\n",
       "0-0  -36               -64               -55              \n",
       "0-1  -39               -65               -59              \n",
       "0-10 -45               -67               -50              \n",
       "0-11 -48               -67               -55              \n",
       "0-12 -45               -67               -50              \n",
       "0-13 -43               -69               -54              "
      ]
     },
     "metadata": {},
     "output_type": "display_data"
    }
   ],
=======
   "outputs": [],
>>>>>>> 66eb6c9fec8115d9e5fc0842898bf00e47e76891
   "source": [
    "train130 <- selectTrain(130, offlineSummary, m = 3)\n",
    "head(train130)"
   ]
  },
  {
   "cell_type": "code",
<<<<<<< HEAD
   "execution_count": 64,
=======
   "execution_count": null,
>>>>>>> 66eb6c9fec8115d9e5fc0842898bf00e47e76891
   "metadata": {
    "colab": {},
    "colab_type": "code",
    "id": "__6kiHRk720k"
   },
   "outputs": [],
   "source": [
    "# Use findNN() to calcluate distance from new point to all observations in training set\n",
    "# Parameters are numeric vector of 6 new signal strengths and the return value from selectTrain()\n",
    "# Returns locations of training observations in order of closeness to new observation's signal strength\n",
    "\n",
    "findNN = function(newSignal, trainSubset) {\n",
    "  diffs = apply(trainSubset[ , 4:9], 1, \n",
    "                function(x) x - newSignal)\n",
    "  dists = apply(diffs, 2, function(x) sqrt(sum(x^2)) )\n",
    "  closest = order(dists)\n",
    "  return(trainSubset[closest, 1:3 ])\n",
    "}\n"
   ]
  },
  {
   "cell_type": "code",
<<<<<<< HEAD
   "execution_count": 84,
   "metadata": {},
   "outputs": [
    {
     "ename": "ERROR",
     "evalue": "Error in eval(expr, envir, enclos): object 'newSignal' not found\n",
     "output_type": "error",
     "traceback": [
      "Error in eval(expr, envir, enclos): object 'newSignal' not found\nTraceback:\n"
     ]
    }
   ],
   "source": [
    "newSignal"
   ]
  },
  {
   "cell_type": "code",
   "execution_count": 65,
=======
   "execution_count": null,
>>>>>>> 66eb6c9fec8115d9e5fc0842898bf00e47e76891
   "metadata": {
    "colab": {},
    "colab_type": "code",
    "id": "ckADllAP720p"
   },
   "outputs": [],
   "source": [
    "# Two functions, trainSelect() and findNN(), to provide locations in trainig data that have signals strengths close to test obsercvation.\n",
    "# Formalize approach to make predictions for all test data, with predXY()\n",
    "predXY <- function(newSignals, newAngles, trainData, numAngles = 1, k = 5) {\n",
    "    \n",
    "    closeXY = list(length = nrow(newSignals))\n",
    "    \n",
    "    for (i in 1:nrow(newSignals)) {\n",
    "        trainSS = selectTrain(newAngles[i], trainData, m = numAngles)\n",
    "        closeXY[[i]] = findNN(newSignal = as.numeric(newSignals[i, ]), trainSS)\n",
    "    }\n",
    "    \n",
    "    estXY = lapply(closeXY, function(x) sapply(x[, 2:3], function(x) mean(x[1:k])))\n",
    "    estXY = do.call(\"rbind\", estXY)\n",
    "    return(estXY)\n",
    "}"
   ]
  },
  {
   "cell_type": "code",
<<<<<<< HEAD
   "execution_count": 66,
=======
   "execution_count": null,
>>>>>>> 66eb6c9fec8115d9e5fc0842898bf00e47e76891
   "metadata": {
    "colab": {},
    "colab_type": "code",
    "id": "52Y1hADK720r"
   },
   "outputs": [],
   "source": [
    "# Test functions with case of 3 nearest neighbors and 3 orientation\n",
    "# Map k = 3 and Map k = 1\n",
    "\n",
    "estXYk3 = predXY(newSignals = onlineSummary[ , 6:11], \n",
    "                 newAngles = onlineSummary[ , 4], \n",
    "                 offlineSummary, numAngles = 3, k = 3)\n",
    "\n",
    "estXYk1 = predXY(newSignals = onlineSummary[ , 6:11], \n",
    "                 newAngles = onlineSummary[ , 4], \n",
    "                 offlineSummary, numAngles = 3, k = 1)\n"
   ]
  },
  {
   "cell_type": "code",
<<<<<<< HEAD
   "execution_count": 90,
   "metadata": {},
   "outputs": [],
   "source": [
    "#onlineSummary\n",
    "\n",
    "write.csv(onlineSummary,\"C:/Users/jjschued/Documents/SMU/7333 QTW/onlineSummary.csv\", row.names = TRUE)\n",
    "write.csv(offlineSummary,\"C:/Users/jjschued/Documents/SMU/7333 QTW/offlineSummary.csv\", row.names = TRUE)"
   ]
  },
  {
   "cell_type": "code",
   "execution_count": 92,
   "metadata": {},
   "outputs": [
    {
     "data": {
      "text/html": [
       "<table>\n",
       "<thead><tr><th></th><th scope=col>posX</th><th scope=col>posY</th></tr></thead>\n",
       "<tbody>\n",
       "\t<tr><th scope=row>length</th><td>0.67</td><td> 3.7</td></tr>\n",
       "\t<tr><th scope=row></th><td>1.67</td><td>11.7</td></tr>\n",
       "\t<tr><th scope=row></th><td>0.67</td><td>11.3</td></tr>\n",
       "\t<tr><th scope=row></th><td>1.33</td><td> 7.0</td></tr>\n",
       "\t<tr><th scope=row></th><td>1.00</td><td> 9.0</td></tr>\n",
       "\t<tr><th scope=row></th><td>1.67</td><td>12.0</td></tr>\n",
       "</tbody>\n",
       "</table>\n"
      ],
      "text/latex": [
       "\\begin{tabular}{r|ll}\n",
       "  & posX & posY\\\\\n",
       "\\hline\n",
       "\tlength & 0.67 &  3.7\\\\\n",
       "\t & 1.67 & 11.7\\\\\n",
       "\t & 0.67 & 11.3\\\\\n",
       "\t & 1.33 &  7.0\\\\\n",
       "\t & 1.00 &  9.0\\\\\n",
       "\t & 1.67 & 12.0\\\\\n",
       "\\end{tabular}\n"
      ],
      "text/markdown": [
       "\n",
       "| <!--/--> | posX | posY |\n",
       "|---|---|---|\n",
       "| length | 0.67 |  3.7 |\n",
       "|  | 1.67 | 11.7 |\n",
       "|  | 0.67 | 11.3 |\n",
       "|  | 1.33 |  7.0 |\n",
       "|  | 1.00 |  9.0 |\n",
       "|  | 1.67 | 12.0 |\n",
       "\n"
      ],
      "text/plain": [
       "       posX posY\n",
       "length 0.67  3.7\n",
       "       1.67 11.7\n",
       "       0.67 11.3\n",
       "       1.33  7.0\n",
       "       1.00  9.0\n",
       "       1.67 12.0"
      ]
     },
     "metadata": {},
     "output_type": "display_data"
    }
   ],
   "source": [
    "head(estXYk3)"
   ]
  },
  {
   "cell_type": "code",
   "execution_count": 91,
   "metadata": {},
   "outputs": [
    {
     "data": {
      "text/html": [
       "<table>\n",
       "<thead><tr><th></th><th scope=col>posXY</th><th scope=col>posX</th><th scope=col>posY</th><th scope=col>orientation</th><th scope=col>angle</th><th scope=col>00:0f:a3:39:e1:c0</th><th scope=col>00:14:bf:3b:c7:c6</th><th scope=col>00:14:bf:b1:97:81</th><th scope=col>00:14:bf:b1:97:8a</th><th scope=col>00:14:bf:b1:97:8d</th><th scope=col>00:14:bf:b1:97:90</th></tr></thead>\n",
       "<tbody>\n",
       "\t<tr><th scope=row>0-0.05</th><td>0-0.05    </td><td>0.00      </td><td> 0.05     </td><td>130.5     </td><td>135       </td><td>-52       </td><td>-63       </td><td>-62       </td><td>-40       </td><td>-63       </td><td>-55       </td></tr>\n",
       "\t<tr><th scope=row>0.15-9.42</th><td>0.15-9.42 </td><td>0.15      </td><td> 9.42     </td><td>112.3     </td><td> 90       </td><td>-55       </td><td>-74       </td><td>-73       </td><td>-48       </td><td>-69       </td><td>-47       </td></tr>\n",
       "\t<tr><th scope=row>0.31-11.09</th><td>0.31-11.09</td><td>0.31      </td><td>11.09     </td><td>230.1     </td><td>225       </td><td>-52       </td><td>-70       </td><td>-70       </td><td>-54       </td><td>-69       </td><td>-54       </td></tr>\n",
       "\t<tr><th scope=row>0.47-8.2</th><td>0.47-8.2  </td><td>0.47      </td><td> 8.20     </td><td>  5.8     </td><td>  0       </td><td>-50       </td><td>-64       </td><td>-73       </td><td>-46       </td><td>-61       </td><td>-50       </td></tr>\n",
       "\t<tr><th scope=row>0.78-10.94</th><td>0.78-10.94</td><td>0.78      </td><td>10.94     </td><td>348.3     </td><td>  0       </td><td>-53       </td><td>-67       </td><td>-67       </td><td>-48       </td><td>-65       </td><td>-55       </td></tr>\n",
       "\t<tr><th scope=row>0.93-11.69</th><td>0.93-11.69</td><td>0.93      </td><td>11.69     </td><td>158.3     </td><td>180       </td><td>-58       </td><td>-70       </td><td>-71       </td><td>-44       </td><td>-66       </td><td>-47       </td></tr>\n",
       "</tbody>\n",
       "</table>\n"
      ],
      "text/latex": [
       "\\begin{tabular}{r|lllllllllll}\n",
       "  & posXY & posX & posY & orientation & angle & 00:0f:a3:39:e1:c0 & 00:14:bf:3b:c7:c6 & 00:14:bf:b1:97:81 & 00:14:bf:b1:97:8a & 00:14:bf:b1:97:8d & 00:14:bf:b1:97:90\\\\\n",
       "\\hline\n",
       "\t0-0.05 & 0-0.05     & 0.00       &  0.05      & 130.5      & 135        & -52        & -63        & -62        & -40        & -63        & -55       \\\\\n",
       "\t0.15-9.42 & 0.15-9.42  & 0.15       &  9.42      & 112.3      &  90        & -55        & -74        & -73        & -48        & -69        & -47       \\\\\n",
       "\t0.31-11.09 & 0.31-11.09 & 0.31       & 11.09      & 230.1      & 225        & -52        & -70        & -70        & -54        & -69        & -54       \\\\\n",
       "\t0.47-8.2 & 0.47-8.2   & 0.47       &  8.20      &   5.8      &   0        & -50        & -64        & -73        & -46        & -61        & -50       \\\\\n",
       "\t0.78-10.94 & 0.78-10.94 & 0.78       & 10.94      & 348.3      &   0        & -53        & -67        & -67        & -48        & -65        & -55       \\\\\n",
       "\t0.93-11.69 & 0.93-11.69 & 0.93       & 11.69      & 158.3      & 180        & -58        & -70        & -71        & -44        & -66        & -47       \\\\\n",
       "\\end{tabular}\n"
      ],
      "text/markdown": [
       "\n",
       "| <!--/--> | posXY | posX | posY | orientation | angle | 00:0f:a3:39:e1:c0 | 00:14:bf:3b:c7:c6 | 00:14:bf:b1:97:81 | 00:14:bf:b1:97:8a | 00:14:bf:b1:97:8d | 00:14:bf:b1:97:90 |\n",
       "|---|---|---|---|---|---|---|---|---|---|---|---|\n",
       "| 0-0.05 | 0-0.05     | 0.00       |  0.05      | 130.5      | 135        | -52        | -63        | -62        | -40        | -63        | -55        |\n",
       "| 0.15-9.42 | 0.15-9.42  | 0.15       |  9.42      | 112.3      |  90        | -55        | -74        | -73        | -48        | -69        | -47        |\n",
       "| 0.31-11.09 | 0.31-11.09 | 0.31       | 11.09      | 230.1      | 225        | -52        | -70        | -70        | -54        | -69        | -54        |\n",
       "| 0.47-8.2 | 0.47-8.2   | 0.47       |  8.20      |   5.8      |   0        | -50        | -64        | -73        | -46        | -61        | -50        |\n",
       "| 0.78-10.94 | 0.78-10.94 | 0.78       | 10.94      | 348.3      |   0        | -53        | -67        | -67        | -48        | -65        | -55        |\n",
       "| 0.93-11.69 | 0.93-11.69 | 0.93       | 11.69      | 158.3      | 180        | -58        | -70        | -71        | -44        | -66        | -47        |\n",
       "\n"
      ],
      "text/plain": [
       "           posXY      posX posY  orientation angle 00:0f:a3:39:e1:c0\n",
       "0-0.05     0-0.05     0.00  0.05 130.5       135   -52              \n",
       "0.15-9.42  0.15-9.42  0.15  9.42 112.3        90   -55              \n",
       "0.31-11.09 0.31-11.09 0.31 11.09 230.1       225   -52              \n",
       "0.47-8.2   0.47-8.2   0.47  8.20   5.8         0   -50              \n",
       "0.78-10.94 0.78-10.94 0.78 10.94 348.3         0   -53              \n",
       "0.93-11.69 0.93-11.69 0.93 11.69 158.3       180   -58              \n",
       "           00:14:bf:3b:c7:c6 00:14:bf:b1:97:81 00:14:bf:b1:97:8a\n",
       "0-0.05     -63               -62               -40              \n",
       "0.15-9.42  -74               -73               -48              \n",
       "0.31-11.09 -70               -70               -54              \n",
       "0.47-8.2   -64               -73               -46              \n",
       "0.78-10.94 -67               -67               -48              \n",
       "0.93-11.69 -70               -71               -44              \n",
       "           00:14:bf:b1:97:8d 00:14:bf:b1:97:90\n",
       "0-0.05     -63               -55              \n",
       "0.15-9.42  -69               -47              \n",
       "0.31-11.09 -69               -54              \n",
       "0.47-8.2   -61               -50              \n",
       "0.78-10.94 -65               -55              \n",
       "0.93-11.69 -66               -47              "
      ]
     },
     "metadata": {},
     "output_type": "display_data"
    }
   ],
   "source": [
    "head(onlineSummary)"
   ]
  },
  {
   "cell_type": "code",
   "execution_count": 67,
=======
   "execution_count": null,
>>>>>>> 66eb6c9fec8115d9e5fc0842898bf00e47e76891
   "metadata": {
    "colab": {},
    "colab_type": "code",
    "id": "VaEouWjP720u"
   },
   "outputs": [],
   "source": [
    "floorErrorMap = function(estXY, actualXY, trainPoints = NULL, AP = NULL){\n",
    "  \n",
    "  plot(0, 0, xlim = c(0, 35), ylim = c(-3, 15), type = \"n\",\n",
    "       xlab = \"\", ylab = \"\", main = \"Nearest Neighbors Comparison\", axes = FALSE)\n",
    "  box()\n",
    "  if ( !is.null(AP) ) points(AP, pch = 15)\n",
    "  if ( !is.null(trainPoints) )\n",
    "    points(trainPoints, pch = 19, col=\"grey\", cex = 0.6)\n",
    "  \n",
    "  points(x = actualXY[, 1], y = actualXY[, 2], \n",
    "         pch = 19, cex = 0.8 )\n",
    "  points(x = estXY[, 1], y = estXY[, 2], \n",
    "         pch = 8, cex = 0.8 )\n",
    "  segments(x0 = estXY[, 1], y0 = estXY[, 2],\n",
    "           x1 = actualXY[, 1], y1 = actualXY[ , 2],\n",
    "           lwd = 2, col = \"red\")\n",
    "}"
   ]
  },
  {
   "cell_type": "code",
<<<<<<< HEAD
   "execution_count": 68,
=======
   "execution_count": null,
>>>>>>> 66eb6c9fec8115d9e5fc0842898bf00e47e76891
   "metadata": {
    "colab": {},
    "colab_type": "code",
    "id": "OlcyoGpn720v"
   },
   "outputs": [],
   "source": [
    "trainPoints = offlineSummary[ offlineSummary$angle == 0 & \n",
    "                                offlineSummary$mac == \"00:0f:a3:39:e1:c0\" ,\n",
    "                              c(\"posX\", \"posY\")]"
   ]
  },
  {
   "cell_type": "code",
<<<<<<< HEAD
   "execution_count": 69,
=======
   "execution_count": null,
>>>>>>> 66eb6c9fec8115d9e5fc0842898bf00e47e76891
   "metadata": {
    "colab": {},
    "colab_type": "code",
    "id": "mVntnqOH720y",
    "outputId": "4d5216a3-4b67-4fd3-c79d-41c750bfd231"
   },
<<<<<<< HEAD
   "outputs": [
    {
     "data": {
      "text/html": [
       "<strong>null device:</strong> 1"
      ],
      "text/latex": [
       "\\textbf{null device:} 1"
      ],
      "text/markdown": [
       "**null device:** 1"
      ],
      "text/plain": [
       "null device \n",
       "          1 "
      ]
     },
     "metadata": {},
     "output_type": "display_data"
    },
    {
     "data": {
      "image/png": "iVBORw0KGgoAAAANSUhEUgAAA0gAAANICAMAAADKOT/pAAAANlBMVEUAAABNTU1oaGh8fHyM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\nAAEQCUAARAIQ4H+CaDJ5dyMJvgAAAABJRU5ErkJggg==",
      "text/plain": [
       "Plot with title \"Nearest Neighbors Comparison\""
      ]
     },
     "metadata": {},
     "output_type": "display_data"
    }
   ],
=======
   "outputs": [],
>>>>>>> 66eb6c9fec8115d9e5fc0842898bf00e47e76891
   "source": [
    "#pdf(file=\"GEO_FloorPlanK3Errors.pdf\", width = 10, height = 7)\n",
    "oldPar = par(mar = c(1, 1, 1, 1))\n",
    "floorErrorMap(estXYk3, onlineSummary[ , c(\"posX\",\"posY\")], \n",
    "              trainPoints = trainPoints, AP = AP)\n",
    "par(oldPar)\n",
    "dev.off()"
   ]
  },
  {
   "cell_type": "code",
<<<<<<< HEAD
   "execution_count": 70,
=======
   "execution_count": null,
>>>>>>> 66eb6c9fec8115d9e5fc0842898bf00e47e76891
   "metadata": {
    "colab": {},
    "colab_type": "code",
    "id": "jvajtrYE7200",
    "outputId": "80f068b3-ac3d-41d8-bc45-f0d2c75cd5a1"
   },
<<<<<<< HEAD
   "outputs": [
    {
     "data": {
      "text/html": [
       "<strong>null device:</strong> 1"
      ],
      "text/latex": [
       "\\textbf{null device:} 1"
      ],
      "text/markdown": [
       "**null device:** 1"
      ],
      "text/plain": [
       "null device \n",
       "          1 "
      ]
     },
     "metadata": {},
     "output_type": "display_data"
    },
    {
     "data": {
      "image/png": "iVBORw0KGgoAAAANSUhEUgAAA0gAAANICAMAAADKOT/pAAAANlBMVEUAAABNTU1oaGh8fHyM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\nXW/ArxwAAAAASUVORK5CYII=",
      "text/plain": [
       "Plot with title \"Nearest Neighbors Comparison\""
      ]
     },
     "metadata": {},
     "output_type": "display_data"
    }
   ],
=======
   "outputs": [],
>>>>>>> 66eb6c9fec8115d9e5fc0842898bf00e47e76891
   "source": [
    "#pdf(file=\"GEO_FloorPlanK1Errors.pdf\", width = 10, height = 7)\n",
    "oldPar = par(mar = c(1, 1, 1, 1))\n",
    "floorErrorMap(estXYk1, onlineSummary[ , c(\"posX\",\"posY\")], \n",
    "              trainPoints = trainPoints, AP = AP)\n",
    "par(oldPar)\n",
    "dev.off()"
   ]
  },
  {
   "cell_type": "code",
<<<<<<< HEAD
   "execution_count": 71,
=======
   "execution_count": null,
>>>>>>> 66eb6c9fec8115d9e5fc0842898bf00e47e76891
   "metadata": {
    "colab": {},
    "colab_type": "code",
    "id": "7BVsf7Ox7202",
    "outputId": "72fe1daf-ed9a-47e5-e3ca-900d76cd31b6"
   },
<<<<<<< HEAD
   "outputs": [
    {
     "data": {
      "text/html": [
       "<ol class=list-inline>\n",
       "\t<li>659.4003</li>\n",
       "\t<li>306.702522222222</li>\n",
       "</ol>\n"
      ],
      "text/latex": [
       "\\begin{enumerate*}\n",
       "\\item 659.4003\n",
       "\\item 306.702522222222\n",
       "\\end{enumerate*}\n"
      ],
      "text/markdown": [
       "1. 659.4003\n",
       "2. 306.702522222222\n",
       "\n",
       "\n"
      ],
      "text/plain": [
       "[1] 659 307"
      ]
     },
     "metadata": {},
     "output_type": "display_data"
    }
   ],
=======
   "outputs": [],
>>>>>>> 66eb6c9fec8115d9e5fc0842898bf00e47e76891
   "source": [
    "# Compare fits numerically\n",
    "# Find sum of squared errors\n",
    "\n",
    "calcError = \n",
    "  function(estXY, actualXY) \n",
    "    sum( rowSums( (estXY - actualXY)^2) )\n",
    "\n",
    "# Apply function to two sets of errors\n",
    "actualXY = onlineSummary[ , c(\"posX\", \"posY\")]\n",
    "sapply(list(estXYk1, estXYk3), calcError, actualXY)\n"
   ]
  },
  {
<<<<<<< HEAD
   "cell_type": "code",
   "execution_count": 107,
   "metadata": {},
   "outputs": [
    {
     "data": {
      "text/html": [
       "<table>\n",
       "<thead><tr><th></th><th scope=col>posX</th><th scope=col>posY</th></tr></thead>\n",
       "<tbody>\n",
       "\t<tr><th scope=row>length</th><td> 1</td><td> 5</td></tr>\n",
       "\t<tr><th scope=row></th><td> 2</td><td>12</td></tr>\n",
       "\t<tr><th scope=row></th><td> 1</td><td>10</td></tr>\n",
       "\t<tr><th scope=row></th><td> 1</td><td>11</td></tr>\n",
       "\t<tr><th scope=row></th><td> 0</td><td> 9</td></tr>\n",
       "\t<tr><th scope=row></th><td> 2</td><td>12</td></tr>\n",
       "\t<tr><th scope=row></th><td> 2</td><td>11</td></tr>\n",
       "\t<tr><th scope=row></th><td> 2</td><td> 2</td></tr>\n",
       "\t<tr><th scope=row></th><td> 1</td><td> 9</td></tr>\n",
       "\t<tr><th scope=row></th><td> 2</td><td> 9</td></tr>\n",
       "\t<tr><th scope=row></th><td> 1</td><td> 9</td></tr>\n",
       "\t<tr><th scope=row></th><td> 1</td><td> 4</td></tr>\n",
       "\t<tr><th scope=row></th><td> 1</td><td> 1</td></tr>\n",
       "\t<tr><th scope=row></th><td> 1</td><td> 8</td></tr>\n",
       "\t<tr><th scope=row></th><td> 8</td><td> 8</td></tr>\n",
       "\t<tr><th scope=row></th><td>10</td><td> 6</td></tr>\n",
       "\t<tr><th scope=row></th><td>11</td><td> 3</td></tr>\n",
       "\t<tr><th scope=row></th><td>12</td><td> 5</td></tr>\n",
       "\t<tr><th scope=row></th><td>11</td><td> 4</td></tr>\n",
       "\t<tr><th scope=row></th><td> 7</td><td> 8</td></tr>\n",
       "\t<tr><th scope=row></th><td>13</td><td> 6</td></tr>\n",
       "\t<tr><th scope=row></th><td>13</td><td> 4</td></tr>\n",
       "\t<tr><th scope=row></th><td>14</td><td> 7</td></tr>\n",
       "\t<tr><th scope=row></th><td>13</td><td> 7</td></tr>\n",
       "\t<tr><th scope=row></th><td>13</td><td> 5</td></tr>\n",
       "\t<tr><th scope=row></th><td>17</td><td> 8</td></tr>\n",
       "\t<tr><th scope=row></th><td>20</td><td> 7</td></tr>\n",
       "\t<tr><th scope=row></th><td> 0</td><td> 7</td></tr>\n",
       "\t<tr><th scope=row></th><td> 2</td><td>11</td></tr>\n",
       "\t<tr><th scope=row></th><td>23</td><td> 4</td></tr>\n",
       "\t<tr><th scope=row></th><td>20</td><td> 3</td></tr>\n",
       "\t<tr><th scope=row></th><td>32</td><td> 7</td></tr>\n",
       "\t<tr><th scope=row></th><td>23</td><td> 5</td></tr>\n",
       "\t<tr><th scope=row></th><td>23</td><td> 7</td></tr>\n",
       "\t<tr><th scope=row></th><td>26</td><td> 5</td></tr>\n",
       "\t<tr><th scope=row></th><td>26</td><td> 3</td></tr>\n",
       "\t<tr><th scope=row></th><td>25</td><td> 7</td></tr>\n",
       "\t<tr><th scope=row></th><td>16</td><td> 3</td></tr>\n",
       "\t<tr><th scope=row></th><td>23</td><td> 4</td></tr>\n",
       "\t<tr><th scope=row></th><td>24</td><td> 3</td></tr>\n",
       "\t<tr><th scope=row></th><td>16</td><td> 3</td></tr>\n",
       "\t<tr><th scope=row></th><td>26</td><td> 5</td></tr>\n",
       "\t<tr><th scope=row></th><td>21</td><td> 6</td></tr>\n",
       "\t<tr><th scope=row></th><td>27</td><td> 8</td></tr>\n",
       "\t<tr><th scope=row></th><td>26</td><td> 7</td></tr>\n",
       "\t<tr><th scope=row></th><td>28</td><td> 8</td></tr>\n",
       "\t<tr><th scope=row></th><td>25</td><td> 8</td></tr>\n",
       "\t<tr><th scope=row></th><td>33</td><td> 7</td></tr>\n",
       "\t<tr><th scope=row></th><td> 5</td><td> 7</td></tr>\n",
       "\t<tr><th scope=row></th><td>31</td><td> 3</td></tr>\n",
       "\t<tr><th scope=row></th><td>29</td><td> 8</td></tr>\n",
       "\t<tr><th scope=row></th><td>31</td><td> 7</td></tr>\n",
       "\t<tr><th scope=row></th><td>27</td><td> 7</td></tr>\n",
       "\t<tr><th scope=row></th><td> 4</td><td> 8</td></tr>\n",
       "\t<tr><th scope=row></th><td> 6</td><td> 8</td></tr>\n",
       "\t<tr><th scope=row></th><td> 7</td><td> 8</td></tr>\n",
       "\t<tr><th scope=row></th><td>10</td><td> 4</td></tr>\n",
       "\t<tr><th scope=row></th><td> 9</td><td> 8</td></tr>\n",
       "\t<tr><th scope=row></th><td>11</td><td> 8</td></tr>\n",
       "\t<tr><th scope=row></th><td>11</td><td> 3</td></tr>\n",
       "</tbody>\n",
       "</table>\n"
      ],
      "text/latex": [
       "\\begin{tabular}{r|ll}\n",
       "  & posX & posY\\\\\n",
       "\\hline\n",
       "\tlength &  1 &  5\\\\\n",
       "\t &  2 & 12\\\\\n",
       "\t &  1 & 10\\\\\n",
       "\t &  1 & 11\\\\\n",
       "\t &  0 &  9\\\\\n",
       "\t &  2 & 12\\\\\n",
       "\t &  2 & 11\\\\\n",
       "\t &  2 &  2\\\\\n",
       "\t &  1 &  9\\\\\n",
       "\t &  2 &  9\\\\\n",
       "\t &  1 &  9\\\\\n",
       "\t &  1 &  4\\\\\n",
       "\t &  1 &  1\\\\\n",
       "\t &  1 &  8\\\\\n",
       "\t &  8 &  8\\\\\n",
       "\t & 10 &  6\\\\\n",
       "\t & 11 &  3\\\\\n",
       "\t & 12 &  5\\\\\n",
       "\t & 11 &  4\\\\\n",
       "\t &  7 &  8\\\\\n",
       "\t & 13 &  6\\\\\n",
       "\t & 13 &  4\\\\\n",
       "\t & 14 &  7\\\\\n",
       "\t & 13 &  7\\\\\n",
       "\t & 13 &  5\\\\\n",
       "\t & 17 &  8\\\\\n",
       "\t & 20 &  7\\\\\n",
       "\t &  0 &  7\\\\\n",
       "\t &  2 & 11\\\\\n",
       "\t & 23 &  4\\\\\n",
       "\t & 20 &  3\\\\\n",
       "\t & 32 &  7\\\\\n",
       "\t & 23 &  5\\\\\n",
       "\t & 23 &  7\\\\\n",
       "\t & 26 &  5\\\\\n",
       "\t & 26 &  3\\\\\n",
       "\t & 25 &  7\\\\\n",
       "\t & 16 &  3\\\\\n",
       "\t & 23 &  4\\\\\n",
       "\t & 24 &  3\\\\\n",
       "\t & 16 &  3\\\\\n",
       "\t & 26 &  5\\\\\n",
       "\t & 21 &  6\\\\\n",
       "\t & 27 &  8\\\\\n",
       "\t & 26 &  7\\\\\n",
       "\t & 28 &  8\\\\\n",
       "\t & 25 &  8\\\\\n",
       "\t & 33 &  7\\\\\n",
       "\t &  5 &  7\\\\\n",
       "\t & 31 &  3\\\\\n",
       "\t & 29 &  8\\\\\n",
       "\t & 31 &  7\\\\\n",
       "\t & 27 &  7\\\\\n",
       "\t &  4 &  8\\\\\n",
       "\t &  6 &  8\\\\\n",
       "\t &  7 &  8\\\\\n",
       "\t & 10 &  4\\\\\n",
       "\t &  9 &  8\\\\\n",
       "\t & 11 &  8\\\\\n",
       "\t & 11 &  3\\\\\n",
       "\\end{tabular}\n"
      ],
      "text/markdown": [
       "\n",
       "| <!--/--> | posX | posY |\n",
       "|---|---|---|\n",
       "| length |  1 |  5 |\n",
       "|  |  2 | 12 |\n",
       "|  |  1 | 10 |\n",
       "|  |  1 | 11 |\n",
       "|  |  0 |  9 |\n",
       "|  |  2 | 12 |\n",
       "|  |  2 | 11 |\n",
       "|  |  2 |  2 |\n",
       "|  |  1 |  9 |\n",
       "|  |  2 |  9 |\n",
       "|  |  1 |  9 |\n",
       "|  |  1 |  4 |\n",
       "|  |  1 |  1 |\n",
       "|  |  1 |  8 |\n",
       "|  |  8 |  8 |\n",
       "|  | 10 |  6 |\n",
       "|  | 11 |  3 |\n",
       "|  | 12 |  5 |\n",
       "|  | 11 |  4 |\n",
       "|  |  7 |  8 |\n",
       "|  | 13 |  6 |\n",
       "|  | 13 |  4 |\n",
       "|  | 14 |  7 |\n",
       "|  | 13 |  7 |\n",
       "|  | 13 |  5 |\n",
       "|  | 17 |  8 |\n",
       "|  | 20 |  7 |\n",
       "|  |  0 |  7 |\n",
       "|  |  2 | 11 |\n",
       "|  | 23 |  4 |\n",
       "|  | 20 |  3 |\n",
       "|  | 32 |  7 |\n",
       "|  | 23 |  5 |\n",
       "|  | 23 |  7 |\n",
       "|  | 26 |  5 |\n",
       "|  | 26 |  3 |\n",
       "|  | 25 |  7 |\n",
       "|  | 16 |  3 |\n",
       "|  | 23 |  4 |\n",
       "|  | 24 |  3 |\n",
       "|  | 16 |  3 |\n",
       "|  | 26 |  5 |\n",
       "|  | 21 |  6 |\n",
       "|  | 27 |  8 |\n",
       "|  | 26 |  7 |\n",
       "|  | 28 |  8 |\n",
       "|  | 25 |  8 |\n",
       "|  | 33 |  7 |\n",
       "|  |  5 |  7 |\n",
       "|  | 31 |  3 |\n",
       "|  | 29 |  8 |\n",
       "|  | 31 |  7 |\n",
       "|  | 27 |  7 |\n",
       "|  |  4 |  8 |\n",
       "|  |  6 |  8 |\n",
       "|  |  7 |  8 |\n",
       "|  | 10 |  4 |\n",
       "|  |  9 |  8 |\n",
       "|  | 11 |  8 |\n",
       "|  | 11 |  3 |\n",
       "\n"
      ],
      "text/plain": [
       "       posX posY\n",
       "length  1    5  \n",
       "        2   12  \n",
       "        1   10  \n",
       "        1   11  \n",
       "        0    9  \n",
       "        2   12  \n",
       "        2   11  \n",
       "        2    2  \n",
       "        1    9  \n",
       "        2    9  \n",
       "        1    9  \n",
       "        1    4  \n",
       "        1    1  \n",
       "        1    8  \n",
       "        8    8  \n",
       "       10    6  \n",
       "       11    3  \n",
       "       12    5  \n",
       "       11    4  \n",
       "        7    8  \n",
       "       13    6  \n",
       "       13    4  \n",
       "       14    7  \n",
       "       13    7  \n",
       "       13    5  \n",
       "       17    8  \n",
       "       20    7  \n",
       "        0    7  \n",
       "        2   11  \n",
       "       23    4  \n",
       "       20    3  \n",
       "       32    7  \n",
       "       23    5  \n",
       "       23    7  \n",
       "       26    5  \n",
       "       26    3  \n",
       "       25    7  \n",
       "       16    3  \n",
       "       23    4  \n",
       "       24    3  \n",
       "       16    3  \n",
       "       26    5  \n",
       "       21    6  \n",
       "       27    8  \n",
       "       26    7  \n",
       "       28    8  \n",
       "       25    8  \n",
       "       33    7  \n",
       "        5    7  \n",
       "       31    3  \n",
       "       29    8  \n",
       "       31    7  \n",
       "       27    7  \n",
       "        4    8  \n",
       "        6    8  \n",
       "        7    8  \n",
       "       10    4  \n",
       "        9    8  \n",
       "       11    8  \n",
       "       11    3  "
      ]
     },
     "metadata": {},
     "output_type": "display_data"
    }
   ],
   "source": [
    "estXYk1"
   ]
  },
  {
=======
>>>>>>> 66eb6c9fec8115d9e5fc0842898bf00e47e76891
   "cell_type": "markdown",
   "metadata": {
    "colab_type": "text",
    "id": "m99suwzj7204"
   },
   "source": [
    "### 1.5.4 Cross-Validation and Choice of k\n",
    "#### Choice of k - number of neighbors to include in estimate of new observation's position - is a model select problem. Cross validation can help here. "
   ]
  },
  {
   "cell_type": "code",
<<<<<<< HEAD
   "execution_count": 72,
=======
   "execution_count": null,
>>>>>>> 66eb6c9fec8115d9e5fc0842898bf00e47e76891
   "metadata": {
    "colab": {},
    "colab_type": "code",
    "id": "N3_xRoZv7204",
    "outputId": "7f0a6dc3-9d1e-46e0-d4d5-504e5cbc977f"
   },
<<<<<<< HEAD
   "outputs": [
    {
     "name": "stderr",
     "output_type": "stream",
     "text": [
      "Warning message in matrix(permuteLocs, ncol = v, nrow = floor(length(permuteLocs)/v)):\n",
      "\"data length [166] is not a sub-multiple or multiple of the number of rows [15]\""
     ]
    }
   ],
=======
   "outputs": [],
>>>>>>> 66eb6c9fec8115d9e5fc0842898bf00e47e76891
   "source": [
    "# Use all 8 orientations and 6 MAC addresses with each location\n",
    "# Cross Validate on 166 locations\n",
    "# try v = 11, each fold has floor(166/v), or 15 locations\n",
    "\n",
    "v = 11\n",
    "permuteLocs = sample(unique(offlineSummary$posXY))\n",
    "permuteLocs = matrix(permuteLocs, ncol = v, \n",
    "                     nrow = floor(length(permuteLocs)/v))\n",
    "\n",
    "onlineFold = subset(offlineSummary, posXY %in% permuteLocs[ , 1])\n",
    "\n",
    "# Warning message with matrix() because v doesn't divide evenly into 166, so permuteLocs doesn't have all 166 locations."
   ]
  },
  {
   "cell_type": "code",
<<<<<<< HEAD
   "execution_count": 73,
=======
   "execution_count": null,
>>>>>>> 66eb6c9fec8115d9e5fc0842898bf00e47e76891
   "metadata": {
    "colab": {},
    "colab_type": "code",
    "id": "dFM9KC307207"
   },
   "outputs": [],
   "source": [
    "# Summarize data so data structure matches online Summary, includes selecting an orientation at random because each test observation has only 1 orientation\n",
    "# Online data has structure that had 6 columns of signal strength, one for each access point\n",
    "# Create test data from offline and divide into folds, augment reshapeSS()\n",
    "\n",
    "reshapeSS = function(data, varSignal = \"signal\", \n",
    "                     keepVars = c(\"posXY\", \"posX\",\"posY\"),\n",
    "                     sampleAngle = FALSE, \n",
    "                     refs = seq(0, 315, by = 45)) {\n",
    "  byLocation =\n",
    "    with(data, by(data, list(posXY), \n",
    "                  function(x) {\n",
    "                    if (sampleAngle) {\n",
    "                      x = x[x$angle == sample(refs, size = 1), ]}\n",
    "                    ans = x[1, keepVars]\n",
    "                    avgSS = tapply(x[ , varSignal ], x$mac, mean)\n",
    "                    y = matrix(avgSS, nrow = 1, ncol = 6,\n",
    "                               dimnames = list(ans$posXY,\n",
    "                                               names(avgSS)))\n",
    "                    cbind(ans, y)\n",
    "                  }))\n",
    "  \n",
    "  newDataSS = do.call(\"rbind\", byLocation)\n",
    "  return(newDataSS)\n",
    "}\n"
   ]
  },
  {
   "cell_type": "code",
<<<<<<< HEAD
   "execution_count": 74,
=======
   "execution_count": null,
>>>>>>> 66eb6c9fec8115d9e5fc0842898bf00e47e76891
   "metadata": {
    "colab": {},
    "colab_type": "code",
    "id": "UwDcIu2n7209"
   },
   "outputs": [],
   "source": [
    "# Summarize and format offline (after revising reshapeSS() and augmenting with sampleAngle with default = FALSE)\n",
    "\n",
    "offline = offline[ offline$mac != \"00:0f:a3:39:dd:cd\", ]\n",
    "\n",
    "keepVars = c(\"posXY\", \"posX\",\"posY\", \"orientation\", \"angle\")\n",
    "\n",
    "onlineCVSummary = reshapeSS(offline, keepVars = keepVars, \n",
    "                            sampleAngle = TRUE)"
   ]
  },
  {
   "cell_type": "code",
<<<<<<< HEAD
   "execution_count": 75,
=======
   "execution_count": null,
>>>>>>> 66eb6c9fec8115d9e5fc0842898bf00e47e76891
   "metadata": {
    "colab": {},
    "colab_type": "code",
    "id": "b0t7n07Y720_"
   },
   "outputs": [],
   "source": [
    "# First fold\n",
    "onlineFold = subset(onlineCVSummary, \n",
    "                    posXY %in% permuteLocs[ , 1])"
   ]
  },
  {
   "cell_type": "code",
<<<<<<< HEAD
   "execution_count": 76,
=======
   "execution_count": null,
>>>>>>> 66eb6c9fec8115d9e5fc0842898bf00e47e76891
   "metadata": {
    "colab": {},
    "colab_type": "code",
    "id": "TbpUiaJv721B"
   },
   "outputs": [],
   "source": [
    "# Training data for first fold\n",
    "offlineFold = subset(offlineSummary,\n",
    "                     posXY %in% permuteLocs[ , -1])"
   ]
  },
  {
   "cell_type": "code",
<<<<<<< HEAD
   "execution_count": 77,
=======
   "execution_count": null,
>>>>>>> 66eb6c9fec8115d9e5fc0842898bf00e47e76891
   "metadata": {
    "colab": {},
    "colab_type": "code",
    "id": "MlRVu4Eu721F"
   },
   "outputs": [],
   "source": [
    "# Use predXY() with cross-validated versions of online and offline data\n",
    "estFold = predXY(newSignals = onlineFold[ , 6:11], \n",
    "                 newAngles = onlineFold[ , 4], \n",
    "                 offlineFold, numAngles = 3, k = 3)\n"
   ]
  },
  {
   "cell_type": "code",
<<<<<<< HEAD
   "execution_count": 78,
=======
   "execution_count": null,
>>>>>>> 66eb6c9fec8115d9e5fc0842898bf00e47e76891
   "metadata": {
    "colab": {},
    "colab_type": "code",
    "id": "P4mCMrJ4721G",
    "outputId": "cce8ece9-17f5-4a55-9812-a941f315a8ac"
   },
<<<<<<< HEAD
   "outputs": [
    {
     "data": {
      "text/html": [
       "114"
      ],
      "text/latex": [
       "114"
      ],
      "text/markdown": [
       "114"
      ],
      "text/plain": [
       "[1] 114"
      ]
     },
     "metadata": {},
     "output_type": "display_data"
    }
   ],
=======
   "outputs": [],
>>>>>>> 66eb6c9fec8115d9e5fc0842898bf00e47e76891
   "source": [
    "# Find Error in Estimates\n",
    "\n",
    "actualFold = onlineFold[ , c(\"posX\", \"posY\")]\n",
    "calcError(estFold, actualFold)"
   ]
  },
  {
   "cell_type": "code",
<<<<<<< HEAD
   "execution_count": 79,
=======
   "execution_count": null,
>>>>>>> 66eb6c9fec8115d9e5fc0842898bf00e47e76891
   "metadata": {
    "colab": {},
    "colab_type": "code",
    "id": "DRdz-KMD721J"
   },
   "outputs": [],
   "source": [
    "# For each fold, find k-NN for k=1, 2,...,K. Aggregate errors over v folds.\n",
    "# Wrap code from above in loops over folds and number of neighbors\n",
    "\n",
    "K = 20\n",
    "err = rep(0, K)\n",
    "\n",
    "for (j in 1:v) {\n",
    "  onlineFold = subset(onlineCVSummary, \n",
    "                      posXY %in% permuteLocs[ , j])\n",
    "  offlineFold = subset(offlineSummary,\n",
    "                       posXY %in% permuteLocs[ , -j])\n",
    "  actualFold = onlineFold[ , c(\"posX\", \"posY\")]\n",
    "  \n",
    "  for (k in 1:K) {\n",
    "    estFold = predXY(newSignals = onlineFold[ , 6:11],\n",
    "                     newAngles = onlineFold[ , 4], \n",
    "                     offlineFold, numAngles = 3, k = k)\n",
    "    err[k] = err[k] + calcError(estFold, actualFold)\n",
    "  }\n",
    "}\n"
   ]
  },
  {
   "cell_type": "code",
<<<<<<< HEAD
   "execution_count": 80,
=======
   "execution_count": null,
>>>>>>> 66eb6c9fec8115d9e5fc0842898bf00e47e76891
   "metadata": {
    "colab": {},
    "colab_type": "code",
    "id": "xeIXd4Jf721L",
    "outputId": "1344b87e-f5b7-40c1-ab4a-350f9c6e74c6"
   },
<<<<<<< HEAD
   "outputs": [
    {
     "data": {
      "text/html": [
       "<strong>null device:</strong> 1"
      ],
      "text/latex": [
       "\\textbf{null device:} 1"
      ],
      "text/markdown": [
       "**null device:** 1"
      ],
      "text/plain": [
       "null device \n",
       "          1 "
      ]
     },
     "metadata": {},
     "output_type": "display_data"
    },
    {
     "data": {
      "image/png": "iVBORw0KGgoAAAANSUhEUgAAA0gAAANICAMAAADKOT/pAAAAMFBMVEUAAABNTU1oaGh8fHyM\njIyampqnp6eysrK9vb3Hx8fQ0NDZ2dnh4eHp6enw8PD////QFLu4AAAACXBIWXMAABJ0AAAS\ndAHeZh94AAAV90lEQVR4nO3d2ULiSACG0QogorK8/9uOBES0R4XiD2Q556IHu5EKMd9kK7Xs\ngJuVRy8AjIGQIEBIECAkCBASBAgJAoQEAUKCACFBgJAgQEgQICQIEBIECAkChAQBQoIAIUGA\nkCBASBAgJAgQEgQICQKEBAGxkApMQPchpV4I+ktIECAkCBASBAgJAoQEAUKCACFBgJAgQEgQ\nICQIEBIECAkChAQBQoIAIUGAkCBASBAgJAgQEgQICQKEBAFCggAhQYCQIEBIECAkCBASBAgJ\nAoQEAUKCACFBgJAgQEgQICQIEBIECAkChAQBQoIAIUGAkCBASBAgJAgQEgQICQKEBAFCggAh\nQYCQIEBIECAkCBASBAgJAoQEAUKCACFBgJAgQEgQICQIEBIECAkChAQBQoIAIUGAkCBASBAg\nJAgQEgQICQKEBAFCggAhQYCQIEBIECAkCBASBAgJAoQEAdUhvT0vyt5i+VY5AoxHZUjbWfk0\nrxsBxqMypGVpXtbto81rU5ZVI8B4VIbUlPXp8bo0VSPAeFSGVMpPH1z5QjAK9kgQUH+O9Lpp\nHzlHgvrL3/Ozq3azbdUIMB7195GW7X2kZvHsPhKY2QABQoIAU4QgwBQhCDBFCALckIUAU4Qg\nwB4JAkwRggBThCDAFCEIMLMBAroJqZy75YVgGEwRggBThCDAFCEIcEMWAkwRggB7JAgwRQgC\nTBGCAFOEIMAUIQgQEgTUhrR9KmX+enyqy99MXe0UoeYw0e7wVCExddWXv1fvNa2adpqdkJi8\n6huy7X82zWwjJLh1itB2PhcS1IY0Kx83YWdzIUFlSKvydHy0KXMhMXm1l7+Xp3pe//huciEx\nAdU3ZNeLj0ebJyExdWY2QICQIEBIECAkCBASBAgJAoQEAUKCACFBgJAgQEgQICQIEBIECAkC\nhAQBQoIAIUGAkCBASBAgJAgQEgQICQKEBAFCggAhQYCQIEBIECAkCBASBAgJAoQEAUKCACFB\ngJAgQEgQICQIEBIECAkChAQBQoIAIUGAkCBASBAgJAgQEgQICQKEBAFCggAhQYCQIEBIECAk\nCBASBAgJAoQEAUKCACFBgJAgQEgQICQIEBIECAkChAQBQoIAIUGAkCBASBAgJAgQEgQICQKE\nBAFCggAhQYCQIEBIECAkCBASBAgJAoQEAUKCACFBgJAgQEgQICQIEBIECAkChAQBQoIAIUGA\nkCBASBAgJAgQEgQICQKEBAFCggAhQYCQIEBIECAkCBASBAgJAoQEAUKCACFBgJAgoDqkt+dF\n2Vss3ypHgPGoDGk7K5/mdSPAeFSGtCzNy7p9tHltyrJqBBiPypCasj49XpemagQYj8qQSvnp\ngytfCEbBHgkC6s+RXjftI+dIUH/5e3521W62rRoBxqP+PtKyvY/ULJ7dRwIzGyBASBBgihAE\nmCIEAaYIQYAbshBgihAE2CNBgClCEGCKEASYIgQBZjZAQDchlXO3vBAMQ21Im6fSPO92q1lp\nfr3UYI/EJNROEWr2+5rVsylCsFd9+ft9P7RsytN2t126/M3kVd+QbZ9T2gvfbsgyeTdNETpe\nSDBFiMm7cY+0/3Nrj8Tk3XiOtNweH1eMAOPhqh0EuI8EAaYIQYCQIEBIECAkCBASBFTPbLj4\nOyWExARUhrQSEpypPbRbN7/fhr34hWAMqs+R1r9PDLr8hWAE6i82rM5+tF3VCDAertpBgJAg\nQEgQICQIEBIECAkChAQBQoIAIUGAkCBASBAgJAgQEgQICQKEBAFCggAhQYCQIEBIECAkCBAS\nBAgJAoQEAUKCACFBgJAgQEgQICQIEBIECAkChAQBQoIAIUGAkCBASBAgJAgQEgQICQKEBAFC\nggAhQYCQIEBIECAkCBASBAgJAoQEAUKCACFBgJAgQEgQICQIEBIECAkChAQBQoIAIUGAkCBA\nSBAgJAgQEgQICQKEBAFCggAhQYCQIEBIECAkCBASBAgJAoQEAUKCACFBgJAgQEgQICQIEBIE\nCAkChAQBQoIAIUGAkCBASBAgJAgQEgQICQKEBAFCggAhQYCQIEBIECAkCBASBAgJAoQEAUKC\ngJ9DSgUgJCZASBDg0A4ChAQBQoIAIUGAkCBASBAgJAgQEgQICQKEBAHVIb09L8reYvlWOQKM\nR2VI21n5NK8bAcajMqRlaV7W7aPNa1OWVSPAeFSG1JT16fG6NFUjwHhUhvTlmyx+/44LITEB\n9kgQUH+O9LppHzlHgvrL3/Ozq3azbdUIMB7195GW7X2kZvHsPhKY2QABQoIAU4QgwBQhCDBF\nCALckIUAU4QgwB4JAkwRggBThCDAFCEIMLMBAroJqZy75YVgGGpD2i73l+qeZ6XMXypHgPGo\nDGnTvO9pto0pQtCqDOmpLLbvfzxt3pt6cvmbyaue2bA9/vF+lOeGLJN3yxShppx9cP0IMB7V\nh3br3e75ME9o+/tJkpCYgMqQ1qVZrneL5r2k11l5rRoBxqP28vdr83mj6LluBBiP+huyL0/t\nd8kunjeVI8B4mCIEAUKCACFBgJAgQEgQUD2z4eLvlBASE1AZ0kpIcKb20G7d/P7NExe/EIxB\n9TnS+vdvnrj8hWAE6i82rM5+tF3VCDAertpBgJAgQEgQICQIEBIECAkChAQBQoIAIUGAkCBA\nSBAgJAgQEgQICQKEBAFCggAhQYCQIEBIECAkCBASBAgJAoQEAUKCACFBgJAgQEgQICQIEBIE\nCAkChAQBQoIAIUGAkCBASBAgJAgQEgQICQKEBAFCggAhQYCQIEBIECAkCBASBAgJAoQEAY8M\nqWiMsXjoHklJjIWQIEBIECAkCBASBAgJAh57H0lJjISQIEBIECAkCBASBAgJAh48+1tJjIOQ\nIEBIECAkCBASBAgJAoQEAY/+4SdKYhSEBAFCggAhQYCQIEBIEPDokJTEKAgJAoQEAUKCACFB\ngJAg4OEhKYkxEBIECAkChAQBQoIAIUGAkCDg8SEpiREQEgQICQKEBAFCggAhQUAPQlISwyck\nCBASBAgJAoQEAUKCgD6EpCQGT0gQICQIEBIECAkChAQBQoKAXoSkJIbgt81USHCZ0klIb8+L\nsrdYvv0x/B8v1D5HSPTer1tpZUjbWfk0/334X//1+Bwh0Xe/b6SVIS1L87JuH21em7KsGuH8\nOUKi5349sKsOqSnr0+N1aapGOH+OkOi3PzqqDenLq1am+uPrQd/81VFP9khCotf+7OiGc6TX\nTfsoco4kJHrt7+2z9vL3/Oyq3WxbNcKXJwmJ/rpg86y/j7Rs7yM1i+fAfSQh0WN/H9j1ZWaD\nkOivSzrqS0hKoq8u6qgnU4SERG9dtmn2Y4qQkOirC7fMfkwREhI9ddmBXW9uyAqJXrq0o75M\nERISfXRxR/ZI8KPLO+rLFCEl0UNXbJQ9mSIkJPrnmm2yJ1OEhETvXHFg15+ZDUKiZ67qqKOQ\nyrlLP+WWASHsuo5uD6n+O56ufB24pys3yN6EpCT65NrNsfqG7MVHb0JieK48sKsO6a0REuN1\ndUfVh3bbRZlvDkPWjvD9eUKiJ67v6IZzpJdSXnZCYnwqOrrlYsNmXhZbITE6NZviTVftnkvz\nGgtJSfRD1YZ42+Xv9eyGn5z3zxOFRA/UHNjdfh/pSUiMSl1H/ZlrJyT6oLIjIcG52q1QSPCp\neiMUEpzUHtj1aa6dkni0+o5qQ1oJidG5oaPqQ7t18/vPV734hc6fKSQe6JaO6s+R1r//7KDL\nX+jsmULigW7a/uovNqzOfrRd1Qj/PlNIPM5tm1+PrtoJiQe66cCuXyEpiYe5sSMhweF2zo2v\ncPU/xEb4n6cKiUe4vSMhwe0ZCYnJC+yOdkJi6jId9SskJXFnoYyExKTFOhISExbLSEhMV253\ntBMSkxXtSEhMVDQjITFN2d3Rrm8hKYm7iHckJKYnn5GQmJ4uOhISU9NFRkJiYjrZHe2ExLR0\n1VHfQlISXeoqIyExIZ3tjnZCYjq67EhITESnGQmJiei4IyExCR1n1L+QlERe17ujnZCYgDt0\nJCRG7w4ZCYnRu0tHQmLk7tORkBi3O3UkJEbtXh31LyQlkXO3joTEiN2vIyExXnfsSEiM1j07\nEhJjddeOhMRI3bejHoakJALu3JGQGKV7dyQkxujuHQmJEbp/R0JifB7QkZAYnUd01MeQlMQt\nHtKRkBiZx3QkJMblQR0JiVF5VEdCYkwe1pGQGJHHdSQkxuOBHfUyJCVR45EdCYmxeGhHQmIk\nHtuRkBiHB3ckJEbh0R0JiTF4eEf9DElJXOXxHQmJ4etBR0Ji8PrQkZAYul50JCQGrh8dCYlh\n60lHPQ1JSVyi3OPXLF9GSAxTOXr0chwJiQHqWUU7ITE8vYtoT0gMSi8r2gmJAenfAd0nITEM\nfa5o19uQlMS5fke0JyT6rv8V7YREv/X8gO6TkOitwVS0ExL9U849emEuJSR6ovzr0Yt0hb6G\npKSpGHY/J0LiIUbSz4mQeISx9HMiJB5gNP2cCIm7G89+6JOQuLcxdtTfkJQ0VmPMSEjc2zg7\nEhL3NdKOhMQ9jfL0qCUk7me8HQmJ+xlvRkLifsbcUY9DUtLIjLojIXEfIz49agmJexh7R0Li\nHsaekZC4h/F3JCS6N4GO+hySkkZiCh0JiY6N/jLDgZDo1EQ6EhKdmkhGQqJTk+lISHRoOh31\nOiQlDdtUTo9aQqIjk+pISHRkUhkJiY5MrCMh0YmpdVQf0tvzov3JzYvlW+UIf5vaF2M0pnV6\n1KoMaTs7+yno87oR/ja5r8ZITLCj2pCWpXlZt482r01ZVo1wgel9PcZgghlVh9SU9enxujRV\nI1xgil+RgRvRb2q5SmVIX9bV7ytOSBMypt94dB17JFKmW9HulnOk1037yDkSrUlnVH/5e352\n1W62rRrhAhP+wgzLxCva3XIfadneR2oWz93dR1LSMMio5zMbhDQAKmoJiRuM6heT36TXU4SE\n1G8q+tTrKUJC6jEVfdHvKUJC6isZfdPvG7JK6iUV/avfU4SE1EMy+j/2SFxDRT/o9xQhIfWM\njH7S7ylCQuoXFf2o51OEhNQnOvpZz2c2+Nr1h6O633QTUjl3ywvZJfWGjn5VG9L2qZT56/Gp\nHV7+VlJPyOh3tVOEmsNEu8NThTR6OvpD9eXv1XtNq6adZtdtSErqAR39pfqGbPufTTPbCGn8\ndPSnG6cIbefzzkNS0oO5zHCBypBm5eMm7GwupHHT0SUqQ1qVp+OjTZl3HZKSHklGF6m9/L08\nrd7XP9a0kAZNR5epviG7Xnw82jx1HZKSHkZHF+r7FKHja/hqPoaOLjWMkJT0EC4zXE5I/ERH\nVxhISEq6PxldQ0j8Px1dpXpmw8XfKRH6cviy3peOrlN9Q1ZIo6ajK9Ue2q2b33++6sUvdDFf\n2ftxmeFq9Tdkf//ZQZe/0KV8ae9GR9erv9iwOvvRdlUjXMsX905kVGEoV+12QroXHdUYUEhK\nugsdVRESX+iozpBCUlLnXGaoJSQ+6ajaoEJSUrdkVO8OIcEEdB7SkAzyTQ9yoYe51DULPcg3\neqtBvulBLvQwl1pIFxrkmx7kQg9zqYV0oUG+6UEu9DCXWkgXGuSbHuRCD3OphXShQb7pQS70\nMJdaSBca5Jse5EIPc6mFdKFBvulBLvQwl1pIFxrkmx7kQg9zqYV0oUG+6UEu9DCXWkgXGuSb\nHuRCD3OphXShQb7pQS70MJdaSPAgQoIAIUGAkCBASBAgJAgQEgQICQKEBAFCggAhQYCQIEBI\nECAkCBASBAgJAoQEAZML6Y9fKtBHq4+lXTalWW4fuiyX+1jqAa3w1ey0fq9e1YN4g0HrAX1d\nj9YfSztvl3z22KW51MdSD2iFL9sFbfb5XL+qh/AGk9Zl8ehFuNK6OW6Fb6VZ7z96e/ACXeS0\n1MNZ4evytN3vSJ+qVvXUQlqV50cvwnVWZX7cJJfl9f3Pl0G8gc+lHs4KXxwWeL/cFat6eiGt\nHr0I1ynLj98Euiib3VD+D/+51MNb4aVqVU8tpEV5fXo/jXz0YlxuffqVul//02+fSz20Fb4t\n86pVPYSvStLicOo7f/RyXGOAIe3OQhrWCl/tj+qE9KdSXt7/r7Mc1PHGoEMa2ArfNPvDOSFd\naDuUi8itQYd0MJQVvm3aXaeQLjWUrbF1XNhmwCENZannh94rVvUw3l/cQL6uB1+u2m0GcdVu\nN8iQNrP5pn1QsaqH8P6SmrK/cT2YrbF13Aif25sbr2UgV8BO+9HBrPDX0yWRilU9tZCW+5Wz\nPdxwG4ohzmw4LfVwVvjm89KimQ1/2jbt1diB/F/94OOwaDaoC8nHpR7OCn8qn9MCr1/VUwvp\n/X+OTZkN5Frs0UdI23ZK8mOX5XLnSz2IFV7OQrp+VU8uJOiCkCBASBAgJAgQEgQICQKEBAFC\nggAhQYCQIEBIECAkCBASBAgJAoQEAUKCACFBgJAgQEgQICQIEBIECAkChAQBQoIAIUGAkCBA\nSBAgJAgQEgQICQKEBAFCggAhQYCQulU+fnnq77/W+8pf+r19Ov0yyZ8G+PHDQfx+8eGxVrtV\nSvPx4PenXfWqi1LK8+8DCOm+rNVunbb4aEilbKoHEFInrNVulTI7bPThkOoHEFInrNVulbIu\ni8ODj234+Oi5NO+7kuXhZOf94+Xp12ivZqVZHZ65nR0+++Pv218Pfvrd2/8M8OVz938um/eX\nPw64bAf8Z6jZl6Fe56XMXztcIWMlpG69b7ZP5W33b0jP+xj2m21bUin7054y3/97+6h92P7t\n6ZfUzz/+/ltIZwN8+dyPT3k6DNj+0+rrUPPvQ60Or7263woaCyF1630j3pbZ7t+Q5tv9Vtv+\n2bSXDNa7dVNe3vcJ+7/czvcX49p///Dy+ZSvh3ZnA3z53P2Hh0/5HHD2ZaizlzwO1ZT1/q9n\n911JYyCkbu034tVhR/A1pMNOZHP6eH849bo/uFqU/Ra93T88POtocXzKaXfzPwN8+dzPTzkb\n8NtQp5c8DnW6mM6VhNStdpOfvW/f/5wj7f79+PiwfBy7fbkucPaU7yGdDfDlc7+86v8O9f3h\n+ynbYr3uZE2MnJC61W6gb+Wp25A+B7gxpN3z+4FgaU4X17mUkLp12EAXZX1FSN8++esH/xvS\n1wG+v9Q1Ib0f6S1nzpGuJ6RuHTbQTZmdtta3/w9pf4pyduJy9slHi89zm39DOg7w7XO/nCP9\nONTrxynVt9fkGlZZt47b5HN7uDUrq/01tf8N6XD97PV4KW23+mfr/vmq3ecA3z73y1W7n4b6\nuGrXvszscDHPHulqQurWxybfHK6ulfZ+zf+F9NT+2/7jw82d/XnK1z3D502f/zv8awf4/rnz\nb6db/z/U2XXAl8Pzzy4WchkhdetjO2+Pr/an8t8vO5xOUY4TD3btdIPytNl9D2m3ao7TEP4v\npMMA3z932ZT52/eQzodqTjMbji+zn9mgo+sJafwOezE6JaQRK/sznu3ic5YRnRHSiD0fznia\nRy/HFAhpzFbvZzwz+6N7+A8Rp/mMT/q2XwAAAABJRU5ErkJggg==",
      "text/plain": [
       "plot without title"
      ]
     },
     "metadata": {},
     "output_type": "display_data"
    }
   ],
=======
   "outputs": [],
>>>>>>> 66eb6c9fec8115d9e5fc0842898bf00e47e76891
   "source": [
    "# Plot Sum of Squared Errors as function of k (figure 1.13)\n",
    "\n",
    "#pdf(file = \"Geo_CVChoiceOfK.pdf\", width = 10, height = 6)\n",
    "oldPar = par(mar = c(4, 3, 1, 1))\n",
    "plot(y = err, x = (1:K),  type = \"l\", lwd= 2,\n",
    "     ylim = c(1200, 2100),\n",
    "     xlab = \"Number of Neighbors\",\n",
    "     ylab = \"Sum of Square Errors\")\n",
    "\n",
    "rmseMin = min(err)\n",
    "kMin = which(err == rmseMin)[1]\n",
    "segments(x0 = 0, x1 = kMin, y0 = rmseMin, col = gray(0.4), \n",
    "         lty = 2, lwd = 2)\n",
    "segments(x0 = kMin, x1 = kMin, y0 = 1100,  y1 = rmseMin, \n",
    "         col = grey(0.4), lty = 2, lwd = 2)\n",
    "\n",
    "#mtext(kMin, side = 1, line = 1, at = kMin, col = grey(0.4))\n",
    "text(x = kMin - 2, y = rmseMin + 40, \n",
    "     label = as.character(round(rmseMin)), col = grey(0.4))\n",
    "par(oldPar)\n",
    "dev.off()\n"
   ]
  },
  {
<<<<<<< HEAD
   "cell_type": "code",
   "execution_count": 81,
=======
   "cell_type": "markdown",
   "metadata": {},
   "source": [
    "We plotted the mean squared errors as the number of neighbors increase from 1 up through 20. In most plots of the error in clustering, you get a hockey stick shape and it is not as clear what “K” to pick. We are lucky in that the shape has a trough. We should picked the lowest point (k=7) to minimize the error but at the tradeoff of complexity of more neighbors. For that reason, k=5 is picked. "
   ]
  },
  {
   "cell_type": "code",
   "execution_count": null,
>>>>>>> 66eb6c9fec8115d9e5fc0842898bf00e47e76891
   "metadata": {
    "colab": {},
    "colab_type": "code",
    "id": "o_vojDHd721N"
   },
   "outputs": [],
   "source": [
    "# Use value of 5 for nearest neighbor from cross-validation and apply to original training and test\n",
    "estXYk5 = predXY(newSignals = onlineSummary[ , 6:11], \n",
    "                 newAngles = onlineSummary[ , 4], \n",
    "                 offlineSummary, numAngles = 3, k = 5)"
   ]
  },
  {
   "cell_type": "code",
<<<<<<< HEAD
   "execution_count": 82,
=======
   "execution_count": null,
>>>>>>> 66eb6c9fec8115d9e5fc0842898bf00e47e76891
   "metadata": {
    "colab": {},
    "colab_type": "code",
    "id": "OqFcm1mt721Q",
    "outputId": "6ffd5e9e-a9fc-4de6-9b53-586f723613a5"
   },
<<<<<<< HEAD
   "outputs": [
    {
     "data": {
      "text/html": [
       "275.5083"
      ],
      "text/latex": [
       "275.5083"
      ],
      "text/markdown": [
       "275.5083"
      ],
      "text/plain": [
       "[1] 276"
      ]
     },
     "metadata": {},
     "output_type": "display_data"
    }
   ],
=======
   "outputs": [],
>>>>>>> 66eb6c9fec8115d9e5fc0842898bf00e47e76891
   "source": [
    "# Tally errors in preidctions\n",
    "\n",
    "calcError(estXYk5, actualXY)\n",
    "\n",
    "# values for k = 1 and k = 3 were 659 and 307\n",
    "# value of k = 5 may not minimize value for online data because it was chosen without refernce to online data\n",
    "# hence use cross validation (don't use online data in both selection of k and assessment of prediction"
   ]
  },
  {
   "cell_type": "code",
<<<<<<< HEAD
   "execution_count": 83,
=======
   "execution_count": null,
>>>>>>> 66eb6c9fec8115d9e5fc0842898bf00e47e76891
   "metadata": {
    "colab": {},
    "colab_type": "code",
    "id": "-dKpdsxm721T"
   },
   "outputs": [],
   "source": [
    "# Speed up Cross Validation Code, consider predXY()\n",
    "\n",
    "predXY = function(newSignals, newAngles, trainData, \n",
    "                  numAngles = 1, k = 3){\n",
    "  \n",
    "  closeXY = list(length = nrow(newSignals))\n",
    "  \n",
    "  for (i in 1:nrow(newSignals)) {\n",
    "    trainSS = selectTrain(newAngles[i], trainData, m = numAngles)\n",
    "    closeXY[[i]] = findNN(newSignal = as.numeric(newSignals[i, ]),\n",
    "                          trainSS)\n",
    "  }\n",
    "  \n",
    "  estXY = lapply(closeXY, function(x)\n",
    "    sapply(x[ , 2:3], \n",
    "           function(x) mean(x[1:k])))\n",
    "  estXY = do.call(\"rbind\", estXY)\n",
    "  return(estXY)\n",
    "}\n",
    "\n",
    "# Recall findNN() returns all positions for training data, ordered according to their distance from the new observation's signal strength.\n",
    "# Use first k positions but we have all locations so we can calculate estimates for all values of k; cumsum() helpful\n",
    "# cumsum(x[1-:K])/(1:K) provides K means\n",
    "# modify predXY() to return all K estiates and eliminate inner loop over k \n"
   ]
  },
  {
   "cell_type": "markdown",
   "metadata": {
    "colab_type": "text",
    "id": "wxs3SxLM721V"
   },
   "source": [
    "## Investigate number of angles to include in the trainig data; can use cross-validation to select parameter.\n",
    "## Can be selected jointly via cross-valudation\n",
    "\n",
    "## Ideas -\n",
    "\n",
    "* KNN regression  \n",
    "* Manhattan distance  \n",
    "* creating a larger grid size e.g. instead of 15 by 26 in 1 meter increments positions do 5 meter increments. This would reduce the number of classes, while hopefully being granular enough for the purpose.   \n",
    "* dimensionality reduction  \n",
    "* scaling signals  "
   ]
  },
  {
   "cell_type": "markdown",
   "metadata": {
    "colab_type": "text",
    "id": "hWvYgwty721W"
   },
   "source": [
    "### 1.6 Results"
   ]
  },
  {
   "cell_type": "markdown",
   "metadata": {
    "colab_type": "text",
    "id": "cQXxHPXt721X"
   },
   "source": [
    "### 1.7 Conclusion"
   ]
  },
  {
   "cell_type": "markdown",
<<<<<<< HEAD
=======
   "metadata": {},
   "source": [
    "In this exercise we looked at clustering as a way to locate device in an indoor environment based on signal strength and angles. Clustering was successfully because due to the extensive work to measure signal strength though the building to use as the neighbors for Cluttering. We used a couple variation of KNN to produce the six outcomes above.\n",
    "\n",
    "The algorithm utilized k-means clustering, weighted KMeans to produce the results.\n",
    "\n",
    "Future research could include exploration of other methods to determine location. There are other clustering algorithms to determine like groups.  Another approach is to use a mixture of clustering and classification. This would involve using the offline data and clustering as we already have, but then training a classification model on the dataset to classify the cluster. New data could then be fed into the classification model to predict location. \n"
   ]
  },
  {
   "cell_type": "markdown",
>>>>>>> 66eb6c9fec8115d9e5fc0842898bf00e47e76891
   "metadata": {
    "colab_type": "text",
    "id": "kWjfPuHj721X"
   },
   "source": [
    "### 1.8 References"
   ]
  },
  {
   "cell_type": "code",
   "execution_count": null,
<<<<<<< HEAD
=======
   "metadata": {},
   "outputs": [],
   "source": []
  },
  {
   "cell_type": "code",
   "execution_count": null,
>>>>>>> 66eb6c9fec8115d9e5fc0842898bf00e47e76891
   "metadata": {
    "colab": {},
    "colab_type": "code",
    "id": "_55NfPwH721X"
   },
   "outputs": [],
   "source": []
  }
 ],
 "metadata": {
  "colab": {
   "name": "MSDS 7333 Project 1 -- NW final edits.ipynb",
   "provenance": []
  },
  "kernelspec": {
   "display_name": "R",
   "language": "R",
   "name": "ir"
  },
  "language_info": {
   "codemirror_mode": "r",
   "file_extension": ".r",
   "mimetype": "text/x-r-source",
   "name": "R",
   "pygments_lexer": "r",
   "version": "3.6.1"
  }
 },
 "nbformat": 4,
 "nbformat_minor": 1
}
